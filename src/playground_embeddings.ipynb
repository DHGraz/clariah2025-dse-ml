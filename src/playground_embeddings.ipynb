{
 "cells": [
  {
   "metadata": {},
   "cell_type": "markdown",
   "source": [
    "### Select different sentence-transformer embedding models\n",
    "* https://huggingface.co/models?pipeline_tag=sentence-similarity\n",
    "\n",
    "All generated embeddings are based on [sentence-transformers/paraphrase-multilingual-MiniLM-L12-v2](https://huggingface.co/sentence-transformers/paraphrase-multilingual-MiniLM-L12-v2) <br>\n",
    "Maybe give a smaller model also a try: [all-MiniLM-L6-v2](https://huggingface.co/sentence-transformers/all-MiniLM-L6-v2)\n",
    "\n",
    "### Training\n",
    "* How could a training look like?\n",
    "* Which kind of data is necessary therefore?\n",
    "* Differences between sparse and dense models in terms of training?"
   ],
   "id": "39a62171f42d7081"
  },
  {
   "metadata": {},
   "cell_type": "markdown",
   "source": [
    "### Interesting Tasks\n",
    "* Find other promising embedding models (sparse and dense) and try them out\n",
    "    * What about Doc2Vec, word2vec, bag-of-words etc [here](https://radimrehurek.com/gensim/auto_examples/tutorials/run_doc2vec_lee.html)\n",
    "* Calculate the embedding similarities like in [here](https://huggingface.co/sentence-transformers)\n",
    "    * There might be different similarity scores dependeing on the embedder (sparse vs dense)"
   ],
   "id": "9eee13a77a5d1c07"
  }
 ],
 "metadata": {
  "kernelspec": {
   "display_name": "Python 3",
   "language": "python",
   "name": "python3"
  },
  "language_info": {
   "codemirror_mode": {
    "name": "ipython",
    "version": 2
   },
   "file_extension": ".py",
   "mimetype": "text/x-python",
   "name": "python",
   "nbconvert_exporter": "python",
   "pygments_lexer": "ipython2",
   "version": "2.7.6"
  }
 },
 "nbformat": 4,
 "nbformat_minor": 5
}
