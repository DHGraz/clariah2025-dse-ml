{
 "cells": [
  {
   "cell_type": "code",
   "id": "initial_id",
   "metadata": {
    "collapsed": true,
    "ExecuteTime": {
     "end_time": "2025-09-03T07:22:28.558289Z",
     "start_time": "2025-09-03T07:22:22.277789Z"
    }
   },
   "source": [
    "import pandas as pd\n",
    "from sentence_transformers import SentenceTransformer\n",
    "from tqdm import tqdm\n",
    "from models.models import TfIdfEmbedder, CountVectorizerEmbedder\n",
    "\n",
    "import pyarrow as pa\n",
    "import pyarrow.parquet as pq\n",
    "\n",
    "tqdm.pandas()"
   ],
   "outputs": [
    {
     "name": "stderr",
     "output_type": "stream",
     "text": [
      "/home/mijantscher/PycharmProjects/summerschool2025/clariah2025-dse-ml/.venv/lib/python3.10/site-packages/tqdm/auto.py:21: TqdmWarning: IProgress not found. Please update jupyter and ipywidgets. See https://ipywidgets.readthedocs.io/en/stable/user_install.html\n",
      "  from .autonotebook import tqdm as notebook_tqdm\n"
     ]
    }
   ],
   "execution_count": 1
  },
  {
   "metadata": {},
   "cell_type": "markdown",
   "source": "### 1. Prepare parlamint dataset",
   "id": "bacba00953236fc4"
  },
  {
   "metadata": {},
   "cell_type": "markdown",
   "source": "#### 1.1. Load Dataset (Sentence-Wise)",
   "id": "2ca84c2dd3abcb0d"
  },
  {
   "metadata": {
    "ExecuteTime": {
     "end_time": "2025-09-03T07:22:31.991087Z",
     "start_time": "2025-09-03T07:22:31.628425Z"
    }
   },
   "cell_type": "code",
   "source": [
    "# Load parlamint dataset\n",
    "df_parlamint = pd.read_csv(\"../materials/parlamint/parlamint-it-is-2022.txt\", sep=\"\\t\")\n",
    "df_parlamint_subset = df_parlamint.head(1000).copy(deep=True)\n",
    "df_parlamint"
   ],
   "id": "9fd73590ae11aa8d",
   "outputs": [
    {
     "data": {
      "text/plain": [
       "                                                       ID  \\\n",
       "0                       ParlaMint-IS_2022-01-17-20.seg2.1   \n",
       "1                       ParlaMint-IS_2022-01-17-20.seg3.1   \n",
       "2                       ParlaMint-IS_2022-01-17-20.seg4.1   \n",
       "3                       ParlaMint-IS_2022-01-17-20.seg6.1   \n",
       "4                       ParlaMint-IS_2022-01-17-20.seg7.1   \n",
       "...                                                   ...   \n",
       "160540  ParlaMint-IT_2022-09-20-LEG18-Senato-sed-465.a...   \n",
       "160541  ParlaMint-IT_2022-09-20-LEG18-Senato-sed-465.a...   \n",
       "160542  ParlaMint-IT_2022-09-20-LEG18-Senato-sed-465.a...   \n",
       "160543  ParlaMint-IT_2022-09-20-LEG18-Senato-sed-465.a...   \n",
       "160544  ParlaMint-IT_2022-09-20-LEG18-Senato-sed-465.a...   \n",
       "\n",
       "                                                Parent_ID  \\\n",
       "0                           ParlaMint-IS_2022-01-17-20.u1   \n",
       "1                           ParlaMint-IS_2022-01-17-20.u1   \n",
       "2                           ParlaMint-IS_2022-01-17-20.u1   \n",
       "3                           ParlaMint-IS_2022-01-17-20.u1   \n",
       "4                           ParlaMint-IS_2022-01-17-20.u1   \n",
       "...                                                   ...   \n",
       "160540  ParlaMint-IT_2022-09-20-LEG18-Senato-sed-465.a...   \n",
       "160541  ParlaMint-IT_2022-09-20-LEG18-Senato-sed-465.a...   \n",
       "160542  ParlaMint-IT_2022-09-20-LEG18-Senato-sed-465.a...   \n",
       "160543  ParlaMint-IT_2022-09-20-LEG18-Senato-sed-465.a...   \n",
       "160544  ParlaMint-IT_2022-09-20-LEG18-Senato-sed-465.a...   \n",
       "\n",
       "                                                     Text  \n",
       "0                 President of the United States reports:  \n",
       "1       I have decided, according to the proposal of t...  \n",
       "2                      Arrange sites, January 11th, 2022.  \n",
       "3                         Katrín Jakobsdóttir's daughter.  \n",
       "4       Presidential Letters for a meeting of the Gene...  \n",
       "...                                                   ...  \n",
       "160540  I would say that we can consider the work of t...  \n",
       "160541  Of course, all good intentions about Parliamen...  \n",
       "160542  The motions, questions and questions received ...  \n",
       "160543               The Senate is summoned to the house.  \n",
       "160544               The sitting was closed at 16.48 p.m.  \n",
       "\n",
       "[160545 rows x 3 columns]"
      ],
      "text/html": [
       "<div>\n",
       "<style scoped>\n",
       "    .dataframe tbody tr th:only-of-type {\n",
       "        vertical-align: middle;\n",
       "    }\n",
       "\n",
       "    .dataframe tbody tr th {\n",
       "        vertical-align: top;\n",
       "    }\n",
       "\n",
       "    .dataframe thead th {\n",
       "        text-align: right;\n",
       "    }\n",
       "</style>\n",
       "<table border=\"1\" class=\"dataframe\">\n",
       "  <thead>\n",
       "    <tr style=\"text-align: right;\">\n",
       "      <th></th>\n",
       "      <th>ID</th>\n",
       "      <th>Parent_ID</th>\n",
       "      <th>Text</th>\n",
       "    </tr>\n",
       "  </thead>\n",
       "  <tbody>\n",
       "    <tr>\n",
       "      <th>0</th>\n",
       "      <td>ParlaMint-IS_2022-01-17-20.seg2.1</td>\n",
       "      <td>ParlaMint-IS_2022-01-17-20.u1</td>\n",
       "      <td>President of the United States reports:</td>\n",
       "    </tr>\n",
       "    <tr>\n",
       "      <th>1</th>\n",
       "      <td>ParlaMint-IS_2022-01-17-20.seg3.1</td>\n",
       "      <td>ParlaMint-IS_2022-01-17-20.u1</td>\n",
       "      <td>I have decided, according to the proposal of t...</td>\n",
       "    </tr>\n",
       "    <tr>\n",
       "      <th>2</th>\n",
       "      <td>ParlaMint-IS_2022-01-17-20.seg4.1</td>\n",
       "      <td>ParlaMint-IS_2022-01-17-20.u1</td>\n",
       "      <td>Arrange sites, January 11th, 2022.</td>\n",
       "    </tr>\n",
       "    <tr>\n",
       "      <th>3</th>\n",
       "      <td>ParlaMint-IS_2022-01-17-20.seg6.1</td>\n",
       "      <td>ParlaMint-IS_2022-01-17-20.u1</td>\n",
       "      <td>Katrín Jakobsdóttir's daughter.</td>\n",
       "    </tr>\n",
       "    <tr>\n",
       "      <th>4</th>\n",
       "      <td>ParlaMint-IS_2022-01-17-20.seg7.1</td>\n",
       "      <td>ParlaMint-IS_2022-01-17-20.u1</td>\n",
       "      <td>Presidential Letters for a meeting of the Gene...</td>\n",
       "    </tr>\n",
       "    <tr>\n",
       "      <th>...</th>\n",
       "      <td>...</td>\n",
       "      <td>...</td>\n",
       "      <td>...</td>\n",
       "    </tr>\n",
       "    <tr>\n",
       "      <th>160540</th>\n",
       "      <td>ParlaMint-IT_2022-09-20-LEG18-Senato-sed-465.a...</td>\n",
       "      <td>ParlaMint-IT_2022-09-20-LEG18-Senato-sed-465.a...</td>\n",
       "      <td>I would say that we can consider the work of t...</td>\n",
       "    </tr>\n",
       "    <tr>\n",
       "      <th>160541</th>\n",
       "      <td>ParlaMint-IT_2022-09-20-LEG18-Senato-sed-465.a...</td>\n",
       "      <td>ParlaMint-IT_2022-09-20-LEG18-Senato-sed-465.a...</td>\n",
       "      <td>Of course, all good intentions about Parliamen...</td>\n",
       "    </tr>\n",
       "    <tr>\n",
       "      <th>160542</th>\n",
       "      <td>ParlaMint-IT_2022-09-20-LEG18-Senato-sed-465.a...</td>\n",
       "      <td>ParlaMint-IT_2022-09-20-LEG18-Senato-sed-465.a...</td>\n",
       "      <td>The motions, questions and questions received ...</td>\n",
       "    </tr>\n",
       "    <tr>\n",
       "      <th>160543</th>\n",
       "      <td>ParlaMint-IT_2022-09-20-LEG18-Senato-sed-465.a...</td>\n",
       "      <td>ParlaMint-IT_2022-09-20-LEG18-Senato-sed-465.a...</td>\n",
       "      <td>The Senate is summoned to the house.</td>\n",
       "    </tr>\n",
       "    <tr>\n",
       "      <th>160544</th>\n",
       "      <td>ParlaMint-IT_2022-09-20-LEG18-Senato-sed-465.a...</td>\n",
       "      <td>ParlaMint-IT_2022-09-20-LEG18-Senato-sed-465.a...</td>\n",
       "      <td>The sitting was closed at 16.48 p.m.</td>\n",
       "    </tr>\n",
       "  </tbody>\n",
       "</table>\n",
       "<p>160545 rows × 3 columns</p>\n",
       "</div>"
      ]
     },
     "execution_count": 2,
     "metadata": {},
     "output_type": "execute_result"
    }
   ],
   "execution_count": 2
  },
  {
   "metadata": {},
   "cell_type": "markdown",
   "source": "#### 1.2. Group Dataset per Utterance",
   "id": "e4d545dd0eba1468"
  },
  {
   "metadata": {
    "ExecuteTime": {
     "end_time": "2025-09-03T07:22:40.385010Z",
     "start_time": "2025-09-03T07:22:40.165823Z"
    }
   },
   "cell_type": "code",
   "source": [
    "# Group sentence by utterance (=Parent_ID)\n",
    "df_parlamint_grouped = (df_parlamint.groupby([\"Parent_ID\"])[\"Text\"]\n",
    "                        .apply(lambda s: \" \".join(s))\n",
    "                        .reset_index(name=\"utterance_text\"))\n",
    "df_parlamint_grouped"
   ],
   "id": "3ed97086a09cb227",
   "outputs": [
    {
     "data": {
      "text/plain": [
       "                                               Parent_ID  \\\n",
       "0                          ParlaMint-IS_2022-01-17-20.u1   \n",
       "1                         ParlaMint-IS_2022-01-17-20.u10   \n",
       "2                         ParlaMint-IS_2022-01-17-20.u11   \n",
       "3                         ParlaMint-IS_2022-01-17-20.u12   \n",
       "4                         ParlaMint-IS_2022-01-17-20.u13   \n",
       "...                                                  ...   \n",
       "13799  ParlaMint-IT_2022-09-20-LEG18-Senato-sed-465.a...   \n",
       "13800  ParlaMint-IT_2022-09-20-LEG18-Senato-sed-465.a...   \n",
       "13801  ParlaMint-IT_2022-09-20-LEG18-Senato-sed-465.a...   \n",
       "13802  ParlaMint-IT_2022-09-20-LEG18-Senato-sed-465.a...   \n",
       "13803  ParlaMint-IT_2022-09-20-LEG18-Senato-sed-465.a...   \n",
       "\n",
       "                                          utterance_text  \n",
       "0      President of the United States reports: I have...  \n",
       "1      Before the weekend, an article by Stefánssonar...  \n",
       "2      I read this decision in Perconte, which is not...  \n",
       "3      In fact, this is shown in the letter quoted by...  \n",
       "4      Yes, that's right. That's right. A senator who...  \n",
       "...                                                  ...  \n",
       "13799  Colleagues, Senator Verducci's speech concerns...  \n",
       "13800  Madam President, ladies and gentlemen, I would...  \n",
       "13801  Mr President, in my last speech last Tuesday I...  \n",
       "13802  Mr President, I wish to begin by expressing ou...  \n",
       "13803  Mr President, the Brothers of Italy Group is c...  \n",
       "\n",
       "[13804 rows x 2 columns]"
      ],
      "text/html": [
       "<div>\n",
       "<style scoped>\n",
       "    .dataframe tbody tr th:only-of-type {\n",
       "        vertical-align: middle;\n",
       "    }\n",
       "\n",
       "    .dataframe tbody tr th {\n",
       "        vertical-align: top;\n",
       "    }\n",
       "\n",
       "    .dataframe thead th {\n",
       "        text-align: right;\n",
       "    }\n",
       "</style>\n",
       "<table border=\"1\" class=\"dataframe\">\n",
       "  <thead>\n",
       "    <tr style=\"text-align: right;\">\n",
       "      <th></th>\n",
       "      <th>Parent_ID</th>\n",
       "      <th>utterance_text</th>\n",
       "    </tr>\n",
       "  </thead>\n",
       "  <tbody>\n",
       "    <tr>\n",
       "      <th>0</th>\n",
       "      <td>ParlaMint-IS_2022-01-17-20.u1</td>\n",
       "      <td>President of the United States reports: I have...</td>\n",
       "    </tr>\n",
       "    <tr>\n",
       "      <th>1</th>\n",
       "      <td>ParlaMint-IS_2022-01-17-20.u10</td>\n",
       "      <td>Before the weekend, an article by Stefánssonar...</td>\n",
       "    </tr>\n",
       "    <tr>\n",
       "      <th>2</th>\n",
       "      <td>ParlaMint-IS_2022-01-17-20.u11</td>\n",
       "      <td>I read this decision in Perconte, which is not...</td>\n",
       "    </tr>\n",
       "    <tr>\n",
       "      <th>3</th>\n",
       "      <td>ParlaMint-IS_2022-01-17-20.u12</td>\n",
       "      <td>In fact, this is shown in the letter quoted by...</td>\n",
       "    </tr>\n",
       "    <tr>\n",
       "      <th>4</th>\n",
       "      <td>ParlaMint-IS_2022-01-17-20.u13</td>\n",
       "      <td>Yes, that's right. That's right. A senator who...</td>\n",
       "    </tr>\n",
       "    <tr>\n",
       "      <th>...</th>\n",
       "      <td>...</td>\n",
       "      <td>...</td>\n",
       "    </tr>\n",
       "    <tr>\n",
       "      <th>13799</th>\n",
       "      <td>ParlaMint-IT_2022-09-20-LEG18-Senato-sed-465.a...</td>\n",
       "      <td>Colleagues, Senator Verducci's speech concerns...</td>\n",
       "    </tr>\n",
       "    <tr>\n",
       "      <th>13800</th>\n",
       "      <td>ParlaMint-IT_2022-09-20-LEG18-Senato-sed-465.a...</td>\n",
       "      <td>Madam President, ladies and gentlemen, I would...</td>\n",
       "    </tr>\n",
       "    <tr>\n",
       "      <th>13801</th>\n",
       "      <td>ParlaMint-IT_2022-09-20-LEG18-Senato-sed-465.a...</td>\n",
       "      <td>Mr President, in my last speech last Tuesday I...</td>\n",
       "    </tr>\n",
       "    <tr>\n",
       "      <th>13802</th>\n",
       "      <td>ParlaMint-IT_2022-09-20-LEG18-Senato-sed-465.a...</td>\n",
       "      <td>Mr President, I wish to begin by expressing ou...</td>\n",
       "    </tr>\n",
       "    <tr>\n",
       "      <th>13803</th>\n",
       "      <td>ParlaMint-IT_2022-09-20-LEG18-Senato-sed-465.a...</td>\n",
       "      <td>Mr President, the Brothers of Italy Group is c...</td>\n",
       "    </tr>\n",
       "  </tbody>\n",
       "</table>\n",
       "<p>13804 rows × 2 columns</p>\n",
       "</div>"
      ]
     },
     "execution_count": 3,
     "metadata": {},
     "output_type": "execute_result"
    }
   ],
   "execution_count": 3
  },
  {
   "metadata": {
    "ExecuteTime": {
     "end_time": "2025-09-03T07:22:43.272219Z",
     "start_time": "2025-09-03T07:22:43.252250Z"
    }
   },
   "cell_type": "code",
   "source": [
    "sample_utterance = df_parlamint[df_parlamint[\"Parent_ID\"] == \"ParlaMint-IS_2022-01-17-20.u1\"][\"Text\"]\n",
    "sample_utterance"
   ],
   "id": "51a24254f4cbb213",
   "outputs": [
    {
     "data": {
      "text/plain": [
       "0              President of the United States reports:\n",
       "1    I have decided, according to the proposal of t...\n",
       "2                   Arrange sites, January 11th, 2022.\n",
       "3                      Katrín Jakobsdóttir's daughter.\n",
       "4    Presidential Letters for a meeting of the Gene...\n",
       "5    I'd like to use this opportunity here after re...\n",
       "Name: Text, dtype: object"
      ]
     },
     "execution_count": 4,
     "metadata": {},
     "output_type": "execute_result"
    }
   ],
   "execution_count": 4
  },
  {
   "metadata": {},
   "cell_type": "markdown",
   "source": "### 2. Different Text Embedding Algorithms",
   "id": "ae21c8913919fd35"
  },
  {
   "metadata": {
    "ExecuteTime": {
     "end_time": "2025-09-03T07:08:59.649024Z",
     "start_time": "2025-09-03T07:08:59.646347Z"
    }
   },
   "cell_type": "markdown",
   "source": "#### 2.1. Count Vectorizer (Sparse) Embeddings",
   "id": "56bf8ad398f7ee20"
  },
  {
   "metadata": {
    "ExecuteTime": {
     "end_time": "2025-09-03T07:23:24.582392Z",
     "start_time": "2025-09-03T07:23:24.577728Z"
    }
   },
   "cell_type": "code",
   "source": [
    "# Adding the whole parlamint dataset as vocabulary\n",
    "# cv_model = CountVectorizerEmbedder(vocabulary=df_parlamint[\"Text\"].to_list(), min_df=100, stop_words='english',\n",
    "#                                    n_gram_range=(1, 3))\n",
    "\n",
    "# Adding just the utterance sample as vocabulary\n",
    "cv_model = CountVectorizerEmbedder(vocabulary=sample_utterance, min_df=1, stop_words='english',\n",
    "                                   n_gram_range=(1, 3))"
   ],
   "id": "b571305ddd2fbdae",
   "outputs": [],
   "execution_count": 9
  },
  {
   "metadata": {
    "ExecuteTime": {
     "end_time": "2025-09-03T07:23:35.737140Z",
     "start_time": "2025-09-03T07:23:35.729064Z"
    }
   },
   "cell_type": "code",
   "source": [
    "cv_embeddings = cv_model.embed(sample_utterance)\n",
    "print(f\"Number features: {len(cv_model.embedding_model.get_feature_names_out())}\", cv_model.embedding_model.get_feature_names_out())\n",
    "print(f\"Shape embedding array: {cv_embeddings.toarray().shape}\")\n",
    "cv_embeddings.toarray()"
   ],
   "id": "b9e0df87962bc1",
   "outputs": [
    {
     "name": "stdout",
     "output_type": "stream",
     "text": [
      "Call 'transform' only...\n",
      "Number features: 84 ['00' '11th' '11th 2022' '17' '17 2022' '2022' '2022 00' 'according'\n",
      " 'according proposal' 'arrange' 'arrange sites' 'assembly'\n",
      " 'assembly subsequent' 'conferences' 'council' 'council meet' 'daughter'\n",
      " 'decided' 'decided according' 'extended' 'extended meeting' 'general'\n",
      " 'general assembly' 'highest' 'highest president' 'jakobsdóttir'\n",
      " 'jakobsdóttir daughter' 'january' 'january 11th' 'january 17' 'katrín'\n",
      " 'katrín jakobsdóttir' 'letter' 'letter offer' 'letters' 'letters meeting'\n",
      " 'like' 'like use' 'meet' 'meet extended' 'meeting' 'meeting general'\n",
      " 'meeting january' 'meeting monday' 'minister' 'minister council' 'monday'\n",
      " 'monday january' 'new' 'new year' 'offer' 'offer highest' 'opportunity'\n",
      " 'opportunity reading' 'parliamentary' 'parliamentary conferences'\n",
      " 'president' 'president senators' 'president united' 'presidential'\n",
      " 'presidential letters' 'prime' 'prime minister' 'proposal'\n",
      " 'proposal prime' 'reading' 'reading letter' 'reports' 'senators'\n",
      " 'senators welcome' 'sites' 'sites january' 'states' 'states reports'\n",
      " 'subsequent' 'subsequent meeting' 'united' 'united states' 'use'\n",
      " 'use opportunity' 'welcome' 'welcome new' 'year' 'year parliamentary']\n",
      "Shape embedding array: (6, 84)\n"
     ]
    },
    {
     "data": {
      "text/plain": [
       "array([[0, 0, 0, 0, 0, 0, 0, 0, 0, 0, 0, 0, 0, 0, 0, 0, 0, 0, 0, 0, 0, 0,\n",
       "        0, 0, 0, 0, 0, 0, 0, 0, 0, 0, 0, 0, 0, 0, 0, 0, 0, 0, 0, 0, 0, 0,\n",
       "        0, 0, 0, 0, 0, 0, 0, 0, 0, 0, 0, 0, 1, 0, 1, 0, 0, 0, 0, 0, 0, 0,\n",
       "        0, 1, 0, 0, 0, 0, 1, 1, 0, 0, 1, 1, 0, 0, 0, 0, 0, 0],\n",
       "       [1, 0, 0, 1, 1, 1, 1, 1, 1, 0, 0, 0, 0, 0, 1, 1, 0, 1, 1, 1, 1, 0,\n",
       "        0, 0, 0, 0, 0, 1, 0, 1, 0, 0, 0, 0, 0, 0, 0, 0, 1, 1, 1, 0, 0, 1,\n",
       "        1, 1, 1, 1, 0, 0, 0, 0, 0, 0, 0, 0, 0, 0, 0, 0, 0, 1, 1, 1, 1, 0,\n",
       "        0, 0, 0, 0, 0, 0, 0, 0, 0, 0, 0, 0, 0, 0, 0, 0, 0, 0],\n",
       "       [0, 1, 1, 0, 0, 1, 0, 0, 0, 1, 1, 0, 0, 0, 0, 0, 0, 0, 0, 0, 0, 0,\n",
       "        0, 0, 0, 0, 0, 1, 1, 0, 0, 0, 0, 0, 0, 0, 0, 0, 0, 0, 0, 0, 0, 0,\n",
       "        0, 0, 0, 0, 0, 0, 0, 0, 0, 0, 0, 0, 0, 0, 0, 0, 0, 0, 0, 0, 0, 0,\n",
       "        0, 0, 0, 0, 1, 1, 0, 0, 0, 0, 0, 0, 0, 0, 0, 0, 0, 0],\n",
       "       [0, 0, 0, 0, 0, 0, 0, 0, 0, 0, 0, 0, 0, 0, 0, 0, 1, 0, 0, 0, 0, 0,\n",
       "        0, 0, 0, 1, 1, 0, 0, 0, 1, 1, 0, 0, 0, 0, 0, 0, 0, 0, 0, 0, 0, 0,\n",
       "        0, 0, 0, 0, 0, 0, 0, 0, 0, 0, 0, 0, 0, 0, 0, 0, 0, 0, 0, 0, 0, 0,\n",
       "        0, 0, 0, 0, 0, 0, 0, 0, 0, 0, 0, 0, 0, 0, 0, 0, 0, 0],\n",
       "       [0, 0, 0, 1, 1, 1, 0, 0, 0, 0, 0, 1, 1, 0, 0, 0, 0, 0, 0, 0, 0, 1,\n",
       "        1, 0, 0, 0, 0, 1, 0, 1, 0, 0, 0, 0, 1, 1, 0, 0, 0, 0, 2, 1, 1, 0,\n",
       "        0, 0, 0, 0, 0, 0, 0, 0, 0, 0, 0, 0, 0, 0, 0, 1, 1, 0, 0, 0, 0, 0,\n",
       "        0, 0, 0, 0, 0, 0, 0, 0, 1, 1, 0, 0, 0, 0, 0, 0, 0, 0],\n",
       "       [0, 0, 0, 0, 0, 0, 0, 0, 0, 0, 0, 0, 0, 1, 0, 0, 0, 0, 0, 0, 0, 0,\n",
       "        0, 1, 1, 0, 0, 0, 0, 0, 0, 0, 1, 1, 0, 0, 1, 1, 0, 0, 0, 0, 0, 0,\n",
       "        0, 0, 0, 0, 1, 1, 1, 1, 1, 1, 1, 1, 1, 1, 0, 0, 0, 0, 0, 0, 0, 1,\n",
       "        1, 0, 1, 1, 0, 0, 0, 0, 0, 0, 0, 0, 1, 1, 1, 1, 1, 1]])"
      ]
     },
     "execution_count": 11,
     "metadata": {},
     "output_type": "execute_result"
    }
   ],
   "execution_count": 11
  },
  {
   "metadata": {},
   "cell_type": "markdown",
   "source": "#### 2.2 TF-IDF (Sparse) Embeddings",
   "id": "260904cded7c84d9"
  },
  {
   "metadata": {
    "ExecuteTime": {
     "end_time": "2025-09-03T07:23:45.809818Z",
     "start_time": "2025-09-03T07:23:45.804937Z"
    }
   },
   "cell_type": "code",
   "source": [
    "# Adding the whole parlamint dataset as vocabulary\n",
    "# tfidf_model = TfIdfEmbedder(vocabulary=df_parlamint[\"Text\"].to_list(), min_df=100, stop_words='english')\n",
    "\n",
    "# Adding just the utterance sample as vocabulary\n",
    "tfidf_model = TfIdfEmbedder(vocabulary=sample_utterance, min_df=1, stop_words='english')"
   ],
   "id": "2d60b5d97528457e",
   "outputs": [],
   "execution_count": 12
  },
  {
   "metadata": {
    "ExecuteTime": {
     "end_time": "2025-09-03T07:24:14.608310Z",
     "start_time": "2025-09-03T07:24:14.598478Z"
    }
   },
   "cell_type": "code",
   "source": [
    "tfidf_embeddings = tfidf_model.embed(sample_utterance)\n",
    "print(f\"Number features: {len(tfidf_model.embedding_model.get_feature_names_out())}\", tfidf_model.embedding_model.get_feature_names_out())\n",
    "print(f\"Shape embedding array: {tfidf_embeddings.toarray().shape}\")\n",
    "tfidf_embeddings.toarray()"
   ],
   "id": "7d655a1224a9d005",
   "outputs": [
    {
     "name": "stdout",
     "output_type": "stream",
     "text": [
      "Call 'transform' only...\n",
      "Number features: 42 ['00' '11th' '17' '2022' 'according' 'arrange' 'assembly' 'conferences'\n",
      " 'council' 'daughter' 'decided' 'extended' 'general' 'highest'\n",
      " 'jakobsdóttir' 'january' 'katrín' 'letter' 'letters' 'like' 'meet'\n",
      " 'meeting' 'minister' 'monday' 'new' 'offer' 'opportunity' 'parliamentary'\n",
      " 'president' 'presidential' 'prime' 'proposal' 'reading' 'reports'\n",
      " 'senators' 'sites' 'states' 'subsequent' 'united' 'use' 'welcome' 'year']\n",
      "Shape embedding array: (6, 42)\n"
     ]
    },
    {
     "data": {
      "text/plain": [
       "array([[0.        , 0.        , 0.        , 0.        , 0.        ,\n",
       "        0.        , 0.        , 0.        , 0.        , 0.        ,\n",
       "        0.        , 0.        , 0.        , 0.        , 0.        ,\n",
       "        0.        , 0.        , 0.        , 0.        , 0.        ,\n",
       "        0.        , 0.        , 0.        , 0.        , 0.        ,\n",
       "        0.        , 0.        , 0.        , 0.42790272, 0.        ,\n",
       "        0.        , 0.        , 0.        , 0.52182349, 0.        ,\n",
       "        0.        , 0.52182349, 0.        , 0.52182349, 0.        ,\n",
       "        0.        , 0.        ],\n",
       "       [0.28509311, 0.        , 0.23378043, 0.1973735 , 0.28509311,\n",
       "        0.        , 0.        , 0.        , 0.28509311, 0.        ,\n",
       "        0.28509311, 0.28509311, 0.        , 0.        , 0.        ,\n",
       "        0.1973735 , 0.        , 0.        , 0.        , 0.        ,\n",
       "        0.28509311, 0.23378043, 0.28509311, 0.28509311, 0.        ,\n",
       "        0.        , 0.        , 0.        , 0.        , 0.        ,\n",
       "        0.28509311, 0.28509311, 0.        , 0.        , 0.        ,\n",
       "        0.        , 0.        , 0.        , 0.        , 0.        ,\n",
       "        0.        , 0.        ],\n",
       "       [0.        , 0.50260821, 0.        , 0.3479619 , 0.        ,\n",
       "        0.50260821, 0.        , 0.        , 0.        , 0.        ,\n",
       "        0.        , 0.        , 0.        , 0.        , 0.        ,\n",
       "        0.3479619 , 0.        , 0.        , 0.        , 0.        ,\n",
       "        0.        , 0.        , 0.        , 0.        , 0.        ,\n",
       "        0.        , 0.        , 0.        , 0.        , 0.        ,\n",
       "        0.        , 0.        , 0.        , 0.        , 0.        ,\n",
       "        0.50260821, 0.        , 0.        , 0.        , 0.        ,\n",
       "        0.        , 0.        ],\n",
       "       [0.        , 0.        , 0.        , 0.        , 0.        ,\n",
       "        0.        , 0.        , 0.        , 0.        , 0.57735027,\n",
       "        0.        , 0.        , 0.        , 0.        , 0.57735027,\n",
       "        0.        , 0.57735027, 0.        , 0.        , 0.        ,\n",
       "        0.        , 0.        , 0.        , 0.        , 0.        ,\n",
       "        0.        , 0.        , 0.        , 0.        , 0.        ,\n",
       "        0.        , 0.        , 0.        , 0.        , 0.        ,\n",
       "        0.        , 0.        , 0.        , 0.        , 0.        ,\n",
       "        0.        , 0.        ],\n",
       "       [0.        , 0.        , 0.26859438, 0.22676583, 0.        ,\n",
       "        0.        , 0.32754841, 0.        , 0.        , 0.        ,\n",
       "        0.        , 0.        , 0.32754841, 0.        , 0.        ,\n",
       "        0.22676583, 0.        , 0.        , 0.32754841, 0.        ,\n",
       "        0.        , 0.53718876, 0.        , 0.        , 0.        ,\n",
       "        0.        , 0.        , 0.        , 0.        , 0.32754841,\n",
       "        0.        , 0.        , 0.        , 0.        , 0.        ,\n",
       "        0.        , 0.        , 0.32754841, 0.        , 0.        ,\n",
       "        0.        , 0.        ],\n",
       "       [0.        , 0.        , 0.        , 0.        , 0.        ,\n",
       "        0.        , 0.        , 0.27044394, 0.        , 0.        ,\n",
       "        0.        , 0.        , 0.        , 0.27044394, 0.        ,\n",
       "        0.        , 0.        , 0.27044394, 0.        , 0.27044394,\n",
       "        0.        , 0.        , 0.        , 0.        , 0.27044394,\n",
       "        0.27044394, 0.27044394, 0.27044394, 0.2217679 , 0.        ,\n",
       "        0.        , 0.        , 0.27044394, 0.        , 0.27044394,\n",
       "        0.        , 0.        , 0.        , 0.        , 0.27044394,\n",
       "        0.27044394, 0.27044394]])"
      ]
     },
     "execution_count": 14,
     "metadata": {},
     "output_type": "execute_result"
    }
   ],
   "execution_count": 14
  },
  {
   "metadata": {},
   "cell_type": "markdown",
   "source": "#### 2.3 Sentence Transformer (Dense) Embeddings",
   "id": "97b6903b9149f837"
  },
  {
   "metadata": {
    "ExecuteTime": {
     "end_time": "2025-09-03T07:24:21.970512Z",
     "start_time": "2025-09-03T07:24:18.422783Z"
    }
   },
   "cell_type": "code",
   "source": "st_model_small = SentenceTransformer('all-minilm-l6-v2')",
   "id": "e810688dd4133057",
   "outputs": [],
   "execution_count": 15
  },
  {
   "metadata": {
    "ExecuteTime": {
     "end_time": "2025-09-03T07:24:23.279278Z",
     "start_time": "2025-09-03T07:24:22.953137Z"
    }
   },
   "cell_type": "code",
   "source": [
    "# Encode sentence-wise\n",
    "st_embeddings = st_model_small.encode(sample_utterance)\n",
    "print(f\"Number features: {len(st_embeddings)}\")\n",
    "print(f\"Shape embedding array: {st_embeddings.shape}\")\n",
    "st_embeddings"
   ],
   "id": "6fd6937f2e488586",
   "outputs": [
    {
     "name": "stdout",
     "output_type": "stream",
     "text": [
      "Number features: 6\n",
      "Shape embedding array: (6, 384)\n"
     ]
    },
    {
     "data": {
      "text/plain": [
       "array([[ 0.00364317,  0.00757531, -0.01352414, ..., -0.01752406,\n",
       "         0.00990045,  0.06021777],\n",
       "       [-0.04760472, -0.06898866,  0.02710492, ..., -0.06230191,\n",
       "        -0.1438545 ,  0.03971656],\n",
       "       [-0.01698012, -0.04804515, -0.01744972, ..., -0.0390581 ,\n",
       "        -0.07595797,  0.00352386],\n",
       "       [-0.08331401, -0.04858722,  0.00143908, ...,  0.03839726,\n",
       "         0.06088392, -0.01607142],\n",
       "       [-0.0762682 , -0.0652778 ,  0.06610002, ...,  0.02295847,\n",
       "        -0.10826013, -0.06591921],\n",
       "       [ 0.01009848, -0.04537032,  0.0456478 , ..., -0.00065688,\n",
       "        -0.08547055, -0.00425586]], shape=(6, 384), dtype=float32)"
      ]
     },
     "execution_count": 16,
     "metadata": {},
     "output_type": "execute_result"
    }
   ],
   "execution_count": 16
  },
  {
   "metadata": {
    "ExecuteTime": {
     "end_time": "2025-09-03T07:24:29.571277Z",
     "start_time": "2025-09-03T07:24:29.553413Z"
    }
   },
   "cell_type": "code",
   "source": [
    "# Encode utterance-wise\n",
    "st_embeddings_u = st_model_small.encode(\" \".join(sample_utterance))\n",
    "print(f\"Number features: {len(st_embeddings_u)}\")\n",
    "print(f\"Shape embedding array: {st_embeddings_u.shape}\")\n",
    "st_embeddings_u"
   ],
   "id": "1136de645d4a3427",
   "outputs": [
    {
     "name": "stdout",
     "output_type": "stream",
     "text": [
      "Number features: 384\n",
      "Shape embedding array: (384,)\n"
     ]
    },
    {
     "data": {
      "text/plain": [
       "array([-5.19019924e-02, -1.02959543e-01,  6.31395578e-02,  2.98001859e-02,\n",
       "       -2.51417179e-02, -9.66067985e-03, -7.38494247e-02, -2.23561581e-02,\n",
       "       -6.58515021e-02,  7.95469154e-03, -6.14717193e-02,  9.11202375e-03,\n",
       "       -7.41380826e-02, -8.91721901e-03,  4.29925509e-02,  3.98151651e-02,\n",
       "        5.71934041e-04, -2.14750618e-02,  4.03534696e-02, -3.10853450e-03,\n",
       "        4.81391288e-02,  3.13877836e-02,  2.43081208e-02,  3.66798649e-03,\n",
       "       -4.10232283e-02, -1.00540500e-02, -1.73178706e-02, -3.86848561e-02,\n",
       "       -1.10482974e-02,  6.46823570e-02,  5.51152304e-02, -5.29568596e-03,\n",
       "        7.86908418e-02,  2.21064351e-02,  5.85365221e-02,  2.10544141e-03,\n",
       "        5.57183661e-02,  3.54420915e-02,  3.88754085e-02, -5.69796823e-02,\n",
       "       -1.24397436e-02, -6.79901764e-02,  2.59145983e-02, -4.62711742e-03,\n",
       "       -3.93818580e-02,  4.40331697e-02, -3.18672806e-02, -2.18540430e-03,\n",
       "       -3.43883373e-02,  6.45774752e-02,  4.68766131e-03,  1.60147704e-03,\n",
       "        1.24297924e-02, -1.39933944e-01,  4.85735275e-02,  8.35392401e-02,\n",
       "       -5.54768480e-02, -7.94955119e-02,  3.52739245e-02, -1.56451575e-02,\n",
       "       -7.82986730e-02, -5.40732965e-02, -9.10800993e-02,  2.96728853e-02,\n",
       "        2.66688205e-02,  1.55667728e-02,  5.79195358e-02,  3.17628980e-02,\n",
       "        4.89223041e-02, -4.00577160e-03,  2.41414383e-02,  4.46502417e-02,\n",
       "       -2.40369830e-02, -5.95684126e-02, -1.38045866e-02,  1.14792921e-02,\n",
       "        3.08526997e-02,  7.52162114e-02,  5.72751313e-02,  8.01656395e-03,\n",
       "       -4.04782258e-02,  3.12746689e-02,  9.66267511e-02, -2.74538975e-02,\n",
       "        3.29840221e-02,  1.94528382e-02, -3.80517468e-02, -2.27975436e-02,\n",
       "       -6.42893314e-02,  2.35427022e-02, -2.39264704e-02, -6.75097555e-02,\n",
       "        4.01867414e-03,  5.95572367e-02, -1.29172608e-01,  2.20304658e-03,\n",
       "        2.00321879e-02, -2.35908236e-02,  5.03619798e-02,  4.83760536e-02,\n",
       "       -3.89941968e-02,  1.06105283e-01, -4.23192196e-02, -4.33824696e-02,\n",
       "       -1.01408899e-01,  3.85581842e-03, -2.96520200e-02, -6.14201166e-02,\n",
       "       -1.74139105e-02,  5.27417250e-02,  1.50504301e-03, -1.39855566e-02,\n",
       "        1.89992748e-02, -8.32699537e-02, -2.35260231e-03,  8.75050761e-03,\n",
       "        3.01994327e-02,  1.12108374e-02,  3.66522931e-02, -8.79314449e-03,\n",
       "       -6.21794490e-03,  4.52932268e-02, -2.77698264e-02, -1.58737358e-02,\n",
       "       -2.97475401e-02, -4.20139991e-02,  1.70937111e-03, -1.64824365e-33,\n",
       "       -4.02345769e-02, -2.29078736e-02,  5.65283671e-02,  6.85211197e-02,\n",
       "        2.99266521e-02,  8.63669962e-02,  4.83638793e-03, -6.94823936e-02,\n",
       "        4.24840935e-02, -7.24620000e-02, -3.03379577e-02, -1.05768060e-02,\n",
       "        1.08414300e-01, -5.62360138e-02, -9.98089537e-02, -6.33733422e-02,\n",
       "        4.95769754e-02,  4.39037196e-02, -1.35309594e-02, -3.62109728e-02,\n",
       "        2.55938116e-02, -4.66833003e-02,  6.69550896e-02,  5.37807085e-02,\n",
       "        1.13697886e-01,  2.11778749e-02, -1.81589443e-02,  1.06483446e-02,\n",
       "        5.41635156e-02,  2.72313207e-02, -4.00838070e-02,  3.15782987e-02,\n",
       "       -2.25819144e-02,  6.92701787e-02,  1.28520606e-03,  2.24844124e-02,\n",
       "       -8.40355363e-03, -3.23573651e-04, -4.57273331e-03,  7.34139886e-03,\n",
       "        5.29095437e-03,  3.74798244e-03, -1.20443804e-02, -2.08908282e-02,\n",
       "        9.88593176e-02, -4.46117818e-02,  2.33832244e-02,  1.06673025e-01,\n",
       "        9.03974697e-02, -3.79968882e-02, -5.00639379e-02,  1.40769416e-02,\n",
       "       -9.09866020e-02, -2.96056680e-02,  3.62678152e-03,  1.15826409e-02,\n",
       "       -5.56662865e-03, -8.21885318e-02,  3.49215828e-02, -6.36981917e-04,\n",
       "        7.54302889e-02,  5.15043698e-02, -5.08631654e-02,  2.38396768e-02,\n",
       "       -4.28085960e-02, -2.71378346e-02, -6.70645759e-02, -3.14144529e-02,\n",
       "        5.31934015e-03, -5.94315603e-02,  9.40877125e-02,  1.83409546e-02,\n",
       "       -4.44057834e-04,  3.41898501e-02, -7.34982118e-02,  6.19949400e-02,\n",
       "        1.40009657e-01,  2.69960170e-03,  2.07904112e-02,  3.59098949e-02,\n",
       "       -1.50816310e-02,  5.02267890e-02,  7.14422911e-02,  1.16507234e-02,\n",
       "        9.08136368e-02,  1.62468404e-02,  4.60548280e-03, -1.79179702e-02,\n",
       "       -1.63843781e-02,  4.25201580e-02, -8.37820470e-02, -6.67074472e-02,\n",
       "        1.12634942e-01,  5.88681288e-02, -1.18633518e-02, -1.49489665e-33,\n",
       "        1.13438413e-01,  1.15161054e-02,  1.60573721e-02, -3.90679240e-02,\n",
       "       -6.10377360e-03, -9.86836758e-03, -3.54822055e-02,  1.40406983e-02,\n",
       "        1.53267123e-02, -3.20872255e-02, -4.11131931e-03,  4.29361053e-02,\n",
       "        5.47034591e-02,  2.11893376e-02, -3.00957058e-02, -4.43018414e-03,\n",
       "        1.13701694e-01, -8.44393894e-02, -3.18638273e-02, -2.20031682e-02,\n",
       "        1.15142427e-02,  3.74505855e-02, -2.77589951e-02, -7.83092529e-02,\n",
       "        1.18805887e-02, -9.20188725e-02,  1.24171630e-01, -5.45977913e-02,\n",
       "       -3.03370412e-02,  1.42644849e-02, -1.17193989e-01, -6.71947896e-02,\n",
       "       -7.83260241e-02,  6.02756217e-02,  6.16755374e-02,  6.07781634e-02,\n",
       "        2.08572652e-02, -8.85274932e-02,  3.47588770e-02,  5.24161011e-02,\n",
       "        4.12596017e-02,  4.11491953e-02, -1.04473764e-02,  3.06681637e-02,\n",
       "        8.20400845e-03,  2.54722498e-03, -4.45929430e-02,  1.69353727e-02,\n",
       "       -7.14864284e-02, -3.93489040e-02, -8.94943848e-02, -2.46422607e-02,\n",
       "       -5.06530516e-02, -5.58770560e-02,  2.50644553e-02,  6.93076998e-02,\n",
       "       -5.80172688e-02, -3.65523100e-02,  6.17346950e-02, -2.99314735e-03,\n",
       "       -6.63669175e-03, -2.17994116e-02, -3.34858969e-02, -3.31426598e-02,\n",
       "        1.29592968e-02, -5.75143844e-02, -1.67515110e-02,  9.66028962e-03,\n",
       "        7.29946643e-02,  5.37132397e-02,  2.83474810e-02, -1.11339875e-01,\n",
       "       -6.06608763e-02,  3.27444635e-02,  2.85429861e-02, -1.16369426e-02,\n",
       "        1.09426240e-02, -6.50285603e-03, -1.40469037e-02, -1.66090205e-02,\n",
       "       -4.77099605e-02,  7.87680596e-02, -8.81384984e-02, -5.25563434e-02,\n",
       "        4.09736931e-02, -3.34053487e-03,  3.12436018e-02, -1.33758057e-02,\n",
       "        4.30774465e-02, -1.26054697e-03,  1.89442821e-02, -3.80163416e-02,\n",
       "        6.11948445e-02,  1.98238641e-02,  2.22713985e-02, -5.02717299e-08,\n",
       "        6.80647418e-02,  5.38175143e-02, -8.39098692e-02,  3.51657975e-04,\n",
       "        5.71653247e-02, -3.78378406e-02, -6.28212392e-02, -1.47414297e-01,\n",
       "       -3.45255621e-02,  4.37515639e-02,  1.26887694e-01,  3.73939238e-02,\n",
       "       -7.84283318e-03, -4.35751453e-02,  6.76912367e-02, -4.59158467e-03,\n",
       "       -6.78890869e-02, -8.65939539e-03, -5.77962585e-02, -3.04820128e-02,\n",
       "       -5.82125224e-02,  2.05211136e-02, -2.03504250e-03,  1.89462435e-02,\n",
       "        2.03901101e-02, -1.27996374e-02,  2.37776153e-02,  4.27544564e-02,\n",
       "       -1.05391011e-01, -2.60263234e-02, -5.73621280e-02,  5.93618862e-02,\n",
       "       -1.22949243e-01, -4.30588424e-02,  2.51191873e-02, -6.99013844e-02,\n",
       "       -1.12665199e-01,  1.37773193e-02,  8.06678683e-02,  1.31958462e-02,\n",
       "        8.60548764e-03,  4.21196297e-02,  1.37124425e-02,  6.58889040e-02,\n",
       "       -1.52288442e-02,  8.02273583e-03, -6.44207047e-03,  8.77847429e-03,\n",
       "        3.25877481e-04,  7.66182225e-03, -1.11664012e-01,  5.33219948e-02,\n",
       "        9.84749570e-02, -5.69626205e-02,  4.52251583e-02,  1.12189211e-01,\n",
       "        1.15438523e-02, -1.77373327e-02, -3.22160944e-02,  1.37444236e-04,\n",
       "       -2.66184770e-02, -7.50837056e-03, -1.31233513e-01, -6.80769468e-03],\n",
       "      dtype=float32)"
      ]
     },
     "execution_count": 17,
     "metadata": {},
     "output_type": "execute_result"
    }
   ],
   "execution_count": 17
  },
  {
   "metadata": {},
   "cell_type": "markdown",
   "source": "### 3. Encode whole Parlamint Dataset",
   "id": "3e48f3782a8555b"
  },
  {
   "metadata": {},
   "cell_type": "markdown",
   "source": "#### 3.1 Encode with Sentence Transformer",
   "id": "78534be56699c2d5"
  },
  {
   "metadata": {
    "ExecuteTime": {
     "end_time": "2025-09-03T07:37:37.600353Z",
     "start_time": "2025-09-03T07:36:49.857684Z"
    }
   },
   "cell_type": "code",
   "source": [
    "# Encode utterance-wise dataset\n",
    "df_parlamint_embeddings_per_utterance = st_model_small.encode(df_parlamint_grouped[\"utterance_text\"].to_list(),\n",
    "                                                     show_progress_bar=True)\n",
    "\n",
    "# Encode sentence-wise dataset\n",
    "df_parlamint_embeddings_per_sentence = st_model_small.encode(df_parlamint[\"Text\"].to_list(), show_progress_bar=True)"
   ],
   "id": "2eec56d8a22e284b",
   "outputs": [
    {
     "name": "stderr",
     "output_type": "stream",
     "text": [
      "Batches: 100%|██████████| 432/432 [00:10<00:00, 39.39it/s] \n",
      "Batches: 100%|██████████| 5018/5018 [00:34<00:00, 146.19it/s]\n"
     ]
    }
   ],
   "execution_count": 24
  },
  {
   "metadata": {
    "ExecuteTime": {
     "end_time": "2025-09-03T07:35:48.991025Z",
     "start_time": "2025-09-03T07:35:48.965556Z"
    }
   },
   "cell_type": "code",
   "source": [
    "df_parlamint_grouped[\"embedding\"] = list(df_parlamint_embeddings_per_utterance)\n",
    "df_parlamint_grouped"
   ],
   "id": "cf282f09f0f8fa3a",
   "outputs": [
    {
     "data": {
      "text/plain": [
       "                                               Parent_ID  \\\n",
       "0                          ParlaMint-IS_2022-01-17-20.u1   \n",
       "1                         ParlaMint-IS_2022-01-17-20.u10   \n",
       "2                         ParlaMint-IS_2022-01-17-20.u11   \n",
       "3                         ParlaMint-IS_2022-01-17-20.u12   \n",
       "4                         ParlaMint-IS_2022-01-17-20.u13   \n",
       "...                                                  ...   \n",
       "13799  ParlaMint-IT_2022-09-20-LEG18-Senato-sed-465.a...   \n",
       "13800  ParlaMint-IT_2022-09-20-LEG18-Senato-sed-465.a...   \n",
       "13801  ParlaMint-IT_2022-09-20-LEG18-Senato-sed-465.a...   \n",
       "13802  ParlaMint-IT_2022-09-20-LEG18-Senato-sed-465.a...   \n",
       "13803  ParlaMint-IT_2022-09-20-LEG18-Senato-sed-465.a...   \n",
       "\n",
       "                                          utterance_text  \\\n",
       "0      President of the United States reports: I have...   \n",
       "1      Before the weekend, an article by Stefánssonar...   \n",
       "2      I read this decision in Perconte, which is not...   \n",
       "3      In fact, this is shown in the letter quoted by...   \n",
       "4      Yes, that's right. That's right. A senator who...   \n",
       "...                                                  ...   \n",
       "13799  Colleagues, Senator Verducci's speech concerns...   \n",
       "13800  Madam President, ladies and gentlemen, I would...   \n",
       "13801  Mr President, in my last speech last Tuesday I...   \n",
       "13802  Mr President, I wish to begin by expressing ou...   \n",
       "13803  Mr President, the Brothers of Italy Group is c...   \n",
       "\n",
       "                                               embedding  \n",
       "0      [-0.051902045, -0.1029595, 0.06313952, 0.02980...  \n",
       "1      [-0.104611516, 0.06670187, -0.0565696, -0.0242...  \n",
       "2      [-0.003742227, 0.07299825, -0.017051963, -0.02...  \n",
       "3      [-0.10630381, 0.06314152, -0.014823501, 0.0141...  \n",
       "4      [-0.037640795, 0.1038077, -0.061545677, 0.0093...  \n",
       "...                                                  ...  \n",
       "13799  [-0.019802073, 0.037965108, 0.08726237, 0.0270...  \n",
       "13800  [-0.049527295, 0.014052414, 0.021675337, 0.010...  \n",
       "13801  [-0.012908381, 0.027171515, 0.09444265, 0.0555...  \n",
       "13802  [-0.00644074, 0.046314888, 0.06603416, -0.0122...  \n",
       "13803  [-0.071430825, 0.050313797, 0.13709855, -0.020...  \n",
       "\n",
       "[13804 rows x 3 columns]"
      ],
      "text/html": [
       "<div>\n",
       "<style scoped>\n",
       "    .dataframe tbody tr th:only-of-type {\n",
       "        vertical-align: middle;\n",
       "    }\n",
       "\n",
       "    .dataframe tbody tr th {\n",
       "        vertical-align: top;\n",
       "    }\n",
       "\n",
       "    .dataframe thead th {\n",
       "        text-align: right;\n",
       "    }\n",
       "</style>\n",
       "<table border=\"1\" class=\"dataframe\">\n",
       "  <thead>\n",
       "    <tr style=\"text-align: right;\">\n",
       "      <th></th>\n",
       "      <th>Parent_ID</th>\n",
       "      <th>utterance_text</th>\n",
       "      <th>embedding</th>\n",
       "    </tr>\n",
       "  </thead>\n",
       "  <tbody>\n",
       "    <tr>\n",
       "      <th>0</th>\n",
       "      <td>ParlaMint-IS_2022-01-17-20.u1</td>\n",
       "      <td>President of the United States reports: I have...</td>\n",
       "      <td>[-0.051902045, -0.1029595, 0.06313952, 0.02980...</td>\n",
       "    </tr>\n",
       "    <tr>\n",
       "      <th>1</th>\n",
       "      <td>ParlaMint-IS_2022-01-17-20.u10</td>\n",
       "      <td>Before the weekend, an article by Stefánssonar...</td>\n",
       "      <td>[-0.104611516, 0.06670187, -0.0565696, -0.0242...</td>\n",
       "    </tr>\n",
       "    <tr>\n",
       "      <th>2</th>\n",
       "      <td>ParlaMint-IS_2022-01-17-20.u11</td>\n",
       "      <td>I read this decision in Perconte, which is not...</td>\n",
       "      <td>[-0.003742227, 0.07299825, -0.017051963, -0.02...</td>\n",
       "    </tr>\n",
       "    <tr>\n",
       "      <th>3</th>\n",
       "      <td>ParlaMint-IS_2022-01-17-20.u12</td>\n",
       "      <td>In fact, this is shown in the letter quoted by...</td>\n",
       "      <td>[-0.10630381, 0.06314152, -0.014823501, 0.0141...</td>\n",
       "    </tr>\n",
       "    <tr>\n",
       "      <th>4</th>\n",
       "      <td>ParlaMint-IS_2022-01-17-20.u13</td>\n",
       "      <td>Yes, that's right. That's right. A senator who...</td>\n",
       "      <td>[-0.037640795, 0.1038077, -0.061545677, 0.0093...</td>\n",
       "    </tr>\n",
       "    <tr>\n",
       "      <th>...</th>\n",
       "      <td>...</td>\n",
       "      <td>...</td>\n",
       "      <td>...</td>\n",
       "    </tr>\n",
       "    <tr>\n",
       "      <th>13799</th>\n",
       "      <td>ParlaMint-IT_2022-09-20-LEG18-Senato-sed-465.a...</td>\n",
       "      <td>Colleagues, Senator Verducci's speech concerns...</td>\n",
       "      <td>[-0.019802073, 0.037965108, 0.08726237, 0.0270...</td>\n",
       "    </tr>\n",
       "    <tr>\n",
       "      <th>13800</th>\n",
       "      <td>ParlaMint-IT_2022-09-20-LEG18-Senato-sed-465.a...</td>\n",
       "      <td>Madam President, ladies and gentlemen, I would...</td>\n",
       "      <td>[-0.049527295, 0.014052414, 0.021675337, 0.010...</td>\n",
       "    </tr>\n",
       "    <tr>\n",
       "      <th>13801</th>\n",
       "      <td>ParlaMint-IT_2022-09-20-LEG18-Senato-sed-465.a...</td>\n",
       "      <td>Mr President, in my last speech last Tuesday I...</td>\n",
       "      <td>[-0.012908381, 0.027171515, 0.09444265, 0.0555...</td>\n",
       "    </tr>\n",
       "    <tr>\n",
       "      <th>13802</th>\n",
       "      <td>ParlaMint-IT_2022-09-20-LEG18-Senato-sed-465.a...</td>\n",
       "      <td>Mr President, I wish to begin by expressing ou...</td>\n",
       "      <td>[-0.00644074, 0.046314888, 0.06603416, -0.0122...</td>\n",
       "    </tr>\n",
       "    <tr>\n",
       "      <th>13803</th>\n",
       "      <td>ParlaMint-IT_2022-09-20-LEG18-Senato-sed-465.a...</td>\n",
       "      <td>Mr President, the Brothers of Italy Group is c...</td>\n",
       "      <td>[-0.071430825, 0.050313797, 0.13709855, -0.020...</td>\n",
       "    </tr>\n",
       "  </tbody>\n",
       "</table>\n",
       "<p>13804 rows × 3 columns</p>\n",
       "</div>"
      ]
     },
     "execution_count": 22,
     "metadata": {},
     "output_type": "execute_result"
    }
   ],
   "execution_count": 22
  },
  {
   "metadata": {
    "ExecuteTime": {
     "end_time": "2025-09-03T07:35:51.525428Z",
     "start_time": "2025-09-03T07:35:51.445553Z"
    }
   },
   "cell_type": "code",
   "source": [
    "df_parlamint[\"embedding\"] = list(df_parlamint_embeddings_per_sentence)\n",
    "df_parlamint"
   ],
   "id": "6daaefb628a02724",
   "outputs": [
    {
     "data": {
      "text/plain": [
       "                                                       ID  \\\n",
       "0                       ParlaMint-IS_2022-01-17-20.seg2.1   \n",
       "1                       ParlaMint-IS_2022-01-17-20.seg3.1   \n",
       "2                       ParlaMint-IS_2022-01-17-20.seg4.1   \n",
       "3                       ParlaMint-IS_2022-01-17-20.seg6.1   \n",
       "4                       ParlaMint-IS_2022-01-17-20.seg7.1   \n",
       "...                                                   ...   \n",
       "160540  ParlaMint-IT_2022-09-20-LEG18-Senato-sed-465.a...   \n",
       "160541  ParlaMint-IT_2022-09-20-LEG18-Senato-sed-465.a...   \n",
       "160542  ParlaMint-IT_2022-09-20-LEG18-Senato-sed-465.a...   \n",
       "160543  ParlaMint-IT_2022-09-20-LEG18-Senato-sed-465.a...   \n",
       "160544  ParlaMint-IT_2022-09-20-LEG18-Senato-sed-465.a...   \n",
       "\n",
       "                                                Parent_ID  \\\n",
       "0                           ParlaMint-IS_2022-01-17-20.u1   \n",
       "1                           ParlaMint-IS_2022-01-17-20.u1   \n",
       "2                           ParlaMint-IS_2022-01-17-20.u1   \n",
       "3                           ParlaMint-IS_2022-01-17-20.u1   \n",
       "4                           ParlaMint-IS_2022-01-17-20.u1   \n",
       "...                                                   ...   \n",
       "160540  ParlaMint-IT_2022-09-20-LEG18-Senato-sed-465.a...   \n",
       "160541  ParlaMint-IT_2022-09-20-LEG18-Senato-sed-465.a...   \n",
       "160542  ParlaMint-IT_2022-09-20-LEG18-Senato-sed-465.a...   \n",
       "160543  ParlaMint-IT_2022-09-20-LEG18-Senato-sed-465.a...   \n",
       "160544  ParlaMint-IT_2022-09-20-LEG18-Senato-sed-465.a...   \n",
       "\n",
       "                                                     Text  \\\n",
       "0                 President of the United States reports:   \n",
       "1       I have decided, according to the proposal of t...   \n",
       "2                      Arrange sites, January 11th, 2022.   \n",
       "3                         Katrín Jakobsdóttir's daughter.   \n",
       "4       Presidential Letters for a meeting of the Gene...   \n",
       "...                                                   ...   \n",
       "160540  I would say that we can consider the work of t...   \n",
       "160541  Of course, all good intentions about Parliamen...   \n",
       "160542  The motions, questions and questions received ...   \n",
       "160543               The Senate is summoned to the house.   \n",
       "160544               The sitting was closed at 16.48 p.m.   \n",
       "\n",
       "                                                embedding  \n",
       "0       [0.003643172, 0.0075753126, -0.0135241905, 0.0...  \n",
       "1       [-0.047604736, -0.06898866, 0.027104922, 0.042...  \n",
       "2       [-0.01698018, -0.048045084, -0.017449742, 0.01...  \n",
       "3       [-0.08331399, -0.048587173, 0.00143911, -0.043...  \n",
       "4       [-0.07626823, -0.06527784, 0.06610001, 0.01071...  \n",
       "...                                                   ...  \n",
       "160540  [-0.067902915, 0.039009538, 0.062254358, -0.04...  \n",
       "160541  [0.016888414, 0.036268204, 0.04464855, -0.0834...  \n",
       "160542  [0.0019182335, 0.042933553, 0.044402953, -0.07...  \n",
       "160543  [0.009923743, -0.0020061715, 0.029129716, 0.01...  \n",
       "160544  [0.03279865, 0.109322175, 0.005354028, 0.02316...  \n",
       "\n",
       "[160545 rows x 4 columns]"
      ],
      "text/html": [
       "<div>\n",
       "<style scoped>\n",
       "    .dataframe tbody tr th:only-of-type {\n",
       "        vertical-align: middle;\n",
       "    }\n",
       "\n",
       "    .dataframe tbody tr th {\n",
       "        vertical-align: top;\n",
       "    }\n",
       "\n",
       "    .dataframe thead th {\n",
       "        text-align: right;\n",
       "    }\n",
       "</style>\n",
       "<table border=\"1\" class=\"dataframe\">\n",
       "  <thead>\n",
       "    <tr style=\"text-align: right;\">\n",
       "      <th></th>\n",
       "      <th>ID</th>\n",
       "      <th>Parent_ID</th>\n",
       "      <th>Text</th>\n",
       "      <th>embedding</th>\n",
       "    </tr>\n",
       "  </thead>\n",
       "  <tbody>\n",
       "    <tr>\n",
       "      <th>0</th>\n",
       "      <td>ParlaMint-IS_2022-01-17-20.seg2.1</td>\n",
       "      <td>ParlaMint-IS_2022-01-17-20.u1</td>\n",
       "      <td>President of the United States reports:</td>\n",
       "      <td>[0.003643172, 0.0075753126, -0.0135241905, 0.0...</td>\n",
       "    </tr>\n",
       "    <tr>\n",
       "      <th>1</th>\n",
       "      <td>ParlaMint-IS_2022-01-17-20.seg3.1</td>\n",
       "      <td>ParlaMint-IS_2022-01-17-20.u1</td>\n",
       "      <td>I have decided, according to the proposal of t...</td>\n",
       "      <td>[-0.047604736, -0.06898866, 0.027104922, 0.042...</td>\n",
       "    </tr>\n",
       "    <tr>\n",
       "      <th>2</th>\n",
       "      <td>ParlaMint-IS_2022-01-17-20.seg4.1</td>\n",
       "      <td>ParlaMint-IS_2022-01-17-20.u1</td>\n",
       "      <td>Arrange sites, January 11th, 2022.</td>\n",
       "      <td>[-0.01698018, -0.048045084, -0.017449742, 0.01...</td>\n",
       "    </tr>\n",
       "    <tr>\n",
       "      <th>3</th>\n",
       "      <td>ParlaMint-IS_2022-01-17-20.seg6.1</td>\n",
       "      <td>ParlaMint-IS_2022-01-17-20.u1</td>\n",
       "      <td>Katrín Jakobsdóttir's daughter.</td>\n",
       "      <td>[-0.08331399, -0.048587173, 0.00143911, -0.043...</td>\n",
       "    </tr>\n",
       "    <tr>\n",
       "      <th>4</th>\n",
       "      <td>ParlaMint-IS_2022-01-17-20.seg7.1</td>\n",
       "      <td>ParlaMint-IS_2022-01-17-20.u1</td>\n",
       "      <td>Presidential Letters for a meeting of the Gene...</td>\n",
       "      <td>[-0.07626823, -0.06527784, 0.06610001, 0.01071...</td>\n",
       "    </tr>\n",
       "    <tr>\n",
       "      <th>...</th>\n",
       "      <td>...</td>\n",
       "      <td>...</td>\n",
       "      <td>...</td>\n",
       "      <td>...</td>\n",
       "    </tr>\n",
       "    <tr>\n",
       "      <th>160540</th>\n",
       "      <td>ParlaMint-IT_2022-09-20-LEG18-Senato-sed-465.a...</td>\n",
       "      <td>ParlaMint-IT_2022-09-20-LEG18-Senato-sed-465.a...</td>\n",
       "      <td>I would say that we can consider the work of t...</td>\n",
       "      <td>[-0.067902915, 0.039009538, 0.062254358, -0.04...</td>\n",
       "    </tr>\n",
       "    <tr>\n",
       "      <th>160541</th>\n",
       "      <td>ParlaMint-IT_2022-09-20-LEG18-Senato-sed-465.a...</td>\n",
       "      <td>ParlaMint-IT_2022-09-20-LEG18-Senato-sed-465.a...</td>\n",
       "      <td>Of course, all good intentions about Parliamen...</td>\n",
       "      <td>[0.016888414, 0.036268204, 0.04464855, -0.0834...</td>\n",
       "    </tr>\n",
       "    <tr>\n",
       "      <th>160542</th>\n",
       "      <td>ParlaMint-IT_2022-09-20-LEG18-Senato-sed-465.a...</td>\n",
       "      <td>ParlaMint-IT_2022-09-20-LEG18-Senato-sed-465.a...</td>\n",
       "      <td>The motions, questions and questions received ...</td>\n",
       "      <td>[0.0019182335, 0.042933553, 0.044402953, -0.07...</td>\n",
       "    </tr>\n",
       "    <tr>\n",
       "      <th>160543</th>\n",
       "      <td>ParlaMint-IT_2022-09-20-LEG18-Senato-sed-465.a...</td>\n",
       "      <td>ParlaMint-IT_2022-09-20-LEG18-Senato-sed-465.a...</td>\n",
       "      <td>The Senate is summoned to the house.</td>\n",
       "      <td>[0.009923743, -0.0020061715, 0.029129716, 0.01...</td>\n",
       "    </tr>\n",
       "    <tr>\n",
       "      <th>160544</th>\n",
       "      <td>ParlaMint-IT_2022-09-20-LEG18-Senato-sed-465.a...</td>\n",
       "      <td>ParlaMint-IT_2022-09-20-LEG18-Senato-sed-465.a...</td>\n",
       "      <td>The sitting was closed at 16.48 p.m.</td>\n",
       "      <td>[0.03279865, 0.109322175, 0.005354028, 0.02316...</td>\n",
       "    </tr>\n",
       "  </tbody>\n",
       "</table>\n",
       "<p>160545 rows × 4 columns</p>\n",
       "</div>"
      ]
     },
     "execution_count": 23,
     "metadata": {},
     "output_type": "execute_result"
    }
   ],
   "execution_count": 23
  },
  {
   "metadata": {},
   "cell_type": "markdown",
   "source": "#### 3.2 Save output to pickle file",
   "id": "4342f1ca7ca5a4eb"
  },
  {
   "metadata": {},
   "cell_type": "code",
   "outputs": [],
   "execution_count": null,
   "source": "df_parlamint.to_pickle(\"df_parlamint_all-MiniLM-L6-v2.pkl\")",
   "id": "f35c7f49a7b0d272"
  },
  {
   "metadata": {},
   "cell_type": "markdown",
   "source": "#### 3.3 Encode Dataset with TF-IDF",
   "id": "8800808f0582de96"
  },
  {
   "metadata": {
    "ExecuteTime": {
     "end_time": "2025-09-03T07:42:35.180750Z",
     "start_time": "2025-09-03T07:42:31.683066Z"
    }
   },
   "cell_type": "code",
   "source": [
    "# Adding the whole parlamint dataset as vocabulary\n",
    "tfidf_model = TfIdfEmbedder(vocabulary=df_parlamint[\"Text\"].to_list(), min_df=200, stop_words='english')\n",
    "\n",
    "# Encode sentence-wise dataset\n",
    "tfidf_embeddings_per_sentence = tfidf_model.embed(df_parlamint[\"Text\"].to_list())"
   ],
   "id": "a1b2af3f1cedea7f",
   "outputs": [
    {
     "name": "stdout",
     "output_type": "stream",
     "text": [
      "Call 'transform' only...\n"
     ]
    }
   ],
   "execution_count": 30
  },
  {
   "metadata": {
    "ExecuteTime": {
     "end_time": "2025-09-03T07:42:38.266392Z",
     "start_time": "2025-09-03T07:42:36.461115Z"
    }
   },
   "cell_type": "code",
   "source": [
    "print(f\"Number features: {len(tfidf_model.embedding_model.get_feature_names_out())}\", tfidf_model.embedding_model.get_feature_names_out())\n",
    "print(f\"Shape embedding array: {tfidf_embeddings_per_sentence.toarray().shape}\")\n",
    "tfidf_embeddings_per_sentence.toarray()"
   ],
   "id": "b5514e2e8260513a",
   "outputs": [
    {
     "name": "stdout",
     "output_type": "stream",
     "text": [
      "Number features: 1640 ['000' '10' '100' ... 'yes' 'yesterday' 'young']\n",
      "Shape embedding array: (160545, 1640)\n"
     ]
    },
    {
     "data": {
      "text/plain": [
       "array([[0., 0., 0., ..., 0., 0., 0.],\n",
       "       [0., 0., 0., ..., 0., 0., 0.],\n",
       "       [0., 0., 0., ..., 0., 0., 0.],\n",
       "       ...,\n",
       "       [0., 0., 0., ..., 0., 0., 0.],\n",
       "       [0., 0., 0., ..., 0., 0., 0.],\n",
       "       [0., 0., 0., ..., 0., 0., 0.]], shape=(160545, 1640))"
      ]
     },
     "execution_count": 31,
     "metadata": {},
     "output_type": "execute_result"
    }
   ],
   "execution_count": 31
  },
  {
   "metadata": {
    "ExecuteTime": {
     "end_time": "2025-09-03T07:42:57.828140Z",
     "start_time": "2025-09-03T07:42:56.864678Z"
    }
   },
   "cell_type": "code",
   "source": [
    "df_parlamint[\"embedding\"] = list(tfidf_embeddings_per_sentence.toarray())\n",
    "df_parlamint"
   ],
   "id": "253f41a6fd71114",
   "outputs": [
    {
     "data": {
      "text/plain": [
       "                                                       ID  \\\n",
       "0                       ParlaMint-IS_2022-01-17-20.seg2.1   \n",
       "1                       ParlaMint-IS_2022-01-17-20.seg3.1   \n",
       "2                       ParlaMint-IS_2022-01-17-20.seg4.1   \n",
       "3                       ParlaMint-IS_2022-01-17-20.seg6.1   \n",
       "4                       ParlaMint-IS_2022-01-17-20.seg7.1   \n",
       "...                                                   ...   \n",
       "160540  ParlaMint-IT_2022-09-20-LEG18-Senato-sed-465.a...   \n",
       "160541  ParlaMint-IT_2022-09-20-LEG18-Senato-sed-465.a...   \n",
       "160542  ParlaMint-IT_2022-09-20-LEG18-Senato-sed-465.a...   \n",
       "160543  ParlaMint-IT_2022-09-20-LEG18-Senato-sed-465.a...   \n",
       "160544  ParlaMint-IT_2022-09-20-LEG18-Senato-sed-465.a...   \n",
       "\n",
       "                                                Parent_ID  \\\n",
       "0                           ParlaMint-IS_2022-01-17-20.u1   \n",
       "1                           ParlaMint-IS_2022-01-17-20.u1   \n",
       "2                           ParlaMint-IS_2022-01-17-20.u1   \n",
       "3                           ParlaMint-IS_2022-01-17-20.u1   \n",
       "4                           ParlaMint-IS_2022-01-17-20.u1   \n",
       "...                                                   ...   \n",
       "160540  ParlaMint-IT_2022-09-20-LEG18-Senato-sed-465.a...   \n",
       "160541  ParlaMint-IT_2022-09-20-LEG18-Senato-sed-465.a...   \n",
       "160542  ParlaMint-IT_2022-09-20-LEG18-Senato-sed-465.a...   \n",
       "160543  ParlaMint-IT_2022-09-20-LEG18-Senato-sed-465.a...   \n",
       "160544  ParlaMint-IT_2022-09-20-LEG18-Senato-sed-465.a...   \n",
       "\n",
       "                                                     Text  \\\n",
       "0                 President of the United States reports:   \n",
       "1       I have decided, according to the proposal of t...   \n",
       "2                      Arrange sites, January 11th, 2022.   \n",
       "3                         Katrín Jakobsdóttir's daughter.   \n",
       "4       Presidential Letters for a meeting of the Gene...   \n",
       "...                                                   ...   \n",
       "160540  I would say that we can consider the work of t...   \n",
       "160541  Of course, all good intentions about Parliamen...   \n",
       "160542  The motions, questions and questions received ...   \n",
       "160543               The Senate is summoned to the house.   \n",
       "160544               The sitting was closed at 16.48 p.m.   \n",
       "\n",
       "                                                embedding  \n",
       "0       [0.0, 0.0, 0.0, 0.0, 0.0, 0.0, 0.0, 0.0, 0.0, ...  \n",
       "1       [0.0, 0.0, 0.0, 0.0, 0.0, 0.0, 0.0, 0.0, 0.0, ...  \n",
       "2       [0.0, 0.0, 0.0, 0.0, 0.0, 0.0, 0.0, 0.0, 0.0, ...  \n",
       "3       [0.0, 0.0, 0.0, 0.0, 0.0, 0.0, 0.0, 0.0, 0.0, ...  \n",
       "4       [0.0, 0.0, 0.0, 0.0, 0.0, 0.0, 0.0, 0.0, 0.0, ...  \n",
       "...                                                   ...  \n",
       "160540  [0.0, 0.0, 0.0, 0.0, 0.0, 0.0, 0.0, 0.0, 0.0, ...  \n",
       "160541  [0.0, 0.0, 0.0, 0.0, 0.0, 0.0, 0.0, 0.0, 0.0, ...  \n",
       "160542  [0.0, 0.0, 0.0, 0.0, 0.0, 0.0, 0.0, 0.0, 0.0, ...  \n",
       "160543  [0.0, 0.0, 0.0, 0.0, 0.0, 0.0, 0.0, 0.0, 0.0, ...  \n",
       "160544  [0.0, 0.0, 0.0, 0.0, 0.0, 0.0, 0.0, 0.0, 0.616...  \n",
       "\n",
       "[160545 rows x 4 columns]"
      ],
      "text/html": [
       "<div>\n",
       "<style scoped>\n",
       "    .dataframe tbody tr th:only-of-type {\n",
       "        vertical-align: middle;\n",
       "    }\n",
       "\n",
       "    .dataframe tbody tr th {\n",
       "        vertical-align: top;\n",
       "    }\n",
       "\n",
       "    .dataframe thead th {\n",
       "        text-align: right;\n",
       "    }\n",
       "</style>\n",
       "<table border=\"1\" class=\"dataframe\">\n",
       "  <thead>\n",
       "    <tr style=\"text-align: right;\">\n",
       "      <th></th>\n",
       "      <th>ID</th>\n",
       "      <th>Parent_ID</th>\n",
       "      <th>Text</th>\n",
       "      <th>embedding</th>\n",
       "    </tr>\n",
       "  </thead>\n",
       "  <tbody>\n",
       "    <tr>\n",
       "      <th>0</th>\n",
       "      <td>ParlaMint-IS_2022-01-17-20.seg2.1</td>\n",
       "      <td>ParlaMint-IS_2022-01-17-20.u1</td>\n",
       "      <td>President of the United States reports:</td>\n",
       "      <td>[0.0, 0.0, 0.0, 0.0, 0.0, 0.0, 0.0, 0.0, 0.0, ...</td>\n",
       "    </tr>\n",
       "    <tr>\n",
       "      <th>1</th>\n",
       "      <td>ParlaMint-IS_2022-01-17-20.seg3.1</td>\n",
       "      <td>ParlaMint-IS_2022-01-17-20.u1</td>\n",
       "      <td>I have decided, according to the proposal of t...</td>\n",
       "      <td>[0.0, 0.0, 0.0, 0.0, 0.0, 0.0, 0.0, 0.0, 0.0, ...</td>\n",
       "    </tr>\n",
       "    <tr>\n",
       "      <th>2</th>\n",
       "      <td>ParlaMint-IS_2022-01-17-20.seg4.1</td>\n",
       "      <td>ParlaMint-IS_2022-01-17-20.u1</td>\n",
       "      <td>Arrange sites, January 11th, 2022.</td>\n",
       "      <td>[0.0, 0.0, 0.0, 0.0, 0.0, 0.0, 0.0, 0.0, 0.0, ...</td>\n",
       "    </tr>\n",
       "    <tr>\n",
       "      <th>3</th>\n",
       "      <td>ParlaMint-IS_2022-01-17-20.seg6.1</td>\n",
       "      <td>ParlaMint-IS_2022-01-17-20.u1</td>\n",
       "      <td>Katrín Jakobsdóttir's daughter.</td>\n",
       "      <td>[0.0, 0.0, 0.0, 0.0, 0.0, 0.0, 0.0, 0.0, 0.0, ...</td>\n",
       "    </tr>\n",
       "    <tr>\n",
       "      <th>4</th>\n",
       "      <td>ParlaMint-IS_2022-01-17-20.seg7.1</td>\n",
       "      <td>ParlaMint-IS_2022-01-17-20.u1</td>\n",
       "      <td>Presidential Letters for a meeting of the Gene...</td>\n",
       "      <td>[0.0, 0.0, 0.0, 0.0, 0.0, 0.0, 0.0, 0.0, 0.0, ...</td>\n",
       "    </tr>\n",
       "    <tr>\n",
       "      <th>...</th>\n",
       "      <td>...</td>\n",
       "      <td>...</td>\n",
       "      <td>...</td>\n",
       "      <td>...</td>\n",
       "    </tr>\n",
       "    <tr>\n",
       "      <th>160540</th>\n",
       "      <td>ParlaMint-IT_2022-09-20-LEG18-Senato-sed-465.a...</td>\n",
       "      <td>ParlaMint-IT_2022-09-20-LEG18-Senato-sed-465.a...</td>\n",
       "      <td>I would say that we can consider the work of t...</td>\n",
       "      <td>[0.0, 0.0, 0.0, 0.0, 0.0, 0.0, 0.0, 0.0, 0.0, ...</td>\n",
       "    </tr>\n",
       "    <tr>\n",
       "      <th>160541</th>\n",
       "      <td>ParlaMint-IT_2022-09-20-LEG18-Senato-sed-465.a...</td>\n",
       "      <td>ParlaMint-IT_2022-09-20-LEG18-Senato-sed-465.a...</td>\n",
       "      <td>Of course, all good intentions about Parliamen...</td>\n",
       "      <td>[0.0, 0.0, 0.0, 0.0, 0.0, 0.0, 0.0, 0.0, 0.0, ...</td>\n",
       "    </tr>\n",
       "    <tr>\n",
       "      <th>160542</th>\n",
       "      <td>ParlaMint-IT_2022-09-20-LEG18-Senato-sed-465.a...</td>\n",
       "      <td>ParlaMint-IT_2022-09-20-LEG18-Senato-sed-465.a...</td>\n",
       "      <td>The motions, questions and questions received ...</td>\n",
       "      <td>[0.0, 0.0, 0.0, 0.0, 0.0, 0.0, 0.0, 0.0, 0.0, ...</td>\n",
       "    </tr>\n",
       "    <tr>\n",
       "      <th>160543</th>\n",
       "      <td>ParlaMint-IT_2022-09-20-LEG18-Senato-sed-465.a...</td>\n",
       "      <td>ParlaMint-IT_2022-09-20-LEG18-Senato-sed-465.a...</td>\n",
       "      <td>The Senate is summoned to the house.</td>\n",
       "      <td>[0.0, 0.0, 0.0, 0.0, 0.0, 0.0, 0.0, 0.0, 0.0, ...</td>\n",
       "    </tr>\n",
       "    <tr>\n",
       "      <th>160544</th>\n",
       "      <td>ParlaMint-IT_2022-09-20-LEG18-Senato-sed-465.a...</td>\n",
       "      <td>ParlaMint-IT_2022-09-20-LEG18-Senato-sed-465.a...</td>\n",
       "      <td>The sitting was closed at 16.48 p.m.</td>\n",
       "      <td>[0.0, 0.0, 0.0, 0.0, 0.0, 0.0, 0.0, 0.0, 0.616...</td>\n",
       "    </tr>\n",
       "  </tbody>\n",
       "</table>\n",
       "<p>160545 rows × 4 columns</p>\n",
       "</div>"
      ]
     },
     "execution_count": 33,
     "metadata": {},
     "output_type": "execute_result"
    }
   ],
   "execution_count": 33
  },
  {
   "metadata": {},
   "cell_type": "markdown",
   "source": "#### 3.4 Save output to pickle file",
   "id": "a34c98cd1e848a4d"
  },
  {
   "metadata": {},
   "cell_type": "code",
   "outputs": [],
   "execution_count": null,
   "source": "df_parlamint.to_pickle(\"df_parlamint_all-tfidf.pkl\")",
   "id": "46e0f28283d45fba"
  },
  {
   "metadata": {},
   "cell_type": "markdown",
   "source": "### 4. How to build a Simple QA System",
   "id": "2f2672bef0e8528a"
  },
  {
   "metadata": {},
   "cell_type": "markdown",
   "source": "#### 4.1 Get the Most Likely Utterance",
   "id": "fba9f447153d364a"
  },
  {
   "metadata": {
    "ExecuteTime": {
     "end_time": "2025-09-03T08:08:09.756539Z",
     "start_time": "2025-09-03T08:08:09.138427Z"
    }
   },
   "cell_type": "code",
   "source": [
    "import numpy as np\n",
    "from sentence_transformers import util\n",
    "\n",
    "# Given question\n",
    "question = \"What is the government policy on climate change?\"\n",
    "# question = \"What about president of america?\"\n",
    "\n",
    "# 1. Embed the question\n",
    "question_embedding = st_model_small.encode(question)\n",
    "\n",
    "# 2. Compute cosine similarities\n",
    "cosine_similarities = util.cos_sim(question_embedding, df_parlamint_grouped[\"embedding\"])[0].cpu().numpy()\n",
    "\n",
    "# 3. Get the index of the most similar utterance\n",
    "most_similar_idx = int(np.argmax(cosine_similarities))\n",
    "\n",
    "# 4. Retrieve the most similar text\n",
    "most_similar_text = df_parlamint_grouped.iloc[most_similar_idx][\"utterance_text\"]\n",
    "# most_similar_text\n",
    "print(f\"Score: {cosine_similarities[most_similar_idx]:.4f} | Utterance: {most_similar_text}\\n\")"
   ],
   "id": "fdea9019c6df1e2b",
   "outputs": [
    {
     "name": "stdout",
     "output_type": "stream",
     "text": [
      "Score: 0.5964 | Utterance: After listening to the highest. Minister, both today and yesterday, I get a little bit of the feeling that he looks at himself and his Ministry more like an observer than a doer when it comes to reducing greenhouse gas emissions. It is best that Ministers burn for more and larger activations, but, as the energy manager has noted, the energy flows directly into the energy exchange. It takes a very clear policy, but it needs a whole plan to make sure it does. That's why it hurts to the top. Ministers will not give us very clear answers on how Iceland's national target of climate change will be updated, when it will happen, and whether the government's climate programme of action will be reviewed and how these updated targets will appear in government policy and measures at all times. But I hope it reaches the highest. Minister to review it better afterwards. Last night we talked about the bus and the electric car truck. It turned out that the government still assumes that fossil fuels are being brought into the country until 2030. In the year 2040, there are still cars that remain undiscovered, yet the government's treaties show that by the year 2040 Iceland is to be free of fossil fuels. I'm going to quote the highest. Minister, with permission of presidents: If the government's current objective is to achieve better results, I would be the first to celebrate it, and then we can reevaluate our plans. Are these the words of a politician burning for bringing Iceland into the green future by a revolution in public transport and a massive plan for the recovery of wetlands? No, these are the words of someone who's going to sit there hoping things would get tough, following the line of events, as the government's policy on climate change has been. What we need in the climate Ministry is a fighter or fighter for radical climate operations, which can activate the solidarity of young people and older ones in real action in behalf of climate, earth, and all of us and future generations.\n",
      "\n"
     ]
    }
   ],
   "execution_count": 56
  },
  {
   "metadata": {},
   "cell_type": "markdown",
   "source": "#### 4.2 Get the Top-K relevant Utterances",
   "id": "d255e60c4046c7bb"
  },
  {
   "metadata": {
    "ExecuteTime": {
     "end_time": "2025-09-03T08:07:43.426632Z",
     "start_time": "2025-09-03T08:07:43.400757Z"
    }
   },
   "cell_type": "code",
   "source": [
    "question = \"What is the government policy on climate change?\"\n",
    "# question = \"America?\"\n",
    "k = 5  # choose how many results you want\n",
    "\n",
    "# 1. Embed the question\n",
    "question_embedding = st_model_small.encode(question)\n",
    "\n",
    "# 2. Compute cosine similarities\n",
    "cosine_similarities = util.cos_sim(question_embedding, df_parlamint_embeddings_per_utterance)[0].cpu().numpy()\n",
    "\n",
    "# 3. Get indices of top-k most similar utterances\n",
    "top_k_idx = np.argsort(cosine_similarities)[::-1][:k]\n",
    "\n",
    "# 4. Retrieve the top-k utterances and their similarity scores\n",
    "for idx in top_k_idx:\n",
    "    text = df_parlamint_grouped.iloc[idx][\"utterance_text\"]\n",
    "    score = cosine_similarities[idx]\n",
    "    print(f\"Score: {score:.4f} | Utterance: {text}\\n\")\n"
   ],
   "id": "79d79280414b2279",
   "outputs": [
    {
     "name": "stdout",
     "output_type": "stream",
     "text": [
      "Score: 0.5964 | Utterance: After listening to the highest. Minister, both today and yesterday, I get a little bit of the feeling that he looks at himself and his Ministry more like an observer than a doer when it comes to reducing greenhouse gas emissions. It is best that Ministers burn for more and larger activations, but, as the energy manager has noted, the energy flows directly into the energy exchange. It takes a very clear policy, but it needs a whole plan to make sure it does. That's why it hurts to the top. Ministers will not give us very clear answers on how Iceland's national target of climate change will be updated, when it will happen, and whether the government's climate programme of action will be reviewed and how these updated targets will appear in government policy and measures at all times. But I hope it reaches the highest. Minister to review it better afterwards. Last night we talked about the bus and the electric car truck. It turned out that the government still assumes that fossil fuels are being brought into the country until 2030. In the year 2040, there are still cars that remain undiscovered, yet the government's treaties show that by the year 2040 Iceland is to be free of fossil fuels. I'm going to quote the highest. Minister, with permission of presidents: If the government's current objective is to achieve better results, I would be the first to celebrate it, and then we can reevaluate our plans. Are these the words of a politician burning for bringing Iceland into the green future by a revolution in public transport and a massive plan for the recovery of wetlands? No, these are the words of someone who's going to sit there hoping things would get tough, following the line of events, as the government's policy on climate change has been. What we need in the climate Ministry is a fighter or fighter for radical climate operations, which can activate the solidarity of young people and older ones in real action in behalf of climate, earth, and all of us and future generations.\n",
      "\n",
      "Score: 0.5897 | Utterance: I'll mention this because the context of the material discussion is important. Yes, you can change policy at any time, but if it's going to be a major energy policy, whatever the sector it is, it's a commitment if it's won in that direction. We are familiar with this in a discussion about the energy package, e.g. that if there was some kind of debate about energy use and some form of cooperation, and then a change in policy would be possible in one or another if such plans were lost. Depends on how long it had come. So government policy is important in the big context of how much is actually being activated and then it affects priorities.\n",
      "\n",
      "Score: 0.5889 | Utterance: One is that the right person favors above all, and that the right price is paid for the quality, value, and even loss as well. The debate has been loud enough to suggest that the global damage caused by emissions of contaminated gases and chemicals has not been fully evaluated. First, contaminated emissions cause damage to natural ecosystems, which are difficult to assess for money but can have a long impact on the future as we know. Second, climate change brings health harm. Third, climate change causes a global crop failure and a lack that can, in turn, directly affect food prices in this country. Fourth, when the government fails to achieve its objective, the United States makes financial commitments on the basis of international climate agreements. This financial program contains e.g. 800 million. K. There's earmarks on the Kyoto Protocol. That's how long it can be counted. The requirement is that the financial cost of pollution in this way is appreciated and paid accordingly. As long as this is not done, there is a market error that makes it more profitable to pollute rather than to avoid contamination. This is called the pollution prevention and the contaminated cities. In turn, public programs of such bankruptcy can be protected in support of green innovation or a general tax reduction. Thus a double incentive could be created to reduce emissions and help us reach our climate targets. I'd like to ask the highest. Minister if he has entered this discussion and what his position would be in order for the disposal of contaminated gases and chemicals to be reimbursed according to the financial cost of it.\n",
      "\n",
      "Score: 0.5810 | Utterance: I present a committee party on the matter of changing climate laws, No. 70/2012, with respect to simple correction of the part. There's a nominee on the issue. It is very simple and self-explanatory, with which all members of the environment and transport committee are writing.\n",
      "\n",
      "Score: 0.5741 | Utterance: During my final talk, I discussed agriculture and transportation, and I focus on only the climate and the environment. All of this, of course, is closely connected, and obviously you get into the energy situation thereafter. But one thing that this government has been willing to spend a lot of money on without knowing what he's getting into earlier is climate presenting new plans there, no doubt designed to appeal to its supporters a party here in the government and to someone in the international community, which is done without a good explanation of how the funds are being gained. Clearly, the point is that the amount of money that is placed in the lawsuit marked it will be far more beneficial to us than we have seen in the government over time. There is not always a direct connection. It's not that long ago. At the council, the secretary of finance said that it would not just be enough to place more and more money on the health system, so it would not help unless the system was fixed. So, what can be said about the plans and promises of the government in these climates, which introduced plans to put 50 billion on climates without having any real answers to how to use this money so that, of course, the danger is that they go to the air in this sense and become unreasonable, and I go unsatisfactory. It's even mine. and not least that they will not be able to cope with climate, climate change as effectively as we could do here on the land by focusing especially on the strong infrastructure we have in environmental energy production and its expansion and technological development that can result. It is true here in this program that forestry and agriculture will continue to be supported, and therefore I rejoice. The best thing we can do in the environment is to grow the land and especially to grow forests. At the same time, however, more and more money is being spent in action, which actually works against the benefits we can achieve, to form by forestry, and there I speak, for example. of the restoration of wetlands, a special feature of these government spending teams. It allows huge interest in budgets year after year, and despite the development of some kind of fund that has been created to attack the canals and damage farms. It is very unclear what such a result is in climates, but it can even be negative. But like any other government fantasy, it does not interfere with spending money on such matters. Yet, it is obvious that planting trees in a land that has been partially dried brings far more results for climate, carbon binding than for planning to destroy the land and turn it into wetlands. It's all in the same book, Madam President. It is not a matter of making decisions based on content and real influences but on some outward show and bandage. But now I'm just getting through the entrance to my environmental coverage and asking for it to the highest degree. President putting me back on the rosary.\n",
      "\n"
     ]
    }
   ],
   "execution_count": 55
  },
  {
   "metadata": {
    "ExecuteTime": {
     "end_time": "2025-09-03T07:59:06.212871Z",
     "start_time": "2025-09-03T07:59:06.207834Z"
    }
   },
   "cell_type": "code",
   "source": "cosine_similarities",
   "id": "ee6374d37bd7cf78",
   "outputs": [
    {
     "data": {
      "text/plain": [
       "tensor([0.1440, 0.0776, 0.2545,  ..., 0.2605, 0.2261, 0.3435])"
      ]
     },
     "execution_count": 43,
     "metadata": {},
     "output_type": "execute_result"
    }
   ],
   "execution_count": 43
  },
  {
   "metadata": {},
   "cell_type": "markdown",
   "source": "#### ************************************************************************************************************************",
   "id": "d9544919e14e886e"
  },
  {
   "metadata": {
    "ExecuteTime": {
     "end_time": "2025-09-03T07:01:32.922290Z",
     "start_time": "2025-09-03T07:01:19.022493Z"
    }
   },
   "cell_type": "code",
   "outputs": [
    {
     "name": "stdout",
     "output_type": "stream",
     "text": [
      "Init 'paraphrase-multilingual-MiniLM-L12-v2'\n",
      "Init 'all-minilm-l6-v2'\n",
      "Init 'TfIdfEmbedder'\n",
      "Init 'CountVectorizerEmbedder'\n"
     ]
    }
   ],
   "execution_count": 5,
   "source": [
    "print(\"Init 'paraphrase-multilingual-MiniLM-L12-v2'\")\n",
    "st_model_large = SentenceTransformer('paraphrase-multilingual-MiniLM-L12-v2')\n",
    "print(\"Init 'all-minilm-l6-v2'\")\n",
    "st_model_small = SentenceTransformer('all-minilm-l6-v2')\n",
    "print(\"Init 'TfIdfEmbedder'\")\n",
    "tfidf_model = TfIdfEmbedder(vocabulary=df_parlamint[\"Text\"].to_list(), min_df=100, stop_words='english')\n",
    "print(\"Init 'CountVectorizerEmbedder'\")\n",
    "cv_model = CountVectorizerEmbedder(vocabulary=df_parlamint[\"Text\"].to_list(), min_df=100, stop_words='english',\n",
    "                                   n_gram_range=(1, 3))"
   ],
   "id": "31347ebc83f313c1"
  },
  {
   "metadata": {
    "ExecuteTime": {
     "end_time": "2025-09-01T13:31:34.194538Z",
     "start_time": "2025-09-01T13:30:47.438761Z"
    }
   },
   "cell_type": "code",
   "source": [
    "df_parlamint_embeddings_per_utterance = st_model_small.encode(df_parlamint_grouped[\"utterance_text\"].to_list(),\n",
    "                                                     show_progress_bar=True)\n",
    "df_parlamint_embeddings_per_sentence = st_model_small.encode(df_parlamint[\"Text\"].to_list(), show_progress_bar=True)"
   ],
   "id": "254e7d33776d2bbc",
   "outputs": [
    {
     "name": "stderr",
     "output_type": "stream",
     "text": [
      "Batches: 100%|██████████| 432/432 [00:10<00:00, 40.30it/s] \n",
      "Batches: 100%|██████████| 5018/5018 [00:33<00:00, 148.42it/s]\n"
     ]
    }
   ],
   "execution_count": 66
  },
  {
   "metadata": {
    "ExecuteTime": {
     "end_time": "2025-09-03T07:34:26.746952Z",
     "start_time": "2025-09-03T07:34:26.700514Z"
    }
   },
   "cell_type": "code",
   "source": [
    "df_parlamint_grouped[\"embedding\"] = list(df_parlamint_embeddings_per_utterance)\n",
    "df_parlamint[\"embedding\"] = list(df_parlamint_embeddings_per_sentence)"
   ],
   "id": "dd9ef185dd7f2938",
   "outputs": [],
   "execution_count": 19
  },
  {
   "metadata": {
    "ExecuteTime": {
     "end_time": "2025-09-01T13:35:19.738770Z",
     "start_time": "2025-09-01T13:35:17.826208Z"
    }
   },
   "cell_type": "code",
   "source": [
    "table = pa.Table.from_pandas(df=df_parlamint, preserve_index=False)\n",
    "pq.write_table(table, \"df_parlamint_all-MiniLM-L6-v2.parquet\", compression=\"zstd\")\n",
    "df_parlamint.to_pickle(\"df_parlamint_all-MiniLM-L6-v2.pkl\")\n",
    "\n",
    "# # Load\n",
    "# df_loaded = pq.read_table(\"df_parlamint_all-MiniLM-L6-v2.parquet\").to_pandas()"
   ],
   "id": "35acdedddefddb9b",
   "outputs": [],
   "execution_count": 68
  },
  {
   "metadata": {
    "ExecuteTime": {
     "end_time": "2025-09-01T13:53:02.961784Z",
     "start_time": "2025-09-01T13:52:58.483732Z"
    }
   },
   "cell_type": "code",
   "source": [
    "tfidf_embeddings = tfidf_model.embed(df_parlamint[\"Text\"].to_list())\n",
    "print(f\"Number features: {len(tfidf_model.embedding_model.get_feature_names_out())}\", tfidf_model.embedding_model.get_feature_names_out())\n",
    "print(f\"Shape embedding array: {tfidf_embeddings.toarray().shape}\")\n",
    "tfidf_embeddings.toarray()"
   ],
   "id": "6fbe98fd1794f551",
   "outputs": [
    {
     "name": "stdout",
     "output_type": "stream",
     "text": [
      "Call 'transform' only...\n",
      "Number features: 2640 ['000' '10' '100' ... 'zero' 'ármannsson' 'ólafsson']\n",
      "Shape embedding array: (160545, 2640)\n"
     ]
    },
    {
     "data": {
      "text/plain": [
       "array([[0., 0., 0., ..., 0., 0., 0.],\n",
       "       [0., 0., 0., ..., 0., 0., 0.],\n",
       "       [0., 0., 0., ..., 0., 0., 0.],\n",
       "       ...,\n",
       "       [0., 0., 0., ..., 0., 0., 0.],\n",
       "       [0., 0., 0., ..., 0., 0., 0.],\n",
       "       [0., 0., 0., ..., 0., 0., 0.]], shape=(160545, 2640))"
      ]
     },
     "execution_count": 10,
     "metadata": {},
     "output_type": "execute_result"
    }
   ],
   "execution_count": 10
  },
  {
   "metadata": {},
   "cell_type": "code",
   "outputs": [],
   "execution_count": null,
   "source": [
    "sample_utterance_embeddings = tfidf_model.embed(df_parlamint[\"Text\"].to_list())\n",
    "print(f\"Number features: {len(tfidf_model.embedding_model.get_feature_names_out())}\", tfidf_model.embedding_model.get_feature_names_out())\n",
    "print(f\"Shape embedding array: {sample_utterance_embeddings.toarray().shape}\")\n",
    "sample_utterance_embeddings.toarray()"
   ],
   "id": "29617aba56029354"
  },
  {
   "metadata": {
    "ExecuteTime": {
     "end_time": "2025-09-01T11:45:48.760595Z",
     "start_time": "2025-09-01T11:45:48.753340Z"
    }
   },
   "cell_type": "code",
   "source": [
    "sample_utterance_embeddings = tfidf_model.embed(sample_utterance)\n",
    "print(tfidf_model.embedding_model.get_feature_names_out())\n",
    "sample_utterance_embeddings.toarray()"
   ],
   "id": "5f51220985e2849f",
   "outputs": [
    {
     "name": "stdout",
     "output_type": "stream",
     "text": [
      "['00' '000' '000k' ... 'ólason' 'þórsdóttir' 'þórunn']\n"
     ]
    },
    {
     "data": {
      "text/plain": [
       "array([[0.        , 0.        , 0.        , ..., 0.        , 0.        ,\n",
       "        0.        ],\n",
       "       [0.35023074, 0.        , 0.        , ..., 0.        , 0.        ,\n",
       "        0.        ],\n",
       "       [0.        , 0.        , 0.        , ..., 0.        , 0.        ,\n",
       "        0.        ],\n",
       "       [0.        , 0.        , 0.        , ..., 0.        , 0.        ,\n",
       "        0.        ],\n",
       "       [0.        , 0.        , 0.        , ..., 0.        , 0.        ,\n",
       "        0.        ],\n",
       "       [0.        , 0.        , 0.        , ..., 0.        , 0.        ,\n",
       "        0.        ]], shape=(6, 2666))"
      ]
     },
     "execution_count": 7,
     "metadata": {},
     "output_type": "execute_result"
    }
   ],
   "execution_count": 7
  },
  {
   "metadata": {
    "ExecuteTime": {
     "end_time": "2025-09-01T11:45:55.016211Z",
     "start_time": "2025-09-01T11:45:55.008971Z"
    }
   },
   "cell_type": "code",
   "source": [
    "sample_utterance_embeddings = cv_model.embed(sample_utterance)\n",
    "print(cv_model.embedding_model.get_feature_names_out())\n",
    "sample_utterance_embeddings.toarray()"
   ],
   "id": "ff2e099a01c69be7",
   "outputs": [
    {
     "name": "stdout",
     "output_type": "stream",
     "text": [
      "['000' '15' '17' '2020' '2021' '2022' 'able' 'abroad' 'access' 'according'\n",
      " 'account' 'action' 'actions' 'activities' 'actually' 'added' 'addition'\n",
      " 'affairs' 'affected' 'afghanistan' 'ago' 'agree' 'agreement' 'ahead'\n",
      " 'allow' 'answer' 'application' 'apply' 'approach' 'area' 'article' 'ask'\n",
      " 'ask highest' 'ask highest minister' 'asking' 'assembly' 'assessment'\n",
      " 'attention' 'authority' 'available' 'away' 'bad' 'based' 'basis'\n",
      " 'beginning' 'believe' 'better' 'big' 'billion' 'blood' 'board' 'bring'\n",
      " 'budget' 'business' 'business committee' 'businesses' 'calculated'\n",
      " 'called' 'came' 'care' 'careful' 'carried' 'case' 'cases' 'certain'\n",
      " 'certainly' 'change' 'changes' 'children' 'christmas' 'circumstances'\n",
      " 'class' 'clear' 'clearly' 'come' 'comes' 'committee' 'community'\n",
      " 'companies' 'company' 'compared' 'completed' 'completely' 'concerned'\n",
      " 'condition' 'conditions' 'congress' 'consequences' 'consider'\n",
      " 'considered' 'context' 'continuation' 'continue' 'contract' 'control'\n",
      " 'cooperation' 'cope' 'cost' 'costs' 'council' 'countries' 'country'\n",
      " 'course' 'court' 'covid' 'create' 'crown' 'crown virus' 'culture'\n",
      " 'current' 'date' 'day' 'days' 'deadline' 'deal' 'dealing' 'december'\n",
      " 'decision' 'decisions' 'delay' 'designed' 'despite' 'development' 'did'\n",
      " 'different' 'difficult' 'discuss' 'discussed' 'discussion' 'disease'\n",
      " 'disease control' 'disease prevention' 'does' 'doesn' 'doing' 'dollars'\n",
      " 'domestic' 'don' 'don know' 'dues' 'earlier' 'economic'\n",
      " 'economic business' 'economic business committee' 'economy' 'effect'\n",
      " 'effective' 'electrical' 'electricity' 'emergency' 'employees'\n",
      " 'employment' 'end' 'ends' 'energy' 'ensure' 'enterprise' 'enterprises'\n",
      " 'environment' 'environmental' 'epidemic' 'escape' 'especially' 'european'\n",
      " 'exactly' 'example' 'expect' 'expected' 'experts' 'explain' 'extended'\n",
      " 'extensive' 'extremely' 'face' 'fact' 'factor' 'factory' 'fall' 'farmers'\n",
      " 'feel' 'fees' 'field' 'finance' 'financial' 'financial minister'\n",
      " 'following' 'food' 'force' 'foreign' 'form' 'friday' 'funds' 'general'\n",
      " 'genetics' 'getting' 'given' 'goes' 'going' 'good' 'got' 'government'\n",
      " 'great' 'greater' 'group' 'growth' 'half' 'hand' 'handled' 'having'\n",
      " 'head' 'health' 'health care' 'health minister' 'hear' 'heavy' 'help'\n",
      " 'high' 'highest' 'highest level' 'highest minister' 'hope' 'hospital'\n",
      " 'hours' 'house' 'housing' 'human' 'iceland' 'icelandic'\n",
      " 'icelandic genetics' 'idea' 'impact' 'importance' 'important' 'improve'\n",
      " 'improved' 'improvement' 'income' 'increase' 'independent' 'information'\n",
      " 'inquiry' 'instead' 'insurance' 'insurance fees' 'involved' 'isn' 'issue'\n",
      " 'issues' 'iv' 'january' 'january 15' 'january 17' 'job' 'jobs' 'just'\n",
      " 'know' 'kári' 'lack' 'land' 'land hospital' 'large' 'late' 'later' 'law'\n",
      " 'left' 'legislation' 'let' 'letter' 'level' 'life' 'like' 'like ask'\n",
      " 'like ask highest' 'likely' 'limitations' 'limited' 'limits' 'little'\n",
      " 'live' 'll' 'local' 'long' 'long time' 'longer' 'look' 'looking' 'loss'\n",
      " 'lot' 'main' 'major' 'make' 'making' 'management' 'matter' 'matters'\n",
      " 'means' 'measures' 'medical' 'meet' 'meeting' 'members' 'mentioned'\n",
      " 'million' 'minister' 'minister answer' 'minister finance' 'ministers'\n",
      " 'ministry' 'ministry finance' 'money' 'month' 'months' 'nation'\n",
      " 'national' 'natural' 'necessary' 'need' 'needed' 'needs' 'negative' 'new'\n",
      " 'new year' 'normal' 'november' 'number' 'offer' 'old' 'open' 'opening'\n",
      " 'operation' 'operations' 'operators' 'opportunity' 'order' 'organization'\n",
      " 'paid' 'pandemic' 'parents' 'paritaprevir' 'particular' 'parts' 'past'\n",
      " 'past years' 'patients' 'pay' 'pay days' 'pay insurance' 'paying'\n",
      " 'payment' 'payments' 'people' 'period' 'permission'\n",
      " 'permission president' 'place' 'places' 'plans' 'point' 'policy'\n",
      " 'position' 'possible' 'postpone' 'postponement' 'power' 'present'\n",
      " 'presented' 'president' 'pressure' 'prevent' 'prevention' 'previous'\n",
      " 'price' 'prime' 'prime minister' 'problem' 'problems' 'procedures'\n",
      " 'process' 'production' 'professionals' 'progress' 'proposed' 'protect'\n",
      " 'protection' 'provide' 'provided' 'psychiatrist' 'public' 'public pay'\n",
      " 'published' 'quality' 'question' 'questions' 'quite' 'read' 'ready'\n",
      " 'real' 'really' 'reason' 'receive' 'recent' 'regard' 'related'\n",
      " 'remuneration' 'reply' 'report' 'request' 'required' 'resources'\n",
      " 'respect' 'respond' 'responsibility' 'responsible' 'restaurant'\n",
      " 'restaurants' 'restricted' 'restrictions' 'result' 'results' 'review'\n",
      " 'reviewing' 'right' 'rights' 'risk' 'role' 'rules' 'said' 'salary'\n",
      " 'samples' 'say' 'says' 'secretary' 'secretary finance' 'section' 'sector'\n",
      " 'sectors' 'security' 'seen' 'senator' 'sense' 'service' 'services' 'set'\n",
      " 'short' 'short time' 'shown' 'significant' 'simply' 'sit' 'situation'\n",
      " 'small' 'smaller' 'social' 'society' 'solutions' 'soon' 'spain' 'special'\n",
      " 'specific' 'staff' 'stage' 'stakeholders' 'stand' 'start' 'state'\n",
      " 'states' 'status' 'stay' 'stop' 'stress' 'subject' 'successful'\n",
      " 'suggested' 'suggests' 'support' 'supposed' 'sure' 'systems' 'taken'\n",
      " 'taking' 'talk' 'talking' 'tax' 'team' 'temporary' 'term' 'terms' 'thank'\n",
      " 'thank senator' 'thing' 'things' 'think' 'thinking' 'thought' 'time'\n",
      " 'times' 'today' 'tourism' 'transport' 'travel' 'treatment' 'true' 'try'\n",
      " 'trying' 'ultrasound' 'uncertainty' 'understand' 'union' 'united'\n",
      " 'united states' 'use' 'used' 've' 'view' 'viewpoints' 'violence' 'virus'\n",
      " 'vote' 'want' 'want ask' 'wanted' 'wave' 'way' 'ways' 'week' 'weekend'\n",
      " 'weeks' 'wishful' 'wishful thinking' 'words' 'work' 'working' 'world'\n",
      " 'worse' 'year' 'years' 'yes']\n"
     ]
    },
    {
     "data": {
      "text/plain": [
       "array([[0, 0, 0, ..., 0, 0, 0],\n",
       "       [0, 0, 1, ..., 0, 0, 0],\n",
       "       [0, 0, 0, ..., 0, 0, 0],\n",
       "       [0, 0, 0, ..., 0, 0, 0],\n",
       "       [0, 0, 1, ..., 0, 0, 0],\n",
       "       [0, 0, 0, ..., 1, 0, 0]], shape=(6, 537))"
      ]
     },
     "execution_count": 9,
     "metadata": {},
     "output_type": "execute_result"
    }
   ],
   "execution_count": 9
  },
  {
   "metadata": {
    "ExecuteTime": {
     "end_time": "2025-09-01T11:58:26.948325Z",
     "start_time": "2025-09-01T11:47:58.844494Z"
    }
   },
   "cell_type": "code",
   "source": [
    "def _apply_embeddings(row):\n",
    "    sentence_embedding = model.encode(row[\"Text\"], show_progress_bar=False)\n",
    "    return sentence_embedding\n",
    "\n",
    "\n",
    "# df_parlamint_subset[\"embedding\"] = df_parlamint_subset.progress_apply(lambda e: _apply_embeddings(e), axis=1)\n",
    "df_parlamint[\"embedding\"] = df_parlamint.progress_apply(lambda e: _apply_embeddings(e), axis=1)"
   ],
   "id": "efba2a3cfc691359",
   "outputs": [
    {
     "name": "stderr",
     "output_type": "stream",
     "text": [
      "100%|██████████| 160545/160545 [10:28<00:00, 255.61it/s]\n"
     ]
    }
   ],
   "execution_count": 13
  },
  {
   "metadata": {
    "ExecuteTime": {
     "end_time": "2025-09-01T12:52:53.786021Z",
     "start_time": "2025-09-01T12:52:53.780196Z"
    }
   },
   "cell_type": "code",
   "source": "df_parlamint.iloc[1]",
   "id": "56408fe24aed734",
   "outputs": [
    {
     "data": {
      "text/plain": [
       "ID                           ParlaMint-IS_2022-01-17-20.seg3.1\n",
       "Parent_ID                        ParlaMint-IS_2022-01-17-20.u1\n",
       "Text         I have decided, according to the proposal of t...\n",
       "embedding    [-0.04760472, -0.068988696, 0.02710493, 0.0427...\n",
       "Name: 1, dtype: object"
      ]
     },
     "execution_count": 15,
     "metadata": {},
     "output_type": "execute_result"
    }
   ],
   "execution_count": 15
  },
  {
   "metadata": {
    "ExecuteTime": {
     "end_time": "2025-09-01T12:58:05.319859Z",
     "start_time": "2025-09-01T12:58:03.848658Z"
    }
   },
   "cell_type": "code",
   "source": [
    "# df_parlamint_subset.to_pickle(\"sample.pkl\")\n",
    "# df_parlamint.to_pickle(\"df_parlamint.pkl\")\n",
    "df_parlamint.to_pickle(\"df_parlamint_all-MiniLM-L6-v2.pkl\")"
   ],
   "id": "8042fde193e41279",
   "outputs": [],
   "execution_count": 23
  },
  {
   "metadata": {
    "ExecuteTime": {
     "end_time": "2025-09-01T13:14:59.380497Z",
     "start_time": "2025-09-01T13:14:59.371872Z"
    }
   },
   "cell_type": "code",
   "source": "df_parlamint",
   "id": "66ee023f62974996",
   "outputs": [
    {
     "data": {
      "text/plain": [
       "                                                       ID  \\\n",
       "0                       ParlaMint-IS_2022-01-17-20.seg2.1   \n",
       "1                       ParlaMint-IS_2022-01-17-20.seg3.1   \n",
       "2                       ParlaMint-IS_2022-01-17-20.seg4.1   \n",
       "3                       ParlaMint-IS_2022-01-17-20.seg6.1   \n",
       "4                       ParlaMint-IS_2022-01-17-20.seg7.1   \n",
       "...                                                   ...   \n",
       "160540  ParlaMint-IT_2022-09-20-LEG18-Senato-sed-465.a...   \n",
       "160541  ParlaMint-IT_2022-09-20-LEG18-Senato-sed-465.a...   \n",
       "160542  ParlaMint-IT_2022-09-20-LEG18-Senato-sed-465.a...   \n",
       "160543  ParlaMint-IT_2022-09-20-LEG18-Senato-sed-465.a...   \n",
       "160544  ParlaMint-IT_2022-09-20-LEG18-Senato-sed-465.a...   \n",
       "\n",
       "                                                Parent_ID  \\\n",
       "0                           ParlaMint-IS_2022-01-17-20.u1   \n",
       "1                           ParlaMint-IS_2022-01-17-20.u1   \n",
       "2                           ParlaMint-IS_2022-01-17-20.u1   \n",
       "3                           ParlaMint-IS_2022-01-17-20.u1   \n",
       "4                           ParlaMint-IS_2022-01-17-20.u1   \n",
       "...                                                   ...   \n",
       "160540  ParlaMint-IT_2022-09-20-LEG18-Senato-sed-465.a...   \n",
       "160541  ParlaMint-IT_2022-09-20-LEG18-Senato-sed-465.a...   \n",
       "160542  ParlaMint-IT_2022-09-20-LEG18-Senato-sed-465.a...   \n",
       "160543  ParlaMint-IT_2022-09-20-LEG18-Senato-sed-465.a...   \n",
       "160544  ParlaMint-IT_2022-09-20-LEG18-Senato-sed-465.a...   \n",
       "\n",
       "                                                     Text  \n",
       "0                 President of the United States reports:  \n",
       "1       I have decided, according to the proposal of t...  \n",
       "2                      Arrange sites, January 11th, 2022.  \n",
       "3                         Katrín Jakobsdóttir's daughter.  \n",
       "4       Presidential Letters for a meeting of the Gene...  \n",
       "...                                                   ...  \n",
       "160540  I would say that we can consider the work of t...  \n",
       "160541  Of course, all good intentions about Parliamen...  \n",
       "160542  The motions, questions and questions received ...  \n",
       "160543               The Senate is summoned to the house.  \n",
       "160544               The sitting was closed at 16.48 p.m.  \n",
       "\n",
       "[160545 rows x 3 columns]"
      ],
      "text/html": [
       "<div>\n",
       "<style scoped>\n",
       "    .dataframe tbody tr th:only-of-type {\n",
       "        vertical-align: middle;\n",
       "    }\n",
       "\n",
       "    .dataframe tbody tr th {\n",
       "        vertical-align: top;\n",
       "    }\n",
       "\n",
       "    .dataframe thead th {\n",
       "        text-align: right;\n",
       "    }\n",
       "</style>\n",
       "<table border=\"1\" class=\"dataframe\">\n",
       "  <thead>\n",
       "    <tr style=\"text-align: right;\">\n",
       "      <th></th>\n",
       "      <th>ID</th>\n",
       "      <th>Parent_ID</th>\n",
       "      <th>Text</th>\n",
       "    </tr>\n",
       "  </thead>\n",
       "  <tbody>\n",
       "    <tr>\n",
       "      <th>0</th>\n",
       "      <td>ParlaMint-IS_2022-01-17-20.seg2.1</td>\n",
       "      <td>ParlaMint-IS_2022-01-17-20.u1</td>\n",
       "      <td>President of the United States reports:</td>\n",
       "    </tr>\n",
       "    <tr>\n",
       "      <th>1</th>\n",
       "      <td>ParlaMint-IS_2022-01-17-20.seg3.1</td>\n",
       "      <td>ParlaMint-IS_2022-01-17-20.u1</td>\n",
       "      <td>I have decided, according to the proposal of t...</td>\n",
       "    </tr>\n",
       "    <tr>\n",
       "      <th>2</th>\n",
       "      <td>ParlaMint-IS_2022-01-17-20.seg4.1</td>\n",
       "      <td>ParlaMint-IS_2022-01-17-20.u1</td>\n",
       "      <td>Arrange sites, January 11th, 2022.</td>\n",
       "    </tr>\n",
       "    <tr>\n",
       "      <th>3</th>\n",
       "      <td>ParlaMint-IS_2022-01-17-20.seg6.1</td>\n",
       "      <td>ParlaMint-IS_2022-01-17-20.u1</td>\n",
       "      <td>Katrín Jakobsdóttir's daughter.</td>\n",
       "    </tr>\n",
       "    <tr>\n",
       "      <th>4</th>\n",
       "      <td>ParlaMint-IS_2022-01-17-20.seg7.1</td>\n",
       "      <td>ParlaMint-IS_2022-01-17-20.u1</td>\n",
       "      <td>Presidential Letters for a meeting of the Gene...</td>\n",
       "    </tr>\n",
       "    <tr>\n",
       "      <th>...</th>\n",
       "      <td>...</td>\n",
       "      <td>...</td>\n",
       "      <td>...</td>\n",
       "    </tr>\n",
       "    <tr>\n",
       "      <th>160540</th>\n",
       "      <td>ParlaMint-IT_2022-09-20-LEG18-Senato-sed-465.a...</td>\n",
       "      <td>ParlaMint-IT_2022-09-20-LEG18-Senato-sed-465.a...</td>\n",
       "      <td>I would say that we can consider the work of t...</td>\n",
       "    </tr>\n",
       "    <tr>\n",
       "      <th>160541</th>\n",
       "      <td>ParlaMint-IT_2022-09-20-LEG18-Senato-sed-465.a...</td>\n",
       "      <td>ParlaMint-IT_2022-09-20-LEG18-Senato-sed-465.a...</td>\n",
       "      <td>Of course, all good intentions about Parliamen...</td>\n",
       "    </tr>\n",
       "    <tr>\n",
       "      <th>160542</th>\n",
       "      <td>ParlaMint-IT_2022-09-20-LEG18-Senato-sed-465.a...</td>\n",
       "      <td>ParlaMint-IT_2022-09-20-LEG18-Senato-sed-465.a...</td>\n",
       "      <td>The motions, questions and questions received ...</td>\n",
       "    </tr>\n",
       "    <tr>\n",
       "      <th>160543</th>\n",
       "      <td>ParlaMint-IT_2022-09-20-LEG18-Senato-sed-465.a...</td>\n",
       "      <td>ParlaMint-IT_2022-09-20-LEG18-Senato-sed-465.a...</td>\n",
       "      <td>The Senate is summoned to the house.</td>\n",
       "    </tr>\n",
       "    <tr>\n",
       "      <th>160544</th>\n",
       "      <td>ParlaMint-IT_2022-09-20-LEG18-Senato-sed-465.a...</td>\n",
       "      <td>ParlaMint-IT_2022-09-20-LEG18-Senato-sed-465.a...</td>\n",
       "      <td>The sitting was closed at 16.48 p.m.</td>\n",
       "    </tr>\n",
       "  </tbody>\n",
       "</table>\n",
       "<p>160545 rows × 3 columns</p>\n",
       "</div>"
      ]
     },
     "execution_count": 53,
     "metadata": {},
     "output_type": "execute_result"
    }
   ],
   "execution_count": 53
  },
  {
   "metadata": {
    "ExecuteTime": {
     "end_time": "2025-09-01T14:59:00.466990Z",
     "start_time": "2025-09-01T14:58:59.732015Z"
    }
   },
   "cell_type": "code",
   "source": [
    "df_read = pd.read_pickle(\"./data/SENTENCE_TRANSFORMER_SMALL_PER_SENTENCE.pkl\")\n",
    "# df_read = pd.read_pickle(\"./data/SENTENCE_TRANSFORMER_SMALL_PER_UTTERANCE.pkl\")\n",
    "df_read"
   ],
   "id": "a8c9dadbeeb7b9a8",
   "outputs": [
    {
     "data": {
      "text/plain": [
       "                                                       ID  \\\n",
       "0                       ParlaMint-IS_2022-01-17-20.seg2.1   \n",
       "1                       ParlaMint-IS_2022-01-17-20.seg3.1   \n",
       "2                       ParlaMint-IS_2022-01-17-20.seg4.1   \n",
       "3                       ParlaMint-IS_2022-01-17-20.seg6.1   \n",
       "4                       ParlaMint-IS_2022-01-17-20.seg7.1   \n",
       "...                                                   ...   \n",
       "160540  ParlaMint-IT_2022-09-20-LEG18-Senato-sed-465.a...   \n",
       "160541  ParlaMint-IT_2022-09-20-LEG18-Senato-sed-465.a...   \n",
       "160542  ParlaMint-IT_2022-09-20-LEG18-Senato-sed-465.a...   \n",
       "160543  ParlaMint-IT_2022-09-20-LEG18-Senato-sed-465.a...   \n",
       "160544  ParlaMint-IT_2022-09-20-LEG18-Senato-sed-465.a...   \n",
       "\n",
       "                                                Parent_ID  \\\n",
       "0                           ParlaMint-IS_2022-01-17-20.u1   \n",
       "1                           ParlaMint-IS_2022-01-17-20.u1   \n",
       "2                           ParlaMint-IS_2022-01-17-20.u1   \n",
       "3                           ParlaMint-IS_2022-01-17-20.u1   \n",
       "4                           ParlaMint-IS_2022-01-17-20.u1   \n",
       "...                                                   ...   \n",
       "160540  ParlaMint-IT_2022-09-20-LEG18-Senato-sed-465.a...   \n",
       "160541  ParlaMint-IT_2022-09-20-LEG18-Senato-sed-465.a...   \n",
       "160542  ParlaMint-IT_2022-09-20-LEG18-Senato-sed-465.a...   \n",
       "160543  ParlaMint-IT_2022-09-20-LEG18-Senato-sed-465.a...   \n",
       "160544  ParlaMint-IT_2022-09-20-LEG18-Senato-sed-465.a...   \n",
       "\n",
       "                                                     Text  \\\n",
       "0                 President of the United States reports:   \n",
       "1       I have decided, according to the proposal of t...   \n",
       "2                      Arrange sites, January 11th, 2022.   \n",
       "3                         Katrín Jakobsdóttir's daughter.   \n",
       "4       Presidential Letters for a meeting of the Gene...   \n",
       "...                                                   ...   \n",
       "160540  I would say that we can consider the work of t...   \n",
       "160541  Of course, all good intentions about Parliamen...   \n",
       "160542  The motions, questions and questions received ...   \n",
       "160543               The Senate is summoned to the house.   \n",
       "160544               The sitting was closed at 16.48 p.m.   \n",
       "\n",
       "                                                embedding  \n",
       "0       [0.003643172, 0.0075753126, -0.0135241905, 0.0...  \n",
       "1       [-0.047604736, -0.06898866, 0.027104922, 0.042...  \n",
       "2       [-0.01698018, -0.048045084, -0.017449742, 0.01...  \n",
       "3       [-0.08331399, -0.048587173, 0.00143911, -0.043...  \n",
       "4       [-0.07626823, -0.06527784, 0.06610001, 0.01071...  \n",
       "...                                                   ...  \n",
       "160540  [-0.067902915, 0.039009538, 0.062254358, -0.04...  \n",
       "160541  [0.016888414, 0.036268204, 0.04464855, -0.0834...  \n",
       "160542  [0.0019182335, 0.042933553, 0.044402953, -0.07...  \n",
       "160543  [0.009923743, -0.0020061715, 0.029129716, 0.01...  \n",
       "160544  [0.03279865, 0.109322175, 0.005354028, 0.02316...  \n",
       "\n",
       "[160545 rows x 4 columns]"
      ],
      "text/html": [
       "<div>\n",
       "<style scoped>\n",
       "    .dataframe tbody tr th:only-of-type {\n",
       "        vertical-align: middle;\n",
       "    }\n",
       "\n",
       "    .dataframe tbody tr th {\n",
       "        vertical-align: top;\n",
       "    }\n",
       "\n",
       "    .dataframe thead th {\n",
       "        text-align: right;\n",
       "    }\n",
       "</style>\n",
       "<table border=\"1\" class=\"dataframe\">\n",
       "  <thead>\n",
       "    <tr style=\"text-align: right;\">\n",
       "      <th></th>\n",
       "      <th>ID</th>\n",
       "      <th>Parent_ID</th>\n",
       "      <th>Text</th>\n",
       "      <th>embedding</th>\n",
       "    </tr>\n",
       "  </thead>\n",
       "  <tbody>\n",
       "    <tr>\n",
       "      <th>0</th>\n",
       "      <td>ParlaMint-IS_2022-01-17-20.seg2.1</td>\n",
       "      <td>ParlaMint-IS_2022-01-17-20.u1</td>\n",
       "      <td>President of the United States reports:</td>\n",
       "      <td>[0.003643172, 0.0075753126, -0.0135241905, 0.0...</td>\n",
       "    </tr>\n",
       "    <tr>\n",
       "      <th>1</th>\n",
       "      <td>ParlaMint-IS_2022-01-17-20.seg3.1</td>\n",
       "      <td>ParlaMint-IS_2022-01-17-20.u1</td>\n",
       "      <td>I have decided, according to the proposal of t...</td>\n",
       "      <td>[-0.047604736, -0.06898866, 0.027104922, 0.042...</td>\n",
       "    </tr>\n",
       "    <tr>\n",
       "      <th>2</th>\n",
       "      <td>ParlaMint-IS_2022-01-17-20.seg4.1</td>\n",
       "      <td>ParlaMint-IS_2022-01-17-20.u1</td>\n",
       "      <td>Arrange sites, January 11th, 2022.</td>\n",
       "      <td>[-0.01698018, -0.048045084, -0.017449742, 0.01...</td>\n",
       "    </tr>\n",
       "    <tr>\n",
       "      <th>3</th>\n",
       "      <td>ParlaMint-IS_2022-01-17-20.seg6.1</td>\n",
       "      <td>ParlaMint-IS_2022-01-17-20.u1</td>\n",
       "      <td>Katrín Jakobsdóttir's daughter.</td>\n",
       "      <td>[-0.08331399, -0.048587173, 0.00143911, -0.043...</td>\n",
       "    </tr>\n",
       "    <tr>\n",
       "      <th>4</th>\n",
       "      <td>ParlaMint-IS_2022-01-17-20.seg7.1</td>\n",
       "      <td>ParlaMint-IS_2022-01-17-20.u1</td>\n",
       "      <td>Presidential Letters for a meeting of the Gene...</td>\n",
       "      <td>[-0.07626823, -0.06527784, 0.06610001, 0.01071...</td>\n",
       "    </tr>\n",
       "    <tr>\n",
       "      <th>...</th>\n",
       "      <td>...</td>\n",
       "      <td>...</td>\n",
       "      <td>...</td>\n",
       "      <td>...</td>\n",
       "    </tr>\n",
       "    <tr>\n",
       "      <th>160540</th>\n",
       "      <td>ParlaMint-IT_2022-09-20-LEG18-Senato-sed-465.a...</td>\n",
       "      <td>ParlaMint-IT_2022-09-20-LEG18-Senato-sed-465.a...</td>\n",
       "      <td>I would say that we can consider the work of t...</td>\n",
       "      <td>[-0.067902915, 0.039009538, 0.062254358, -0.04...</td>\n",
       "    </tr>\n",
       "    <tr>\n",
       "      <th>160541</th>\n",
       "      <td>ParlaMint-IT_2022-09-20-LEG18-Senato-sed-465.a...</td>\n",
       "      <td>ParlaMint-IT_2022-09-20-LEG18-Senato-sed-465.a...</td>\n",
       "      <td>Of course, all good intentions about Parliamen...</td>\n",
       "      <td>[0.016888414, 0.036268204, 0.04464855, -0.0834...</td>\n",
       "    </tr>\n",
       "    <tr>\n",
       "      <th>160542</th>\n",
       "      <td>ParlaMint-IT_2022-09-20-LEG18-Senato-sed-465.a...</td>\n",
       "      <td>ParlaMint-IT_2022-09-20-LEG18-Senato-sed-465.a...</td>\n",
       "      <td>The motions, questions and questions received ...</td>\n",
       "      <td>[0.0019182335, 0.042933553, 0.044402953, -0.07...</td>\n",
       "    </tr>\n",
       "    <tr>\n",
       "      <th>160543</th>\n",
       "      <td>ParlaMint-IT_2022-09-20-LEG18-Senato-sed-465.a...</td>\n",
       "      <td>ParlaMint-IT_2022-09-20-LEG18-Senato-sed-465.a...</td>\n",
       "      <td>The Senate is summoned to the house.</td>\n",
       "      <td>[0.009923743, -0.0020061715, 0.029129716, 0.01...</td>\n",
       "    </tr>\n",
       "    <tr>\n",
       "      <th>160544</th>\n",
       "      <td>ParlaMint-IT_2022-09-20-LEG18-Senato-sed-465.a...</td>\n",
       "      <td>ParlaMint-IT_2022-09-20-LEG18-Senato-sed-465.a...</td>\n",
       "      <td>The sitting was closed at 16.48 p.m.</td>\n",
       "      <td>[0.03279865, 0.109322175, 0.005354028, 0.02316...</td>\n",
       "    </tr>\n",
       "  </tbody>\n",
       "</table>\n",
       "<p>160545 rows × 4 columns</p>\n",
       "</div>"
      ]
     },
     "execution_count": 13,
     "metadata": {},
     "output_type": "execute_result"
    }
   ],
   "execution_count": 13
  }
 ],
 "metadata": {
  "kernelspec": {
   "display_name": "Python 3",
   "language": "python",
   "name": "python3"
  },
  "language_info": {
   "codemirror_mode": {
    "name": "ipython",
    "version": 2
   },
   "file_extension": ".py",
   "mimetype": "text/x-python",
   "name": "python",
   "nbconvert_exporter": "python",
   "pygments_lexer": "ipython2",
   "version": "2.7.6"
  }
 },
 "nbformat": 4,
 "nbformat_minor": 5
}
