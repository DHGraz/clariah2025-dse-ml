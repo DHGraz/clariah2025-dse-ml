{
 "cells": [
  {
   "cell_type": "code",
   "id": "initial_id",
   "metadata": {
    "collapsed": true,
    "ExecuteTime": {
     "end_time": "2025-09-01T09:55:02.921890Z",
     "start_time": "2025-09-01T09:54:47.730603Z"
    }
   },
   "source": [
    "import pandas as pd\n",
    "from sentence_transformers import SentenceTransformer\n",
    "from bertopic import BERTopic"
   ],
   "outputs": [
    {
     "name": "stderr",
     "output_type": "stream",
     "text": [
      "/home/mijantscher/PycharmProjects/summerschool2025/clariah2025-dse-ml/.venv/lib/python3.10/site-packages/tqdm/auto.py:21: TqdmWarning: IProgress not found. Please update jupyter and ipywidgets. See https://ipywidgets.readthedocs.io/en/stable/user_install.html\n",
      "  from .autonotebook import tqdm as notebook_tqdm\n"
     ]
    }
   ],
   "execution_count": 1
  },
  {
   "metadata": {
    "ExecuteTime": {
     "end_time": "2025-09-01T09:55:05.056899Z",
     "start_time": "2025-09-01T09:55:04.667869Z"
    }
   },
   "cell_type": "code",
   "source": [
    "df_parlamint = pd.read_csv(\"../materials/parlamint/parlamint-it-is-2022.txt\", sep=\"\\t\")\n",
    "df_parlamint"
   ],
   "id": "9fd73590ae11aa8d",
   "outputs": [
    {
     "data": {
      "text/plain": [
       "                                                       ID  \\\n",
       "0                       ParlaMint-IS_2022-01-17-20.seg2.1   \n",
       "1                       ParlaMint-IS_2022-01-17-20.seg3.1   \n",
       "2                       ParlaMint-IS_2022-01-17-20.seg4.1   \n",
       "3                       ParlaMint-IS_2022-01-17-20.seg6.1   \n",
       "4                       ParlaMint-IS_2022-01-17-20.seg7.1   \n",
       "...                                                   ...   \n",
       "160540  ParlaMint-IT_2022-09-20-LEG18-Senato-sed-465.a...   \n",
       "160541  ParlaMint-IT_2022-09-20-LEG18-Senato-sed-465.a...   \n",
       "160542  ParlaMint-IT_2022-09-20-LEG18-Senato-sed-465.a...   \n",
       "160543  ParlaMint-IT_2022-09-20-LEG18-Senato-sed-465.a...   \n",
       "160544  ParlaMint-IT_2022-09-20-LEG18-Senato-sed-465.a...   \n",
       "\n",
       "                                                Parent_ID  \\\n",
       "0                           ParlaMint-IS_2022-01-17-20.u1   \n",
       "1                           ParlaMint-IS_2022-01-17-20.u1   \n",
       "2                           ParlaMint-IS_2022-01-17-20.u1   \n",
       "3                           ParlaMint-IS_2022-01-17-20.u1   \n",
       "4                           ParlaMint-IS_2022-01-17-20.u1   \n",
       "...                                                   ...   \n",
       "160540  ParlaMint-IT_2022-09-20-LEG18-Senato-sed-465.a...   \n",
       "160541  ParlaMint-IT_2022-09-20-LEG18-Senato-sed-465.a...   \n",
       "160542  ParlaMint-IT_2022-09-20-LEG18-Senato-sed-465.a...   \n",
       "160543  ParlaMint-IT_2022-09-20-LEG18-Senato-sed-465.a...   \n",
       "160544  ParlaMint-IT_2022-09-20-LEG18-Senato-sed-465.a...   \n",
       "\n",
       "                                                     Text  \n",
       "0                 President of the United States reports:  \n",
       "1       I have decided, according to the proposal of t...  \n",
       "2                      Arrange sites, January 11th, 2022.  \n",
       "3                         Katrín Jakobsdóttir's daughter.  \n",
       "4       Presidential Letters for a meeting of the Gene...  \n",
       "...                                                   ...  \n",
       "160540  I would say that we can consider the work of t...  \n",
       "160541  Of course, all good intentions about Parliamen...  \n",
       "160542  The motions, questions and questions received ...  \n",
       "160543               The Senate is summoned to the house.  \n",
       "160544               The sitting was closed at 16.48 p.m.  \n",
       "\n",
       "[160545 rows x 3 columns]"
      ],
      "text/html": [
       "<div>\n",
       "<style scoped>\n",
       "    .dataframe tbody tr th:only-of-type {\n",
       "        vertical-align: middle;\n",
       "    }\n",
       "\n",
       "    .dataframe tbody tr th {\n",
       "        vertical-align: top;\n",
       "    }\n",
       "\n",
       "    .dataframe thead th {\n",
       "        text-align: right;\n",
       "    }\n",
       "</style>\n",
       "<table border=\"1\" class=\"dataframe\">\n",
       "  <thead>\n",
       "    <tr style=\"text-align: right;\">\n",
       "      <th></th>\n",
       "      <th>ID</th>\n",
       "      <th>Parent_ID</th>\n",
       "      <th>Text</th>\n",
       "    </tr>\n",
       "  </thead>\n",
       "  <tbody>\n",
       "    <tr>\n",
       "      <th>0</th>\n",
       "      <td>ParlaMint-IS_2022-01-17-20.seg2.1</td>\n",
       "      <td>ParlaMint-IS_2022-01-17-20.u1</td>\n",
       "      <td>President of the United States reports:</td>\n",
       "    </tr>\n",
       "    <tr>\n",
       "      <th>1</th>\n",
       "      <td>ParlaMint-IS_2022-01-17-20.seg3.1</td>\n",
       "      <td>ParlaMint-IS_2022-01-17-20.u1</td>\n",
       "      <td>I have decided, according to the proposal of t...</td>\n",
       "    </tr>\n",
       "    <tr>\n",
       "      <th>2</th>\n",
       "      <td>ParlaMint-IS_2022-01-17-20.seg4.1</td>\n",
       "      <td>ParlaMint-IS_2022-01-17-20.u1</td>\n",
       "      <td>Arrange sites, January 11th, 2022.</td>\n",
       "    </tr>\n",
       "    <tr>\n",
       "      <th>3</th>\n",
       "      <td>ParlaMint-IS_2022-01-17-20.seg6.1</td>\n",
       "      <td>ParlaMint-IS_2022-01-17-20.u1</td>\n",
       "      <td>Katrín Jakobsdóttir's daughter.</td>\n",
       "    </tr>\n",
       "    <tr>\n",
       "      <th>4</th>\n",
       "      <td>ParlaMint-IS_2022-01-17-20.seg7.1</td>\n",
       "      <td>ParlaMint-IS_2022-01-17-20.u1</td>\n",
       "      <td>Presidential Letters for a meeting of the Gene...</td>\n",
       "    </tr>\n",
       "    <tr>\n",
       "      <th>...</th>\n",
       "      <td>...</td>\n",
       "      <td>...</td>\n",
       "      <td>...</td>\n",
       "    </tr>\n",
       "    <tr>\n",
       "      <th>160540</th>\n",
       "      <td>ParlaMint-IT_2022-09-20-LEG18-Senato-sed-465.a...</td>\n",
       "      <td>ParlaMint-IT_2022-09-20-LEG18-Senato-sed-465.a...</td>\n",
       "      <td>I would say that we can consider the work of t...</td>\n",
       "    </tr>\n",
       "    <tr>\n",
       "      <th>160541</th>\n",
       "      <td>ParlaMint-IT_2022-09-20-LEG18-Senato-sed-465.a...</td>\n",
       "      <td>ParlaMint-IT_2022-09-20-LEG18-Senato-sed-465.a...</td>\n",
       "      <td>Of course, all good intentions about Parliamen...</td>\n",
       "    </tr>\n",
       "    <tr>\n",
       "      <th>160542</th>\n",
       "      <td>ParlaMint-IT_2022-09-20-LEG18-Senato-sed-465.a...</td>\n",
       "      <td>ParlaMint-IT_2022-09-20-LEG18-Senato-sed-465.a...</td>\n",
       "      <td>The motions, questions and questions received ...</td>\n",
       "    </tr>\n",
       "    <tr>\n",
       "      <th>160543</th>\n",
       "      <td>ParlaMint-IT_2022-09-20-LEG18-Senato-sed-465.a...</td>\n",
       "      <td>ParlaMint-IT_2022-09-20-LEG18-Senato-sed-465.a...</td>\n",
       "      <td>The Senate is summoned to the house.</td>\n",
       "    </tr>\n",
       "    <tr>\n",
       "      <th>160544</th>\n",
       "      <td>ParlaMint-IT_2022-09-20-LEG18-Senato-sed-465.a...</td>\n",
       "      <td>ParlaMint-IT_2022-09-20-LEG18-Senato-sed-465.a...</td>\n",
       "      <td>The sitting was closed at 16.48 p.m.</td>\n",
       "    </tr>\n",
       "  </tbody>\n",
       "</table>\n",
       "<p>160545 rows × 3 columns</p>\n",
       "</div>"
      ]
     },
     "execution_count": 2,
     "metadata": {},
     "output_type": "execute_result"
    }
   ],
   "execution_count": 2
  },
  {
   "metadata": {
    "ExecuteTime": {
     "end_time": "2025-09-01T09:55:08.164337Z",
     "start_time": "2025-09-01T09:55:08.144980Z"
    }
   },
   "cell_type": "code",
   "source": [
    "sample_utterance = df_parlamint[df_parlamint[\"Parent_ID\"] == \"ParlaMint-IS_2022-01-17-20.u1\"][\"Text\"].to_list()\n",
    "sample_utterance"
   ],
   "id": "51a24254f4cbb213",
   "outputs": [
    {
     "data": {
      "text/plain": [
       "['President of the United States reports:',\n",
       " 'I have decided, according to the proposal of the prime minister, that the Council should meet for an extended meeting on Monday, January 17, 2022 p.m. 3:00.',\n",
       " 'Arrange sites, January 11th, 2022.',\n",
       " \"Katrín Jakobsdóttir's daughter.\",\n",
       " 'Presidential Letters for a meeting of the General Assembly for a subsequent meeting on January 17, 2022',\n",
       " \"I'd like to use this opportunity here after reading this letter and offer the highest. President and w. Senators welcome to New Year's Parliamentary Conferences.\"]"
      ]
     },
     "execution_count": 3,
     "metadata": {},
     "output_type": "execute_result"
    }
   ],
   "execution_count": 3
  },
  {
   "metadata": {
    "ExecuteTime": {
     "end_time": "2025-09-01T09:56:25.162078Z",
     "start_time": "2025-09-01T09:56:21.880068Z"
    }
   },
   "cell_type": "code",
   "source": [
    "model = SentenceTransformer('paraphrase-multilingual-MiniLM-L12-v2')\n",
    "# model = SentenceTransformer('all-minilm-l6-v2')"
   ],
   "id": "d9e0476e76fe68af",
   "outputs": [],
   "execution_count": 12
  },
  {
   "metadata": {
    "ExecuteTime": {
     "end_time": "2025-09-01T09:56:31.822372Z",
     "start_time": "2025-09-01T09:56:31.803017Z"
    }
   },
   "cell_type": "code",
   "source": [
    "sample_utterance_embeddings = model.encode(sample_utterance, show_progress_bar=True)\n",
    "sample_utterance_embeddings"
   ],
   "id": "254e7d33776d2bbc",
   "outputs": [
    {
     "name": "stderr",
     "output_type": "stream",
     "text": [
      "Batches: 100%|██████████| 1/1 [00:00<00:00, 113.48it/s]\n"
     ]
    },
    {
     "data": {
      "text/plain": [
       "array([[ 0.00364317,  0.00757531, -0.01352414, ..., -0.01752406,\n",
       "         0.00990045,  0.06021777],\n",
       "       [-0.04760472, -0.06898866,  0.02710492, ..., -0.06230191,\n",
       "        -0.1438545 ,  0.03971656],\n",
       "       [-0.01698012, -0.04804515, -0.01744972, ..., -0.0390581 ,\n",
       "        -0.07595797,  0.00352386],\n",
       "       [-0.08331401, -0.04858722,  0.00143908, ...,  0.03839726,\n",
       "         0.06088392, -0.01607142],\n",
       "       [-0.0762682 , -0.0652778 ,  0.06610002, ...,  0.02295847,\n",
       "        -0.10826013, -0.06591921],\n",
       "       [ 0.01009848, -0.04537032,  0.0456478 , ..., -0.00065688,\n",
       "        -0.08547055, -0.00425586]], shape=(6, 384), dtype=float32)"
      ]
     },
     "execution_count": 14,
     "metadata": {},
     "output_type": "execute_result"
    }
   ],
   "execution_count": 14
  },
  {
   "metadata": {},
   "cell_type": "code",
   "outputs": [],
   "execution_count": null,
   "source": "bt = BERTopic()",
   "id": "337e431af291a970"
  }
 ],
 "metadata": {
  "kernelspec": {
   "display_name": "Python 3",
   "language": "python",
   "name": "python3"
  },
  "language_info": {
   "codemirror_mode": {
    "name": "ipython",
    "version": 2
   },
   "file_extension": ".py",
   "mimetype": "text/x-python",
   "name": "python",
   "nbconvert_exporter": "python",
   "pygments_lexer": "ipython2",
   "version": "2.7.6"
  }
 },
 "nbformat": 4,
 "nbformat_minor": 5
}
