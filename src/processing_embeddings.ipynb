{
 "cells": [
  {
   "cell_type": "code",
   "id": "initial_id",
   "metadata": {
    "collapsed": true,
    "ExecuteTime": {
     "end_time": "2025-09-01T11:24:56.237747Z",
     "start_time": "2025-09-01T11:24:56.233845Z"
    }
   },
   "source": [
    "import pandas as pd\n",
    "from sentence_transformers import SentenceTransformer\n",
    "from tqdm import tqdm\n",
    "from models.models import TfIdfEmbedder, CountVectorizerEmbedder\n",
    "\n",
    "tqdm.pandas()"
   ],
   "outputs": [],
   "execution_count": 2
  },
  {
   "metadata": {
    "ExecuteTime": {
     "end_time": "2025-09-01T11:24:58.978372Z",
     "start_time": "2025-09-01T11:24:58.611431Z"
    }
   },
   "cell_type": "code",
   "source": [
    "df_parlamint = pd.read_csv(\"../materials/parlamint/parlamint-it-is-2022.txt\", sep=\"\\t\")\n",
    "df_parlamint_subset = df_parlamint.head(1000).copy(deep=True)\n",
    "df_parlamint"
   ],
   "id": "9fd73590ae11aa8d",
   "outputs": [
    {
     "data": {
      "text/plain": [
       "                                                       ID  \\\n",
       "0                       ParlaMint-IS_2022-01-17-20.seg2.1   \n",
       "1                       ParlaMint-IS_2022-01-17-20.seg3.1   \n",
       "2                       ParlaMint-IS_2022-01-17-20.seg4.1   \n",
       "3                       ParlaMint-IS_2022-01-17-20.seg6.1   \n",
       "4                       ParlaMint-IS_2022-01-17-20.seg7.1   \n",
       "...                                                   ...   \n",
       "160540  ParlaMint-IT_2022-09-20-LEG18-Senato-sed-465.a...   \n",
       "160541  ParlaMint-IT_2022-09-20-LEG18-Senato-sed-465.a...   \n",
       "160542  ParlaMint-IT_2022-09-20-LEG18-Senato-sed-465.a...   \n",
       "160543  ParlaMint-IT_2022-09-20-LEG18-Senato-sed-465.a...   \n",
       "160544  ParlaMint-IT_2022-09-20-LEG18-Senato-sed-465.a...   \n",
       "\n",
       "                                                Parent_ID  \\\n",
       "0                           ParlaMint-IS_2022-01-17-20.u1   \n",
       "1                           ParlaMint-IS_2022-01-17-20.u1   \n",
       "2                           ParlaMint-IS_2022-01-17-20.u1   \n",
       "3                           ParlaMint-IS_2022-01-17-20.u1   \n",
       "4                           ParlaMint-IS_2022-01-17-20.u1   \n",
       "...                                                   ...   \n",
       "160540  ParlaMint-IT_2022-09-20-LEG18-Senato-sed-465.a...   \n",
       "160541  ParlaMint-IT_2022-09-20-LEG18-Senato-sed-465.a...   \n",
       "160542  ParlaMint-IT_2022-09-20-LEG18-Senato-sed-465.a...   \n",
       "160543  ParlaMint-IT_2022-09-20-LEG18-Senato-sed-465.a...   \n",
       "160544  ParlaMint-IT_2022-09-20-LEG18-Senato-sed-465.a...   \n",
       "\n",
       "                                                     Text  \n",
       "0                 President of the United States reports:  \n",
       "1       I have decided, according to the proposal of t...  \n",
       "2                      Arrange sites, January 11th, 2022.  \n",
       "3                         Katrín Jakobsdóttir's daughter.  \n",
       "4       Presidential Letters for a meeting of the Gene...  \n",
       "...                                                   ...  \n",
       "160540  I would say that we can consider the work of t...  \n",
       "160541  Of course, all good intentions about Parliamen...  \n",
       "160542  The motions, questions and questions received ...  \n",
       "160543               The Senate is summoned to the house.  \n",
       "160544               The sitting was closed at 16.48 p.m.  \n",
       "\n",
       "[160545 rows x 3 columns]"
      ],
      "text/html": [
       "<div>\n",
       "<style scoped>\n",
       "    .dataframe tbody tr th:only-of-type {\n",
       "        vertical-align: middle;\n",
       "    }\n",
       "\n",
       "    .dataframe tbody tr th {\n",
       "        vertical-align: top;\n",
       "    }\n",
       "\n",
       "    .dataframe thead th {\n",
       "        text-align: right;\n",
       "    }\n",
       "</style>\n",
       "<table border=\"1\" class=\"dataframe\">\n",
       "  <thead>\n",
       "    <tr style=\"text-align: right;\">\n",
       "      <th></th>\n",
       "      <th>ID</th>\n",
       "      <th>Parent_ID</th>\n",
       "      <th>Text</th>\n",
       "    </tr>\n",
       "  </thead>\n",
       "  <tbody>\n",
       "    <tr>\n",
       "      <th>0</th>\n",
       "      <td>ParlaMint-IS_2022-01-17-20.seg2.1</td>\n",
       "      <td>ParlaMint-IS_2022-01-17-20.u1</td>\n",
       "      <td>President of the United States reports:</td>\n",
       "    </tr>\n",
       "    <tr>\n",
       "      <th>1</th>\n",
       "      <td>ParlaMint-IS_2022-01-17-20.seg3.1</td>\n",
       "      <td>ParlaMint-IS_2022-01-17-20.u1</td>\n",
       "      <td>I have decided, according to the proposal of t...</td>\n",
       "    </tr>\n",
       "    <tr>\n",
       "      <th>2</th>\n",
       "      <td>ParlaMint-IS_2022-01-17-20.seg4.1</td>\n",
       "      <td>ParlaMint-IS_2022-01-17-20.u1</td>\n",
       "      <td>Arrange sites, January 11th, 2022.</td>\n",
       "    </tr>\n",
       "    <tr>\n",
       "      <th>3</th>\n",
       "      <td>ParlaMint-IS_2022-01-17-20.seg6.1</td>\n",
       "      <td>ParlaMint-IS_2022-01-17-20.u1</td>\n",
       "      <td>Katrín Jakobsdóttir's daughter.</td>\n",
       "    </tr>\n",
       "    <tr>\n",
       "      <th>4</th>\n",
       "      <td>ParlaMint-IS_2022-01-17-20.seg7.1</td>\n",
       "      <td>ParlaMint-IS_2022-01-17-20.u1</td>\n",
       "      <td>Presidential Letters for a meeting of the Gene...</td>\n",
       "    </tr>\n",
       "    <tr>\n",
       "      <th>...</th>\n",
       "      <td>...</td>\n",
       "      <td>...</td>\n",
       "      <td>...</td>\n",
       "    </tr>\n",
       "    <tr>\n",
       "      <th>160540</th>\n",
       "      <td>ParlaMint-IT_2022-09-20-LEG18-Senato-sed-465.a...</td>\n",
       "      <td>ParlaMint-IT_2022-09-20-LEG18-Senato-sed-465.a...</td>\n",
       "      <td>I would say that we can consider the work of t...</td>\n",
       "    </tr>\n",
       "    <tr>\n",
       "      <th>160541</th>\n",
       "      <td>ParlaMint-IT_2022-09-20-LEG18-Senato-sed-465.a...</td>\n",
       "      <td>ParlaMint-IT_2022-09-20-LEG18-Senato-sed-465.a...</td>\n",
       "      <td>Of course, all good intentions about Parliamen...</td>\n",
       "    </tr>\n",
       "    <tr>\n",
       "      <th>160542</th>\n",
       "      <td>ParlaMint-IT_2022-09-20-LEG18-Senato-sed-465.a...</td>\n",
       "      <td>ParlaMint-IT_2022-09-20-LEG18-Senato-sed-465.a...</td>\n",
       "      <td>The motions, questions and questions received ...</td>\n",
       "    </tr>\n",
       "    <tr>\n",
       "      <th>160543</th>\n",
       "      <td>ParlaMint-IT_2022-09-20-LEG18-Senato-sed-465.a...</td>\n",
       "      <td>ParlaMint-IT_2022-09-20-LEG18-Senato-sed-465.a...</td>\n",
       "      <td>The Senate is summoned to the house.</td>\n",
       "    </tr>\n",
       "    <tr>\n",
       "      <th>160544</th>\n",
       "      <td>ParlaMint-IT_2022-09-20-LEG18-Senato-sed-465.a...</td>\n",
       "      <td>ParlaMint-IT_2022-09-20-LEG18-Senato-sed-465.a...</td>\n",
       "      <td>The sitting was closed at 16.48 p.m.</td>\n",
       "    </tr>\n",
       "  </tbody>\n",
       "</table>\n",
       "<p>160545 rows × 3 columns</p>\n",
       "</div>"
      ]
     },
     "execution_count": 3,
     "metadata": {},
     "output_type": "execute_result"
    }
   ],
   "execution_count": 3
  },
  {
   "metadata": {
    "ExecuteTime": {
     "end_time": "2025-09-01T11:25:05.748710Z",
     "start_time": "2025-09-01T11:25:05.729987Z"
    }
   },
   "cell_type": "code",
   "source": [
    "sample_utterance = df_parlamint[df_parlamint[\"Parent_ID\"] == \"ParlaMint-IS_2022-01-17-20.u1\"][\"Text\"].to_list()\n",
    "sample_utterance"
   ],
   "id": "51a24254f4cbb213",
   "outputs": [
    {
     "data": {
      "text/plain": [
       "['President of the United States reports:',\n",
       " 'I have decided, according to the proposal of the prime minister, that the Council should meet for an extended meeting on Monday, January 17, 2022 p.m. 3:00.',\n",
       " 'Arrange sites, January 11th, 2022.',\n",
       " \"Katrín Jakobsdóttir's daughter.\",\n",
       " 'Presidential Letters for a meeting of the General Assembly for a subsequent meeting on January 17, 2022',\n",
       " \"I'd like to use this opportunity here after reading this letter and offer the highest. President and w. Senators welcome to New Year's Parliamentary Conferences.\"]"
      ]
     },
     "execution_count": 5,
     "metadata": {},
     "output_type": "execute_result"
    }
   ],
   "execution_count": 5
  },
  {
   "metadata": {
    "ExecuteTime": {
     "end_time": "2025-09-01T09:56:25.162078Z",
     "start_time": "2025-09-01T09:56:21.880068Z"
    }
   },
   "cell_type": "code",
   "source": [
    "model = SentenceTransformer('paraphrase-multilingual-MiniLM-L12-v2')\n",
    "# model = SentenceTransformer('all-minilm-l6-v2')"
   ],
   "id": "d9e0476e76fe68af",
   "outputs": [],
   "execution_count": 12
  },
  {
   "metadata": {
    "ExecuteTime": {
     "end_time": "2025-09-01T09:56:31.822372Z",
     "start_time": "2025-09-01T09:56:31.803017Z"
    }
   },
   "cell_type": "code",
   "source": [
    "sample_utterance_embeddings = model.encode(sample_utterance, show_progress_bar=True)\n",
    "sample_utterance_embeddings"
   ],
   "id": "254e7d33776d2bbc",
   "outputs": [
    {
     "name": "stderr",
     "output_type": "stream",
     "text": [
      "Batches: 100%|██████████| 1/1 [00:00<00:00, 113.48it/s]\n"
     ]
    },
    {
     "data": {
      "text/plain": [
       "array([[ 0.00364317,  0.00757531, -0.01352414, ..., -0.01752406,\n",
       "         0.00990045,  0.06021777],\n",
       "       [-0.04760472, -0.06898866,  0.02710492, ..., -0.06230191,\n",
       "        -0.1438545 ,  0.03971656],\n",
       "       [-0.01698012, -0.04804515, -0.01744972, ..., -0.0390581 ,\n",
       "        -0.07595797,  0.00352386],\n",
       "       [-0.08331401, -0.04858722,  0.00143908, ...,  0.03839726,\n",
       "         0.06088392, -0.01607142],\n",
       "       [-0.0762682 , -0.0652778 ,  0.06610002, ...,  0.02295847,\n",
       "        -0.10826013, -0.06591921],\n",
       "       [ 0.01009848, -0.04537032,  0.0456478 , ..., -0.00065688,\n",
       "        -0.08547055, -0.00425586]], shape=(6, 384), dtype=float32)"
      ]
     },
     "execution_count": 14,
     "metadata": {},
     "output_type": "execute_result"
    }
   ],
   "execution_count": 14
  },
  {
   "metadata": {
    "ExecuteTime": {
     "end_time": "2025-09-01T11:25:08.902855Z",
     "start_time": "2025-09-01T11:25:08.873084Z"
    }
   },
   "cell_type": "code",
   "source": "tfidf_model = TfIdfEmbedder(vocabulary=df_parlamint_subset[\"Text\"].to_list(), min_df=1, stop_words='english')",
   "id": "1f4ff0f25de07f55",
   "outputs": [],
   "execution_count": 6
  },
  {
   "metadata": {
    "ExecuteTime": {
     "end_time": "2025-09-01T11:25:14.497841Z",
     "start_time": "2025-09-01T11:25:14.490335Z"
    }
   },
   "cell_type": "code",
   "source": [
    "sample_utterance_embeddings = tfidf_model.embed(sample_utterance)\n",
    "print(tfidf_model.embedding_model.get_feature_names_out())\n",
    "sample_utterance_embeddings.toarray()"
   ],
   "id": "5f51220985e2849f",
   "outputs": [
    {
     "name": "stdout",
     "output_type": "stream",
     "text": [
      "['00' '000' '000k' ... 'ólason' 'þórsdóttir' 'þórunn']\n"
     ]
    },
    {
     "data": {
      "text/plain": [
       "array([[0.        , 0.        , 0.        , ..., 0.        , 0.        ,\n",
       "        0.        ],\n",
       "       [0.35023074, 0.        , 0.        , ..., 0.        , 0.        ,\n",
       "        0.        ],\n",
       "       [0.        , 0.        , 0.        , ..., 0.        , 0.        ,\n",
       "        0.        ],\n",
       "       [0.        , 0.        , 0.        , ..., 0.        , 0.        ,\n",
       "        0.        ],\n",
       "       [0.        , 0.        , 0.        , ..., 0.        , 0.        ,\n",
       "        0.        ],\n",
       "       [0.        , 0.        , 0.        , ..., 0.        , 0.        ,\n",
       "        0.        ]], shape=(6, 2666))"
      ]
     },
     "execution_count": 7,
     "metadata": {},
     "output_type": "execute_result"
    }
   ],
   "execution_count": 7
  },
  {
   "metadata": {
    "ExecuteTime": {
     "end_time": "2025-09-01T11:27:13.095044Z",
     "start_time": "2025-09-01T11:27:13.051278Z"
    }
   },
   "cell_type": "code",
   "source": "cv_model = CountVectorizerEmbedder(vocabulary=df_parlamint_subset[\"Text\"].to_list(), min_df=5, n_gram_range=(1, 3))",
   "id": "80bbb1f798d9517e",
   "outputs": [],
   "execution_count": 11
  },
  {
   "metadata": {},
   "cell_type": "code",
   "source": [
    "sample_utterance_embeddings = cv_model.embed(sample_utterance)\n",
    "print(cv_model.embedding_model.get_feature_names_out())\n",
    "sample_utterance_embeddings.toarray()"
   ],
   "id": "ff2e099a01c69be7",
   "outputs": [
    {
     "name": "stdout",
     "output_type": "stream",
     "text": [
      "['000' '15' '17' ... 'you senator' 'you very' 'you very much']\n"
     ]
    },
    {
     "data": {
      "text/plain": [
       "array([[0, 0, 0, ..., 0, 0, 0],\n",
       "       [0, 0, 1, ..., 0, 0, 0],\n",
       "       [0, 0, 0, ..., 0, 0, 0],\n",
       "       [0, 0, 0, ..., 0, 0, 0],\n",
       "       [0, 0, 1, ..., 0, 0, 0],\n",
       "       [0, 0, 0, ..., 0, 0, 0]], shape=(6, 1380))"
      ]
     },
     "execution_count": 12,
     "metadata": {},
     "output_type": "execute_result"
    }
   ],
   "execution_count": 12
  },
  {
   "metadata": {
    "ExecuteTime": {
     "end_time": "2025-09-01T10:40:12.406209Z",
     "start_time": "2025-09-01T10:29:37.007014Z"
    }
   },
   "cell_type": "code",
   "source": [
    "def _apply_embeddings(row):\n",
    "    sentence_embedding = model.encode(row[\"Text\"], show_progress_bar=False)\n",
    "    return sentence_embedding\n",
    "\n",
    "# df_parlamint_subset[\"embedding\"] = df_parlamint_subset.progress_apply(lambda e: _apply_embeddings(e), axis=1)\n",
    "df_parlamint[\"embedding\"] = df_parlamint.progress_apply(lambda e: _apply_embeddings(e), axis=1)"
   ],
   "id": "efba2a3cfc691359",
   "outputs": [
    {
     "name": "stderr",
     "output_type": "stream",
     "text": [
      "100%|██████████| 160545/160545 [10:35<00:00, 252.67it/s]\n"
     ]
    }
   ],
   "execution_count": 31
  },
  {
   "metadata": {
    "ExecuteTime": {
     "end_time": "2025-09-01T10:19:42.956824Z",
     "start_time": "2025-09-01T10:19:42.951423Z"
    }
   },
   "cell_type": "code",
   "source": "df_parlamint_subset.iloc[1]",
   "id": "56408fe24aed734",
   "outputs": [
    {
     "data": {
      "text/plain": [
       "ID                           ParlaMint-IS_2022-01-17-20.seg3.1\n",
       "Parent_ID                        ParlaMint-IS_2022-01-17-20.u1\n",
       "Text         I have decided, according to the proposal of t...\n",
       "embedding    [-0.04760472, -0.068988696, 0.02710493, 0.0427...\n",
       "Name: 1, dtype: object"
      ]
     },
     "execution_count": 27,
     "metadata": {},
     "output_type": "execute_result"
    }
   ],
   "execution_count": 27
  },
  {
   "metadata": {
    "ExecuteTime": {
     "end_time": "2025-09-01T10:45:03.447348Z",
     "start_time": "2025-09-01T10:45:01.972650Z"
    }
   },
   "cell_type": "code",
   "source": [
    "# df_parlamint_subset.to_pickle(\"sample.pkl\")\n",
    "df_parlamint.to_pickle(\"df_parlamint.pkl\")"
   ],
   "id": "8042fde193e41279",
   "outputs": [],
   "execution_count": 34
  },
  {
   "metadata": {
    "ExecuteTime": {
     "end_time": "2025-09-01T10:28:26.546722Z",
     "start_time": "2025-09-01T10:28:26.520633Z"
    }
   },
   "cell_type": "code",
   "source": [
    "df_read = pd.read_pickle(\"sample.pkl\")\n",
    "df_read"
   ],
   "id": "a8c9dadbeeb7b9a8",
   "outputs": [
    {
     "data": {
      "text/plain": [
       "                                      ID                       Parent_ID  \\\n",
       "0      ParlaMint-IS_2022-01-17-20.seg2.1   ParlaMint-IS_2022-01-17-20.u1   \n",
       "1      ParlaMint-IS_2022-01-17-20.seg3.1   ParlaMint-IS_2022-01-17-20.u1   \n",
       "2      ParlaMint-IS_2022-01-17-20.seg4.1   ParlaMint-IS_2022-01-17-20.u1   \n",
       "3      ParlaMint-IS_2022-01-17-20.seg6.1   ParlaMint-IS_2022-01-17-20.u1   \n",
       "4      ParlaMint-IS_2022-01-17-20.seg7.1   ParlaMint-IS_2022-01-17-20.u1   \n",
       "..                                   ...                             ...   \n",
       "995   ParlaMint-IS_2022-01-18-23.seg35.9  ParlaMint-IS_2022-01-18-23.u16   \n",
       "996  ParlaMint-IS_2022-01-18-23.seg35.10  ParlaMint-IS_2022-01-18-23.u16   \n",
       "997  ParlaMint-IS_2022-01-18-23.seg35.11  ParlaMint-IS_2022-01-18-23.u16   \n",
       "998  ParlaMint-IS_2022-01-18-23.seg35.12  ParlaMint-IS_2022-01-18-23.u16   \n",
       "999   ParlaMint-IS_2022-01-18-23.seg36.2  ParlaMint-IS_2022-01-18-23.u16   \n",
       "\n",
       "                                                  Text  \\\n",
       "0              President of the United States reports:   \n",
       "1    I have decided, according to the proposal of t...   \n",
       "2                   Arrange sites, January 11th, 2022.   \n",
       "3                      Katrín Jakobsdóttir's daughter.   \n",
       "4    Presidential Letters for a meeting of the Gene...   \n",
       "..                                                 ...   \n",
       "995  Not only is there an increase in the pay of he...   \n",
       "996  Improvements are urgent so that health care pr...   \n",
       "997  There are ways to increase the number of stude...   \n",
       "998  The health system will not be improved unless ...   \n",
       "999  The health-care providers of the country point...   \n",
       "\n",
       "                                             embedding  \n",
       "0    [0.0036431686, 0.0075752586, -0.0135241775, 0....  \n",
       "1    [-0.04760472, -0.068988696, 0.02710493, 0.0427...  \n",
       "2    [-0.016980091, -0.04804512, -0.017449707, 0.01...  \n",
       "3    [-0.083313994, -0.04858721, 0.0014390834, -0.0...  \n",
       "4    [-0.07626818, -0.06527784, 0.0661, 0.010715253...  \n",
       "..                                                 ...  \n",
       "995  [-0.041002072, 0.0683856, 0.042150404, 0.06849...  \n",
       "996  [0.0063565983, 0.0662494, 0.083550535, -0.0025...  \n",
       "997  [0.01226466, 0.026052875, 0.054193206, 0.00240...  \n",
       "998  [-0.006773294, 0.057199407, 0.014007235, -0.03...  \n",
       "999  [0.079477444, 0.012366553, 0.05181337, 0.05045...  \n",
       "\n",
       "[1000 rows x 4 columns]"
      ],
      "text/html": [
       "<div>\n",
       "<style scoped>\n",
       "    .dataframe tbody tr th:only-of-type {\n",
       "        vertical-align: middle;\n",
       "    }\n",
       "\n",
       "    .dataframe tbody tr th {\n",
       "        vertical-align: top;\n",
       "    }\n",
       "\n",
       "    .dataframe thead th {\n",
       "        text-align: right;\n",
       "    }\n",
       "</style>\n",
       "<table border=\"1\" class=\"dataframe\">\n",
       "  <thead>\n",
       "    <tr style=\"text-align: right;\">\n",
       "      <th></th>\n",
       "      <th>ID</th>\n",
       "      <th>Parent_ID</th>\n",
       "      <th>Text</th>\n",
       "      <th>embedding</th>\n",
       "    </tr>\n",
       "  </thead>\n",
       "  <tbody>\n",
       "    <tr>\n",
       "      <th>0</th>\n",
       "      <td>ParlaMint-IS_2022-01-17-20.seg2.1</td>\n",
       "      <td>ParlaMint-IS_2022-01-17-20.u1</td>\n",
       "      <td>President of the United States reports:</td>\n",
       "      <td>[0.0036431686, 0.0075752586, -0.0135241775, 0....</td>\n",
       "    </tr>\n",
       "    <tr>\n",
       "      <th>1</th>\n",
       "      <td>ParlaMint-IS_2022-01-17-20.seg3.1</td>\n",
       "      <td>ParlaMint-IS_2022-01-17-20.u1</td>\n",
       "      <td>I have decided, according to the proposal of t...</td>\n",
       "      <td>[-0.04760472, -0.068988696, 0.02710493, 0.0427...</td>\n",
       "    </tr>\n",
       "    <tr>\n",
       "      <th>2</th>\n",
       "      <td>ParlaMint-IS_2022-01-17-20.seg4.1</td>\n",
       "      <td>ParlaMint-IS_2022-01-17-20.u1</td>\n",
       "      <td>Arrange sites, January 11th, 2022.</td>\n",
       "      <td>[-0.016980091, -0.04804512, -0.017449707, 0.01...</td>\n",
       "    </tr>\n",
       "    <tr>\n",
       "      <th>3</th>\n",
       "      <td>ParlaMint-IS_2022-01-17-20.seg6.1</td>\n",
       "      <td>ParlaMint-IS_2022-01-17-20.u1</td>\n",
       "      <td>Katrín Jakobsdóttir's daughter.</td>\n",
       "      <td>[-0.083313994, -0.04858721, 0.0014390834, -0.0...</td>\n",
       "    </tr>\n",
       "    <tr>\n",
       "      <th>4</th>\n",
       "      <td>ParlaMint-IS_2022-01-17-20.seg7.1</td>\n",
       "      <td>ParlaMint-IS_2022-01-17-20.u1</td>\n",
       "      <td>Presidential Letters for a meeting of the Gene...</td>\n",
       "      <td>[-0.07626818, -0.06527784, 0.0661, 0.010715253...</td>\n",
       "    </tr>\n",
       "    <tr>\n",
       "      <th>...</th>\n",
       "      <td>...</td>\n",
       "      <td>...</td>\n",
       "      <td>...</td>\n",
       "      <td>...</td>\n",
       "    </tr>\n",
       "    <tr>\n",
       "      <th>995</th>\n",
       "      <td>ParlaMint-IS_2022-01-18-23.seg35.9</td>\n",
       "      <td>ParlaMint-IS_2022-01-18-23.u16</td>\n",
       "      <td>Not only is there an increase in the pay of he...</td>\n",
       "      <td>[-0.041002072, 0.0683856, 0.042150404, 0.06849...</td>\n",
       "    </tr>\n",
       "    <tr>\n",
       "      <th>996</th>\n",
       "      <td>ParlaMint-IS_2022-01-18-23.seg35.10</td>\n",
       "      <td>ParlaMint-IS_2022-01-18-23.u16</td>\n",
       "      <td>Improvements are urgent so that health care pr...</td>\n",
       "      <td>[0.0063565983, 0.0662494, 0.083550535, -0.0025...</td>\n",
       "    </tr>\n",
       "    <tr>\n",
       "      <th>997</th>\n",
       "      <td>ParlaMint-IS_2022-01-18-23.seg35.11</td>\n",
       "      <td>ParlaMint-IS_2022-01-18-23.u16</td>\n",
       "      <td>There are ways to increase the number of stude...</td>\n",
       "      <td>[0.01226466, 0.026052875, 0.054193206, 0.00240...</td>\n",
       "    </tr>\n",
       "    <tr>\n",
       "      <th>998</th>\n",
       "      <td>ParlaMint-IS_2022-01-18-23.seg35.12</td>\n",
       "      <td>ParlaMint-IS_2022-01-18-23.u16</td>\n",
       "      <td>The health system will not be improved unless ...</td>\n",
       "      <td>[-0.006773294, 0.057199407, 0.014007235, -0.03...</td>\n",
       "    </tr>\n",
       "    <tr>\n",
       "      <th>999</th>\n",
       "      <td>ParlaMint-IS_2022-01-18-23.seg36.2</td>\n",
       "      <td>ParlaMint-IS_2022-01-18-23.u16</td>\n",
       "      <td>The health-care providers of the country point...</td>\n",
       "      <td>[0.079477444, 0.012366553, 0.05181337, 0.05045...</td>\n",
       "    </tr>\n",
       "  </tbody>\n",
       "</table>\n",
       "<p>1000 rows × 4 columns</p>\n",
       "</div>"
      ]
     },
     "execution_count": 29,
     "metadata": {},
     "output_type": "execute_result"
    }
   ],
   "execution_count": 29
  }
 ],
 "metadata": {
  "kernelspec": {
   "display_name": "Python 3",
   "language": "python",
   "name": "python3"
  },
  "language_info": {
   "codemirror_mode": {
    "name": "ipython",
    "version": 2
   },
   "file_extension": ".py",
   "mimetype": "text/x-python",
   "name": "python",
   "nbconvert_exporter": "python",
   "pygments_lexer": "ipython2",
   "version": "2.7.6"
  }
 },
 "nbformat": 4,
 "nbformat_minor": 5
}
