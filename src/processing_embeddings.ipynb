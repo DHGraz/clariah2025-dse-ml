{
 "cells": [
  {
   "cell_type": "code",
   "id": "initial_id",
   "metadata": {
    "collapsed": true,
    "ExecuteTime": {
     "end_time": "2025-09-01T13:43:57.753289Z",
     "start_time": "2025-09-01T13:43:51.480379Z"
    }
   },
   "source": [
    "import pandas as pd\n",
    "from sentence_transformers import SentenceTransformer\n",
    "from tqdm import tqdm\n",
    "from models.models import TfIdfEmbedder, CountVectorizerEmbedder\n",
    "\n",
    "import pyarrow as pa\n",
    "import pyarrow.parquet as pq\n",
    "\n",
    "tqdm.pandas()"
   ],
   "outputs": [
    {
     "name": "stderr",
     "output_type": "stream",
     "text": [
      "/home/mijantscher/PycharmProjects/summerschool2025/clariah2025-dse-ml/.venv/lib/python3.10/site-packages/tqdm/auto.py:21: TqdmWarning: IProgress not found. Please update jupyter and ipywidgets. See https://ipywidgets.readthedocs.io/en/stable/user_install.html\n",
      "  from .autonotebook import tqdm as notebook_tqdm\n"
     ]
    }
   ],
   "execution_count": 1
  },
  {
   "metadata": {
    "ExecuteTime": {
     "end_time": "2025-09-01T13:43:59.819508Z",
     "start_time": "2025-09-01T13:43:59.415829Z"
    }
   },
   "cell_type": "code",
   "source": [
    "# Load parlamint dataset\n",
    "df_parlamint = pd.read_csv(\"../materials/parlamint/parlamint-it-is-2022.txt\", sep=\"\\t\")\n",
    "df_parlamint_subset = df_parlamint.head(1000).copy(deep=True)\n",
    "df_parlamint"
   ],
   "id": "9fd73590ae11aa8d",
   "outputs": [
    {
     "data": {
      "text/plain": [
       "                                                       ID  \\\n",
       "0                       ParlaMint-IS_2022-01-17-20.seg2.1   \n",
       "1                       ParlaMint-IS_2022-01-17-20.seg3.1   \n",
       "2                       ParlaMint-IS_2022-01-17-20.seg4.1   \n",
       "3                       ParlaMint-IS_2022-01-17-20.seg6.1   \n",
       "4                       ParlaMint-IS_2022-01-17-20.seg7.1   \n",
       "...                                                   ...   \n",
       "160540  ParlaMint-IT_2022-09-20-LEG18-Senato-sed-465.a...   \n",
       "160541  ParlaMint-IT_2022-09-20-LEG18-Senato-sed-465.a...   \n",
       "160542  ParlaMint-IT_2022-09-20-LEG18-Senato-sed-465.a...   \n",
       "160543  ParlaMint-IT_2022-09-20-LEG18-Senato-sed-465.a...   \n",
       "160544  ParlaMint-IT_2022-09-20-LEG18-Senato-sed-465.a...   \n",
       "\n",
       "                                                Parent_ID  \\\n",
       "0                           ParlaMint-IS_2022-01-17-20.u1   \n",
       "1                           ParlaMint-IS_2022-01-17-20.u1   \n",
       "2                           ParlaMint-IS_2022-01-17-20.u1   \n",
       "3                           ParlaMint-IS_2022-01-17-20.u1   \n",
       "4                           ParlaMint-IS_2022-01-17-20.u1   \n",
       "...                                                   ...   \n",
       "160540  ParlaMint-IT_2022-09-20-LEG18-Senato-sed-465.a...   \n",
       "160541  ParlaMint-IT_2022-09-20-LEG18-Senato-sed-465.a...   \n",
       "160542  ParlaMint-IT_2022-09-20-LEG18-Senato-sed-465.a...   \n",
       "160543  ParlaMint-IT_2022-09-20-LEG18-Senato-sed-465.a...   \n",
       "160544  ParlaMint-IT_2022-09-20-LEG18-Senato-sed-465.a...   \n",
       "\n",
       "                                                     Text  \n",
       "0                 President of the United States reports:  \n",
       "1       I have decided, according to the proposal of t...  \n",
       "2                      Arrange sites, January 11th, 2022.  \n",
       "3                         Katrín Jakobsdóttir's daughter.  \n",
       "4       Presidential Letters for a meeting of the Gene...  \n",
       "...                                                   ...  \n",
       "160540  I would say that we can consider the work of t...  \n",
       "160541  Of course, all good intentions about Parliamen...  \n",
       "160542  The motions, questions and questions received ...  \n",
       "160543               The Senate is summoned to the house.  \n",
       "160544               The sitting was closed at 16.48 p.m.  \n",
       "\n",
       "[160545 rows x 3 columns]"
      ],
      "text/html": [
       "<div>\n",
       "<style scoped>\n",
       "    .dataframe tbody tr th:only-of-type {\n",
       "        vertical-align: middle;\n",
       "    }\n",
       "\n",
       "    .dataframe tbody tr th {\n",
       "        vertical-align: top;\n",
       "    }\n",
       "\n",
       "    .dataframe thead th {\n",
       "        text-align: right;\n",
       "    }\n",
       "</style>\n",
       "<table border=\"1\" class=\"dataframe\">\n",
       "  <thead>\n",
       "    <tr style=\"text-align: right;\">\n",
       "      <th></th>\n",
       "      <th>ID</th>\n",
       "      <th>Parent_ID</th>\n",
       "      <th>Text</th>\n",
       "    </tr>\n",
       "  </thead>\n",
       "  <tbody>\n",
       "    <tr>\n",
       "      <th>0</th>\n",
       "      <td>ParlaMint-IS_2022-01-17-20.seg2.1</td>\n",
       "      <td>ParlaMint-IS_2022-01-17-20.u1</td>\n",
       "      <td>President of the United States reports:</td>\n",
       "    </tr>\n",
       "    <tr>\n",
       "      <th>1</th>\n",
       "      <td>ParlaMint-IS_2022-01-17-20.seg3.1</td>\n",
       "      <td>ParlaMint-IS_2022-01-17-20.u1</td>\n",
       "      <td>I have decided, according to the proposal of t...</td>\n",
       "    </tr>\n",
       "    <tr>\n",
       "      <th>2</th>\n",
       "      <td>ParlaMint-IS_2022-01-17-20.seg4.1</td>\n",
       "      <td>ParlaMint-IS_2022-01-17-20.u1</td>\n",
       "      <td>Arrange sites, January 11th, 2022.</td>\n",
       "    </tr>\n",
       "    <tr>\n",
       "      <th>3</th>\n",
       "      <td>ParlaMint-IS_2022-01-17-20.seg6.1</td>\n",
       "      <td>ParlaMint-IS_2022-01-17-20.u1</td>\n",
       "      <td>Katrín Jakobsdóttir's daughter.</td>\n",
       "    </tr>\n",
       "    <tr>\n",
       "      <th>4</th>\n",
       "      <td>ParlaMint-IS_2022-01-17-20.seg7.1</td>\n",
       "      <td>ParlaMint-IS_2022-01-17-20.u1</td>\n",
       "      <td>Presidential Letters for a meeting of the Gene...</td>\n",
       "    </tr>\n",
       "    <tr>\n",
       "      <th>...</th>\n",
       "      <td>...</td>\n",
       "      <td>...</td>\n",
       "      <td>...</td>\n",
       "    </tr>\n",
       "    <tr>\n",
       "      <th>160540</th>\n",
       "      <td>ParlaMint-IT_2022-09-20-LEG18-Senato-sed-465.a...</td>\n",
       "      <td>ParlaMint-IT_2022-09-20-LEG18-Senato-sed-465.a...</td>\n",
       "      <td>I would say that we can consider the work of t...</td>\n",
       "    </tr>\n",
       "    <tr>\n",
       "      <th>160541</th>\n",
       "      <td>ParlaMint-IT_2022-09-20-LEG18-Senato-sed-465.a...</td>\n",
       "      <td>ParlaMint-IT_2022-09-20-LEG18-Senato-sed-465.a...</td>\n",
       "      <td>Of course, all good intentions about Parliamen...</td>\n",
       "    </tr>\n",
       "    <tr>\n",
       "      <th>160542</th>\n",
       "      <td>ParlaMint-IT_2022-09-20-LEG18-Senato-sed-465.a...</td>\n",
       "      <td>ParlaMint-IT_2022-09-20-LEG18-Senato-sed-465.a...</td>\n",
       "      <td>The motions, questions and questions received ...</td>\n",
       "    </tr>\n",
       "    <tr>\n",
       "      <th>160543</th>\n",
       "      <td>ParlaMint-IT_2022-09-20-LEG18-Senato-sed-465.a...</td>\n",
       "      <td>ParlaMint-IT_2022-09-20-LEG18-Senato-sed-465.a...</td>\n",
       "      <td>The Senate is summoned to the house.</td>\n",
       "    </tr>\n",
       "    <tr>\n",
       "      <th>160544</th>\n",
       "      <td>ParlaMint-IT_2022-09-20-LEG18-Senato-sed-465.a...</td>\n",
       "      <td>ParlaMint-IT_2022-09-20-LEG18-Senato-sed-465.a...</td>\n",
       "      <td>The sitting was closed at 16.48 p.m.</td>\n",
       "    </tr>\n",
       "  </tbody>\n",
       "</table>\n",
       "<p>160545 rows × 3 columns</p>\n",
       "</div>"
      ]
     },
     "execution_count": 2,
     "metadata": {},
     "output_type": "execute_result"
    }
   ],
   "execution_count": 2
  },
  {
   "metadata": {
    "ExecuteTime": {
     "end_time": "2025-09-01T13:44:01.542326Z",
     "start_time": "2025-09-01T13:44:01.303827Z"
    }
   },
   "cell_type": "code",
   "source": [
    "# Group sentence by utterance (=Parent_ID)\n",
    "df_parlamint_grouped = (df_parlamint.groupby([\"Parent_ID\"])[\"Text\"]\n",
    "                        .apply(lambda s: \" \".join(s))\n",
    "                        .reset_index(name=\"utterance_text\"))\n",
    "df_parlamint_grouped"
   ],
   "id": "3ed97086a09cb227",
   "outputs": [
    {
     "data": {
      "text/plain": [
       "                                               Parent_ID  \\\n",
       "0                          ParlaMint-IS_2022-01-17-20.u1   \n",
       "1                         ParlaMint-IS_2022-01-17-20.u10   \n",
       "2                         ParlaMint-IS_2022-01-17-20.u11   \n",
       "3                         ParlaMint-IS_2022-01-17-20.u12   \n",
       "4                         ParlaMint-IS_2022-01-17-20.u13   \n",
       "...                                                  ...   \n",
       "13799  ParlaMint-IT_2022-09-20-LEG18-Senato-sed-465.a...   \n",
       "13800  ParlaMint-IT_2022-09-20-LEG18-Senato-sed-465.a...   \n",
       "13801  ParlaMint-IT_2022-09-20-LEG18-Senato-sed-465.a...   \n",
       "13802  ParlaMint-IT_2022-09-20-LEG18-Senato-sed-465.a...   \n",
       "13803  ParlaMint-IT_2022-09-20-LEG18-Senato-sed-465.a...   \n",
       "\n",
       "                                          utterance_text  \n",
       "0      President of the United States reports: I have...  \n",
       "1      Before the weekend, an article by Stefánssonar...  \n",
       "2      I read this decision in Perconte, which is not...  \n",
       "3      In fact, this is shown in the letter quoted by...  \n",
       "4      Yes, that's right. That's right. A senator who...  \n",
       "...                                                  ...  \n",
       "13799  Colleagues, Senator Verducci's speech concerns...  \n",
       "13800  Madam President, ladies and gentlemen, I would...  \n",
       "13801  Mr President, in my last speech last Tuesday I...  \n",
       "13802  Mr President, I wish to begin by expressing ou...  \n",
       "13803  Mr President, the Brothers of Italy Group is c...  \n",
       "\n",
       "[13804 rows x 2 columns]"
      ],
      "text/html": [
       "<div>\n",
       "<style scoped>\n",
       "    .dataframe tbody tr th:only-of-type {\n",
       "        vertical-align: middle;\n",
       "    }\n",
       "\n",
       "    .dataframe tbody tr th {\n",
       "        vertical-align: top;\n",
       "    }\n",
       "\n",
       "    .dataframe thead th {\n",
       "        text-align: right;\n",
       "    }\n",
       "</style>\n",
       "<table border=\"1\" class=\"dataframe\">\n",
       "  <thead>\n",
       "    <tr style=\"text-align: right;\">\n",
       "      <th></th>\n",
       "      <th>Parent_ID</th>\n",
       "      <th>utterance_text</th>\n",
       "    </tr>\n",
       "  </thead>\n",
       "  <tbody>\n",
       "    <tr>\n",
       "      <th>0</th>\n",
       "      <td>ParlaMint-IS_2022-01-17-20.u1</td>\n",
       "      <td>President of the United States reports: I have...</td>\n",
       "    </tr>\n",
       "    <tr>\n",
       "      <th>1</th>\n",
       "      <td>ParlaMint-IS_2022-01-17-20.u10</td>\n",
       "      <td>Before the weekend, an article by Stefánssonar...</td>\n",
       "    </tr>\n",
       "    <tr>\n",
       "      <th>2</th>\n",
       "      <td>ParlaMint-IS_2022-01-17-20.u11</td>\n",
       "      <td>I read this decision in Perconte, which is not...</td>\n",
       "    </tr>\n",
       "    <tr>\n",
       "      <th>3</th>\n",
       "      <td>ParlaMint-IS_2022-01-17-20.u12</td>\n",
       "      <td>In fact, this is shown in the letter quoted by...</td>\n",
       "    </tr>\n",
       "    <tr>\n",
       "      <th>4</th>\n",
       "      <td>ParlaMint-IS_2022-01-17-20.u13</td>\n",
       "      <td>Yes, that's right. That's right. A senator who...</td>\n",
       "    </tr>\n",
       "    <tr>\n",
       "      <th>...</th>\n",
       "      <td>...</td>\n",
       "      <td>...</td>\n",
       "    </tr>\n",
       "    <tr>\n",
       "      <th>13799</th>\n",
       "      <td>ParlaMint-IT_2022-09-20-LEG18-Senato-sed-465.a...</td>\n",
       "      <td>Colleagues, Senator Verducci's speech concerns...</td>\n",
       "    </tr>\n",
       "    <tr>\n",
       "      <th>13800</th>\n",
       "      <td>ParlaMint-IT_2022-09-20-LEG18-Senato-sed-465.a...</td>\n",
       "      <td>Madam President, ladies and gentlemen, I would...</td>\n",
       "    </tr>\n",
       "    <tr>\n",
       "      <th>13801</th>\n",
       "      <td>ParlaMint-IT_2022-09-20-LEG18-Senato-sed-465.a...</td>\n",
       "      <td>Mr President, in my last speech last Tuesday I...</td>\n",
       "    </tr>\n",
       "    <tr>\n",
       "      <th>13802</th>\n",
       "      <td>ParlaMint-IT_2022-09-20-LEG18-Senato-sed-465.a...</td>\n",
       "      <td>Mr President, I wish to begin by expressing ou...</td>\n",
       "    </tr>\n",
       "    <tr>\n",
       "      <th>13803</th>\n",
       "      <td>ParlaMint-IT_2022-09-20-LEG18-Senato-sed-465.a...</td>\n",
       "      <td>Mr President, the Brothers of Italy Group is c...</td>\n",
       "    </tr>\n",
       "  </tbody>\n",
       "</table>\n",
       "<p>13804 rows × 2 columns</p>\n",
       "</div>"
      ]
     },
     "execution_count": 3,
     "metadata": {},
     "output_type": "execute_result"
    }
   ],
   "execution_count": 3
  },
  {
   "metadata": {
    "ExecuteTime": {
     "end_time": "2025-09-01T13:44:04.474199Z",
     "start_time": "2025-09-01T13:44:04.454619Z"
    }
   },
   "cell_type": "code",
   "source": [
    "sample_utterance = df_parlamint[df_parlamint[\"Parent_ID\"] == \"ParlaMint-IS_2022-01-17-20.u1\"][\"Text\"]\n",
    "sample_utterance"
   ],
   "id": "51a24254f4cbb213",
   "outputs": [
    {
     "data": {
      "text/plain": [
       "0              President of the United States reports:\n",
       "1    I have decided, according to the proposal of t...\n",
       "2                   Arrange sites, January 11th, 2022.\n",
       "3                      Katrín Jakobsdóttir's daughter.\n",
       "4    Presidential Letters for a meeting of the Gene...\n",
       "5    I'd like to use this opportunity here after re...\n",
       "Name: Text, dtype: object"
      ]
     },
     "execution_count": 4,
     "metadata": {},
     "output_type": "execute_result"
    }
   ],
   "execution_count": 4
  },
  {
   "metadata": {
    "ExecuteTime": {
     "end_time": "2025-09-01T13:44:19.325376Z",
     "start_time": "2025-09-01T13:44:05.877651Z"
    }
   },
   "cell_type": "code",
   "source": [
    "print(\"Init 'paraphrase-multilingual-MiniLM-L12-v2'\")\n",
    "st_model_large = SentenceTransformer('paraphrase-multilingual-MiniLM-L12-v2')\n",
    "print(\"Init 'all-minilm-l6-v2'\")\n",
    "st_model_small = SentenceTransformer('all-minilm-l6-v2')\n",
    "print(\"Init 'TfIdfEmbedder'\")\n",
    "tfidf_model = TfIdfEmbedder(vocabulary=df_parlamint[\"Text\"].to_list(), min_df=100, stop_words='english')\n",
    "print(\"Init 'CountVectorizerEmbedder'\")\n",
    "cv_model = CountVectorizerEmbedder(vocabulary=df_parlamint[\"Text\"].to_list(), min_df=100, stop_words='english',\n",
    "                                   n_gram_range=(1, 3))"
   ],
   "id": "d9e0476e76fe68af",
   "outputs": [
    {
     "name": "stdout",
     "output_type": "stream",
     "text": [
      "Init 'paraphrase-multilingual-MiniLM-L12-v2'\n",
      "Init 'all-minilm-l6-v2'\n",
      "Init 'TfIdfEmbedder'\n",
      "Init 'CountVectorizerEmbedder'\n"
     ]
    }
   ],
   "execution_count": 5
  },
  {
   "metadata": {
    "ExecuteTime": {
     "end_time": "2025-09-01T13:31:34.194538Z",
     "start_time": "2025-09-01T13:30:47.438761Z"
    }
   },
   "cell_type": "code",
   "source": [
    "df_parlamint_embeddings_per_utterance = st_model_small.encode(df_parlamint_grouped[\"utterance_text\"].to_list(),\n",
    "                                                     show_progress_bar=True)\n",
    "df_parlamint_embeddings_per_sentence = st_model_small.encode(df_parlamint[\"Text\"].to_list(), show_progress_bar=True)"
   ],
   "id": "254e7d33776d2bbc",
   "outputs": [
    {
     "name": "stderr",
     "output_type": "stream",
     "text": [
      "Batches: 100%|██████████| 432/432 [00:10<00:00, 40.30it/s] \n",
      "Batches: 100%|██████████| 5018/5018 [00:33<00:00, 148.42it/s]\n"
     ]
    }
   ],
   "execution_count": 66
  },
  {
   "metadata": {
    "ExecuteTime": {
     "end_time": "2025-09-01T13:31:38.452548Z",
     "start_time": "2025-09-01T13:31:38.384503Z"
    }
   },
   "cell_type": "code",
   "source": [
    "df_parlamint_grouped[\"embedding\"] = list(df_parlamint_embeddings_per_utterance)\n",
    "df_parlamint[\"embedding\"] = list(df_parlamint_embeddings_per_sentence)"
   ],
   "id": "dd9ef185dd7f2938",
   "outputs": [],
   "execution_count": 67
  },
  {
   "metadata": {
    "ExecuteTime": {
     "end_time": "2025-09-01T13:35:19.738770Z",
     "start_time": "2025-09-01T13:35:17.826208Z"
    }
   },
   "cell_type": "code",
   "source": [
    "table = pa.Table.from_pandas(df=df_parlamint, preserve_index=False)\n",
    "pq.write_table(table, \"df_parlamint_all-MiniLM-L6-v2.parquet\", compression=\"zstd\")\n",
    "df_parlamint.to_pickle(\"df_parlamint_all-MiniLM-L6-v2.pkl\")\n",
    "\n",
    "# # Load\n",
    "# df_loaded = pq.read_table(\"df_parlamint_all-MiniLM-L6-v2.parquet\").to_pandas()"
   ],
   "id": "35acdedddefddb9b",
   "outputs": [],
   "execution_count": 68
  },
  {
   "metadata": {
    "ExecuteTime": {
     "end_time": "2025-09-01T13:53:02.961784Z",
     "start_time": "2025-09-01T13:52:58.483732Z"
    }
   },
   "cell_type": "code",
   "source": [
    "tfidf_embeddings = tfidf_model.embed(df_parlamint[\"Text\"].to_list())\n",
    "print(f\"Number features: {len(tfidf_model.embedding_model.get_feature_names_out())}\", tfidf_model.embedding_model.get_feature_names_out())\n",
    "print(f\"Shape embedding array: {tfidf_embeddings.toarray().shape}\")\n",
    "tfidf_embeddings.toarray()"
   ],
   "id": "6fbe98fd1794f551",
   "outputs": [
    {
     "name": "stdout",
     "output_type": "stream",
     "text": [
      "Call 'transform' only...\n",
      "Number features: 2640 ['000' '10' '100' ... 'zero' 'ármannsson' 'ólafsson']\n",
      "Shape embedding array: (160545, 2640)\n"
     ]
    },
    {
     "data": {
      "text/plain": [
       "array([[0., 0., 0., ..., 0., 0., 0.],\n",
       "       [0., 0., 0., ..., 0., 0., 0.],\n",
       "       [0., 0., 0., ..., 0., 0., 0.],\n",
       "       ...,\n",
       "       [0., 0., 0., ..., 0., 0., 0.],\n",
       "       [0., 0., 0., ..., 0., 0., 0.],\n",
       "       [0., 0., 0., ..., 0., 0., 0.]], shape=(160545, 2640))"
      ]
     },
     "execution_count": 10,
     "metadata": {},
     "output_type": "execute_result"
    }
   ],
   "execution_count": 10
  },
  {
   "metadata": {},
   "cell_type": "code",
   "outputs": [],
   "execution_count": null,
   "source": [
    "sample_utterance_embeddings = tfidf_model.embed(df_parlamint[\"Text\"].to_list())\n",
    "print(f\"Number features: {len(tfidf_model.embedding_model.get_feature_names_out())}\", tfidf_model.embedding_model.get_feature_names_out())\n",
    "print(f\"Shape embedding array: {sample_utterance_embeddings.toarray().shape}\")\n",
    "sample_utterance_embeddings.toarray()"
   ],
   "id": "29617aba56029354"
  },
  {
   "metadata": {
    "ExecuteTime": {
     "end_time": "2025-09-01T11:45:47.573126Z",
     "start_time": "2025-09-01T11:45:47.551405Z"
    }
   },
   "cell_type": "code",
   "source": "",
   "id": "1f4ff0f25de07f55",
   "outputs": [],
   "execution_count": 6
  },
  {
   "metadata": {
    "ExecuteTime": {
     "end_time": "2025-09-01T11:45:48.760595Z",
     "start_time": "2025-09-01T11:45:48.753340Z"
    }
   },
   "cell_type": "code",
   "source": [
    "sample_utterance_embeddings = tfidf_model.embed(sample_utterance)\n",
    "print(tfidf_model.embedding_model.get_feature_names_out())\n",
    "sample_utterance_embeddings.toarray()"
   ],
   "id": "5f51220985e2849f",
   "outputs": [
    {
     "name": "stdout",
     "output_type": "stream",
     "text": [
      "['00' '000' '000k' ... 'ólason' 'þórsdóttir' 'þórunn']\n"
     ]
    },
    {
     "data": {
      "text/plain": [
       "array([[0.        , 0.        , 0.        , ..., 0.        , 0.        ,\n",
       "        0.        ],\n",
       "       [0.35023074, 0.        , 0.        , ..., 0.        , 0.        ,\n",
       "        0.        ],\n",
       "       [0.        , 0.        , 0.        , ..., 0.        , 0.        ,\n",
       "        0.        ],\n",
       "       [0.        , 0.        , 0.        , ..., 0.        , 0.        ,\n",
       "        0.        ],\n",
       "       [0.        , 0.        , 0.        , ..., 0.        , 0.        ,\n",
       "        0.        ],\n",
       "       [0.        , 0.        , 0.        , ..., 0.        , 0.        ,\n",
       "        0.        ]], shape=(6, 2666))"
      ]
     },
     "execution_count": 7,
     "metadata": {},
     "output_type": "execute_result"
    }
   ],
   "execution_count": 7
  },
  {
   "metadata": {
    "ExecuteTime": {
     "end_time": "2025-09-01T11:45:55.016211Z",
     "start_time": "2025-09-01T11:45:55.008971Z"
    }
   },
   "cell_type": "code",
   "source": [
    "sample_utterance_embeddings = cv_model.embed(sample_utterance)\n",
    "print(cv_model.embedding_model.get_feature_names_out())\n",
    "sample_utterance_embeddings.toarray()"
   ],
   "id": "ff2e099a01c69be7",
   "outputs": [
    {
     "name": "stdout",
     "output_type": "stream",
     "text": [
      "['000' '15' '17' '2020' '2021' '2022' 'able' 'abroad' 'access' 'according'\n",
      " 'account' 'action' 'actions' 'activities' 'actually' 'added' 'addition'\n",
      " 'affairs' 'affected' 'afghanistan' 'ago' 'agree' 'agreement' 'ahead'\n",
      " 'allow' 'answer' 'application' 'apply' 'approach' 'area' 'article' 'ask'\n",
      " 'ask highest' 'ask highest minister' 'asking' 'assembly' 'assessment'\n",
      " 'attention' 'authority' 'available' 'away' 'bad' 'based' 'basis'\n",
      " 'beginning' 'believe' 'better' 'big' 'billion' 'blood' 'board' 'bring'\n",
      " 'budget' 'business' 'business committee' 'businesses' 'calculated'\n",
      " 'called' 'came' 'care' 'careful' 'carried' 'case' 'cases' 'certain'\n",
      " 'certainly' 'change' 'changes' 'children' 'christmas' 'circumstances'\n",
      " 'class' 'clear' 'clearly' 'come' 'comes' 'committee' 'community'\n",
      " 'companies' 'company' 'compared' 'completed' 'completely' 'concerned'\n",
      " 'condition' 'conditions' 'congress' 'consequences' 'consider'\n",
      " 'considered' 'context' 'continuation' 'continue' 'contract' 'control'\n",
      " 'cooperation' 'cope' 'cost' 'costs' 'council' 'countries' 'country'\n",
      " 'course' 'court' 'covid' 'create' 'crown' 'crown virus' 'culture'\n",
      " 'current' 'date' 'day' 'days' 'deadline' 'deal' 'dealing' 'december'\n",
      " 'decision' 'decisions' 'delay' 'designed' 'despite' 'development' 'did'\n",
      " 'different' 'difficult' 'discuss' 'discussed' 'discussion' 'disease'\n",
      " 'disease control' 'disease prevention' 'does' 'doesn' 'doing' 'dollars'\n",
      " 'domestic' 'don' 'don know' 'dues' 'earlier' 'economic'\n",
      " 'economic business' 'economic business committee' 'economy' 'effect'\n",
      " 'effective' 'electrical' 'electricity' 'emergency' 'employees'\n",
      " 'employment' 'end' 'ends' 'energy' 'ensure' 'enterprise' 'enterprises'\n",
      " 'environment' 'environmental' 'epidemic' 'escape' 'especially' 'european'\n",
      " 'exactly' 'example' 'expect' 'expected' 'experts' 'explain' 'extended'\n",
      " 'extensive' 'extremely' 'face' 'fact' 'factor' 'factory' 'fall' 'farmers'\n",
      " 'feel' 'fees' 'field' 'finance' 'financial' 'financial minister'\n",
      " 'following' 'food' 'force' 'foreign' 'form' 'friday' 'funds' 'general'\n",
      " 'genetics' 'getting' 'given' 'goes' 'going' 'good' 'got' 'government'\n",
      " 'great' 'greater' 'group' 'growth' 'half' 'hand' 'handled' 'having'\n",
      " 'head' 'health' 'health care' 'health minister' 'hear' 'heavy' 'help'\n",
      " 'high' 'highest' 'highest level' 'highest minister' 'hope' 'hospital'\n",
      " 'hours' 'house' 'housing' 'human' 'iceland' 'icelandic'\n",
      " 'icelandic genetics' 'idea' 'impact' 'importance' 'important' 'improve'\n",
      " 'improved' 'improvement' 'income' 'increase' 'independent' 'information'\n",
      " 'inquiry' 'instead' 'insurance' 'insurance fees' 'involved' 'isn' 'issue'\n",
      " 'issues' 'iv' 'january' 'january 15' 'january 17' 'job' 'jobs' 'just'\n",
      " 'know' 'kári' 'lack' 'land' 'land hospital' 'large' 'late' 'later' 'law'\n",
      " 'left' 'legislation' 'let' 'letter' 'level' 'life' 'like' 'like ask'\n",
      " 'like ask highest' 'likely' 'limitations' 'limited' 'limits' 'little'\n",
      " 'live' 'll' 'local' 'long' 'long time' 'longer' 'look' 'looking' 'loss'\n",
      " 'lot' 'main' 'major' 'make' 'making' 'management' 'matter' 'matters'\n",
      " 'means' 'measures' 'medical' 'meet' 'meeting' 'members' 'mentioned'\n",
      " 'million' 'minister' 'minister answer' 'minister finance' 'ministers'\n",
      " 'ministry' 'ministry finance' 'money' 'month' 'months' 'nation'\n",
      " 'national' 'natural' 'necessary' 'need' 'needed' 'needs' 'negative' 'new'\n",
      " 'new year' 'normal' 'november' 'number' 'offer' 'old' 'open' 'opening'\n",
      " 'operation' 'operations' 'operators' 'opportunity' 'order' 'organization'\n",
      " 'paid' 'pandemic' 'parents' 'paritaprevir' 'particular' 'parts' 'past'\n",
      " 'past years' 'patients' 'pay' 'pay days' 'pay insurance' 'paying'\n",
      " 'payment' 'payments' 'people' 'period' 'permission'\n",
      " 'permission president' 'place' 'places' 'plans' 'point' 'policy'\n",
      " 'position' 'possible' 'postpone' 'postponement' 'power' 'present'\n",
      " 'presented' 'president' 'pressure' 'prevent' 'prevention' 'previous'\n",
      " 'price' 'prime' 'prime minister' 'problem' 'problems' 'procedures'\n",
      " 'process' 'production' 'professionals' 'progress' 'proposed' 'protect'\n",
      " 'protection' 'provide' 'provided' 'psychiatrist' 'public' 'public pay'\n",
      " 'published' 'quality' 'question' 'questions' 'quite' 'read' 'ready'\n",
      " 'real' 'really' 'reason' 'receive' 'recent' 'regard' 'related'\n",
      " 'remuneration' 'reply' 'report' 'request' 'required' 'resources'\n",
      " 'respect' 'respond' 'responsibility' 'responsible' 'restaurant'\n",
      " 'restaurants' 'restricted' 'restrictions' 'result' 'results' 'review'\n",
      " 'reviewing' 'right' 'rights' 'risk' 'role' 'rules' 'said' 'salary'\n",
      " 'samples' 'say' 'says' 'secretary' 'secretary finance' 'section' 'sector'\n",
      " 'sectors' 'security' 'seen' 'senator' 'sense' 'service' 'services' 'set'\n",
      " 'short' 'short time' 'shown' 'significant' 'simply' 'sit' 'situation'\n",
      " 'small' 'smaller' 'social' 'society' 'solutions' 'soon' 'spain' 'special'\n",
      " 'specific' 'staff' 'stage' 'stakeholders' 'stand' 'start' 'state'\n",
      " 'states' 'status' 'stay' 'stop' 'stress' 'subject' 'successful'\n",
      " 'suggested' 'suggests' 'support' 'supposed' 'sure' 'systems' 'taken'\n",
      " 'taking' 'talk' 'talking' 'tax' 'team' 'temporary' 'term' 'terms' 'thank'\n",
      " 'thank senator' 'thing' 'things' 'think' 'thinking' 'thought' 'time'\n",
      " 'times' 'today' 'tourism' 'transport' 'travel' 'treatment' 'true' 'try'\n",
      " 'trying' 'ultrasound' 'uncertainty' 'understand' 'union' 'united'\n",
      " 'united states' 'use' 'used' 've' 'view' 'viewpoints' 'violence' 'virus'\n",
      " 'vote' 'want' 'want ask' 'wanted' 'wave' 'way' 'ways' 'week' 'weekend'\n",
      " 'weeks' 'wishful' 'wishful thinking' 'words' 'work' 'working' 'world'\n",
      " 'worse' 'year' 'years' 'yes']\n"
     ]
    },
    {
     "data": {
      "text/plain": [
       "array([[0, 0, 0, ..., 0, 0, 0],\n",
       "       [0, 0, 1, ..., 0, 0, 0],\n",
       "       [0, 0, 0, ..., 0, 0, 0],\n",
       "       [0, 0, 0, ..., 0, 0, 0],\n",
       "       [0, 0, 1, ..., 0, 0, 0],\n",
       "       [0, 0, 0, ..., 1, 0, 0]], shape=(6, 537))"
      ]
     },
     "execution_count": 9,
     "metadata": {},
     "output_type": "execute_result"
    }
   ],
   "execution_count": 9
  },
  {
   "metadata": {
    "ExecuteTime": {
     "end_time": "2025-09-01T11:58:26.948325Z",
     "start_time": "2025-09-01T11:47:58.844494Z"
    }
   },
   "cell_type": "code",
   "source": [
    "def _apply_embeddings(row):\n",
    "    sentence_embedding = model.encode(row[\"Text\"], show_progress_bar=False)\n",
    "    return sentence_embedding\n",
    "\n",
    "\n",
    "# df_parlamint_subset[\"embedding\"] = df_parlamint_subset.progress_apply(lambda e: _apply_embeddings(e), axis=1)\n",
    "df_parlamint[\"embedding\"] = df_parlamint.progress_apply(lambda e: _apply_embeddings(e), axis=1)"
   ],
   "id": "efba2a3cfc691359",
   "outputs": [
    {
     "name": "stderr",
     "output_type": "stream",
     "text": [
      "100%|██████████| 160545/160545 [10:28<00:00, 255.61it/s]\n"
     ]
    }
   ],
   "execution_count": 13
  },
  {
   "metadata": {
    "ExecuteTime": {
     "end_time": "2025-09-01T12:52:53.786021Z",
     "start_time": "2025-09-01T12:52:53.780196Z"
    }
   },
   "cell_type": "code",
   "source": "df_parlamint.iloc[1]",
   "id": "56408fe24aed734",
   "outputs": [
    {
     "data": {
      "text/plain": [
       "ID                           ParlaMint-IS_2022-01-17-20.seg3.1\n",
       "Parent_ID                        ParlaMint-IS_2022-01-17-20.u1\n",
       "Text         I have decided, according to the proposal of t...\n",
       "embedding    [-0.04760472, -0.068988696, 0.02710493, 0.0427...\n",
       "Name: 1, dtype: object"
      ]
     },
     "execution_count": 15,
     "metadata": {},
     "output_type": "execute_result"
    }
   ],
   "execution_count": 15
  },
  {
   "metadata": {
    "ExecuteTime": {
     "end_time": "2025-09-01T12:58:05.319859Z",
     "start_time": "2025-09-01T12:58:03.848658Z"
    }
   },
   "cell_type": "code",
   "source": [
    "# df_parlamint_subset.to_pickle(\"sample.pkl\")\n",
    "# df_parlamint.to_pickle(\"df_parlamint.pkl\")\n",
    "df_parlamint.to_pickle(\"df_parlamint_all-MiniLM-L6-v2.pkl\")"
   ],
   "id": "8042fde193e41279",
   "outputs": [],
   "execution_count": 23
  },
  {
   "metadata": {
    "ExecuteTime": {
     "end_time": "2025-09-01T13:14:59.380497Z",
     "start_time": "2025-09-01T13:14:59.371872Z"
    }
   },
   "cell_type": "code",
   "source": "df_parlamint",
   "id": "66ee023f62974996",
   "outputs": [
    {
     "data": {
      "text/plain": [
       "                                                       ID  \\\n",
       "0                       ParlaMint-IS_2022-01-17-20.seg2.1   \n",
       "1                       ParlaMint-IS_2022-01-17-20.seg3.1   \n",
       "2                       ParlaMint-IS_2022-01-17-20.seg4.1   \n",
       "3                       ParlaMint-IS_2022-01-17-20.seg6.1   \n",
       "4                       ParlaMint-IS_2022-01-17-20.seg7.1   \n",
       "...                                                   ...   \n",
       "160540  ParlaMint-IT_2022-09-20-LEG18-Senato-sed-465.a...   \n",
       "160541  ParlaMint-IT_2022-09-20-LEG18-Senato-sed-465.a...   \n",
       "160542  ParlaMint-IT_2022-09-20-LEG18-Senato-sed-465.a...   \n",
       "160543  ParlaMint-IT_2022-09-20-LEG18-Senato-sed-465.a...   \n",
       "160544  ParlaMint-IT_2022-09-20-LEG18-Senato-sed-465.a...   \n",
       "\n",
       "                                                Parent_ID  \\\n",
       "0                           ParlaMint-IS_2022-01-17-20.u1   \n",
       "1                           ParlaMint-IS_2022-01-17-20.u1   \n",
       "2                           ParlaMint-IS_2022-01-17-20.u1   \n",
       "3                           ParlaMint-IS_2022-01-17-20.u1   \n",
       "4                           ParlaMint-IS_2022-01-17-20.u1   \n",
       "...                                                   ...   \n",
       "160540  ParlaMint-IT_2022-09-20-LEG18-Senato-sed-465.a...   \n",
       "160541  ParlaMint-IT_2022-09-20-LEG18-Senato-sed-465.a...   \n",
       "160542  ParlaMint-IT_2022-09-20-LEG18-Senato-sed-465.a...   \n",
       "160543  ParlaMint-IT_2022-09-20-LEG18-Senato-sed-465.a...   \n",
       "160544  ParlaMint-IT_2022-09-20-LEG18-Senato-sed-465.a...   \n",
       "\n",
       "                                                     Text  \n",
       "0                 President of the United States reports:  \n",
       "1       I have decided, according to the proposal of t...  \n",
       "2                      Arrange sites, January 11th, 2022.  \n",
       "3                         Katrín Jakobsdóttir's daughter.  \n",
       "4       Presidential Letters for a meeting of the Gene...  \n",
       "...                                                   ...  \n",
       "160540  I would say that we can consider the work of t...  \n",
       "160541  Of course, all good intentions about Parliamen...  \n",
       "160542  The motions, questions and questions received ...  \n",
       "160543               The Senate is summoned to the house.  \n",
       "160544               The sitting was closed at 16.48 p.m.  \n",
       "\n",
       "[160545 rows x 3 columns]"
      ],
      "text/html": [
       "<div>\n",
       "<style scoped>\n",
       "    .dataframe tbody tr th:only-of-type {\n",
       "        vertical-align: middle;\n",
       "    }\n",
       "\n",
       "    .dataframe tbody tr th {\n",
       "        vertical-align: top;\n",
       "    }\n",
       "\n",
       "    .dataframe thead th {\n",
       "        text-align: right;\n",
       "    }\n",
       "</style>\n",
       "<table border=\"1\" class=\"dataframe\">\n",
       "  <thead>\n",
       "    <tr style=\"text-align: right;\">\n",
       "      <th></th>\n",
       "      <th>ID</th>\n",
       "      <th>Parent_ID</th>\n",
       "      <th>Text</th>\n",
       "    </tr>\n",
       "  </thead>\n",
       "  <tbody>\n",
       "    <tr>\n",
       "      <th>0</th>\n",
       "      <td>ParlaMint-IS_2022-01-17-20.seg2.1</td>\n",
       "      <td>ParlaMint-IS_2022-01-17-20.u1</td>\n",
       "      <td>President of the United States reports:</td>\n",
       "    </tr>\n",
       "    <tr>\n",
       "      <th>1</th>\n",
       "      <td>ParlaMint-IS_2022-01-17-20.seg3.1</td>\n",
       "      <td>ParlaMint-IS_2022-01-17-20.u1</td>\n",
       "      <td>I have decided, according to the proposal of t...</td>\n",
       "    </tr>\n",
       "    <tr>\n",
       "      <th>2</th>\n",
       "      <td>ParlaMint-IS_2022-01-17-20.seg4.1</td>\n",
       "      <td>ParlaMint-IS_2022-01-17-20.u1</td>\n",
       "      <td>Arrange sites, January 11th, 2022.</td>\n",
       "    </tr>\n",
       "    <tr>\n",
       "      <th>3</th>\n",
       "      <td>ParlaMint-IS_2022-01-17-20.seg6.1</td>\n",
       "      <td>ParlaMint-IS_2022-01-17-20.u1</td>\n",
       "      <td>Katrín Jakobsdóttir's daughter.</td>\n",
       "    </tr>\n",
       "    <tr>\n",
       "      <th>4</th>\n",
       "      <td>ParlaMint-IS_2022-01-17-20.seg7.1</td>\n",
       "      <td>ParlaMint-IS_2022-01-17-20.u1</td>\n",
       "      <td>Presidential Letters for a meeting of the Gene...</td>\n",
       "    </tr>\n",
       "    <tr>\n",
       "      <th>...</th>\n",
       "      <td>...</td>\n",
       "      <td>...</td>\n",
       "      <td>...</td>\n",
       "    </tr>\n",
       "    <tr>\n",
       "      <th>160540</th>\n",
       "      <td>ParlaMint-IT_2022-09-20-LEG18-Senato-sed-465.a...</td>\n",
       "      <td>ParlaMint-IT_2022-09-20-LEG18-Senato-sed-465.a...</td>\n",
       "      <td>I would say that we can consider the work of t...</td>\n",
       "    </tr>\n",
       "    <tr>\n",
       "      <th>160541</th>\n",
       "      <td>ParlaMint-IT_2022-09-20-LEG18-Senato-sed-465.a...</td>\n",
       "      <td>ParlaMint-IT_2022-09-20-LEG18-Senato-sed-465.a...</td>\n",
       "      <td>Of course, all good intentions about Parliamen...</td>\n",
       "    </tr>\n",
       "    <tr>\n",
       "      <th>160542</th>\n",
       "      <td>ParlaMint-IT_2022-09-20-LEG18-Senato-sed-465.a...</td>\n",
       "      <td>ParlaMint-IT_2022-09-20-LEG18-Senato-sed-465.a...</td>\n",
       "      <td>The motions, questions and questions received ...</td>\n",
       "    </tr>\n",
       "    <tr>\n",
       "      <th>160543</th>\n",
       "      <td>ParlaMint-IT_2022-09-20-LEG18-Senato-sed-465.a...</td>\n",
       "      <td>ParlaMint-IT_2022-09-20-LEG18-Senato-sed-465.a...</td>\n",
       "      <td>The Senate is summoned to the house.</td>\n",
       "    </tr>\n",
       "    <tr>\n",
       "      <th>160544</th>\n",
       "      <td>ParlaMint-IT_2022-09-20-LEG18-Senato-sed-465.a...</td>\n",
       "      <td>ParlaMint-IT_2022-09-20-LEG18-Senato-sed-465.a...</td>\n",
       "      <td>The sitting was closed at 16.48 p.m.</td>\n",
       "    </tr>\n",
       "  </tbody>\n",
       "</table>\n",
       "<p>160545 rows × 3 columns</p>\n",
       "</div>"
      ]
     },
     "execution_count": 53,
     "metadata": {},
     "output_type": "execute_result"
    }
   ],
   "execution_count": 53
  },
  {
   "metadata": {
    "ExecuteTime": {
     "end_time": "2025-09-01T14:59:00.466990Z",
     "start_time": "2025-09-01T14:58:59.732015Z"
    }
   },
   "cell_type": "code",
   "source": [
    "df_read = pd.read_pickle(\"./data/SENTENCE_TRANSFORMER_SMALL_PER_SENTENCE.pkl\")\n",
    "# df_read = pd.read_pickle(\"./data/SENTENCE_TRANSFORMER_SMALL_PER_UTTERANCE.pkl\")\n",
    "df_read"
   ],
   "id": "a8c9dadbeeb7b9a8",
   "outputs": [
    {
     "data": {
      "text/plain": [
       "                                                       ID  \\\n",
       "0                       ParlaMint-IS_2022-01-17-20.seg2.1   \n",
       "1                       ParlaMint-IS_2022-01-17-20.seg3.1   \n",
       "2                       ParlaMint-IS_2022-01-17-20.seg4.1   \n",
       "3                       ParlaMint-IS_2022-01-17-20.seg6.1   \n",
       "4                       ParlaMint-IS_2022-01-17-20.seg7.1   \n",
       "...                                                   ...   \n",
       "160540  ParlaMint-IT_2022-09-20-LEG18-Senato-sed-465.a...   \n",
       "160541  ParlaMint-IT_2022-09-20-LEG18-Senato-sed-465.a...   \n",
       "160542  ParlaMint-IT_2022-09-20-LEG18-Senato-sed-465.a...   \n",
       "160543  ParlaMint-IT_2022-09-20-LEG18-Senato-sed-465.a...   \n",
       "160544  ParlaMint-IT_2022-09-20-LEG18-Senato-sed-465.a...   \n",
       "\n",
       "                                                Parent_ID  \\\n",
       "0                           ParlaMint-IS_2022-01-17-20.u1   \n",
       "1                           ParlaMint-IS_2022-01-17-20.u1   \n",
       "2                           ParlaMint-IS_2022-01-17-20.u1   \n",
       "3                           ParlaMint-IS_2022-01-17-20.u1   \n",
       "4                           ParlaMint-IS_2022-01-17-20.u1   \n",
       "...                                                   ...   \n",
       "160540  ParlaMint-IT_2022-09-20-LEG18-Senato-sed-465.a...   \n",
       "160541  ParlaMint-IT_2022-09-20-LEG18-Senato-sed-465.a...   \n",
       "160542  ParlaMint-IT_2022-09-20-LEG18-Senato-sed-465.a...   \n",
       "160543  ParlaMint-IT_2022-09-20-LEG18-Senato-sed-465.a...   \n",
       "160544  ParlaMint-IT_2022-09-20-LEG18-Senato-sed-465.a...   \n",
       "\n",
       "                                                     Text  \\\n",
       "0                 President of the United States reports:   \n",
       "1       I have decided, according to the proposal of t...   \n",
       "2                      Arrange sites, January 11th, 2022.   \n",
       "3                         Katrín Jakobsdóttir's daughter.   \n",
       "4       Presidential Letters for a meeting of the Gene...   \n",
       "...                                                   ...   \n",
       "160540  I would say that we can consider the work of t...   \n",
       "160541  Of course, all good intentions about Parliamen...   \n",
       "160542  The motions, questions and questions received ...   \n",
       "160543               The Senate is summoned to the house.   \n",
       "160544               The sitting was closed at 16.48 p.m.   \n",
       "\n",
       "                                                embedding  \n",
       "0       [0.003643172, 0.0075753126, -0.0135241905, 0.0...  \n",
       "1       [-0.047604736, -0.06898866, 0.027104922, 0.042...  \n",
       "2       [-0.01698018, -0.048045084, -0.017449742, 0.01...  \n",
       "3       [-0.08331399, -0.048587173, 0.00143911, -0.043...  \n",
       "4       [-0.07626823, -0.06527784, 0.06610001, 0.01071...  \n",
       "...                                                   ...  \n",
       "160540  [-0.067902915, 0.039009538, 0.062254358, -0.04...  \n",
       "160541  [0.016888414, 0.036268204, 0.04464855, -0.0834...  \n",
       "160542  [0.0019182335, 0.042933553, 0.044402953, -0.07...  \n",
       "160543  [0.009923743, -0.0020061715, 0.029129716, 0.01...  \n",
       "160544  [0.03279865, 0.109322175, 0.005354028, 0.02316...  \n",
       "\n",
       "[160545 rows x 4 columns]"
      ],
      "text/html": [
       "<div>\n",
       "<style scoped>\n",
       "    .dataframe tbody tr th:only-of-type {\n",
       "        vertical-align: middle;\n",
       "    }\n",
       "\n",
       "    .dataframe tbody tr th {\n",
       "        vertical-align: top;\n",
       "    }\n",
       "\n",
       "    .dataframe thead th {\n",
       "        text-align: right;\n",
       "    }\n",
       "</style>\n",
       "<table border=\"1\" class=\"dataframe\">\n",
       "  <thead>\n",
       "    <tr style=\"text-align: right;\">\n",
       "      <th></th>\n",
       "      <th>ID</th>\n",
       "      <th>Parent_ID</th>\n",
       "      <th>Text</th>\n",
       "      <th>embedding</th>\n",
       "    </tr>\n",
       "  </thead>\n",
       "  <tbody>\n",
       "    <tr>\n",
       "      <th>0</th>\n",
       "      <td>ParlaMint-IS_2022-01-17-20.seg2.1</td>\n",
       "      <td>ParlaMint-IS_2022-01-17-20.u1</td>\n",
       "      <td>President of the United States reports:</td>\n",
       "      <td>[0.003643172, 0.0075753126, -0.0135241905, 0.0...</td>\n",
       "    </tr>\n",
       "    <tr>\n",
       "      <th>1</th>\n",
       "      <td>ParlaMint-IS_2022-01-17-20.seg3.1</td>\n",
       "      <td>ParlaMint-IS_2022-01-17-20.u1</td>\n",
       "      <td>I have decided, according to the proposal of t...</td>\n",
       "      <td>[-0.047604736, -0.06898866, 0.027104922, 0.042...</td>\n",
       "    </tr>\n",
       "    <tr>\n",
       "      <th>2</th>\n",
       "      <td>ParlaMint-IS_2022-01-17-20.seg4.1</td>\n",
       "      <td>ParlaMint-IS_2022-01-17-20.u1</td>\n",
       "      <td>Arrange sites, January 11th, 2022.</td>\n",
       "      <td>[-0.01698018, -0.048045084, -0.017449742, 0.01...</td>\n",
       "    </tr>\n",
       "    <tr>\n",
       "      <th>3</th>\n",
       "      <td>ParlaMint-IS_2022-01-17-20.seg6.1</td>\n",
       "      <td>ParlaMint-IS_2022-01-17-20.u1</td>\n",
       "      <td>Katrín Jakobsdóttir's daughter.</td>\n",
       "      <td>[-0.08331399, -0.048587173, 0.00143911, -0.043...</td>\n",
       "    </tr>\n",
       "    <tr>\n",
       "      <th>4</th>\n",
       "      <td>ParlaMint-IS_2022-01-17-20.seg7.1</td>\n",
       "      <td>ParlaMint-IS_2022-01-17-20.u1</td>\n",
       "      <td>Presidential Letters for a meeting of the Gene...</td>\n",
       "      <td>[-0.07626823, -0.06527784, 0.06610001, 0.01071...</td>\n",
       "    </tr>\n",
       "    <tr>\n",
       "      <th>...</th>\n",
       "      <td>...</td>\n",
       "      <td>...</td>\n",
       "      <td>...</td>\n",
       "      <td>...</td>\n",
       "    </tr>\n",
       "    <tr>\n",
       "      <th>160540</th>\n",
       "      <td>ParlaMint-IT_2022-09-20-LEG18-Senato-sed-465.a...</td>\n",
       "      <td>ParlaMint-IT_2022-09-20-LEG18-Senato-sed-465.a...</td>\n",
       "      <td>I would say that we can consider the work of t...</td>\n",
       "      <td>[-0.067902915, 0.039009538, 0.062254358, -0.04...</td>\n",
       "    </tr>\n",
       "    <tr>\n",
       "      <th>160541</th>\n",
       "      <td>ParlaMint-IT_2022-09-20-LEG18-Senato-sed-465.a...</td>\n",
       "      <td>ParlaMint-IT_2022-09-20-LEG18-Senato-sed-465.a...</td>\n",
       "      <td>Of course, all good intentions about Parliamen...</td>\n",
       "      <td>[0.016888414, 0.036268204, 0.04464855, -0.0834...</td>\n",
       "    </tr>\n",
       "    <tr>\n",
       "      <th>160542</th>\n",
       "      <td>ParlaMint-IT_2022-09-20-LEG18-Senato-sed-465.a...</td>\n",
       "      <td>ParlaMint-IT_2022-09-20-LEG18-Senato-sed-465.a...</td>\n",
       "      <td>The motions, questions and questions received ...</td>\n",
       "      <td>[0.0019182335, 0.042933553, 0.044402953, -0.07...</td>\n",
       "    </tr>\n",
       "    <tr>\n",
       "      <th>160543</th>\n",
       "      <td>ParlaMint-IT_2022-09-20-LEG18-Senato-sed-465.a...</td>\n",
       "      <td>ParlaMint-IT_2022-09-20-LEG18-Senato-sed-465.a...</td>\n",
       "      <td>The Senate is summoned to the house.</td>\n",
       "      <td>[0.009923743, -0.0020061715, 0.029129716, 0.01...</td>\n",
       "    </tr>\n",
       "    <tr>\n",
       "      <th>160544</th>\n",
       "      <td>ParlaMint-IT_2022-09-20-LEG18-Senato-sed-465.a...</td>\n",
       "      <td>ParlaMint-IT_2022-09-20-LEG18-Senato-sed-465.a...</td>\n",
       "      <td>The sitting was closed at 16.48 p.m.</td>\n",
       "      <td>[0.03279865, 0.109322175, 0.005354028, 0.02316...</td>\n",
       "    </tr>\n",
       "  </tbody>\n",
       "</table>\n",
       "<p>160545 rows × 4 columns</p>\n",
       "</div>"
      ]
     },
     "execution_count": 13,
     "metadata": {},
     "output_type": "execute_result"
    }
   ],
   "execution_count": 13
  }
 ],
 "metadata": {
  "kernelspec": {
   "display_name": "Python 3",
   "language": "python",
   "name": "python3"
  },
  "language_info": {
   "codemirror_mode": {
    "name": "ipython",
    "version": 2
   },
   "file_extension": ".py",
   "mimetype": "text/x-python",
   "name": "python",
   "nbconvert_exporter": "python",
   "pygments_lexer": "ipython2",
   "version": "2.7.6"
  }
 },
 "nbformat": 4,
 "nbformat_minor": 5
}
