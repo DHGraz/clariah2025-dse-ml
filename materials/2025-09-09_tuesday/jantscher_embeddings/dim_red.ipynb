{
 "cells": [
  {
   "metadata": {},
   "cell_type": "code",
   "outputs": [],
   "execution_count": null,
   "source": [
    "import numpy as np\n",
    "import pandas as pd\n",
    "from sklearn.feature_extraction.text import TfidfVectorizer\n",
    "from sklearn.decomposition import PCA"
   ],
   "id": "caafa14057589044"
  },
  {
   "metadata": {},
   "cell_type": "code",
   "outputs": [],
   "execution_count": null,
   "source": [
    "# Load parlamint dataset\n",
    "df_parlamint = pd.read_csv(\"../../datasets/parlamint/parlamint-it-is-2022.txt\", sep=\"\\t\")\n",
    "# df_parlamint_subset = df_parlamint.copy(deep=True).head(100)\n",
    "df_parlamint"
   ],
   "id": "3395807d7bea530f"
  },
  {
   "metadata": {},
   "cell_type": "code",
   "outputs": [],
   "execution_count": null,
   "source": [
    "docs = [\n",
    "    \"government election policy law parliament minister\",\n",
    "    \"vote election democracy political debate\",\n",
    "    \"team score game match player coach\",\n",
    "    \"goal win team fans tournament\",\n",
    "    \"minister policy speech parliament law\",\n",
    "    \"player goal win score match\"\n",
    "]"
   ],
   "id": "b284f77c2b51b8ae"
  },
  {
   "metadata": {},
   "cell_type": "code",
   "outputs": [],
   "execution_count": null,
   "source": [
    "tfidf_vectorizer = TfidfVectorizer()\n",
    "X_sparse = tfidf_vectorizer.fit_transform(docs)\n",
    "X_dense = X_sparse.toarray()\n",
    "# X_dense"
   ],
   "id": "4d982b6baabbe89"
  },
  {
   "metadata": {},
   "cell_type": "code",
   "outputs": [],
   "execution_count": null,
   "source": [
    "pca = PCA(n_components=2)\n",
    "X_pca = pca.fit_transform(X_dense)\n",
    "# X_pca"
   ],
   "id": "fe698cbd36366d6f"
  },
  {
   "metadata": {},
   "cell_type": "code",
   "outputs": [],
   "execution_count": null,
   "source": "pca.components_",
   "id": "23c7a742296725a7"
  },
  {
   "metadata": {},
   "cell_type": "code",
   "outputs": [],
   "execution_count": null,
   "source": [
    "feature_names = tfidf_vectorizer.get_feature_names_out()\n",
    "print(f\"Len features: {len(feature_names)}\")\n",
    "feature_names"
   ],
   "id": "6ff5227438d33581"
  },
  {
   "metadata": {},
   "cell_type": "code",
   "outputs": [],
   "execution_count": null,
   "source": [
    "for idx, component in enumerate(pca.components_):\n",
    "    # Get indices of largest absolute weights\n",
    "    top_indices = np.argsort(np.abs(component))[-pca.components_.shape[1]:]\n",
    "    top_words = feature_names[top_indices]\n",
    "    top_weights = component[top_indices]\n",
    "    print(f\"\\nPC{idx+1} top words:\")\n",
    "    for word, weight in zip(top_words, top_weights):\n",
    "        print(f\"{word}: {weight:.4f}\")\n",
    "    print(\"############################################\")"
   ],
   "id": "8465a62d8f684b0"
  }
 ],
 "metadata": {},
 "nbformat": 4,
 "nbformat_minor": 5
}
