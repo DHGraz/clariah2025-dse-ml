{
 "cells": [
  {
   "cell_type": "code",
   "execution_count": null,
   "id": "c6444fbf",
   "metadata": {},
   "outputs": [],
   "source": [
    "from google.colab import drive\n",
    "drive.mount('/content/drive/')\n",
    "\n",
    "%cd drive/MyDrive/clariah2025-dse-ml/materials/2025-09-09/"
   ]
  },
  {
   "cell_type": "markdown",
   "id": "7e5e7034",
   "metadata": {},
   "source": [
    "# Experiments in Dimensionality Reduction\n",
    "### CLARIAH-AT Summer School on Machine Learning for Digital Scholarly Editions\n",
    "Bernhard C. Geiger (TU Graz, Know Center Research GmbH)"
   ]
  },
  {
   "cell_type": "markdown",
   "id": "c0670abb",
   "metadata": {},
   "source": [
    "## Data Generation\n",
    "First, we generate three-dimensional data that is available in Python. While our embeddings will have higher dimensions, we focus on three-dimensional data to allow for visualization."
   ]
  },
  {
   "cell_type": "code",
   "execution_count": null,
   "id": "15175f6b",
   "metadata": {},
   "outputs": [],
   "source": [
    "import pandas as pd\n",
    "import plotly.express as px\n",
    "\n",
    "import numpy as np\n",
    "from sklearn import datasets, manifold\n",
    "\n",
    "# Generate Swiss roll with hole\n",
    "sh_points, sh_color = datasets.make_swiss_roll(n_samples=1500, hole=True, random_state=0)\n",
    "\n",
    "df_sh = pd.DataFrame(sh_points)\n",
    "df_sh['color']=sh_color\n",
    "\n",
    "# Generate s-curve\n",
    "s_points, s_color = datasets.make_s_curve(n_samples=1500, noise=0.05, random_state=0)\n",
    "\n",
    "df_s = pd.DataFrame(s_points)\n",
    "df_s['color']=s_color\n",
    "\n",
    "# Generate Gaussian blobs\n",
    "g_points, g_color = datasets.make_blobs(n_samples=1500, centers=5, n_features=3,\n",
    "                  random_state=1)\n",
    "\n",
    "df_g = pd.DataFrame(g_points)\n",
    "df_g['color']=g_color"
   ]
  },
  {
   "cell_type": "markdown",
   "id": "86087b6d",
   "metadata": {},
   "source": [
    "We next visualizse the data using plotly. Feel free to exchange the datasets for visualization, and try to experiment with the parameters of the data generation methods (e.g., more or less centers for the Gaussian blobs, more or less noise for the s-curve)."
   ]
  },
  {
   "cell_type": "code",
   "execution_count": null,
   "id": "9a233955",
   "metadata": {},
   "outputs": [],
   "source": [
    "df=df_g\n",
    "\n",
    "# Create interactive 3D scatter plot\n",
    "fig = px.scatter_3d(df, x=0, y=1, z=2,color='color',\n",
    "                    size_max=1,\n",
    "                    opacity=0.7)\n",
    "\n",
    "fig.show()"
   ]
  },
  {
   "cell_type": "markdown",
   "id": "026e0273",
   "metadata": {},
   "source": [
    "## Linear Dimensionality Reduction\n",
    "We will now project the data on a two-dimensional Euclidean space, with (PCA, truncated SVD) and without prior rotation. Given the three datasets, what do you observe? Is dimensionality reduction \"successful\"? How do you determine that?"
   ]
  },
  {
   "cell_type": "markdown",
   "id": "c4645a2b",
   "metadata": {},
   "source": [
    "### Projection\n",
    "(just remove one of the coordinates)"
   ]
  },
  {
   "cell_type": "code",
   "execution_count": null,
   "id": "913867d3",
   "metadata": {},
   "outputs": [],
   "source": []
  },
  {
   "cell_type": "markdown",
   "id": "e979ae9b",
   "metadata": {},
   "source": [
    "### Truncated singular value decomposition (SVD)\n",
    "(see slides for code examples)\n",
    "\n",
    "Try to vary the data. For example, what happens if you add an offset to one of the dimensions?"
   ]
  },
  {
   "cell_type": "code",
   "execution_count": null,
   "id": "7e678ad1",
   "metadata": {},
   "outputs": [],
   "source": []
  },
  {
   "cell_type": "markdown",
   "id": "0dd3b043",
   "metadata": {},
   "source": [
    "### Principal components analysis (PCA)\n",
    "(see slides for code examples)\n",
    "\n",
    "Try to vary the data also in this case. If you add an offset to one of the dimensions, do you still see some change?"
   ]
  },
  {
   "cell_type": "code",
   "execution_count": null,
   "id": "fe1635ab",
   "metadata": {},
   "outputs": [],
   "source": []
  },
  {
   "cell_type": "markdown",
   "id": "2574985f",
   "metadata": {},
   "source": [
    "## Nonlinear Dimensionality Reduction\n",
    "We will now investigate nonlinear dimensionality reduction methods such as t-SNE and UMAP. Here it is important to study the influence of the hyperparameters. How do you set these parameters such that dimensionality reduction is \"successful\"?"
   ]
  },
  {
   "cell_type": "markdown",
   "id": "c2940848",
   "metadata": {},
   "source": [
    "### t-distributed stochastic neighbor embedding (t-SNE)\n",
    "(see slides for code example)"
   ]
  },
  {
   "cell_type": "code",
   "execution_count": null,
   "id": "81ec0384",
   "metadata": {},
   "outputs": [],
   "source": []
  },
  {
   "cell_type": "markdown",
   "id": "f2d96164",
   "metadata": {},
   "source": [
    "### Uniform manifold approximation and projection (UMAP)\n",
    "(see slides for code example)"
   ]
  },
  {
   "cell_type": "code",
   "execution_count": null,
   "id": "a4449879",
   "metadata": {},
   "outputs": [],
   "source": []
  },
  {
   "cell_type": "markdown",
   "id": "ae5554b4",
   "metadata": {},
   "source": [
    "## Experiments with Text Embeddings\n",
    "The following cell loads utterance embeddings of the Parlamint corpus, obtained with a sentence transformer. This is a dense embedding. Reduce the dimensionality of these embeddings to two or three dimensions and visualize the results. Do you see topic clusters? (Note that in subsequent experiments you will use higher dimensions; we use these low dimensions just for the sake of illustration.)"
   ]
  },
  {
   "cell_type": "code",
   "execution_count": null,
   "id": "dd77380b",
   "metadata": {},
   "outputs": [],
   "source": [
    "# df=pd.read_pickle(\"SENTENCE_TRANSFORMER_LARGE_PER_UTTERANCE.pkl\")"
   ]
  }
 ],
 "metadata": {
  "kernelspec": {
   "display_name": "Python 3 (ipykernel)",
   "language": "python",
   "name": "python3"
  },
  "language_info": {
   "codemirror_mode": {
    "name": "ipython",
    "version": 3
   },
   "file_extension": ".py",
   "mimetype": "text/x-python",
   "name": "python",
   "nbconvert_exporter": "python",
   "pygments_lexer": "ipython3",
   "version": "3.10.9"
  }
 },
 "nbformat": 4,
 "nbformat_minor": 5
}
