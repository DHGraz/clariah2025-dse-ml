{
 "cells": [
  {
   "cell_type": "markdown",
   "id": "c407e58e-72ad-463c-a79f-a21ab9affac9",
   "metadata": {
    "id": "4533a7fc-14fa-4610-a86f-11e0ce6c7423"
   },
   "source": [
    "# Welcome to the CLARIAH-AT Summmer School 2025\n",
    "\n",
    "For the School we use a GitHub repository. Lecturers will use it to share materials with you.\n",
    "\n",
    "GitHub repo: https://github.com/DHGraz/clariah2025-dse-ml/tree/main/materials\n",
    "\n",
    "To ensure you always have the latest version of the school materials, we will link your Google Drive with GitHub. This allows you to pull the latest version of the school materials into your Google Drive."
   ]
  },
  {
   "cell_type": "code",
   "execution_count": 1,
   "id": "5f565be1-a914-4ac0-b446-cfc714e48151",
   "metadata": {
    "colab": {
     "base_uri": "https://localhost:8080/"
    },
    "id": "5f565be1-a914-4ac0-b446-cfc714e48151",
    "outputId": "c368c1c5-d6d5-48ab-8115-62c50837186f"
   },
   "outputs": [
    {
     "ename": "ModuleNotFoundError",
     "evalue": "No module named 'google.colab'",
     "output_type": "error",
     "traceback": [
      "\u001b[1;31m---------------------------------------------------------------------------\u001b[0m",
      "\u001b[1;31mModuleNotFoundError\u001b[0m                       Traceback (most recent call last)",
      "Cell \u001b[1;32mIn[1], line 3\u001b[0m\n\u001b[0;32m      1\u001b[0m \u001b[38;5;66;03m# import Google Drive\u001b[39;00m\n\u001b[0;32m      2\u001b[0m \u001b[38;5;66;03m# this needs to be done every time you open a notebook that uses data from your Google Drive\u001b[39;00m\n\u001b[1;32m----> 3\u001b[0m \u001b[38;5;28;01mfrom\u001b[39;00m \u001b[38;5;21;01mgoogle\u001b[39;00m\u001b[38;5;21;01m.\u001b[39;00m\u001b[38;5;21;01mcolab\u001b[39;00m \u001b[38;5;28;01mimport\u001b[39;00m drive\n\u001b[0;32m      4\u001b[0m drive\u001b[38;5;241m.\u001b[39mmount(\u001b[38;5;124m'\u001b[39m\u001b[38;5;124m/content/drive/\u001b[39m\u001b[38;5;124m'\u001b[39m)\n",
      "\u001b[1;31mModuleNotFoundError\u001b[0m: No module named 'google.colab'"
     ]
    }
   ],
   "source": [
    "# import Google Drive\n",
    "# this needs to be done every time you open a notebook that uses data from your Google Drive\n",
    "from google.colab import drive\n",
    "drive.mount('/content/drive/')"
   ]
  },
  {
   "cell_type": "code",
   "execution_count": null,
   "id": "8217cbf7-634f-495c-9f5a-aeaedd7ec1a5",
   "metadata": {
    "colab": {
     "base_uri": "https://localhost:8080/"
    },
    "id": "8217cbf7-634f-495c-9f5a-aeaedd7ec1a5",
    "outputId": "4270633b-9418-4c4f-aa8d-cc17f174cb70"
   },
   "outputs": [],
   "source": [
    "# set drive/MyDrive/ ad base working directory\n",
    "%cd /content/drive/MyDrive/"
   ]
  },
  {
   "cell_type": "code",
   "execution_count": null,
   "id": "f03b6cb5-6b67-42af-a62f-90537157b57a",
   "metadata": {
    "colab": {
     "base_uri": "https://localhost:8080/"
    },
    "id": "f03b6cb5-6b67-42af-a62f-90537157b57a",
    "outputId": "ceb7b370-c6c4-482e-ca3e-d174a330e998"
   },
   "outputs": [],
   "source": [
    "# clone the summer school github repo\n",
    "!git clone https://github.com/DHGraz/clariah2025-dse-ml.git"
   ]
  },
  {
   "cell_type": "code",
   "execution_count": null,
   "id": "8b6a37e5-9e16-4d30-9396-67b788e16e1d",
   "metadata": {
    "colab": {
     "base_uri": "https://localhost:8080/"
    },
    "id": "8b6a37e5-9e16-4d30-9396-67b788e16e1d",
    "outputId": "893b54d9-46d6-4fa6-c899-56c9da7803a2"
   },
   "outputs": [],
   "source": [
    "# look at the content of the current working directory, you should now see the school directory clariah2025-dse-ml\n",
    "%ls"
   ]
  },
  {
   "cell_type": "code",
   "execution_count": null,
   "id": "23f470bf-fab3-4322-a605-bb547f90a8e2",
   "metadata": {
    "colab": {
     "base_uri": "https://localhost:8080/"
    },
    "id": "23f470bf-fab3-4322-a605-bb547f90a8e2",
    "outputId": "f124f172-ba7f-422f-b2f8-c8efe5ee2884"
   },
   "outputs": [],
   "source": [
    "# set clariah2025-dse-ml as working directory\n",
    "%cd clariah2025-dse-ml"
   ]
  },
  {
   "cell_type": "code",
   "execution_count": null,
   "id": "f114f2b1-2e45-40bd-a8e7-e25afd482495",
   "metadata": {
    "colab": {
     "base_uri": "https://localhost:8080/"
    },
    "id": "f114f2b1-2e45-40bd-a8e7-e25afd482495",
    "outputId": "517fa06b-88a8-458b-a808-2b2c9080cc93"
   },
   "outputs": [],
   "source": [
    "# pull updates from the school repository\n",
    "# this should be done every morning to ensure you have the latest version of the school materials\n",
    "%cd /content/drive/MyDrive/clariah2025-dse-ml/\n",
    "!git pull"
   ]
  },
  {
   "cell_type": "markdown",
   "id": "3dc4331d-de30-42a3-9661-d59e1805ce07",
   "metadata": {
    "colab": {
     "base_uri": "https://localhost:8080/"
    },
    "id": "3f7c5e10-bd50-4a17-a023-e40215b2ce7a",
    "outputId": "3ebb8f37-345a-4af5-82e6-21146d7db7cf"
   },
   "source": [
    "### Load a dataset\n",
    "You should now be able to load a dataset from your Google Drive"
   ]
  },
  {
   "cell_type": "code",
   "execution_count": null,
   "id": "7c1dfb4f-024f-4132-8b7a-0ff099e6cce4",
   "metadata": {},
   "outputs": [],
   "source": [
    "# look again at the content of your current directory\n",
    "# you should be in clariah2025-dse-ml and there should be a sub-folder materials\n",
    "%ls"
   ]
  },
  {
   "cell_type": "code",
   "execution_count": null,
   "id": "4c71d187-5a50-4209-a799-ccb432e618ee",
   "metadata": {},
   "outputs": [],
   "source": [
    "# move to the correct folder where the dataset is located\n",
    "%cd /materials/datasets/parlamint"
   ]
  },
  {
   "cell_type": "code",
   "execution_count": null,
   "id": "0cccad00-83d8-407d-ab2c-1e0d2e037396",
   "metadata": {},
   "outputs": [],
   "source": [
    "# read in the parlamint data into a Pandas DataFrame object\n",
    "df = pd.read_csv(\"parlamint-it-is-2022.txt\", sep='\\t')\n",
    "# show the first 5 rows of your dataset\n",
    "df.head()"
   ]
  }
 ],
 "metadata": {
  "colab": {
   "provenance": []
  },
  "kernelspec": {
   "display_name": "Python 3 (ipykernel)",
   "language": "python",
   "name": "python3"
  },
  "language_info": {
   "codemirror_mode": {
    "name": "ipython",
    "version": 3
   },
   "file_extension": ".py",
   "mimetype": "text/x-python",
   "name": "python",
   "nbconvert_exporter": "python",
   "pygments_lexer": "ipython3",
   "version": "3.12.4"
  }
 },
 "nbformat": 4,
 "nbformat_minor": 5
}
