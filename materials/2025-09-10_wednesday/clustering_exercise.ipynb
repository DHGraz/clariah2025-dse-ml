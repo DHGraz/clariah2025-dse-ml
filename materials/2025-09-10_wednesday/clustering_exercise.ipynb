{
 "cells": [
  {
   "cell_type": "code",
   "execution_count": null,
   "id": "28dea707-c2b3-4bac-b6ae-01aa89feffb8",
   "metadata": {},
   "outputs": [],
   "source": [
    "from google.colab import drive\n",
    "\n",
    "drive.mount('/content/drive/')\n",
    "\n",
    " \n",
    "\n",
    "%cd drive/MyDrive/clariah2025-dse-ml/materials/2025-09-10_wednesday/"
   ]
  },
  {
   "cell_type": "markdown",
   "id": "73a362f5-9b4d-4599-97e2-16be9b029667",
   "metadata": {},
   "source": [
    "## Task 1: Getting to know the algorithms"
   ]
  },
  {
   "cell_type": "markdown",
   "id": "adc9f53d-01c2-4655-9cf6-8c72de377058",
   "metadata": {},
   "source": [
    "The goal of the first task is to explore the algorithms, run them on a simple dataset, and then find out what are good values for their parameters"
   ]
  },
  {
   "cell_type": "code",
   "execution_count": null,
   "id": "bee4ea68-f5c6-46d1-8a21-4f11b91b9025",
   "metadata": {},
   "outputs": [],
   "source": [
    "#Task 1.1: Import and load the dataset. Please run this cell\n",
    "import pandas as pd\n",
    "import numpy as np\n",
    "\n",
    "twty = np.array(pd.read_table(\"twty\",header=None,sep=\",\"))"
   ]
  },
  {
   "cell_type": "code",
   "execution_count": null,
   "id": "7e60e6ea-b3a3-4181-a8a1-597e9ac1e10d",
   "metadata": {},
   "outputs": [],
   "source": [
    "#Task 1.2: Visualize the dataset to get an understanding. Please run this cell.\n",
    "import matplotlib.pyplot as plt\n",
    "\n",
    "plt.scatter(twty[:,0],twty[:,1])\n",
    "plt.show()"
   ]
  },
  {
   "cell_type": "code",
   "execution_count": null,
   "id": "b93b5306-1201-4f45-859f-71c1aa114bbb",
   "metadata": {},
   "outputs": [],
   "source": [
    "#Task 1.3: How many clusters do you see?\n",
    "number_of_clusters = ?????"
   ]
  },
  {
   "cell_type": "code",
   "execution_count": null,
   "id": "fb88ed6e-e2c7-4275-8339-23deddd94d74",
   "metadata": {},
   "outputs": [],
   "source": [
    "#Task 1.4: Run k-means on the dataset. Please re-use and adjust the code snippet below as needed.\n",
    "\n",
    "from sklearn.cluster import KMeans\n",
    "\n",
    "#You can run k-means like this:\n",
    "#kmeans = KMeans([set parameters]).fit(dataset)\n",
    "#labels = kmeans.labels_\n",
    "#cluster_centers = kmeans.cluster_centers_\n",
    "\n"
   ]
  },
  {
   "cell_type": "code",
   "execution_count": null,
   "id": "1973a56f-b05f-4509-8e95-ca738cfd4882",
   "metadata": {},
   "outputs": [],
   "source": [
    "#Task 1.5: Visualize the clustering. Please run this cell. If you did everything right, you should see a successful clustering.\n",
    "#If it does not look right, go back to Task 1.3\n",
    "def cmap(labels):\n",
    "    m = plt.get_cmap('tab20')\n",
    "    colors = np.array([\n",
    "    'black' if label == -1 else m(label)\n",
    "    for label in labels\n",
    "    ],dtype=object)\n",
    "    return colors\n",
    "\n",
    "plt.scatter(twty[:,0],twty[:,1],c=cmap(labels))\n",
    "plt.scatter(cluster_centers[:,0],cluster_centers[:,1],c='k')\n",
    "plt.show()"
   ]
  },
  {
   "cell_type": "code",
   "execution_count": null,
   "id": "5c7e41a2-2839-46c3-8312-0b4573ca863a",
   "metadata": {},
   "outputs": [],
   "source": [
    "#Task 1.6: Run HAC. You will need to select reasonable hyperparameters.\n",
    "from sklearn.cluster import AgglomerativeClustering\n",
    "\n",
    "#hac = AgglomerativeClustering(\n",
    "#    n_clusters=[integer],\n",
    "#    metric=[distance function as string],     \n",
    "#    linkage=[linkage strategy as string]      \n",
    "#)\n",
    "#labels_hac=hac.fit_predict(twty)\n",
    "\n"
   ]
  },
  {
   "cell_type": "code",
   "execution_count": null,
   "id": "ddfaf165-346a-4fd9-acab-a4ad85a43c5c",
   "metadata": {},
   "outputs": [],
   "source": [
    "#Task 1.7: Visualize the clustering. Please run this cell. If you did everything right, you should see a successful clustering.\n",
    "#If it does not look right, go back to Task 1.6\n",
    "plt.scatter(twty[:,0],twty[:,1],c=cmap(labels_hac))\n",
    "plt.show()"
   ]
  },
  {
   "cell_type": "code",
   "execution_count": null,
   "id": "b3beb35a-1403-4e7d-a1df-79cb60f7f905",
   "metadata": {},
   "outputs": [],
   "source": [
    "#Task 1.8 Run DBSCAN. You will need to select reasonable values for eps and min_samples\n",
    "from sklearn.cluster import DBSCAN\n",
    "\n",
    "#dbscan = DBSCAN(eps=???,min_samples=???)\n",
    "#labels_dbscan = dbscan.fit_predict(twty)"
   ]
  },
  {
   "cell_type": "code",
   "execution_count": null,
   "id": "4ed09c1a-e686-411c-a8e1-8c0923e7204b",
   "metadata": {},
   "outputs": [],
   "source": [
    "#Task 1.9 Visualize the clustering. Please run this cell. If you did everything right, you should see a successful clustering.\n",
    "#If it does not look right, go back to Task 1.8\n",
    "plt.scatter(twty[:,0],twty[:,1],c=cmap(labels_dbscan))\n",
    "plt.show()"
   ]
  },
  {
   "cell_type": "markdown",
   "id": "413640b7-7121-4f43-9d29-0337842c1b43",
   "metadata": {},
   "source": [
    "## Task 2: Cluster a dataset on your own"
   ]
  },
  {
   "cell_type": "code",
   "execution_count": null,
   "id": "57330c64-5627-4e1b-bcef-8b70bb19f6bb",
   "metadata": {},
   "outputs": [],
   "source": [
    "#Task 2.1: Load the CoCo dataset. Please run this cell\n",
    "coco = np.array(pd.read_table(\"coco\",header=None,sep=\" \"))"
   ]
  },
  {
   "cell_type": "code",
   "execution_count": null,
   "id": "0612ac6c-2281-4855-9b50-a6cbaf042d08",
   "metadata": {},
   "outputs": [],
   "source": [
    "#Task 2.2: Visualize the dataset to understand what you're dealing with. Fill in the missing code. \n",
    "#You should see four clusters and a few outliers\n",
    "\n"
   ]
  },
  {
   "cell_type": "code",
   "execution_count": null,
   "id": "f211518b-2122-4869-b600-6331600fe3a0",
   "metadata": {},
   "outputs": [],
   "source": [
    "#Task 2.3: Run either K-means, HAC, or DBSCAN on coco. Try to set meaningful parameters.\n",
    "\n"
   ]
  },
  {
   "cell_type": "code",
   "execution_count": null,
   "id": "5e683882-8da1-4490-801c-fa2a583087ed",
   "metadata": {},
   "outputs": [],
   "source": [
    "#Task 2.4 Visualize the clustering. Please run this cell, but fill in your labels. If you did everything right, you should see a successful clustering.\n",
    "#Your clustering is successful if it clearly separates the four clusters from each other, and does not include (too many) outliers.\n",
    "#If it does not look right, go back to Task 2.3\n",
    "plt.scatter(coco[:,0],coco[:,1],c=cmap([YOUR_LABELS]))\n",
    "plt.show()"
   ]
  },
  {
   "cell_type": "markdown",
   "id": "df9cf0ed-7114-457c-ac2f-e75887f1017a",
   "metadata": {},
   "source": [
    "## Task 3: Finding two clusters in Old Faithful"
   ]
  },
  {
   "cell_type": "code",
   "execution_count": null,
   "id": "72198dea-df18-4572-8022-12a132fb0fc0",
   "metadata": {},
   "outputs": [],
   "source": [
    "#Task 3.1: Load old faithful. Please run this cell.\n",
    "faithful = np.array(pd.read_table(\"faithful\",header=None,sep=\",\"))"
   ]
  },
  {
   "cell_type": "code",
   "execution_count": null,
   "id": "6e294701-ae11-4651-b7f1-558c46f364b9",
   "metadata": {},
   "outputs": [],
   "source": [
    "#Task 3.2: Visualize the dataset to understand what you're dealing with. Fill in the missing code.\n"
   ]
  },
  {
   "cell_type": "code",
   "execution_count": null,
   "id": "61afca69-8e57-4cf1-90fd-95a846da94c7",
   "metadata": {},
   "outputs": [],
   "source": [
    "#Task 3.3: Try out HDBSCAN and visualize the results. Please run this cell.\n",
    "from sklearn.cluster import HDBSCAN\n",
    "b = HDBSCAN().fit_predict(faithful)\n",
    "\n",
    "plt.scatter(faithful[:,0],faithful[:,1],c=cmap(b))\n",
    "plt.show()"
   ]
  },
  {
   "cell_type": "code",
   "execution_count": null,
   "id": "162f54e2-8627-4441-92c0-b98ee37a51e3",
   "metadata": {},
   "outputs": [],
   "source": [
    "#Task 3.4: Is this a good result? If yes, why? If not, why not? Write your answer in the cell below."
   ]
  },
  {
   "cell_type": "markdown",
   "id": "b2f6fae3-96d4-467c-9ba6-bd3f0250b2df",
   "metadata": {},
   "source": []
  },
  {
   "cell_type": "code",
   "execution_count": null,
   "id": "1ac5db80-02b7-4558-89ea-38e3c60522d4",
   "metadata": {},
   "outputs": [],
   "source": [
    "#Task 3.3: Cluster Old Faithful and check the results using an appropriate visualization. Write your own code.\n",
    "#Repeat this task until you obtain a satisfactory clustering\n",
    "\n"
   ]
  },
  {
   "cell_type": "markdown",
   "id": "335f1819-1bf9-4533-b209-f3ff09e189d0",
   "metadata": {},
   "source": [
    "## Task 4: Cluster a word embedding"
   ]
  },
  {
   "cell_type": "code",
   "execution_count": null,
   "id": "29b3cf3c-4d8c-4b7b-b39e-1f251583efc2",
   "metadata": {},
   "outputs": [],
   "source": [
    "#Task 4.1: Load the word embedding and check that it loaded correctly. Please run this cell\n",
    "\n",
    "embeddings = pd.read_pickle(\"SENTENCE_TRANSFORMER_SMALL_PER_UTTERANCE.pkl\")\n",
    "print(embeddings.head())"
   ]
  },
  {
   "cell_type": "code",
   "execution_count": null,
   "id": "3a9476dc-c211-4cf2-8858-50b887517343",
   "metadata": {},
   "outputs": [],
   "source": [
    "#Task 4.2: Extract the vectors and normalize them. Please run this cell\n",
    "from sklearn.preprocessing import normalize\n",
    "df = normalize(np.stack(embeddings.embedding.values))"
   ]
  },
  {
   "cell_type": "code",
   "execution_count": null,
   "id": "29b64828-c94b-4cc0-9031-42ff79f52b8b",
   "metadata": {},
   "outputs": [],
   "source": [
    "#Task 4.3: Use UMAP to reduce the embedding to two components. Write your own code.\n",
    "\n"
   ]
  },
  {
   "cell_type": "code",
   "execution_count": null,
   "id": "84a764ec-d0a3-4386-b67f-e80e62b72e02",
   "metadata": {},
   "outputs": [],
   "source": [
    "#Task 4.4: Plot the dataset. Write your own code.\n"
   ]
  },
  {
   "cell_type": "code",
   "execution_count": null,
   "id": "25d138ad-de6c-4f2f-9aa0-30d16f1ae35b",
   "metadata": {},
   "outputs": [],
   "source": [
    "#Task 4.5: Cluster the reduced dataset, visuallize the results, and check.\n",
    "#Write your own code\n",
    "#You may need to repeat this task several times to obtain a satisfactory clustering\n",
    "#Aim for 5-10 clusters.\n"
   ]
  }
 ],
 "metadata": {
  "kernelspec": {
   "display_name": "Python 3 (ipykernel)",
   "language": "python",
   "name": "python3"
  },
  "language_info": {
   "codemirror_mode": {
    "name": "ipython",
    "version": 3
   },
   "file_extension": ".py",
   "mimetype": "text/x-python",
   "name": "python",
   "nbconvert_exporter": "python",
   "pygments_lexer": "ipython3",
   "version": "3.13.5"
  }
 },
 "nbformat": 4,
 "nbformat_minor": 5
}
