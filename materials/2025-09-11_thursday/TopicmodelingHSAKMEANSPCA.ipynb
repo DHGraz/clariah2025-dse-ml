{
 "cells": [
  {
   "cell_type": "markdown",
   "metadata": {
    "id": "25JCE7oWq7qW"
   },
   "source": [
    "**GENERAL INFORMATION**\n",
    "\n",
    "Further Reading:\n",
    "\n",
    "https://www.zotero.org/michael.otto/collections/4MM7QXCZ\n",
    "\n",
    "https://maartengr.github.io/BERTopic/index.html\n",
    "\n"
   ]
  },
  {
   "cell_type": "markdown",
   "metadata": {
    "id": "rVWRVZjAJ2M8"
   },
   "source": [
    "**DEPENDENCIES**"
   ]
  },
  {
   "cell_type": "code",
   "execution_count": 1,
   "metadata": {
    "executionInfo": {
     "elapsed": 8126,
     "status": "ok",
     "timestamp": 1757492884693,
     "user": {
      "displayName": "m. otto",
      "userId": "07165694256129537082"
     },
     "user_tz": -120
    },
    "id": "kwfcP7j_JgYe"
   },
   "outputs": [],
   "source": [
    "%%capture\n",
    "!pip install bertopic datasets openai datamapplot"
   ]
  },
  {
   "cell_type": "code",
   "execution_count": 2,
   "metadata": {
    "colab": {
     "base_uri": "https://localhost:8080/"
    },
    "executionInfo": {
     "elapsed": 6660,
     "status": "ok",
     "timestamp": 1757492891354,
     "user": {
      "displayName": "m. otto",
      "userId": "07165694256129537082"
     },
     "user_tz": -120
    },
    "id": "GE0UzbMwJhtb",
    "outputId": "a0587b33-fbd5-4ffb-af05-4850bd5e5903"
   },
   "outputs": [
    {
     "name": "stdout",
     "output_type": "stream",
     "text": [
      "Requirement already satisfied: datasets in /usr/local/lib/python3.12/dist-packages (4.0.0)\n",
      "Requirement already satisfied: fsspec in /usr/local/lib/python3.12/dist-packages (2025.3.0)\n",
      "Collecting fsspec\n",
      "  Using cached fsspec-2025.9.0-py3-none-any.whl.metadata (10 kB)\n",
      "Requirement already satisfied: aiohttp in /usr/local/lib/python3.12/dist-packages (3.12.15)\n",
      "Requirement already satisfied: filelock in /usr/local/lib/python3.12/dist-packages (from datasets) (3.19.1)\n",
      "Requirement already satisfied: numpy>=1.17 in /usr/local/lib/python3.12/dist-packages (from datasets) (2.0.2)\n",
      "Requirement already satisfied: pyarrow>=15.0.0 in /usr/local/lib/python3.12/dist-packages (from datasets) (18.1.0)\n",
      "Requirement already satisfied: dill<0.3.9,>=0.3.0 in /usr/local/lib/python3.12/dist-packages (from datasets) (0.3.8)\n",
      "Requirement already satisfied: pandas in /usr/local/lib/python3.12/dist-packages (from datasets) (2.2.2)\n",
      "Requirement already satisfied: requests>=2.32.2 in /usr/local/lib/python3.12/dist-packages (from datasets) (2.32.4)\n",
      "Requirement already satisfied: tqdm>=4.66.3 in /usr/local/lib/python3.12/dist-packages (from datasets) (4.67.1)\n",
      "Requirement already satisfied: xxhash in /usr/local/lib/python3.12/dist-packages (from datasets) (3.5.0)\n",
      "Requirement already satisfied: multiprocess<0.70.17 in /usr/local/lib/python3.12/dist-packages (from datasets) (0.70.16)\n",
      "Requirement already satisfied: huggingface-hub>=0.24.0 in /usr/local/lib/python3.12/dist-packages (from datasets) (0.34.4)\n",
      "Requirement already satisfied: packaging in /usr/local/lib/python3.12/dist-packages (from datasets) (25.0)\n",
      "Requirement already satisfied: pyyaml>=5.1 in /usr/local/lib/python3.12/dist-packages (from datasets) (6.0.2)\n",
      "Requirement already satisfied: aiohappyeyeballs>=2.5.0 in /usr/local/lib/python3.12/dist-packages (from aiohttp) (2.6.1)\n",
      "Requirement already satisfied: aiosignal>=1.4.0 in /usr/local/lib/python3.12/dist-packages (from aiohttp) (1.4.0)\n",
      "Requirement already satisfied: attrs>=17.3.0 in /usr/local/lib/python3.12/dist-packages (from aiohttp) (25.3.0)\n",
      "Requirement already satisfied: frozenlist>=1.1.1 in /usr/local/lib/python3.12/dist-packages (from aiohttp) (1.7.0)\n",
      "Requirement already satisfied: multidict<7.0,>=4.5 in /usr/local/lib/python3.12/dist-packages (from aiohttp) (6.6.4)\n",
      "Requirement already satisfied: propcache>=0.2.0 in /usr/local/lib/python3.12/dist-packages (from aiohttp) (0.3.2)\n",
      "Requirement already satisfied: yarl<2.0,>=1.17.0 in /usr/local/lib/python3.12/dist-packages (from aiohttp) (1.20.1)\n",
      "Requirement already satisfied: typing-extensions>=4.2 in /usr/local/lib/python3.12/dist-packages (from aiosignal>=1.4.0->aiohttp) (4.15.0)\n",
      "Requirement already satisfied: hf-xet<2.0.0,>=1.1.3 in /usr/local/lib/python3.12/dist-packages (from huggingface-hub>=0.24.0->datasets) (1.1.9)\n",
      "Requirement already satisfied: charset_normalizer<4,>=2 in /usr/local/lib/python3.12/dist-packages (from requests>=2.32.2->datasets) (3.4.3)\n",
      "Requirement already satisfied: idna<4,>=2.5 in /usr/local/lib/python3.12/dist-packages (from requests>=2.32.2->datasets) (3.10)\n",
      "Requirement already satisfied: urllib3<3,>=1.21.1 in /usr/local/lib/python3.12/dist-packages (from requests>=2.32.2->datasets) (2.5.0)\n",
      "Requirement already satisfied: certifi>=2017.4.17 in /usr/local/lib/python3.12/dist-packages (from requests>=2.32.2->datasets) (2025.8.3)\n",
      "Requirement already satisfied: python-dateutil>=2.8.2 in /usr/local/lib/python3.12/dist-packages (from pandas->datasets) (2.9.0.post0)\n",
      "Requirement already satisfied: pytz>=2020.1 in /usr/local/lib/python3.12/dist-packages (from pandas->datasets) (2025.2)\n",
      "Requirement already satisfied: tzdata>=2022.7 in /usr/local/lib/python3.12/dist-packages (from pandas->datasets) (2025.2)\n",
      "Requirement already satisfied: six>=1.5 in /usr/local/lib/python3.12/dist-packages (from python-dateutil>=2.8.2->pandas->datasets) (1.17.0)\n"
     ]
    }
   ],
   "source": [
    "!pip install --upgrade datasets fsspec aiohttp"
   ]
  },
  {
   "cell_type": "code",
   "execution_count": 3,
   "metadata": {
    "colab": {
     "base_uri": "https://localhost:8080/"
    },
    "executionInfo": {
     "elapsed": 4592,
     "status": "ok",
     "timestamp": 1757492895945,
     "user": {
      "displayName": "m. otto",
      "userId": "07165694256129537082"
     },
     "user_tz": -120
    },
    "id": "0OjsiIRSHis8",
    "outputId": "2de2a8c1-f9c4-4da4-9b37-c996b6658ea4"
   },
   "outputs": [
    {
     "name": "stdout",
     "output_type": "stream",
     "text": [
      "Requirement already satisfied: stopwordsiso in /usr/local/lib/python3.12/dist-packages (0.6.1)\n"
     ]
    }
   ],
   "source": [
    "!pip install stopwordsiso"
   ]
  },
  {
   "cell_type": "markdown",
   "metadata": {
    "id": "Qc-6TVBrKwZh"
   },
   "source": [
    "**IMPORTS**"
   ]
  },
  {
   "cell_type": "code",
   "execution_count": 4,
   "metadata": {
    "colab": {
     "base_uri": "https://localhost:8080/"
    },
    "executionInfo": {
     "elapsed": 39321,
     "status": "ok",
     "timestamp": 1757492935276,
     "user": {
      "displayName": "m. otto",
      "userId": "07165694256129537082"
     },
     "user_tz": -120
    },
    "id": "a_ohyNZQKvH5",
    "outputId": "9894d87d-5d34-4eec-9bd2-4b631e252822"
   },
   "outputs": [
    {
     "name": "stdout",
     "output_type": "stream",
     "text": [
      "Drive already mounted at /content/drive; to attempt to forcibly remount, call drive.mount(\"/content/drive\", force_remount=True).\n"
     ]
    }
   ],
   "source": [
    "import pandas as pd\n",
    "import numpy as np\n",
    "import re\n",
    "import matplotlib.pyplot as plt\n",
    "from google.colab import drive\n",
    "from IPython.display import display\n",
    "from umap import UMAP\n",
    "from tqdm import tqdm\n",
    "from sentence_transformers import SentenceTransformer\n",
    "from hdbscan import HDBSCAN\n",
    "from sklearn.cluster import KMeans\n",
    "from sklearn.decomposition import PCA\n",
    "from sklearn.feature_extraction.text import CountVectorizer\n",
    "from copy import deepcopy\n",
    "from bertopic import BERTopic\n",
    "from bertopic.representation import KeyBERTInspired\n",
    "from bertopic.representation import MaximalMarginalRelevance\n",
    "import stopwordsiso as stopwords\n",
    "from collections import defaultdict\n",
    "import openai\n",
    "from openai import OpenAI\n",
    "from bertopic.representation import OpenAI as OpenAIRep\n",
    "import matplotlib.pyplot as plt\n",
    "\n",
    "\n",
    "drive.mount('/content/drive') # only for google colab"
   ]
  },
  {
   "cell_type": "markdown",
   "metadata": {
    "id": "fPHgdQNSKAhJ"
   },
   "source": [
    "**DATA ACQUISISTION**"
   ]
  },
  {
   "cell_type": "code",
   "execution_count": 5,
   "metadata": {
    "executionInfo": {
     "elapsed": 1,
     "status": "ok",
     "timestamp": 1757492935279,
     "user": {
      "displayName": "m. otto",
      "userId": "07165694256129537082"
     },
     "user_tz": -120
    },
    "id": "hCgonUGXKCnL"
   },
   "outputs": [],
   "source": [
    "def load_and_validate_csv(file_path):\n",
    "    try:\n",
    "        df = pd.read_csv(file_path)\n",
    "        print(\"Dataset loaded. Here are the first rows:\")\n",
    "        display(df.head())\n",
    "    except FileNotFoundError:\n",
    "        raise FileNotFoundError(f\"No file found at {file_path!r}. Check that the path is correct.\")\n",
    "    except Exception as e:\n",
    "        raise RuntimeError(f\"Error reading {file_path!r}: {e}\")\n",
    "\n",
    "    required_cols = ['pid', 'text']\n",
    "    missing = [col for col in required_cols if col not in df.columns]\n",
    "    if missing:\n",
    "        raise KeyError(f\"Missing columns in CSV: {missing}\")\n",
    "    df_par = df.copy()\n",
    "\n",
    "    return df, df_par"
   ]
  },
  {
   "cell_type": "code",
   "execution_count": 6,
   "metadata": {
    "executionInfo": {
     "elapsed": 1,
     "status": "ok",
     "timestamp": 1757492935280,
     "user": {
      "displayName": "m. otto",
      "userId": "07165694256129537082"
     },
     "user_tz": -120
    },
    "id": "CmFnXC9wK7sk"
   },
   "outputs": [],
   "source": [
    "def prepare_text_data(df_par):\n",
    "    df_par = df_par.dropna(subset=['text'])\n",
    "    df_par['text'] = df_par['text'].astype(str)\n",
    "\n",
    "    pids = df_par['pid'].tolist()\n",
    "    texts = df_par['text'].tolist()\n",
    "    langs = df_par['language'].dropna().unique().tolist()\n",
    "\n",
    "    print(f\" First 5 pids: {pids[:5]}\")\n",
    "    print(f\"First 5 texts: {texts[:5]}\")\n",
    "    print(f\"First 5 launguages: {langs[:5]}\")\n",
    "\n",
    "    return pids, texts, langs"
   ]
  },
  {
   "cell_type": "markdown",
   "metadata": {
    "id": "KJG0rfX0LQWO"
   },
   "source": [
    "**EMBEDDING**\n",
    "\n",
    "Start of by transforming the input texts into numerical represantation. Turns the documents into an n-dimensionary array.\n",
    "\n",
    "Further Reading:\n",
    "\n",
    "https://maartengr.github.io/BERTopic/getting_started/embeddings/embeddings.html"
   ]
  },
  {
   "cell_type": "code",
   "execution_count": 7,
   "metadata": {
    "executionInfo": {
     "elapsed": 2,
     "status": "ok",
     "timestamp": 1757492935293,
     "user": {
      "displayName": "m. otto",
      "userId": "07165694256129537082"
     },
     "user_tz": -120
    },
    "id": "pzHarBZcLVt4"
   },
   "outputs": [],
   "source": [
    "def embed_docs(texts):\n",
    "    model = SentenceTransformer('paraphrase-multilingual-MiniLM-L12-v2')##thenlper/gte-small\n",
    "    # Clean input of floats\n",
    "    texts = [str(t) for t in texts if isinstance(t, str) and t.strip() != \"\"]\n",
    "\n",
    "    embeddings = model.encode(texts, show_progress_bar=True)\n",
    "    print(\"Embedding complete. Shape:\", embeddings.shape)\n",
    "    return model, embeddings"
   ]
  },
  {
   "cell_type": "markdown",
   "metadata": {
    "id": "1Fu8BS65LrtM"
   },
   "source": [
    "**DIMENSIONALITY REDUCTION**\n",
    "\n",
    "Now the embeddings have high dimensionality, which might hinder clustering later on the embeddings are reduced to a workable dimensional space, such as 5 dimensions.\n",
    "\n",
    "Further Reading:\n",
    "\n",
    "https://www.zotero.org/michael.otto/collections/WEQ9TCUX\n",
    "\n",
    "https://maartengr.github.io/BERTopic/getting_started/dim_reduction/dim_reduction.html\n"
   ]
  },
  {
   "cell_type": "markdown",
   "metadata": {
    "id": "Ao1w8brSTtvx"
   },
   "source": [
    "*UMAP*"
   ]
  },
  {
   "cell_type": "code",
   "execution_count": 8,
   "metadata": {
    "executionInfo": {
     "elapsed": 1,
     "status": "ok",
     "timestamp": 1757492935295,
     "user": {
      "displayName": "m. otto",
      "userId": "07165694256129537082"
     },
     "user_tz": -120
    },
    "id": "a-1C8rb_LVds"
   },
   "outputs": [],
   "source": [
    "def reduce_dimensions(embeddings):\n",
    "\n",
    "    umap_model = UMAP(\n",
    "      n_components=5, #number of dimensions\n",
    "      n_neighbors=10,\n",
    "      metric='cosine',\n",
    "      random_state=42\n",
    "    )\n",
    "    reduced_embeddings = umap_model.fit_transform(embeddings)\n",
    "\n",
    "    return reduced_embeddings, umap_model\n"
   ]
  },
  {
   "cell_type": "markdown",
   "metadata": {
    "id": "sIDq5SmlTyMq"
   },
   "source": [
    "*PCA (Alternative)*"
   ]
  },
  {
   "cell_type": "code",
   "execution_count": 9,
   "metadata": {
    "executionInfo": {
     "elapsed": 1,
     "status": "ok",
     "timestamp": 1757492935298,
     "user": {
      "displayName": "m. otto",
      "userId": "07165694256129537082"
     },
     "user_tz": -120
    },
    "id": "hmgikpVlT0Cz"
   },
   "outputs": [],
   "source": [
    "\n",
    "def reduce_dimensions_pca(embeddings, n_components=2):\n",
    "    with tqdm(total=1, desc=\"PCA reduction\", unit=\"step\") as pbar:\n",
    "        pca_model = PCA(\n",
    "            n_components=n_components, #number of dimensions\n",
    "            random_state=42\n",
    "        )\n",
    "        reduced_embeddings = pca_model.fit_transform(embeddings)\n",
    "        pbar.update(1)\n",
    "\n",
    "    return reduced_embeddings, pca_model"
   ]
  },
  {
   "cell_type": "markdown",
   "metadata": {
    "id": "aCl4M67NOZTg"
   },
   "source": [
    "**CLUSTERING**\n",
    "\n",
    "The input embeddings ar now clustered into groups of similar embeddings which allows the model to extract the topics.\n",
    "\n",
    "Further Reading:\n",
    "\n",
    "https://www.zotero.org/michael.otto/collections/3PKFGDVB\n",
    "\n",
    "https://maartengr.github.io/BERTopic/getting_started/clustering/clustering.html"
   ]
  },
  {
   "cell_type": "markdown",
   "metadata": {
    "id": "jHlfs-8mlfuL"
   },
   "source": [
    "*HDBScan*"
   ]
  },
  {
   "cell_type": "code",
   "execution_count": 10,
   "metadata": {
    "executionInfo": {
     "elapsed": 53,
     "status": "ok",
     "timestamp": 1757492935360,
     "user": {
      "displayName": "m. otto",
      "userId": "07165694256129537082"
     },
     "user_tz": -120
    },
    "id": "kSl5RB0mOxrK"
   },
   "outputs": [],
   "source": [
    "def cluster_embeddings_hdb(reduced_embeddings):\n",
    "  hdbscan_model = HDBSCAN(\n",
    "      min_cluster_size=15, #minimal amount of tokens in a cluster\n",
    "      min_samples=10,\n",
    "      metric='euclidean', #metric for measuring distance between points\n",
    "      cluster_selection_method='eom',\n",
    "      prediction_data=True\n",
    "  ).fit(reduced_embeddings)\n",
    "\n",
    "  clusters = hdbscan_model.labels_\n",
    "\n",
    "  n_clusters = len(set(clusters)) - (1 if -1 in clusters else 0)\n",
    "  print(f\"Total clusters (excluding noise): {n_clusters}\")\n",
    "\n",
    "\n",
    "  n_noise = np.sum(clusters == -1)\n",
    "  print(f\"Noise points: {n_noise} ({n_noise / len(clusters):.1%} of all paragraphs)\")\n",
    "\n",
    "  cluster_sizes = pd.Series(clusters).value_counts().sort_values(ascending=False)\n",
    "  print(\"\\nTop 10 cluster sizes (cluster_id: size):\")\n",
    "  print(cluster_sizes.head(10))\n",
    "\n",
    "  print(\"\\nSmallest 10 non-noise cluster sizes:\")\n",
    "  print(cluster_sizes[cluster_sizes.index != -1].tail(10))\n",
    "\n",
    "  return clusters, hdbscan_model"
   ]
  },
  {
   "cell_type": "markdown",
   "metadata": {
    "id": "zpW_OdspXLMp"
   },
   "source": [
    "*k-means* (Alternative)"
   ]
  },
  {
   "cell_type": "code",
   "execution_count": 11,
   "metadata": {
    "executionInfo": {
     "elapsed": 7,
     "status": "ok",
     "timestamp": 1757492935361,
     "user": {
      "displayName": "m. otto",
      "userId": "07165694256129537082"
     },
     "user_tz": -120
    },
    "id": "MUvXyZ03XOs9"
   },
   "outputs": [],
   "source": [
    "def cluster_embeddings_kmeans(reduced_embeddings):\n",
    "    n_clusters = 50\n",
    "    kmeans = KMeans(n_clusters=n_clusters, random_state=42)\n",
    "    clusters = kmeans.fit_predict(reduced_embeddings)\n",
    "\n",
    "    print(f\"Total clusters: {n_clusters}\")\n",
    "    cluster_sizes = pd.Series(clusters).value_counts().sort_values(ascending=False)\n",
    "\n",
    "    print(\"\\nTop 10 cluster sizes (cluster_id: size):\")\n",
    "    print(cluster_sizes.head(10))\n",
    "\n",
    "    print(\"\\nSmallest 10 cluster sizes:\")\n",
    "    print(cluster_sizes.tail(10))\n",
    "\n",
    "    return clusters, kmeans"
   ]
  },
  {
   "cell_type": "markdown",
   "metadata": {
    "id": "dkDlAelfPmeu"
   },
   "source": [
    "*Inspect a Cluster*"
   ]
  },
  {
   "cell_type": "code",
   "execution_count": 12,
   "metadata": {
    "executionInfo": {
     "elapsed": 6,
     "status": "ok",
     "timestamp": 1757492935361,
     "user": {
      "displayName": "m. otto",
      "userId": "07165694256129537082"
     },
     "user_tz": -120
    },
    "id": "MAyn37m-QH0T"
   },
   "outputs": [],
   "source": [
    "def inspection(clusters, texts):\n",
    "  cluster = 3\n",
    "  for index in np.where(clusters==cluster)[0][:3]:\n",
    "      print(texts[index][:300] + \"... \\n\")"
   ]
  },
  {
   "cell_type": "markdown",
   "metadata": {
    "id": "sNSeyHJxpySO"
   },
   "source": [
    "*Reduce Embeddings for Plotting*"
   ]
  },
  {
   "cell_type": "code",
   "execution_count": 13,
   "metadata": {
    "executionInfo": {
     "elapsed": 7,
     "status": "ok",
     "timestamp": 1757492935362,
     "user": {
      "displayName": "m. otto",
      "userId": "07165694256129537082"
     },
     "user_tz": -120
    },
    "id": "eGzh-5pRp2Vm"
   },
   "outputs": [],
   "source": [
    "def reduce_st_plot_embeds(embeddings):\n",
    "  reduced_embeddings = UMAP(\n",
    "      n_components=2, min_dist=0.0, metric='cosine', random_state=42 #reduce to 2 dimensions to enable plotting\n",
    "  ).fit_transform(embeddings)\n",
    "  return reduced_embeddings"
   ]
  },
  {
   "cell_type": "markdown",
   "metadata": {
    "id": "i9x41ENZQaY5"
   },
   "source": [
    "*Static plot for the cluster*"
   ]
  },
  {
   "cell_type": "code",
   "execution_count": 14,
   "metadata": {
    "executionInfo": {
     "elapsed": 5,
     "status": "ok",
     "timestamp": 1757492935362,
     "user": {
      "displayName": "m. otto",
      "userId": "07165694256129537082"
     },
     "user_tz": -120
    },
    "id": "Qdx6xMBnQ7g3"
   },
   "outputs": [],
   "source": [
    "def static_plot(clusters, texts, reduced_embeddings, save_path=None):\n",
    "    df = pd.DataFrame(reduced_embeddings, columns=[\"x\", \"y\"])\n",
    "    df[\"cluster\"] = [str(c) for c in clusters]\n",
    "\n",
    "    clusters_df = df[df[\"cluster\"] != \"-1\"]\n",
    "    outliers_df = df[df[\"cluster\"] == \"-1\"]\n",
    "\n",
    "    plt.figure(figsize=(10, 8))\n",
    "\n",
    "    # Plot outliers\n",
    "    plt.scatter(outliers_df.x, outliers_df.y, alpha=0.05, s=2, c=\"grey\", label=\"Noise\")\n",
    "\n",
    "    # Plot clusters\n",
    "    scatter = plt.scatter(\n",
    "        clusters_df.x, clusters_df.y,\n",
    "        c=clusters_df.cluster.astype(int),\n",
    "        alpha=0.6, s=2, cmap='tab20b', label=\"Clusters\"\n",
    "    )\n",
    "\n",
    "    plt.axis('off')\n",
    "\n",
    "    if save_path:\n",
    "        plt.savefig(save_path, dpi=300, bbox_inches='tight')\n",
    "        print(f\"Plot saved to {save_path}\")\n",
    "\n",
    "    plt.show()\n",
    "    plt.close()"
   ]
  },
  {
   "cell_type": "markdown",
   "metadata": {
    "id": "p5_JVelUR8L6"
   },
   "source": [
    "*Training the model*"
   ]
  },
  {
   "cell_type": "code",
   "execution_count": 15,
   "metadata": {
    "executionInfo": {
     "elapsed": 5,
     "status": "ok",
     "timestamp": 1757492935363,
     "user": {
      "displayName": "m. otto",
      "userId": "07165694256129537082"
     },
     "user_tz": -120
    },
    "id": "qpgzXdx2RtX8"
   },
   "outputs": [],
   "source": [
    "def train_model(texts, reduced_embeddings):\n",
    "    topic_model = BERTopic(\n",
    "        #embedding_model = model,\n",
    "        embedding_model=SentenceTransformer('paraphrase-multilingual-MiniLM-L12-v2'), # Use the SentenceTransformer model directly for pca\n",
    "        #umap_model=umap_model,\n",
    "        #optional\n",
    "        umap_model = pca_model, #alternative to the umap model, for usage do not forget to also change it in the pipeline\n",
    "        #hdbscan_model=hdbscan_model,\n",
    "        hdbscan_model=kmeans, #alternative to the hdbscan model, for usage do not forget to also change it in the pipeline\n",
    "        language=\"multilingual\",\n",
    "        verbose=True\n",
    "    )\n",
    "\n",
    "    print(f\"\\n\\n\\n embeds: \\n {reduced_embeddings[0]}\\n\") # Use reduced_embeddings here\n",
    "\n",
    "    topics, probs = topic_model.fit_transform(texts, reduced_embeddings) # Use reduced_embeddings here\n",
    "    probs = topic_model.approximate_distribution(texts)\n",
    "    print(f\"\\n\\n\\n probs: \\n {probs[0]}\\n\")\n",
    "\n",
    "    return topic_model, topics, probs"
   ]
  },
  {
   "cell_type": "markdown",
   "metadata": {
    "id": "fcRf1ghISsUQ"
   },
   "source": [
    "*Align Dataframe*"
   ]
  },
  {
   "cell_type": "code",
   "execution_count": 16,
   "metadata": {
    "executionInfo": {
     "elapsed": 4,
     "status": "ok",
     "timestamp": 1757492935363,
     "user": {
      "displayName": "m. otto",
      "userId": "07165694256129537082"
     },
     "user_tz": -120
    },
    "id": "FjGU4PQnSxM6"
   },
   "outputs": [],
   "source": [
    "def align_df_par(df_par, topics, probs):\n",
    "  df_par_aligned = df_par.loc[[i for i, t in enumerate(texts) if isinstance(t, str) and t.strip() != \"\"]].copy()\n",
    "\n",
    "  df_par_aligned['pred_topic'] = topics\n",
    "  df_par_aligned['pred_prob']  = probs   # probs is already one float per row\n",
    "  df_par = df_par_aligned\n",
    "  return df_par"
   ]
  },
  {
   "cell_type": "code",
   "execution_count": 29,
   "metadata": {
    "executionInfo": {
     "elapsed": 6,
     "status": "ok",
     "timestamp": 1757493885649,
     "user": {
      "displayName": "m. otto",
      "userId": "07165694256129537082"
     },
     "user_tz": -120
    },
    "id": "xDGUS3YSxVEJ"
   },
   "outputs": [],
   "source": [
    "def align_df_par_kmeans(df_par, topics, probs, use_assigned_topic=True):\n",
    "    try:\n",
    "        from scipy import sparse\n",
    "    except Exception:\n",
    "        sparse = None\n",
    "\n",
    "    df = df_par.copy()\n",
    "    n = len(df)\n",
    "    topics_arr = np.asarray(topics)\n",
    "\n",
    "    # --- normalize probs into a dense 2-D float array or a 1-D vector ---\n",
    "    P = probs\n",
    "    if P is None:\n",
    "        pred_prob = np.full(n, np.nan, dtype=float)\n",
    "    else:\n",
    "        # unwrap tuple/list returns (common with some BERTopic helpers)\n",
    "        if isinstance(P, (list, tuple)):\n",
    "            # heuristics: first element is usually the matrix\n",
    "            P = P[0]\n",
    "\n",
    "        # convert sparse -> dense\n",
    "        if sparse is not None and sparse.issparse(P):\n",
    "            P = P.toarray()\n",
    "\n",
    "        # finally coerce to np array\n",
    "        P = np.asarray(P, dtype=float)\n",
    "\n",
    "        if P.ndim == 1:\n",
    "            # already one score per doc\n",
    "            if len(P) != n:\n",
    "                raise ValueError(f\"Length mismatch: probs has {len(P)} rows, df has {n}\")\n",
    "            pred_prob = P\n",
    "        elif P.ndim == 2:\n",
    "            if P.shape[0] != n:\n",
    "                raise ValueError(f\"Row mismatch: probs has {P.shape[0]} rows, df has {n}\")\n",
    "\n",
    "            if use_assigned_topic:\n",
    "                # probability of the assigned topic per doc\n",
    "                pred_prob = np.zeros(n, dtype=float)\n",
    "                # treat outliers (-1) as 0 probability\n",
    "                valid = (topics_arr >= 0) & (topics_arr < P.shape[1])\n",
    "                idx = np.arange(n)[valid]\n",
    "                pred_prob[valid] = P[idx, topics_arr[valid]]\n",
    "                pred_prob[~valid] = 0.0\n",
    "            else:\n",
    "                # best topic probability per doc (row-wise max)\n",
    "                pred_prob = P.max(axis=1)\n",
    "        else:\n",
    "            raise ValueError(f\"Unexpected probs.ndim={P.ndim}\")\n",
    "\n",
    "    df[\"pred_topic\"] = topics_arr\n",
    "    df[\"pred_prob\"] = pred_prob\n",
    "    return df\n"
   ]
  },
  {
   "cell_type": "markdown",
   "metadata": {
    "id": "unLQK-jrVw9R"
   },
   "source": [
    "**VECTORIZERS**\n",
    "\n",
    "Allows for interpretable topic represantations.\n",
    "\n",
    "Further Reading:\n",
    "\n",
    "https://maartengr.github.io/BERTopic/getting_started/vectorizers/vectorizers.html\n",
    "\n",
    "https://www.zotero.org/michael.otto/collections/368TFPZM\n",
    "\n",
    "\n",
    "https://github.com/stopwords-iso/stopwords-iso\n"
   ]
  },
  {
   "cell_type": "markdown",
   "metadata": {
    "id": "78hOVWraV3yk"
   },
   "source": [
    "*Count Vectorizer*"
   ]
  },
  {
   "cell_type": "code",
   "execution_count": 17,
   "metadata": {
    "executionInfo": {
     "elapsed": 29,
     "status": "ok",
     "timestamp": 1757492935390,
     "user": {
      "displayName": "m. otto",
      "userId": "07165694256129537082"
     },
     "user_tz": -120
    },
    "id": "Gw4aYZoLV0ey"
   },
   "outputs": [],
   "source": [
    "def adjust_stop_words(topic_model, texts, langs):\n",
    "  stop_words = [\"et\", \"in\", \"est\", \"ad\", \"qui\", \"autem\", \"non\", \"de\", \"eius\", \"ut\", \"quae\", \"cum\", \"si\", \"eum\"]\n",
    "  stop_words = set()\n",
    "\n",
    "  sw = set()\n",
    "  #stopwordsiso is a ell amintained library following the ISO 639-1 language code, available languages can be displyed with stopwords.langs()\n",
    "  for lang in langs:\n",
    "    if isinstance(lang, str) and stopwords.has_lang(lang):\n",
    "      sw.update(stopwords.stopwords(lang))\n",
    "\n",
    "  stop_words = list(sw)\n",
    "  stop_words = list(stop_words)\n",
    "\n",
    "  vectorizer_model = CountVectorizer(stop_words=stop_words)\n",
    "  topic_model.update_topics(texts, vectorizer_model=vectorizer_model)\n",
    "  return stop_words"
   ]
  },
  {
   "cell_type": "markdown",
   "metadata": {
    "id": "gj3wwwyS8aBf"
   },
   "source": [
    "*Topic Infos*"
   ]
  },
  {
   "cell_type": "code",
   "execution_count": 32,
   "metadata": {
    "executionInfo": {
     "elapsed": 6,
     "status": "ok",
     "timestamp": 1757494364354,
     "user": {
      "displayName": "m. otto",
      "userId": "07165694256129537082"
     },
     "user_tz": -120
    },
    "id": "LYq9kewq8cXQ"
   },
   "outputs": [],
   "source": [
    "def topic_infos(topic_model):\n",
    "  print(topic_model.get_topic_info())\n",
    "  #print(topic_model.find_topics(\"baskisch\"))\n",
    "  print(topic_model.get_topic(0))\n",
    "  print(topic_model.get_topic(24))\n"
   ]
  },
  {
   "cell_type": "markdown",
   "metadata": {
    "id": "W0GyFljK6sKI"
   },
   "source": [
    "*Build dataframe*"
   ]
  },
  {
   "cell_type": "code",
   "execution_count": 41,
   "metadata": {
    "executionInfo": {
     "elapsed": 5,
     "status": "ok",
     "timestamp": 1757494996549,
     "user": {
      "displayName": "m. otto",
      "userId": "07165694256129537082"
     },
     "user_tz": -120
    },
    "id": "xNDuXyBs2lC-"
   },
   "outputs": [],
   "source": [
    "def _coerce_probs_to_vector(probs, topics, mode=\"assigned\"):\n",
    "    try:\n",
    "        from scipy import sparse\n",
    "    except Exception:\n",
    "        sparse = None\n",
    "\n",
    "    n_docs = len(topics)\n",
    "    if probs is None:\n",
    "        return np.full(n_docs, np.nan, dtype=float)\n",
    "\n",
    "    P = probs\n",
    "    if isinstance(P, (list, tuple)):\n",
    "        # common for approximate_distribution: (matrix, extras)\n",
    "        P = P[0]\n",
    "\n",
    "    if sparse is not None and sparse.issparse(P):\n",
    "        P = P.toarray()\n",
    "\n",
    "    P = np.asarray(P, dtype=float)\n",
    "\n",
    "    if P.ndim == 1:\n",
    "        if len(P) != n_docs:\n",
    "            raise ValueError(f\"probs length {len(P)} != n_docs {n_docs}\")\n",
    "        return P\n",
    "\n",
    "    if P.ndim == 2:\n",
    "        if P.shape[0] != n_docs:\n",
    "            raise ValueError(f\"probs rows {P.shape[0]} != n_docs {n_docs}\")\n",
    "        topics_arr = np.asarray(topics)\n",
    "        if mode == \"max\":\n",
    "            return P.max(axis=1).astype(float)\n",
    "\n",
    "        # mode == \"assigned\"\n",
    "        pred = np.zeros(n_docs, dtype=float)\n",
    "        valid = (topics_arr >= 0) & (topics_arr < P.shape[1])\n",
    "        idx = np.arange(n_docs)[valid]\n",
    "        pred[valid] = P[idx, topics_arr[valid]]\n",
    "        # outliers (-1) remain 0.0\n",
    "        return pred\n",
    "\n",
    "    raise ValueError(f\"Unexpected probs.ndim={P.ndim}\")\n"
   ]
  },
  {
   "cell_type": "code",
   "execution_count": 42,
   "metadata": {
    "executionInfo": {
     "elapsed": 12,
     "status": "ok",
     "timestamp": 1757494999821,
     "user": {
      "displayName": "m. otto",
      "userId": "07165694256129537082"
     },
     "user_tz": -120
    },
    "id": "tgBr2NTf6cLb"
   },
   "outputs": [],
   "source": [
    "def snapshot_topics_df(df_par, texts, topics, probs, topic_model, *,\n",
    "                       n_words=5, combine_sections=False):\n",
    "    # mask non-empty texts\n",
    "    mask = [isinstance(t, str) and t.strip() != \"\" for t in texts]\n",
    "\n",
    "    # Coerce probs to one float per doc BEFORE masking\n",
    "    flat_probs = _coerce_probs_to_vector(probs, topics, mode=\"assigned\")\n",
    "\n",
    "    # Align by mask\n",
    "    df = df_par.loc[mask].copy()\n",
    "    f_topics = [t for t, keep in zip(topics, mask) if keep]\n",
    "    f_probs  = [p for p, keep in zip(flat_probs, mask) if keep]\n",
    "\n",
    "    def top_words(tid, k=n_words):\n",
    "        words = topic_model.get_topic(tid) or []\n",
    "        return \", \".join([w for w, _ in words[:k]]) if words else None\n",
    "\n",
    "    # Assign per-row scalars\n",
    "    df[\"pred_topic\"] = f_topics\n",
    "    df[\"pred_prob\"]  = f_probs\n",
    "    df[\"topic_top_words\"] = df[\"pred_topic\"].map(lambda t: top_words(t, n_words))\n",
    "\n",
    "    if combine_sections:\n",
    "        df = combine_letter_sections_append_topics(\n",
    "            df,\n",
    "            id_col=\"pid\",\n",
    "            text_col=\"text\",\n",
    "            topic_col=\"pred_topic\",\n",
    "            prob_col=\"pred_prob\",\n",
    "            lang_col=\"language\",\n",
    "        )\n",
    "    return df\n",
    "    return df"
   ]
  },
  {
   "cell_type": "code",
   "execution_count": 20,
   "metadata": {
    "executionInfo": {
     "elapsed": 12,
     "status": "ok",
     "timestamp": 1757492935408,
     "user": {
      "displayName": "m. otto",
      "userId": "07165694256129537082"
     },
     "user_tz": -120
    },
    "id": "yYqJNK6rAzvS"
   },
   "outputs": [],
   "source": [
    "def combine_letter_sections_append_topics( #recombines the split sections form the preprocessing\n",
    "    df,\n",
    "    id_col=\"pid\",\n",
    "    text_col=\"text\",\n",
    "    topic_col=\"pred_topic\",\n",
    "    prob_col=\"pred_prob\",\n",
    "    lang_col=\"language\",\n",
    "):\n",
    "    df = df.copy()\n",
    "\n",
    "    # Regex L.<letter>-<para>-<section>\n",
    "    pat = re.compile(r\"^L\\.([^-]+)-([^-]+)-([^-]+)$\")\n",
    "    sect_mask = df[id_col].astype(str).str.match(pat)\n",
    "\n",
    "    if not sect_mask.any():\n",
    "        return df\n",
    "\n",
    "    sections = df.loc[sect_mask].copy()\n",
    "\n",
    "    parent_ids, section_idxs = [], []\n",
    "    for pid in sections[id_col].astype(str):\n",
    "        m = pat.match(pid)\n",
    "        letter, para, sec = m.group(1), m.group(2), m.group(3)\n",
    "        try:\n",
    "            sec_i = int(sec)\n",
    "        except Exception:\n",
    "            sec_i = float(\"inf\")\n",
    "        parent_ids.append(f\".{letter}-{para}\")\n",
    "        section_idxs.append(sec_i)\n",
    "\n",
    "    sections[\"_parent_id\"] = parent_ids\n",
    "    sections[\"_section_idx\"] = section_idxs\n",
    "\n",
    "    df_no_sections = df.loc[~sect_mask].copy()\n",
    "    agg_rows = []\n",
    "\n",
    "    for parent_id, g in sections.sort_values(\"_section_idx\").groupby(\"_parent_id\"):\n",
    "        combined_text = \" \".join([str(t) for t in g[text_col] if pd.notna(t) and str(t).strip()])\n",
    "\n",
    "        combined_topics = \", \".join([str(t) for t in g[topic_col] if pd.notna(t)])\n",
    "\n",
    "        combined_probs = \", \".join([str(p) for p in g[prob_col] if pd.notna(p)])\n",
    "\n",
    "        lang = None\n",
    "        if lang_col in g:\n",
    "            mode_lang = g[lang_col].mode(dropna=True)\n",
    "            lang = mode_lang.iloc[0] if not mode_lang.empty else None\n",
    "\n",
    "        if (df_no_sections[id_col] == parent_id).any():\n",
    "            base_idx = df_no_sections.index[df_no_sections[id_col] == parent_id][0]\n",
    "            df_no_sections.at[base_idx, text_col] = (\n",
    "                (str(df_no_sections.at[base_idx, text_col]) + \" \" + combined_text).strip()\n",
    "            )\n",
    "            df_no_sections.at[base_idx, topic_col] = (\n",
    "                (str(df_no_sections.at[base_idx, topic_col]) + \", \" + combined_topics).strip(\", \")\n",
    "            )\n",
    "            df_no_sections.at[base_idx, prob_col] = (\n",
    "                (str(df_no_sections.at[base_idx, prob_col]) + \", \" + combined_probs).strip(\", \")\n",
    "            )\n",
    "            if lang_col in df_no_sections.columns and lang is not None:\n",
    "                df_no_sections.at[base_idx, lang_col] = lang\n",
    "        else:\n",
    "            first = g.iloc[0].to_dict()\n",
    "            new_row = {col: None for col in df.columns}\n",
    "            new_row.update(first)\n",
    "            new_row[id_col] = parent_id\n",
    "            new_row[text_col] = combined_text\n",
    "            new_row[topic_col] = combined_topics\n",
    "            new_row[prob_col] = combined_probs\n",
    "            if lang_col in new_row and lang is not None:\n",
    "                new_row[lang_col] = lang\n",
    "            agg_rows.append(new_row)\n",
    "\n",
    "    if agg_rows:\n",
    "        df_no_sections = pd.concat([df_no_sections, pd.DataFrame(agg_rows)], ignore_index=True)\n",
    "\n",
    "    return df_no_sections"
   ]
  },
  {
   "cell_type": "markdown",
   "metadata": {
    "id": "Zkm3gxzBWoGf"
   },
   "source": [
    "*Visualisation of topics*"
   ]
  },
  {
   "cell_type": "code",
   "execution_count": 21,
   "metadata": {
    "executionInfo": {
     "elapsed": 1,
     "status": "ok",
     "timestamp": 1757492935410,
     "user": {
      "displayName": "m. otto",
      "userId": "07165694256129537082"
     },
     "user_tz": -120
    },
    "id": "S5mH9iemWnqD"
   },
   "outputs": [],
   "source": [
    "def visualize_topics(topic_infos, texts, reduced_embeddings):\n",
    "\n",
    "  # Visualize barchart with ranked keywords\n",
    "  topic_infos.visualize_barchart().show()\n",
    "\n",
    "  # Visualize relationships between topics\n",
    "  topic_infos.visualize_heatmap(n_clusters=15).show()\n",
    "\n",
    "  # Visualize the potential hierarchical structure of topics\n",
    "  topic_infos.visualize_hierarchy().show()"
   ]
  },
  {
   "cell_type": "markdown",
   "metadata": {
    "id": "9xkidcpiXMCw"
   },
   "source": [
    "**FINETUNING**\n",
    "\n",
    "Can further extract the semantic relationship between words by using a multitude of representation models.\n",
    "\n",
    "Further Reading:\n",
    "\n",
    "https://maartengr.github.io/BERTopic/getting_started/representation/representation.html\n",
    "\n",
    "https://www.zotero.org/michael.otto/collections/KRFUSVYB\n"
   ]
  },
  {
   "cell_type": "markdown",
   "metadata": {
    "id": "_HXP1IrT_T6K"
   },
   "source": [
    "*Representation Models*"
   ]
  },
  {
   "cell_type": "code",
   "execution_count": 22,
   "metadata": {
    "executionInfo": {
     "elapsed": 1,
     "status": "ok",
     "timestamp": 1757492935411,
     "user": {
      "displayName": "m. otto",
      "userId": "07165694256129537082"
     },
     "user_tz": -120
    },
    "id": "KNL5GG7OAupF"
   },
   "outputs": [],
   "source": [
    "def topic_differences(original_topics, updated_topics, nr_topics=5):\n",
    "    df = pd.DataFrame(columns=[\"Topic\", \"Original\", \"Updated\"])\n",
    "    for topic in range(nr_topics):\n",
    "        og_words = \" \".join(list(zip(*original_topics[topic]))[0][:3])\n",
    "        new_words = \" \".join(list(zip(*updated_topics[topic]))[0][:3])\n",
    "        df.loc[len(df)] = [topic, og_words, new_words]\n",
    "    return df\n"
   ]
  },
  {
   "cell_type": "markdown",
   "metadata": {
    "id": "CmBwiY_kAg2r"
   },
   "source": [
    "*KeyBERTInspired*"
   ]
  },
  {
   "cell_type": "code",
   "execution_count": 23,
   "metadata": {
    "executionInfo": {
     "elapsed": 1,
     "status": "ok",
     "timestamp": 1757492935413,
     "user": {
      "displayName": "m. otto",
      "userId": "07165694256129537082"
     },
     "user_tz": -120
    },
    "id": "T4JJ0apoAqg2"
   },
   "outputs": [],
   "source": [
    "def keybert_topic_diffs(topic_model, original_topics, texts):\n",
    "  representation_model = KeyBERTInspired()\n",
    "  topic_model.update_topics(texts, representation_model=representation_model)\n",
    "  updated_topics = topic_model.topic_representations_\n",
    "  diff_df = topic_differences(original_topics, updated_topics, nr_topics=15)\n",
    "\n",
    "  return diff_df, updated_topics"
   ]
  },
  {
   "cell_type": "markdown",
   "metadata": {
    "id": "Ik6uPJi8Fe5I"
   },
   "source": [
    "*Maximal Marginal Relevance*"
   ]
  },
  {
   "cell_type": "code",
   "execution_count": 24,
   "metadata": {
    "executionInfo": {
     "elapsed": 1,
     "status": "ok",
     "timestamp": 1757492935414,
     "user": {
      "displayName": "m. otto",
      "userId": "07165694256129537082"
     },
     "user_tz": -120
    },
    "id": "OfZc6Xr6FekX"
   },
   "outputs": [],
   "source": [
    "def max_marg_rel(topic_model, texts, original_topics, nr_topics=5):\n",
    "    mmr = MaximalMarginalRelevance(diversity=0.5)\n",
    "\n",
    "    topic_model.update_topics(\n",
    "        texts,\n",
    "        representation_model=mmr         # swap in MMR\n",
    "    )\n",
    "    updated_topics_mmr = topic_model.topic_representations_\n",
    "    diff_df = topic_differences(original_topics, updated_topics_mmr, nr_topics=nr_topics)\n",
    "\n",
    "    return diff_df, updated_topics_mmr"
   ]
  },
  {
   "cell_type": "markdown",
   "metadata": {
    "id": "iaA7xVbBQVEf"
   },
   "source": [
    "**MAIN PIPELINE**"
   ]
  },
  {
   "cell_type": "code",
   "execution_count": 25,
   "metadata": {
    "colab": {
     "base_uri": "https://localhost:8080/",
     "height": 1000,
     "referenced_widgets": [
      "4a7e7cdea4954bdba17381c68dace57e",
      "fe2d49f032ab4a0f8b56222c3af0c3b3",
      "ae9ef971250445c494d29dcea04a1cb3",
      "255bc4e730d54f77b7d868829cae0101",
      "3bce905fb11b4a56a0768d663ecb6603",
      "8f00b940a436484481bf24723caa0f86",
      "6354bd1de3874b7fa202ca3f79a38492",
      "6cd3fb3fdb7d4dbab9b0ed9450542993",
      "34341399ebdc4b6c8a4a9f12bab0d588",
      "c032d407c6914d2a972bbe448b0c12e3",
      "34f18d7613854929a68909a4bf124f98"
     ]
    },
    "executionInfo": {
     "elapsed": 156562,
     "status": "ok",
     "timestamp": 1757493091977,
     "user": {
      "displayName": "m. otto",
      "userId": "07165694256129537082"
     },
     "user_tz": -120
    },
    "id": "HMZYYZbxdBL9",
    "outputId": "d20f31b4-806c-40d3-ffdd-caf7972631b6"
   },
   "outputs": [
    {
     "name": "stdout",
     "output_type": "stream",
     "text": [
      "Dataset loaded. Here are the first rows:\n"
     ]
    },
    {
     "data": {
      "application/vnd.google.colaboratory.intrinsic+json": {
       "summary": "{\n  \"name\": \"#print(diff_df)\",\n  \"rows\": 5,\n  \"fields\": [\n    {\n      \"column\": \"source_file\",\n      \"properties\": {\n        \"dtype\": \"category\",\n        \"num_unique_values\": 2,\n        \"samples\": [\n          \"hsa.letter.3.xml\",\n          \"hsa.letter.1.xml\"\n        ],\n        \"semantic_type\": \"\",\n        \"description\": \"\"\n      }\n    },\n    {\n      \"column\": \"pid\",\n      \"properties\": {\n        \"dtype\": \"string\",\n        \"num_unique_values\": 5,\n        \"samples\": [\n          \"L.1-2\",\n          \"L.3-2-2\"\n        ],\n        \"semantic_type\": \"\",\n        \"description\": \"\"\n      }\n    },\n    {\n      \"column\": \"sender_id\",\n      \"properties\": {\n        \"dtype\": \"category\",\n        \"num_unique_values\": 2,\n        \"samples\": [\n          \"https://gams.uni-graz.at/o:hsa.persons#P.1068\",\n          \"https://gams.uni-graz.at/o:hsa.persons#P.1069\"\n        ],\n        \"semantic_type\": \"\",\n        \"description\": \"\"\n      }\n    },\n    {\n      \"column\": \"sender\",\n      \"properties\": {\n        \"dtype\": \"category\",\n        \"num_unique_values\": 2,\n        \"samples\": [\n          \"B\\u00e4hr\",\n          \"Baissac\"\n        ],\n        \"semantic_type\": \"\",\n        \"description\": \"\"\n      }\n    },\n    {\n      \"column\": \"receiver_id\",\n      \"properties\": {\n        \"dtype\": \"category\",\n        \"num_unique_values\": 1,\n        \"samples\": [\n          \"https://gams.uni-graz.at/o:hsa.persons#P.109\"\n        ],\n        \"semantic_type\": \"\",\n        \"description\": \"\"\n      }\n    },\n    {\n      \"column\": \"receiver\",\n      \"properties\": {\n        \"dtype\": \"category\",\n        \"num_unique_values\": 1,\n        \"samples\": [\n          \"Schuchardt\"\n        ],\n        \"semantic_type\": \"\",\n        \"description\": \"\"\n      }\n    },\n    {\n      \"column\": \"date\",\n      \"properties\": {\n        \"dtype\": \"object\",\n        \"num_unique_values\": 2,\n        \"samples\": [\n          \"1924-04-22\"\n        ],\n        \"semantic_type\": \"\",\n        \"description\": \"\"\n      }\n    },\n    {\n      \"column\": \"text\",\n      \"properties\": {\n        \"dtype\": \"string\",\n        \"num_unique_values\": 5,\n        \"samples\": [\n          \"Nous sommes anxieux l\\u2019un et l\\u2019autre d\\u2019avoir de vos nouvelles, et voudrions bien savoir que ce sont vos travaux, et non la maladie, qui nous privent de toute lettre de vous.\"\n        ],\n        \"semantic_type\": \"\",\n        \"description\": \"\"\n      }\n    },\n    {\n      \"column\": \"language\",\n      \"properties\": {\n        \"dtype\": \"category\",\n        \"num_unique_values\": 2,\n        \"samples\": [\n          \"de\"\n        ],\n        \"semantic_type\": \"\",\n        \"description\": \"\"\n      }\n    },\n    {\n      \"column\": \"keywords\",\n      \"properties\": {\n        \"dtype\": \"category\",\n        \"num_unique_values\": 1,\n        \"samples\": [\n          \"Revue de Linguistique Romane\"\n        ],\n        \"semantic_type\": \"\",\n        \"description\": \"\"\n      }\n    },\n    {\n      \"column\": \"word_count\",\n      \"properties\": {\n        \"dtype\": \"number\",\n        \"std\": 208,\n        \"min\": 17,\n        \"max\": 511,\n        \"num_unique_values\": 5,\n        \"samples\": [\n          31\n        ],\n        \"semantic_type\": \"\",\n        \"description\": \"\"\n      }\n    }\n  ]\n}",
       "type": "dataframe"
      },
      "text/html": [
       "\n",
       "  <div id=\"df-24e2842a-007c-47c4-ade1-b827c9a6496e\" class=\"colab-df-container\">\n",
       "    <div>\n",
       "<style scoped>\n",
       "    .dataframe tbody tr th:only-of-type {\n",
       "        vertical-align: middle;\n",
       "    }\n",
       "\n",
       "    .dataframe tbody tr th {\n",
       "        vertical-align: top;\n",
       "    }\n",
       "\n",
       "    .dataframe thead th {\n",
       "        text-align: right;\n",
       "    }\n",
       "</style>\n",
       "<table border=\"1\" class=\"dataframe\">\n",
       "  <thead>\n",
       "    <tr style=\"text-align: right;\">\n",
       "      <th></th>\n",
       "      <th>source_file</th>\n",
       "      <th>pid</th>\n",
       "      <th>sender_id</th>\n",
       "      <th>sender</th>\n",
       "      <th>receiver_id</th>\n",
       "      <th>receiver</th>\n",
       "      <th>date</th>\n",
       "      <th>text</th>\n",
       "      <th>language</th>\n",
       "      <th>keywords</th>\n",
       "      <th>word_count</th>\n",
       "    </tr>\n",
       "  </thead>\n",
       "  <tbody>\n",
       "    <tr>\n",
       "      <th>0</th>\n",
       "      <td>hsa.letter.1.xml</td>\n",
       "      <td>L.1-1</td>\n",
       "      <td>https://gams.uni-graz.at/o:hsa.persons#P.1069</td>\n",
       "      <td>Baissac</td>\n",
       "      <td>https://gams.uni-graz.at/o:hsa.persons#P.109</td>\n",
       "      <td>Schuchardt</td>\n",
       "      <td>1885-01-20</td>\n",
       "      <td>Ma Doudou vous envoie une petite brochure jaun...</td>\n",
       "      <td>fr</td>\n",
       "      <td>NaN</td>\n",
       "      <td>17</td>\n",
       "    </tr>\n",
       "    <tr>\n",
       "      <th>1</th>\n",
       "      <td>hsa.letter.1.xml</td>\n",
       "      <td>L.1-2</td>\n",
       "      <td>https://gams.uni-graz.at/o:hsa.persons#P.1069</td>\n",
       "      <td>Baissac</td>\n",
       "      <td>https://gams.uni-graz.at/o:hsa.persons#P.109</td>\n",
       "      <td>Schuchardt</td>\n",
       "      <td>1885-01-20</td>\n",
       "      <td>Nous sommes anxieux l’un et l’autre d’avoir de...</td>\n",
       "      <td>fr</td>\n",
       "      <td>NaN</td>\n",
       "      <td>31</td>\n",
       "    </tr>\n",
       "    <tr>\n",
       "      <th>2</th>\n",
       "      <td>hsa.letter.3.xml</td>\n",
       "      <td>L.3-1</td>\n",
       "      <td>https://gams.uni-graz.at/o:hsa.persons#P.1068</td>\n",
       "      <td>Bähr</td>\n",
       "      <td>https://gams.uni-graz.at/o:hsa.persons#P.109</td>\n",
       "      <td>Schuchardt</td>\n",
       "      <td>1924-04-22</td>\n",
       "      <td>Bereits 5 Tage nach Abgang meines letzten Brie...</td>\n",
       "      <td>de</td>\n",
       "      <td>Revue de Linguistique Romane</td>\n",
       "      <td>124</td>\n",
       "    </tr>\n",
       "    <tr>\n",
       "      <th>3</th>\n",
       "      <td>hsa.letter.3.xml</td>\n",
       "      <td>L.3-2-1</td>\n",
       "      <td>https://gams.uni-graz.at/o:hsa.persons#P.1068</td>\n",
       "      <td>Bähr</td>\n",
       "      <td>https://gams.uni-graz.at/o:hsa.persons#P.109</td>\n",
       "      <td>Schuchardt</td>\n",
       "      <td>1924-04-22</td>\n",
       "      <td>Was die deutsche Verlagswelt angeht, so muss i...</td>\n",
       "      <td>de</td>\n",
       "      <td>Revue de Linguistique Romane</td>\n",
       "      <td>511</td>\n",
       "    </tr>\n",
       "    <tr>\n",
       "      <th>4</th>\n",
       "      <td>hsa.letter.3.xml</td>\n",
       "      <td>L.3-2-2</td>\n",
       "      <td>https://gams.uni-graz.at/o:hsa.persons#P.1068</td>\n",
       "      <td>Bähr</td>\n",
       "      <td>https://gams.uni-graz.at/o:hsa.persons#P.109</td>\n",
       "      <td>Schuchardt</td>\n",
       "      <td>1924-04-22</td>\n",
       "      <td>sicherlich viel verdankt— erklärt, er wolle di...</td>\n",
       "      <td>de</td>\n",
       "      <td>Revue de Linguistique Romane</td>\n",
       "      <td>46</td>\n",
       "    </tr>\n",
       "  </tbody>\n",
       "</table>\n",
       "</div>\n",
       "    <div class=\"colab-df-buttons\">\n",
       "\n",
       "  <div class=\"colab-df-container\">\n",
       "    <button class=\"colab-df-convert\" onclick=\"convertToInteractive('df-24e2842a-007c-47c4-ade1-b827c9a6496e')\"\n",
       "            title=\"Convert this dataframe to an interactive table.\"\n",
       "            style=\"display:none;\">\n",
       "\n",
       "  <svg xmlns=\"http://www.w3.org/2000/svg\" height=\"24px\" viewBox=\"0 -960 960 960\">\n",
       "    <path d=\"M120-120v-720h720v720H120Zm60-500h600v-160H180v160Zm220 220h160v-160H400v160Zm0 220h160v-160H400v160ZM180-400h160v-160H180v160Zm440 0h160v-160H620v160ZM180-180h160v-160H180v160Zm440 0h160v-160H620v160Z\"/>\n",
       "  </svg>\n",
       "    </button>\n",
       "\n",
       "  <style>\n",
       "    .colab-df-container {\n",
       "      display:flex;\n",
       "      gap: 12px;\n",
       "    }\n",
       "\n",
       "    .colab-df-convert {\n",
       "      background-color: #E8F0FE;\n",
       "      border: none;\n",
       "      border-radius: 50%;\n",
       "      cursor: pointer;\n",
       "      display: none;\n",
       "      fill: #1967D2;\n",
       "      height: 32px;\n",
       "      padding: 0 0 0 0;\n",
       "      width: 32px;\n",
       "    }\n",
       "\n",
       "    .colab-df-convert:hover {\n",
       "      background-color: #E2EBFA;\n",
       "      box-shadow: 0px 1px 2px rgba(60, 64, 67, 0.3), 0px 1px 3px 1px rgba(60, 64, 67, 0.15);\n",
       "      fill: #174EA6;\n",
       "    }\n",
       "\n",
       "    .colab-df-buttons div {\n",
       "      margin-bottom: 4px;\n",
       "    }\n",
       "\n",
       "    [theme=dark] .colab-df-convert {\n",
       "      background-color: #3B4455;\n",
       "      fill: #D2E3FC;\n",
       "    }\n",
       "\n",
       "    [theme=dark] .colab-df-convert:hover {\n",
       "      background-color: #434B5C;\n",
       "      box-shadow: 0px 1px 3px 1px rgba(0, 0, 0, 0.15);\n",
       "      filter: drop-shadow(0px 1px 2px rgba(0, 0, 0, 0.3));\n",
       "      fill: #FFFFFF;\n",
       "    }\n",
       "  </style>\n",
       "\n",
       "    <script>\n",
       "      const buttonEl =\n",
       "        document.querySelector('#df-24e2842a-007c-47c4-ade1-b827c9a6496e button.colab-df-convert');\n",
       "      buttonEl.style.display =\n",
       "        google.colab.kernel.accessAllowed ? 'block' : 'none';\n",
       "\n",
       "      async function convertToInteractive(key) {\n",
       "        const element = document.querySelector('#df-24e2842a-007c-47c4-ade1-b827c9a6496e');\n",
       "        const dataTable =\n",
       "          await google.colab.kernel.invokeFunction('convertToInteractive',\n",
       "                                                    [key], {});\n",
       "        if (!dataTable) return;\n",
       "\n",
       "        const docLinkHtml = 'Like what you see? Visit the ' +\n",
       "          '<a target=\"_blank\" href=https://colab.research.google.com/notebooks/data_table.ipynb>data table notebook</a>'\n",
       "          + ' to learn more about interactive tables.';\n",
       "        element.innerHTML = '';\n",
       "        dataTable['output_type'] = 'display_data';\n",
       "        await google.colab.output.renderOutput(dataTable, element);\n",
       "        const docLink = document.createElement('div');\n",
       "        docLink.innerHTML = docLinkHtml;\n",
       "        element.appendChild(docLink);\n",
       "      }\n",
       "    </script>\n",
       "  </div>\n",
       "\n",
       "\n",
       "    <div id=\"df-28a9fdb0-1c00-4e71-8b06-d0e2c36b097b\">\n",
       "      <button class=\"colab-df-quickchart\" onclick=\"quickchart('df-28a9fdb0-1c00-4e71-8b06-d0e2c36b097b')\"\n",
       "                title=\"Suggest charts\"\n",
       "                style=\"display:none;\">\n",
       "\n",
       "<svg xmlns=\"http://www.w3.org/2000/svg\" height=\"24px\"viewBox=\"0 0 24 24\"\n",
       "     width=\"24px\">\n",
       "    <g>\n",
       "        <path d=\"M19 3H5c-1.1 0-2 .9-2 2v14c0 1.1.9 2 2 2h14c1.1 0 2-.9 2-2V5c0-1.1-.9-2-2-2zM9 17H7v-7h2v7zm4 0h-2V7h2v10zm4 0h-2v-4h2v4z\"/>\n",
       "    </g>\n",
       "</svg>\n",
       "      </button>\n",
       "\n",
       "<style>\n",
       "  .colab-df-quickchart {\n",
       "      --bg-color: #E8F0FE;\n",
       "      --fill-color: #1967D2;\n",
       "      --hover-bg-color: #E2EBFA;\n",
       "      --hover-fill-color: #174EA6;\n",
       "      --disabled-fill-color: #AAA;\n",
       "      --disabled-bg-color: #DDD;\n",
       "  }\n",
       "\n",
       "  [theme=dark] .colab-df-quickchart {\n",
       "      --bg-color: #3B4455;\n",
       "      --fill-color: #D2E3FC;\n",
       "      --hover-bg-color: #434B5C;\n",
       "      --hover-fill-color: #FFFFFF;\n",
       "      --disabled-bg-color: #3B4455;\n",
       "      --disabled-fill-color: #666;\n",
       "  }\n",
       "\n",
       "  .colab-df-quickchart {\n",
       "    background-color: var(--bg-color);\n",
       "    border: none;\n",
       "    border-radius: 50%;\n",
       "    cursor: pointer;\n",
       "    display: none;\n",
       "    fill: var(--fill-color);\n",
       "    height: 32px;\n",
       "    padding: 0;\n",
       "    width: 32px;\n",
       "  }\n",
       "\n",
       "  .colab-df-quickchart:hover {\n",
       "    background-color: var(--hover-bg-color);\n",
       "    box-shadow: 0 1px 2px rgba(60, 64, 67, 0.3), 0 1px 3px 1px rgba(60, 64, 67, 0.15);\n",
       "    fill: var(--button-hover-fill-color);\n",
       "  }\n",
       "\n",
       "  .colab-df-quickchart-complete:disabled,\n",
       "  .colab-df-quickchart-complete:disabled:hover {\n",
       "    background-color: var(--disabled-bg-color);\n",
       "    fill: var(--disabled-fill-color);\n",
       "    box-shadow: none;\n",
       "  }\n",
       "\n",
       "  .colab-df-spinner {\n",
       "    border: 2px solid var(--fill-color);\n",
       "    border-color: transparent;\n",
       "    border-bottom-color: var(--fill-color);\n",
       "    animation:\n",
       "      spin 1s steps(1) infinite;\n",
       "  }\n",
       "\n",
       "  @keyframes spin {\n",
       "    0% {\n",
       "      border-color: transparent;\n",
       "      border-bottom-color: var(--fill-color);\n",
       "      border-left-color: var(--fill-color);\n",
       "    }\n",
       "    20% {\n",
       "      border-color: transparent;\n",
       "      border-left-color: var(--fill-color);\n",
       "      border-top-color: var(--fill-color);\n",
       "    }\n",
       "    30% {\n",
       "      border-color: transparent;\n",
       "      border-left-color: var(--fill-color);\n",
       "      border-top-color: var(--fill-color);\n",
       "      border-right-color: var(--fill-color);\n",
       "    }\n",
       "    40% {\n",
       "      border-color: transparent;\n",
       "      border-right-color: var(--fill-color);\n",
       "      border-top-color: var(--fill-color);\n",
       "    }\n",
       "    60% {\n",
       "      border-color: transparent;\n",
       "      border-right-color: var(--fill-color);\n",
       "    }\n",
       "    80% {\n",
       "      border-color: transparent;\n",
       "      border-right-color: var(--fill-color);\n",
       "      border-bottom-color: var(--fill-color);\n",
       "    }\n",
       "    90% {\n",
       "      border-color: transparent;\n",
       "      border-bottom-color: var(--fill-color);\n",
       "    }\n",
       "  }\n",
       "</style>\n",
       "\n",
       "      <script>\n",
       "        async function quickchart(key) {\n",
       "          const quickchartButtonEl =\n",
       "            document.querySelector('#' + key + ' button');\n",
       "          quickchartButtonEl.disabled = true;  // To prevent multiple clicks.\n",
       "          quickchartButtonEl.classList.add('colab-df-spinner');\n",
       "          try {\n",
       "            const charts = await google.colab.kernel.invokeFunction(\n",
       "                'suggestCharts', [key], {});\n",
       "          } catch (error) {\n",
       "            console.error('Error during call to suggestCharts:', error);\n",
       "          }\n",
       "          quickchartButtonEl.classList.remove('colab-df-spinner');\n",
       "          quickchartButtonEl.classList.add('colab-df-quickchart-complete');\n",
       "        }\n",
       "        (() => {\n",
       "          let quickchartButtonEl =\n",
       "            document.querySelector('#df-28a9fdb0-1c00-4e71-8b06-d0e2c36b097b button');\n",
       "          quickchartButtonEl.style.display =\n",
       "            google.colab.kernel.accessAllowed ? 'block' : 'none';\n",
       "        })();\n",
       "      </script>\n",
       "    </div>\n",
       "\n",
       "    </div>\n",
       "  </div>\n"
      ],
      "text/plain": [
       "        source_file      pid                                      sender_id  \\\n",
       "0  hsa.letter.1.xml    L.1-1  https://gams.uni-graz.at/o:hsa.persons#P.1069   \n",
       "1  hsa.letter.1.xml    L.1-2  https://gams.uni-graz.at/o:hsa.persons#P.1069   \n",
       "2  hsa.letter.3.xml    L.3-1  https://gams.uni-graz.at/o:hsa.persons#P.1068   \n",
       "3  hsa.letter.3.xml  L.3-2-1  https://gams.uni-graz.at/o:hsa.persons#P.1068   \n",
       "4  hsa.letter.3.xml  L.3-2-2  https://gams.uni-graz.at/o:hsa.persons#P.1068   \n",
       "\n",
       "    sender                                   receiver_id    receiver  \\\n",
       "0  Baissac  https://gams.uni-graz.at/o:hsa.persons#P.109  Schuchardt   \n",
       "1  Baissac  https://gams.uni-graz.at/o:hsa.persons#P.109  Schuchardt   \n",
       "2     Bähr  https://gams.uni-graz.at/o:hsa.persons#P.109  Schuchardt   \n",
       "3     Bähr  https://gams.uni-graz.at/o:hsa.persons#P.109  Schuchardt   \n",
       "4     Bähr  https://gams.uni-graz.at/o:hsa.persons#P.109  Schuchardt   \n",
       "\n",
       "         date                                               text language  \\\n",
       "0  1885-01-20  Ma Doudou vous envoie une petite brochure jaun...       fr   \n",
       "1  1885-01-20  Nous sommes anxieux l’un et l’autre d’avoir de...       fr   \n",
       "2  1924-04-22  Bereits 5 Tage nach Abgang meines letzten Brie...       de   \n",
       "3  1924-04-22  Was die deutsche Verlagswelt angeht, so muss i...       de   \n",
       "4  1924-04-22  sicherlich viel verdankt— erklärt, er wolle di...       de   \n",
       "\n",
       "                       keywords  word_count  \n",
       "0                           NaN          17  \n",
       "1                           NaN          31  \n",
       "2  Revue de Linguistique Romane         124  \n",
       "3  Revue de Linguistique Romane         511  \n",
       "4  Revue de Linguistique Romane          46  "
      ]
     },
     "metadata": {},
     "output_type": "display_data"
    },
    {
     "name": "stdout",
     "output_type": "stream",
     "text": [
      " First 5 pids: ['L.1-1', 'L.1-2', 'L.3-1', 'L.3-2-1', 'L.3-2-2']\n",
      "First 5 texts: ['Ma Doudou vous envoie une petite brochure jaune à laquelle vous ferez bon accueil, j’en suis sûr.', 'Nous sommes anxieux l’un et l’autre d’avoir de vos nouvelles, et voudrions bien savoir que ce sont vos travaux, et non la maladie, qui nous privent de toute lettre de vous.', 'Bereits 5 Tage nach Abgang meines letzten Briefes an Sie erhielt ich Ihre Antwort und bald darauf Ihre Druckschriften, für die ich Ihnen vielmals danke. Ich wollte Ihnen nun erst antworten, nachdem ich diese durchgearbeitet hatte, um Ihnen gleich meine Zweifel und Bemerkungen dazu mitzuteilen, doch da sie eine mühelose Fundgrube für meine Etymologien = Zusammenstellungen bilden und das Semester bald beginnt, wollte ich meine letzten Ferientage der Erledigung schwierigerer Aufgaben widmen, besonders dem Durchsuchen der letzten Bände der Revue de ling. der Werke Luchaires u. ä. nach brauchbarem Stoff. Nun erhalte ich gerade zum Feste als schönstes und willkommenstes Ostergeschenk Ihren zweiten Brief. Haben Sie für alles recht herzlichen Dank! Ich werde nun versuchen, Ihnen möglichst chronologisch, auf alles Erwünschte Antwort zu erteilen.', 'Was die deutsche Verlagswelt angeht, so muss ich sagen, dass ich selbst nicht über die Organisation derselben genau unterrichtet bin, ebensowenig in Spanien über die dortigen Verleger, wenn es solche überhaupt gibt. Ich habe früher wiederholt gehört, —ich glaube in Vorträgen über Spanien—, dass es dort überhaupt keine Verleger in unserem Sinne gibt, obwohl ich selbst die Namen einiger sogen. “casas editoriales” kenne. Nach allem scheint es mir jedoch, als ob diese entweder ganz modern oder anders aufgebaut sind als unsere Verlagsgesellschaften und damit mag es zusammenhängen, dass Azkue immer nur vom Drucker gesprochen hat. Von einem Niedergang der Einkünfte kann man wohl er[st] in diesem Jahre reden, da die “Diputación” von Vizcaya ihre jährliche Unterstützung an die Akademie von 15000 auf 5000 Peseten herabgesetzt hat. Ich glaube nicht, dass der Kongress von Gernika der Akademie viel gekostet hat, da ja die Sociedad de Estudios Vascos , Eusko Ikaskuntza, der eigentliche Veranstalter war. Diese hat allerdings grosse Opfer bringen müssen, da sie in grossherziger Weise so viele (für spanische Begriffe) in- und ausländische Gelehrte kostenfrei eingeladen hatte, und leider ist gerade von deutscher Seite diese Gastfreundschaft wohl etwas missbraucht worden, dadurch, dass ein Professor der eingeladen war, mit seiner Frau und beiden Töchtern (!) dieser Einladung Folge leistete. Ich weiss nicht, ob diese Tatsache in Spanien bekannte geworden ist; jedenfalls hat man in Deutschland, oder besser gesagt hat ein Kollege diesem Herrn den Missbrauch der spanischen Gastfreundschaft sehr übel genommen. Natürlich wäre die Eusko-Ikaskuntza durch solche und ähnliche Fälle nicht in die schlechte Lage gekommen, in der sie sich h[eu]te befindet. Schuld daran ist nur der vor kurzem erfolgte Beschluss der “ Diputación” von Vizcaya, das noch kürzlich eine H[och]burg des Nationalismus bildete, der Eusko-Ik. überhaupt keine Unterstützung mehr zu bewilligen. Hierdurch ist die Euskaltz. nur indirekt getroffen, insofern als sie auch von der E.-I. eine allerdings ziemlich geringe jährliche Unterstützung erhielt. Dass die Akademie noch unterstützt wird unter diesen Umständen, scheint sie nur den guten persönlichen Beziehungen Azkues zu Urien, dem Präsidenten der Diputación, zu verdanken. Ich hoffe, dass meine Mutmassungen nicht schon durch einen entsprechenden Beschluss der bizkayischen Landstände über den Haufen geworfen sind. Was eigentlich vorgeht, ist mir ein Rätsel. Die Zeitungen berichten nur zurückhaltend und stehen unter Vorzensur. Nicht einmal mehr die Berichte über die Sitzungen der Akademie erscheinen seit einigen Monaten in den Zeitungen, wahrscheinlich nicht wegen irgend eines Verbotes —dazu ist Arzadun, Guvernör von Guipuzcoa, selbst Baske und sogar “poeta”, zu vernünftig—, sondern wohl, weil man die Euskaltz. für viel zu unbedeutend hält, als dass man ihre eingesandte[n] Berichte abdruckte. Überhaupt wissen die meisten Basken nichts von der E., selbst viele “Gebildete” kennen ihren Namen nicht einmal. Nun scheint in ganz Spanien ein Kesseltreiben begonnen zu haben gegen Nationalismus, Separatismus, gegen alles was sich nicht nach dem Madrider Zentralismus richten will und insbesondere gegen die baskische Sprache. I[n] Bilbao wurden die Buchhandlungen nach baskischen Büchern abgesucht, das Erscheinen jeglicher bask. Zeitungen ist verboten, nur in San Sebastian erscheint —dank Arzadun— allwöchen[t]lich das bescheidene Blättchen Argia. Nun hat kürzlich Primo de Rivera —dem Spanien im Übrigen', 'sicherlich viel verdankt— erklärt, er wolle die “regionalen” Sprachen nicht verbieten, es sollte aber verhindert werden, dass sie das Spanische als Amts- und Staatsbürgersprache verdränge. Dieser Ausspruch ist recht naiv. Er kann natürlich einigen Hunderttausenden oder Millionen Untertanen nicht ihre Sprache von heute auf morgen verbieten.']\n",
      "First 5 launguages: ['fr', 'de', 'es', 'eu', 'da']\n"
     ]
    },
    {
     "data": {
      "application/vnd.jupyter.widget-view+json": {
       "model_id": "4a7e7cdea4954bdba17381c68dace57e",
       "version_major": 2,
       "version_minor": 0
      },
      "text/plain": [
       "Batches:   0%|          | 0/1388 [00:00<?, ?it/s]"
      ]
     },
     "metadata": {},
     "output_type": "display_data"
    },
    {
     "name": "stdout",
     "output_type": "stream",
     "text": [
      "Embedding complete. Shape: (44405, 384)\n"
     ]
    },
    {
     "name": "stderr",
     "output_type": "stream",
     "text": [
      "PCA reduction: 100%|██████████| 1/1 [00:00<00:00,  5.88step/s]\n"
     ]
    },
    {
     "name": "stdout",
     "output_type": "stream",
     "text": [
      "Total clusters: 50\n",
      "\n",
      "Top 10 cluster sizes (cluster_id: size):\n",
      "30    1711\n",
      "6     1552\n",
      "35    1505\n",
      "41    1493\n",
      "4     1463\n",
      "37    1457\n",
      "32    1446\n",
      "28    1334\n",
      "2     1292\n",
      "19    1291\n",
      "Name: count, dtype: int64\n",
      "\n",
      "Smallest 10 cluster sizes:\n",
      "12    542\n",
      "8     523\n",
      "27    482\n",
      "42    403\n",
      "0     379\n",
      "40    370\n",
      "43    347\n",
      "7     340\n",
      "18    259\n",
      "34    107\n",
      "Name: count, dtype: int64\n",
      "finde ich eine solche, die offenbar noch nicht aufgefallen ist und deren leichte Verständlichkeit das Vorhandensein mehrerer solcher Formen wahrscheinlich macht: e/zaidazala , “er möge dich nur / nicht” gewissermassen zusammengesetzt aus zaidala (westguipuzc. u. bizc. für zaitzala) + dizadala.... \n",
      "\n",
      "Sie schreiben: zenakizu mit einem mir allerdings rätselhaften zu. Hier in Legazpia, Zumarraga, Oñate usw. ist dieses zu ganz regelmässig zu [f]inden, vielleicht in Angleichung an das Präsenz dakizu , und weil man eine eigentliche Partikel der 2. Pers. vermisst. So sagt man neben eman zenidan auch zi... \n",
      "\n",
      "“Tia-tia” Trois Bourbonnais que j’ai consultés sur la valeur du mot m’affirment que leur parler ne s’est jamais appelé ainsi. Un tia-tia, disent-ils, est un homme dégradé, que la boisson et l’inconduite ont fait tomber dans les derniers bas-fonds. A Maurice, du reste, c’est le nom que j’ai entendu d... \n",
      "\n"
     ]
    }
   ],
   "source": [
    "file_path = '/content/drive/MyDrive/DDH25/letters_py.csv'  # ← adjust if needed\n",
    "df, df_par = load_and_validate_csv(file_path)\n",
    "pids, texts, langs = prepare_text_data(df_par)\n",
    "model, embeddings = embed_docs(texts)\n",
    "#reduced_embeddings, umap_model = reduce_dimensions(embeddings)\n",
    "#OPTIONAL (and only combined with k-means):\n",
    "reduced_embeddings, pca_model = reduce_dimensions_pca(embeddings)  #alternative to the umap model, for usage do not forget to also change it in the train_model function\n",
    "#clusters, hdbscan_model = cluster_embeddings_hdb(reduced_embeddings)\n",
    "# OPTIONAL:\n",
    "clusters, kmeans = cluster_embeddings_kmeans(reduced_embeddings) #alternative to the hdbscan model, for usage do not forget to also change it in the train_model function\n",
    "inspection(clusters, texts)\n",
    "reduced_embeddings = reduce_st_plot_embeds(embeddings)\n",
    "static_plot(clusters, texts, reduced_embeddings)\n",
    "topic_model, topics, probs = train_model(texts, reduced_embeddings)\n",
    "#df_par = align_df_par(df_par, topics, probs)\n",
    "df_par = align_df_par_kmeans(df_par, topics, probs)\n",
    "topic_infos(topic_model)\n",
    "\n",
    "vectorizer_model = adjust_stop_words(topic_model, texts, langs)\n",
    "base_df = snapshot_topics_df(df_par, texts, topics, probs, topic_model,\n",
    "                             n_words=5, combine_sections=True)\n",
    "\n",
    "original_topics = deepcopy(topic_model.topic_representations_)\n",
    "\n",
    "#explore different finetunig options\n",
    "topic_model_keybert = deepcopy(topic_model)\n",
    "topic_model_mmr     = deepcopy(topic_model)\n",
    "#topics_base, probs_base = topic_model.transform(texts)\n",
    "\n",
    "#diff_df, updated_topics_keybert = keybert_topic_diffs(topic_model_keybert, original_topics, texts)\n",
    "#df_keybert = snapshot_topics_df(df_par, texts, topics_base, probs_base, topic_model_keybert,\n",
    "                                #n_words=5, combine_sections=True)\n",
    "#print(diff_df)\n",
    "\n",
    "#diff_df, updated_topics_mmr = max_marg_rel(topic_model_mmr, texts, original_topics)\n",
    "#df_mmr = snapshot_topics_df(df_par, texts, topics_base, probs_base, topic_model_mmr,\n",
    "                            #n_words=5, combine_sections=True)"
   ]
  },
  {
   "cell_type": "code",
   "execution_count": 46,
   "metadata": {
    "colab": {
     "base_uri": "https://localhost:8080/"
    },
    "executionInfo": {
     "elapsed": 44330,
     "status": "ok",
     "timestamp": 1757495339761,
     "user": {
      "displayName": "m. otto",
      "userId": "07165694256129537082"
     },
     "user_tz": -120
    },
    "id": "8mR09PXIpua5",
    "outputId": "e6f03607-a35f-4586-c43d-aac1f98c3b60"
   },
   "outputs": [
    {
     "name": "stderr",
     "output_type": "stream",
     "text": [
      "2025-09-10 09:08:20,985 - BERTopic - Dimensionality - Fitting the dimensionality reduction algorithm\n",
      "2025-09-10 09:08:20,991 - BERTopic - Dimensionality - Completed ✓\n",
      "2025-09-10 09:08:20,995 - BERTopic - Cluster - Start clustering the reduced embeddings\n"
     ]
    },
    {
     "name": "stdout",
     "output_type": "stream",
     "text": [
      "\n",
      "\n",
      "\n",
      " embeds: \n",
      " [7.870144  2.0455127]\n",
      "\n"
     ]
    },
    {
     "name": "stderr",
     "output_type": "stream",
     "text": [
      "2025-09-10 09:08:21,554 - BERTopic - Cluster - Completed ✓\n",
      "2025-09-10 09:08:21,573 - BERTopic - Representation - Fine-tuning topics using representation models.\n",
      "2025-09-10 09:08:25,135 - BERTopic - Representation - Completed ✓\n",
      "100%|██████████| 45/45 [00:27<00:00,  1.65it/s]\n"
     ]
    },
    {
     "name": "stdout",
     "output_type": "stream",
     "text": [
      "\n",
      "\n",
      "\n",
      " probs: \n",
      " [[0.         0.         0.         ... 0.         0.         0.        ]\n",
      " [0.         0.         0.         ... 0.         0.         0.        ]\n",
      " [0.02680259 0.01046625 0.00926331 ... 0.         0.         0.        ]\n",
      " ...\n",
      " [0.         0.         0.         ... 0.         0.         0.        ]\n",
      " [0.04591924 0.01466634 0.         ... 0.         0.         0.        ]\n",
      " [0.         0.         0.         ... 0.         0.         0.        ]]\n",
      "\n",
      "    Topic  Count                                               Name  \\\n",
      "0       0   1433                                  0_ich_die_der_sie   \n",
      "1       1   1338                         1_basque_the_de_baskischen   \n",
      "2       2   1302                                    2_de_in_the_que   \n",
      "3       3   1299                                 3_ich_vous_die_sie   \n",
      "4       4   1221                                   4_in_ich_die_der   \n",
      "5       5   1213                                   5_der_ich_die_in   \n",
      "6       6   1198                                    6_de_in_der_ich   \n",
      "7       7   1193                             7_die_der_deutschen_in   \n",
      "8       8   1175                                   8_ich_nach_in_zu   \n",
      "9       9   1162                                    9_ist_das_in_de   \n",
      "10     10   1119                                   10_de_ich_in_der   \n",
      "11     11   1117                                  11_ich_zu_und_sie   \n",
      "12     12   1097                              12_dank_für_ihnen_que   \n",
      "13     13   1089                                13_ich_nicht_che_in   \n",
      "14     14   1088                                  14_de_die_que_der   \n",
      "15     15   1083                                15_ich_graz_sie_wir   \n",
      "16     16   1072                                  16_ich_zu_sie_und   \n",
      "17     17   1067                                  17_ich_die_der_er   \n",
      "18     18   1066                                18_eu_ich_sie_nicht   \n",
      "19     19   1055                                   19_ich_die_de_in   \n",
      "20     20   1046                                     20_de_en_la_st   \n",
      "21     21   1044                                 21_ich_der_die_und   \n",
      "22     22   1037                              22_brief_ich_de_karte   \n",
      "23     23   1001                                    23_de_que_in_la   \n",
      "24     24    969                               24_ich_und_nicht_die   \n",
      "25     25    955                                  25_ich_de_que_sie   \n",
      "26     26    943                              26_sie_ich_vous_ihnen   \n",
      "27     27    941                                  27_die_der_ich_de   \n",
      "28     28    940                                   28_tem_de_que_li   \n",
      "29     29    894                               29_die_der_nicht_das   \n",
      "30     30    882                                   30_che_di_non_mi   \n",
      "31     31    843                           31_dr_schuchardt_hugo_de   \n",
      "32     32    833                              32_di_si_la_zeichnung   \n",
      "33     33    832                                   33_yn_eta_ist_ez   \n",
      "34     34    821                                    34_la_di_der_in   \n",
      "35     35    771                                  35_ich_die_de_und   \n",
      "36     36    742                              36_gotha_sie_ich_frau   \n",
      "37     37    704                                    37_de_que_la_se   \n",
      "38     38    691                                  38_de_in_la_paris   \n",
      "39     39    652                           39_geburtstag_und_sie_zu   \n",
      "40     40    650                                  40_15_10_12_lisez   \n",
      "41     41    649                               41_ch_cent_maglie_20   \n",
      "42     42    643                                   42_de_in_ich_die   \n",
      "43     43    591                                 43_tem_deos_de_per   \n",
      "44     44    416                                 44_de_meyer_la_que   \n",
      "45     45    304                          45_jahr_und_ihnen_wünsche   \n",
      "46     46    124  46_holl_______________________________________...   \n",
      "47     47     43                    47_original_entfernt_fehlt_teil   \n",
      "48     48     40                        48_weimar_astor_datimi_vsua   \n",
      "49     49     17                                        49_orlam___   \n",
      "\n",
      "                                       Representation  \\\n",
      "0   [ich, die, der, sie, zu, de, nicht, und, in, das]   \n",
      "1   [basque, the, de, baskischen, of, in, ich, die...   \n",
      "2      [de, in, the, que, die, der, en, les, des, la]   \n",
      "3   [ich, vous, die, sie, de, der, ihnen, zu, que,...   \n",
      "4     [in, ich, die, der, und, the, zu, de, das, von]   \n",
      "5   [der, ich, die, in, zu, und, nicht, ist, von, ...   \n",
      "6      [de, in, der, ich, die, la, und, des, von, et]   \n",
      "7   [die, der, deutschen, in, und, das, nicht, den...   \n",
      "8   [ich, nach, in, zu, sie, und, wien, mich, nich...   \n",
      "9       [ist, das, in, de, im, es, der, die, en, von]   \n",
      "10     [de, ich, in, der, die, von, sie, la, und, je]   \n",
      "11  [ich, zu, und, sie, die, nicht, mir, der, in, ...   \n",
      "12  [dank, für, ihnen, que, sie, de, ich, ihre, vo...   \n",
      "13  [ich, nicht, che, in, die, und, der, di, sie, zu]   \n",
      "14      [de, die, que, der, ich, el, la, en, in, und]   \n",
      "15  [ich, graz, sie, wir, und, zu, in, hier, es, die]   \n",
      "16  [ich, zu, sie, und, mir, mich, nicht, ihnen, d...   \n",
      "17  [ich, die, der, er, nicht, und, zu, sie, in, mir]   \n",
      "18   [eu, ich, sie, nicht, que, li, pas, je, le, est]   \n",
      "19     [ich, die, de, in, der, und, zu, sie, mir, la]   \n",
      "20     [de, en, la, st, eta, von, in, of, correa, se]   \n",
      "21  [ich, der, die, und, nicht, in, er, ist, zu, sie]   \n",
      "22  [brief, ich, de, karte, vous, que, lettre, sie...   \n",
      "23     [de, que, in, la, der, die, en, und, des, ich]   \n",
      "24  [ich, und, nicht, die, sie, in, mich, der, zu,...   \n",
      "25  [ich, de, que, sie, mir, zu, und, ihnen, vous,...   \n",
      "26  [sie, ich, vous, ihnen, zu, und, que, mich, de...   \n",
      "27  [die, der, ich, de, zu, sie, nicht, in, que, das]   \n",
      "28    [tem, de, que, li, la, ist, eile, com, ou, mas]   \n",
      "29  [die, der, nicht, das, la, ist, in, de, que, und]   \n",
      "30       [che, di, non, mi, in, la, il, per, ich, io]   \n",
      "31  [dr, schuchardt, hugo, de, prof, leipzig, wien...   \n",
      "32  [di, si, la, zeichnung, che, rete, spindel, il...   \n",
      "33       [yn, eta, ist, ez, das, in, ta, etc, yr, il]   \n",
      "34        [la, di, der, in, de, si, die, che, il, le]   \n",
      "35  [ich, die, de, und, der, in, zu, sie, von, nicht]   \n",
      "36  [gotha, sie, ich, frau, und, vous, zu, es, mut...   \n",
      "37         [de, que, la, se, en, ist, le, il, el, in]   \n",
      "38    [de, in, la, paris, von, et, der, di, des, del]   \n",
      "39  [geburtstag, und, sie, zu, ich, ihnen, glückwü...   \n",
      "40        [15, 10, 12, lisez, 24, 13, ii, 30, 22, 19]   \n",
      "41  [ch, cent, maglie, 20, 10, di, lisez, pezze, l...   \n",
      "42     [de, in, ich, die, que, der, di, und, von, la]   \n",
      "43  [tem, deos, de, per, christo, vossotros, nos, ...   \n",
      "44  [de, meyer, la, que, en, die, ich, winkler, de...   \n",
      "45  [jahr, und, ihnen, wünsche, ich, sie, neujahr,...   \n",
      "46  [holl, _______________________________________...   \n",
      "47  [original, entfernt, fehlt, teil, rest, im, ze...   \n",
      "48  [weimar, astor, datimi, vsua, usua, ator, vorf...   \n",
      "49                          [orlam, , , , , , , , , ]   \n",
      "\n",
      "                                  Representative_Docs  \n",
      "0   [h. wohl dem Vorstand grollte weil ein von ihm...  \n",
      "1   [parece mentira! but it is a fact (eguia bada)...  \n",
      "2   [So ist freilich die Uebereinstimmung des Mask...  \n",
      "3   [Verzeihen Sie mir daß ich Ihre beiden letzten...  \n",
      "4   [Es scheint mir nämlich, als ob wir Romanisten...  \n",
      "5   [Was die deutsche Verlagswelt angeht, so muss ...  \n",
      "6   [Sie werden mich vielleicht maßlos nennen, mei...  \n",
      "7   [Nun endlich komme ich zu Ihrem Briefe - ich b...  \n",
      "8   [Als ich neulich mich einige Tage in Paris auf...  \n",
      "9   [Über spavin finde ich in unseren Behelfen nic...  \n",
      "10  [Ich danke Ihnen bestens für den ugrofinnische...  \n",
      "11  [Ich danke Dir daß Du, wie Du schreibst, oft g...  \n",
      "12  [Empfangen Sie meinen aufrichtigen Dank für Ih...  \n",
      "13  [Sie haben mir durch Ihren Brief eine Freude b...  \n",
      "14  [Was die Akademieabhandlung anlangt, so läge m...  \n",
      "15  [Ihrem freundlichen Wunsche, den Sie mir vor m...  \n",
      "16  [Ich war neulich zu der Feststellung gelangt: ...  \n",
      "17  [Ihren Artikel in der Allg. Zeitg. über die Di...  \n",
      "18  [On dit moui attéle même, j’attèle, c’est cela...  \n",
      "19  [sollte eigentlich nur auf die Veröffentlichun...  \n",
      "20  [Guinauá malaqué an͠g úlo có, significa Hizo g...  \n",
      "21  [Seitdem ich mit Ritschl auseinandergekommen b...  \n",
      "22  [Sie haben nun doch alle meine Briefe erhalten...  \n",
      "23  [Es ist traurig dass so wenig für das Spanisch...  \n",
      "24  [Was nun mich und meine Angelegenheiten anbela...  \n",
      "25  [Je suis tellement coupable envers vous, – et ...  \n",
      "26  [Ich muss Sie nun doch noch um ein Wort in der...  \n",
      "27  [Ihren Brief vom 13. fand ich gestern, bei mei...  \n",
      "28  [7 Mas par nos tem este thesoura ne vasos de b...  \n",
      "29  [Auf die Termini ‘subjektlose Verba, Impersona...  \n",
      "30  [Già da tempo Le volevo scrivere per ringrazia...  \n",
      "31  [Herrn Prof. Dr. Schuchardt, für Dr. H. Schuch...  \n",
      "32  [La rete che qui nel Ferrarese va col nome di ...  \n",
      "33  [Yr ydwyf wedi ailδechreu myfyrio y Gymraeg, y...  \n",
      "34  [Ich machte die Bekanntschaft eines dortigen H...  \n",
      "35  [T.s einzige Aeusserung in der Angelegenheit d...  \n",
      "36  [Bei einer Arbeit über Herzog Friedrich IV. v....  \n",
      "37  [Me hace gracia la manera como amoldan [á su l...  \n",
      "38  [in 1888 I heard near Jaen chove for llueve . ...  \n",
      "39  [Über Meringers Aufsatz habe ich von jüngeren ...  \n",
      "40                 [[18/12], 13.12., Graz, 22.12.99.]  \n",
      "41  [Palamidara Palamitara rete da posta e a deriv...  \n",
      "42  [Ihre Bitte um Fabeln, Liedchen [,] Sprichwört...  \n",
      "43  [21 Mas elle quem te nimita par nos com vossot...  \n",
      "44  [Ihre Recension meiner Irischen Grammatik , di...  \n",
      "45  [Zum neuen Jahre wünsche ich Ihnen das Beste, ...  \n",
      "46                              [holl., holl:, Holl:]  \n",
      "47  [[Teil im Original entfernt], [Teil im Origina...  \n",
      "48                        [Weimar,, Weimar,, Weimar,]  \n",
      "49                           [orlam:, orlam:, orlam:]  \n",
      "[('ich', np.float64(0.01718718781596389)), ('die', np.float64(0.014782757857532556)), ('der', np.float64(0.01324049215473108)), ('sie', np.float64(0.012842164910689648)), ('zu', np.float64(0.012143822127197189)), ('de', np.float64(0.011886245004796394)), ('nicht', np.float64(0.011696645596095024)), ('und', np.float64(0.011658460585231402)), ('in', np.float64(0.011549681656898306)), ('das', np.float64(0.011357546703975485))]\n",
      "[('ich', np.float64(0.018390627512152372)), ('und', np.float64(0.014843596903524037)), ('nicht', np.float64(0.012889654743473434)), ('die', np.float64(0.012814412384357187)), ('sie', np.float64(0.01241388236038391)), ('in', np.float64(0.012374850251457651)), ('mich', np.float64(0.012197142638759463)), ('der', np.float64(0.011839468209427204)), ('zu', np.float64(0.011767536228711368)), ('so', np.float64(0.011334327374188746))]\n"
     ]
    }
   ],
   "source": []
  },
  {
   "cell_type": "markdown",
   "metadata": {
    "id": "pNOgOHnJfnPx"
   },
   "source": [
    "**Visualisation**"
   ]
  },
  {
   "cell_type": "code",
   "execution_count": 47,
   "metadata": {
    "colab": {
     "base_uri": "https://localhost:8080/",
     "height": 1000
    },
    "executionInfo": {
     "elapsed": 1497,
     "status": "ok",
     "timestamp": 1757495349487,
     "user": {
      "displayName": "m. otto",
      "userId": "07165694256129537082"
     },
     "user_tz": -120
    },
    "id": "jzlqhG0_tDFF",
    "outputId": "a0f81ad4-d609-468a-b2e5-b80ea916cc38"
   },
   "outputs": [
    {
     "data": {
      "text/html": [
       "<html>\n",
       "<head><meta charset=\"utf-8\" /></head>\n",
       "<body>\n",
       "    <div>            <script src=\"https://cdnjs.cloudflare.com/ajax/libs/mathjax/2.7.5/MathJax.js?config=TeX-AMS-MML_SVG\"></script><script type=\"text/javascript\">if (window.MathJax && window.MathJax.Hub && window.MathJax.Hub.Config) {window.MathJax.Hub.Config({SVG: {font: \"STIX-Web\"}});}</script>                <script type=\"text/javascript\">window.PlotlyConfig = {MathJaxConfig: 'local'};</script>\n",
       "        <script charset=\"utf-8\" src=\"https://cdn.plot.ly/plotly-2.35.2.min.js\"></script>                <div id=\"6d89920e-2228-4285-8d3f-756e99208ba3\" class=\"plotly-graph-div\" style=\"height:500px; width:1000px;\"></div>            <script type=\"text/javascript\">                                    window.PLOTLYENV=window.PLOTLYENV || {};                                    if (document.getElementById(\"6d89920e-2228-4285-8d3f-756e99208ba3\")) {                    Plotly.newPlot(                        \"6d89920e-2228-4285-8d3f-756e99208ba3\",                        [{\"marker\":{\"color\":\"#D55E00\"},\"orientation\":\"h\",\"x\":[0.00741889274669257,0.008118561112828743,0.008391943115042065,0.011947478618852952,0.017576355877743678],\"y\":[\"heft  \",\"bibliothek  \",\"artikel  \",\"bücher  \",\"buch  \"],\"type\":\"bar\",\"xaxis\":\"x\",\"yaxis\":\"y\"},{\"marker\":{\"color\":\"#0072B2\"},\"orientation\":\"h\",\"x\":[0.011000763686946632,0.01623779039134386,0.022913491919869425,0.028003407600461005,0.04292429735012451],\"y\":[\"basken  \",\"basques  \",\"baskische  \",\"baskischen  \",\"basque  \"],\"type\":\"bar\",\"xaxis\":\"x2\",\"yaxis\":\"y2\"},{\"marker\":{\"color\":\"#CC79A7\"},\"orientation\":\"h\",\"x\":[0.009975559151902685,0.010704906270704261,0.01072830861235351,0.010863800848518828,0.013721455531970772],\"y\":[\"langue  \",\"portugais  \",\"créole  \",\"français  \",\"sprache  \"],\"type\":\"bar\",\"xaxis\":\"x3\",\"yaxis\":\"y3\"},{\"marker\":{\"color\":\"#E69F00\"},\"orientation\":\"h\",\"x\":[0.008576381149943978,0.008703984444399758,0.008848823069230408,0.009754608738304615,0.0121222194178583],\"y\":[\"korrektur  \",\"erhalten  \",\"artikel  \",\"lacombe  \",\"bitte  \"],\"type\":\"bar\",\"xaxis\":\"x4\",\"yaxis\":\"y4\"},{\"marker\":{\"color\":\"#56B4E9\"},\"orientation\":\"h\",\"x\":[0.006328444445303313,0.006603560528295653,0.007195495687620908,0.007420488462503409,0.00774885979266925],\"y\":[\"russischen  \",\"sprachen  \",\"georgischen  \",\"sprache  \",\"georgische  \"],\"type\":\"bar\",\"xaxis\":\"x5\",\"yaxis\":\"y5\"},{\"marker\":{\"color\":\"#009E73\"},\"orientation\":\"h\",\"x\":[0.008789094328239008,0.00943361393011653,0.009604950247610137,0.014433898320957412,0.016452187316275197],\"y\":[\"akademie  \",\"berliner  \",\"vossler  \",\"deutschen  \",\"berlin  \"],\"type\":\"bar\",\"xaxis\":\"x6\",\"yaxis\":\"y6\"},{\"marker\":{\"color\":\"#F0E442\"},\"orientation\":\"h\",\"x\":[0.005784591343343575,0.005873453574236789,0.006808525700377996,0.00806470972776525,0.010832813935447104],\"y\":[\"buch  \",\"revue  \",\"französischen  \",\"français  \",\"paris  \"],\"type\":\"bar\",\"xaxis\":\"x7\",\"yaxis\":\"y7\"},{\"marker\":{\"color\":\"#D55E00\"},\"orientation\":\"h\",\"x\":[0.008063281299221448,0.011971608467856464,0.01272814400230894,0.01819891003643103,0.030471692482021858],\"y\":[\"deutscher  \",\"deutsch  \",\"deutschland  \",\"deutsche  \",\"deutschen  \"],\"type\":\"bar\",\"xaxis\":\"x8\",\"yaxis\":\"y8\"}],                        {\"template\":{\"data\":{\"barpolar\":[{\"marker\":{\"line\":{\"color\":\"white\",\"width\":0.5},\"pattern\":{\"fillmode\":\"overlay\",\"size\":10,\"solidity\":0.2}},\"type\":\"barpolar\"}],\"bar\":[{\"error_x\":{\"color\":\"#2a3f5f\"},\"error_y\":{\"color\":\"#2a3f5f\"},\"marker\":{\"line\":{\"color\":\"white\",\"width\":0.5},\"pattern\":{\"fillmode\":\"overlay\",\"size\":10,\"solidity\":0.2}},\"type\":\"bar\"}],\"carpet\":[{\"aaxis\":{\"endlinecolor\":\"#2a3f5f\",\"gridcolor\":\"#C8D4E3\",\"linecolor\":\"#C8D4E3\",\"minorgridcolor\":\"#C8D4E3\",\"startlinecolor\":\"#2a3f5f\"},\"baxis\":{\"endlinecolor\":\"#2a3f5f\",\"gridcolor\":\"#C8D4E3\",\"linecolor\":\"#C8D4E3\",\"minorgridcolor\":\"#C8D4E3\",\"startlinecolor\":\"#2a3f5f\"},\"type\":\"carpet\"}],\"choropleth\":[{\"colorbar\":{\"outlinewidth\":0,\"ticks\":\"\"},\"type\":\"choropleth\"}],\"contourcarpet\":[{\"colorbar\":{\"outlinewidth\":0,\"ticks\":\"\"},\"type\":\"contourcarpet\"}],\"contour\":[{\"colorbar\":{\"outlinewidth\":0,\"ticks\":\"\"},\"colorscale\":[[0.0,\"#0d0887\"],[0.1111111111111111,\"#46039f\"],[0.2222222222222222,\"#7201a8\"],[0.3333333333333333,\"#9c179e\"],[0.4444444444444444,\"#bd3786\"],[0.5555555555555556,\"#d8576b\"],[0.6666666666666666,\"#ed7953\"],[0.7777777777777778,\"#fb9f3a\"],[0.8888888888888888,\"#fdca26\"],[1.0,\"#f0f921\"]],\"type\":\"contour\"}],\"heatmapgl\":[{\"colorbar\":{\"outlinewidth\":0,\"ticks\":\"\"},\"colorscale\":[[0.0,\"#0d0887\"],[0.1111111111111111,\"#46039f\"],[0.2222222222222222,\"#7201a8\"],[0.3333333333333333,\"#9c179e\"],[0.4444444444444444,\"#bd3786\"],[0.5555555555555556,\"#d8576b\"],[0.6666666666666666,\"#ed7953\"],[0.7777777777777778,\"#fb9f3a\"],[0.8888888888888888,\"#fdca26\"],[1.0,\"#f0f921\"]],\"type\":\"heatmapgl\"}],\"heatmap\":[{\"colorbar\":{\"outlinewidth\":0,\"ticks\":\"\"},\"colorscale\":[[0.0,\"#0d0887\"],[0.1111111111111111,\"#46039f\"],[0.2222222222222222,\"#7201a8\"],[0.3333333333333333,\"#9c179e\"],[0.4444444444444444,\"#bd3786\"],[0.5555555555555556,\"#d8576b\"],[0.6666666666666666,\"#ed7953\"],[0.7777777777777778,\"#fb9f3a\"],[0.8888888888888888,\"#fdca26\"],[1.0,\"#f0f921\"]],\"type\":\"heatmap\"}],\"histogram2dcontour\":[{\"colorbar\":{\"outlinewidth\":0,\"ticks\":\"\"},\"colorscale\":[[0.0,\"#0d0887\"],[0.1111111111111111,\"#46039f\"],[0.2222222222222222,\"#7201a8\"],[0.3333333333333333,\"#9c179e\"],[0.4444444444444444,\"#bd3786\"],[0.5555555555555556,\"#d8576b\"],[0.6666666666666666,\"#ed7953\"],[0.7777777777777778,\"#fb9f3a\"],[0.8888888888888888,\"#fdca26\"],[1.0,\"#f0f921\"]],\"type\":\"histogram2dcontour\"}],\"histogram2d\":[{\"colorbar\":{\"outlinewidth\":0,\"ticks\":\"\"},\"colorscale\":[[0.0,\"#0d0887\"],[0.1111111111111111,\"#46039f\"],[0.2222222222222222,\"#7201a8\"],[0.3333333333333333,\"#9c179e\"],[0.4444444444444444,\"#bd3786\"],[0.5555555555555556,\"#d8576b\"],[0.6666666666666666,\"#ed7953\"],[0.7777777777777778,\"#fb9f3a\"],[0.8888888888888888,\"#fdca26\"],[1.0,\"#f0f921\"]],\"type\":\"histogram2d\"}],\"histogram\":[{\"marker\":{\"pattern\":{\"fillmode\":\"overlay\",\"size\":10,\"solidity\":0.2}},\"type\":\"histogram\"}],\"mesh3d\":[{\"colorbar\":{\"outlinewidth\":0,\"ticks\":\"\"},\"type\":\"mesh3d\"}],\"parcoords\":[{\"line\":{\"colorbar\":{\"outlinewidth\":0,\"ticks\":\"\"}},\"type\":\"parcoords\"}],\"pie\":[{\"automargin\":true,\"type\":\"pie\"}],\"scatter3d\":[{\"line\":{\"colorbar\":{\"outlinewidth\":0,\"ticks\":\"\"}},\"marker\":{\"colorbar\":{\"outlinewidth\":0,\"ticks\":\"\"}},\"type\":\"scatter3d\"}],\"scattercarpet\":[{\"marker\":{\"colorbar\":{\"outlinewidth\":0,\"ticks\":\"\"}},\"type\":\"scattercarpet\"}],\"scattergeo\":[{\"marker\":{\"colorbar\":{\"outlinewidth\":0,\"ticks\":\"\"}},\"type\":\"scattergeo\"}],\"scattergl\":[{\"marker\":{\"colorbar\":{\"outlinewidth\":0,\"ticks\":\"\"}},\"type\":\"scattergl\"}],\"scattermapbox\":[{\"marker\":{\"colorbar\":{\"outlinewidth\":0,\"ticks\":\"\"}},\"type\":\"scattermapbox\"}],\"scatterpolargl\":[{\"marker\":{\"colorbar\":{\"outlinewidth\":0,\"ticks\":\"\"}},\"type\":\"scatterpolargl\"}],\"scatterpolar\":[{\"marker\":{\"colorbar\":{\"outlinewidth\":0,\"ticks\":\"\"}},\"type\":\"scatterpolar\"}],\"scatter\":[{\"fillpattern\":{\"fillmode\":\"overlay\",\"size\":10,\"solidity\":0.2},\"type\":\"scatter\"}],\"scatterternary\":[{\"marker\":{\"colorbar\":{\"outlinewidth\":0,\"ticks\":\"\"}},\"type\":\"scatterternary\"}],\"surface\":[{\"colorbar\":{\"outlinewidth\":0,\"ticks\":\"\"},\"colorscale\":[[0.0,\"#0d0887\"],[0.1111111111111111,\"#46039f\"],[0.2222222222222222,\"#7201a8\"],[0.3333333333333333,\"#9c179e\"],[0.4444444444444444,\"#bd3786\"],[0.5555555555555556,\"#d8576b\"],[0.6666666666666666,\"#ed7953\"],[0.7777777777777778,\"#fb9f3a\"],[0.8888888888888888,\"#fdca26\"],[1.0,\"#f0f921\"]],\"type\":\"surface\"}],\"table\":[{\"cells\":{\"fill\":{\"color\":\"#EBF0F8\"},\"line\":{\"color\":\"white\"}},\"header\":{\"fill\":{\"color\":\"#C8D4E3\"},\"line\":{\"color\":\"white\"}},\"type\":\"table\"}]},\"layout\":{\"annotationdefaults\":{\"arrowcolor\":\"#2a3f5f\",\"arrowhead\":0,\"arrowwidth\":1},\"autotypenumbers\":\"strict\",\"coloraxis\":{\"colorbar\":{\"outlinewidth\":0,\"ticks\":\"\"}},\"colorscale\":{\"diverging\":[[0,\"#8e0152\"],[0.1,\"#c51b7d\"],[0.2,\"#de77ae\"],[0.3,\"#f1b6da\"],[0.4,\"#fde0ef\"],[0.5,\"#f7f7f7\"],[0.6,\"#e6f5d0\"],[0.7,\"#b8e186\"],[0.8,\"#7fbc41\"],[0.9,\"#4d9221\"],[1,\"#276419\"]],\"sequential\":[[0.0,\"#0d0887\"],[0.1111111111111111,\"#46039f\"],[0.2222222222222222,\"#7201a8\"],[0.3333333333333333,\"#9c179e\"],[0.4444444444444444,\"#bd3786\"],[0.5555555555555556,\"#d8576b\"],[0.6666666666666666,\"#ed7953\"],[0.7777777777777778,\"#fb9f3a\"],[0.8888888888888888,\"#fdca26\"],[1.0,\"#f0f921\"]],\"sequentialminus\":[[0.0,\"#0d0887\"],[0.1111111111111111,\"#46039f\"],[0.2222222222222222,\"#7201a8\"],[0.3333333333333333,\"#9c179e\"],[0.4444444444444444,\"#bd3786\"],[0.5555555555555556,\"#d8576b\"],[0.6666666666666666,\"#ed7953\"],[0.7777777777777778,\"#fb9f3a\"],[0.8888888888888888,\"#fdca26\"],[1.0,\"#f0f921\"]]},\"colorway\":[\"#636efa\",\"#EF553B\",\"#00cc96\",\"#ab63fa\",\"#FFA15A\",\"#19d3f3\",\"#FF6692\",\"#B6E880\",\"#FF97FF\",\"#FECB52\"],\"font\":{\"color\":\"#2a3f5f\"},\"geo\":{\"bgcolor\":\"white\",\"lakecolor\":\"white\",\"landcolor\":\"white\",\"showlakes\":true,\"showland\":true,\"subunitcolor\":\"#C8D4E3\"},\"hoverlabel\":{\"align\":\"left\"},\"hovermode\":\"closest\",\"mapbox\":{\"style\":\"light\"},\"paper_bgcolor\":\"white\",\"plot_bgcolor\":\"white\",\"polar\":{\"angularaxis\":{\"gridcolor\":\"#EBF0F8\",\"linecolor\":\"#EBF0F8\",\"ticks\":\"\"},\"bgcolor\":\"white\",\"radialaxis\":{\"gridcolor\":\"#EBF0F8\",\"linecolor\":\"#EBF0F8\",\"ticks\":\"\"}},\"scene\":{\"xaxis\":{\"backgroundcolor\":\"white\",\"gridcolor\":\"#DFE8F3\",\"gridwidth\":2,\"linecolor\":\"#EBF0F8\",\"showbackground\":true,\"ticks\":\"\",\"zerolinecolor\":\"#EBF0F8\"},\"yaxis\":{\"backgroundcolor\":\"white\",\"gridcolor\":\"#DFE8F3\",\"gridwidth\":2,\"linecolor\":\"#EBF0F8\",\"showbackground\":true,\"ticks\":\"\",\"zerolinecolor\":\"#EBF0F8\"},\"zaxis\":{\"backgroundcolor\":\"white\",\"gridcolor\":\"#DFE8F3\",\"gridwidth\":2,\"linecolor\":\"#EBF0F8\",\"showbackground\":true,\"ticks\":\"\",\"zerolinecolor\":\"#EBF0F8\"}},\"shapedefaults\":{\"line\":{\"color\":\"#2a3f5f\"}},\"ternary\":{\"aaxis\":{\"gridcolor\":\"#DFE8F3\",\"linecolor\":\"#A2B1C6\",\"ticks\":\"\"},\"baxis\":{\"gridcolor\":\"#DFE8F3\",\"linecolor\":\"#A2B1C6\",\"ticks\":\"\"},\"bgcolor\":\"white\",\"caxis\":{\"gridcolor\":\"#DFE8F3\",\"linecolor\":\"#A2B1C6\",\"ticks\":\"\"}},\"title\":{\"x\":0.05},\"xaxis\":{\"automargin\":true,\"gridcolor\":\"#EBF0F8\",\"linecolor\":\"#EBF0F8\",\"ticks\":\"\",\"title\":{\"standoff\":15},\"zerolinecolor\":\"#EBF0F8\",\"zerolinewidth\":2},\"yaxis\":{\"automargin\":true,\"gridcolor\":\"#EBF0F8\",\"linecolor\":\"#EBF0F8\",\"ticks\":\"\",\"title\":{\"standoff\":15},\"zerolinecolor\":\"#EBF0F8\",\"zerolinewidth\":2}}},\"xaxis\":{\"anchor\":\"y\",\"domain\":[0.0,0.175],\"showgrid\":true},\"yaxis\":{\"anchor\":\"x\",\"domain\":[0.6000000000000001,1.0],\"showgrid\":true},\"xaxis2\":{\"anchor\":\"y2\",\"domain\":[0.275,0.45],\"showgrid\":true},\"yaxis2\":{\"anchor\":\"x2\",\"domain\":[0.6000000000000001,1.0],\"showgrid\":true},\"xaxis3\":{\"anchor\":\"y3\",\"domain\":[0.55,0.7250000000000001],\"showgrid\":true},\"yaxis3\":{\"anchor\":\"x3\",\"domain\":[0.6000000000000001,1.0],\"showgrid\":true},\"xaxis4\":{\"anchor\":\"y4\",\"domain\":[0.825,1.0],\"showgrid\":true},\"yaxis4\":{\"anchor\":\"x4\",\"domain\":[0.6000000000000001,1.0],\"showgrid\":true},\"xaxis5\":{\"anchor\":\"y5\",\"domain\":[0.0,0.175],\"showgrid\":true},\"yaxis5\":{\"anchor\":\"x5\",\"domain\":[0.0,0.4],\"showgrid\":true},\"xaxis6\":{\"anchor\":\"y6\",\"domain\":[0.275,0.45],\"showgrid\":true},\"yaxis6\":{\"anchor\":\"x6\",\"domain\":[0.0,0.4],\"showgrid\":true},\"xaxis7\":{\"anchor\":\"y7\",\"domain\":[0.55,0.7250000000000001],\"showgrid\":true},\"yaxis7\":{\"anchor\":\"x7\",\"domain\":[0.0,0.4],\"showgrid\":true},\"xaxis8\":{\"anchor\":\"y8\",\"domain\":[0.825,1.0],\"showgrid\":true},\"yaxis8\":{\"anchor\":\"x8\",\"domain\":[0.0,0.4],\"showgrid\":true},\"annotations\":[{\"font\":{\"size\":16},\"showarrow\":false,\"text\":\"Topic 0\",\"x\":0.0875,\"xanchor\":\"center\",\"xref\":\"paper\",\"y\":1.0,\"yanchor\":\"bottom\",\"yref\":\"paper\"},{\"font\":{\"size\":16},\"showarrow\":false,\"text\":\"Topic 1\",\"x\":0.36250000000000004,\"xanchor\":\"center\",\"xref\":\"paper\",\"y\":1.0,\"yanchor\":\"bottom\",\"yref\":\"paper\"},{\"font\":{\"size\":16},\"showarrow\":false,\"text\":\"Topic 2\",\"x\":0.6375000000000001,\"xanchor\":\"center\",\"xref\":\"paper\",\"y\":1.0,\"yanchor\":\"bottom\",\"yref\":\"paper\"},{\"font\":{\"size\":16},\"showarrow\":false,\"text\":\"Topic 3\",\"x\":0.9125,\"xanchor\":\"center\",\"xref\":\"paper\",\"y\":1.0,\"yanchor\":\"bottom\",\"yref\":\"paper\"},{\"font\":{\"size\":16},\"showarrow\":false,\"text\":\"Topic 4\",\"x\":0.0875,\"xanchor\":\"center\",\"xref\":\"paper\",\"y\":0.4,\"yanchor\":\"bottom\",\"yref\":\"paper\"},{\"font\":{\"size\":16},\"showarrow\":false,\"text\":\"Topic 5\",\"x\":0.36250000000000004,\"xanchor\":\"center\",\"xref\":\"paper\",\"y\":0.4,\"yanchor\":\"bottom\",\"yref\":\"paper\"},{\"font\":{\"size\":16},\"showarrow\":false,\"text\":\"Topic 6\",\"x\":0.6375000000000001,\"xanchor\":\"center\",\"xref\":\"paper\",\"y\":0.4,\"yanchor\":\"bottom\",\"yref\":\"paper\"},{\"font\":{\"size\":16},\"showarrow\":false,\"text\":\"Topic 7\",\"x\":0.9125,\"xanchor\":\"center\",\"xref\":\"paper\",\"y\":0.4,\"yanchor\":\"bottom\",\"yref\":\"paper\"}],\"title\":{\"font\":{\"size\":22,\"color\":\"Black\"},\"text\":\"Topic Word Scores\",\"x\":0.5,\"xanchor\":\"center\",\"yanchor\":\"top\"},\"hoverlabel\":{\"font\":{\"size\":16,\"family\":\"Rockwell\"},\"bgcolor\":\"white\"},\"showlegend\":false,\"width\":1000,\"height\":500},                        {\"responsive\": true}                    ).then(function(){\n",
       "                            \n",
       "var gd = document.getElementById('6d89920e-2228-4285-8d3f-756e99208ba3');\n",
       "var x = new MutationObserver(function (mutations, observer) {{\n",
       "        var display = window.getComputedStyle(gd).display;\n",
       "        if (!display || display === 'none') {{\n",
       "            console.log([gd, 'removed!']);\n",
       "            Plotly.purge(gd);\n",
       "            observer.disconnect();\n",
       "        }}\n",
       "}});\n",
       "\n",
       "// Listen for the removal of the full notebook cells\n",
       "var notebookContainer = gd.closest('#notebook-container');\n",
       "if (notebookContainer) {{\n",
       "    x.observe(notebookContainer, {childList: true});\n",
       "}}\n",
       "\n",
       "// Listen for the clearing of the current output cell\n",
       "var outputEl = gd.closest('.output');\n",
       "if (outputEl) {{\n",
       "    x.observe(outputEl, {childList: true});\n",
       "}}\n",
       "\n",
       "                        })                };                            </script>        </div>\n",
       "</body>\n",
       "</html>"
      ]
     },
     "metadata": {},
     "output_type": "display_data"
    },
    {
     "data": {
      "text/html": [
       "<html>\n",
       "<head><meta charset=\"utf-8\" /></head>\n",
       "<body>\n",
       "    <div>            <script src=\"https://cdnjs.cloudflare.com/ajax/libs/mathjax/2.7.5/MathJax.js?config=TeX-AMS-MML_SVG\"></script><script type=\"text/javascript\">if (window.MathJax && window.MathJax.Hub && window.MathJax.Hub.Config) {window.MathJax.Hub.Config({SVG: {font: \"STIX-Web\"}});}</script>                <script type=\"text/javascript\">window.PlotlyConfig = {MathJaxConfig: 'local'};</script>\n",
       "        <script charset=\"utf-8\" src=\"https://cdn.plot.ly/plotly-2.35.2.min.js\"></script>                <div id=\"8867165f-8199-4239-8453-b1add7836d97\" class=\"plotly-graph-div\" style=\"height:800px; width:800px;\"></div>            <script type=\"text/javascript\">                                    window.PLOTLYENV=window.PLOTLYENV || {};                                    if (document.getElementById(\"8867165f-8199-4239-8453-b1add7836d97\")) {                    Plotly.newPlot(                        \"8867165f-8199-4239-8453-b1add7836d97\",                        [{\"coloraxis\":\"coloraxis\",\"name\":\"0\",\"x\":[\"0_buch_bücher_artikel\",\"25_schreiben_bitte_carta\",\"1_basque_baskischen_baskische\",\"14_sprache_madrid_juan\",\"24_graz_wochen_frau\",\"30_roma_lettera_paris\",\"2_sprache_français_créole\",\"8_wien_graz_paris\",\"15_graz_wetter_hoffentlich\",\"23_sprachen_sprache_portugu...\",\"29_azkue_sprache_sprachen\",\"36_gotha_frau_mutter\",\"42_spanien_sevilla_madrid\",\"3_bitte_lacombe_artikel\",\"22_karte_lettre_carta\",\"27_druckerei_karras_heft\",\"44_meyer_winkler_dante\",\"4_georgische_sprache_georgi...\",\"13_mussafia_wissenschaft_frau\",\"19_esperanto_sprache_arbeit\",\"26_gesundheit_bitte_wünsche\",\"35_romania_rumänischen_basque\",\"39_geburtstag_glückwünsche_...\",\"5_berlin_deutschen_vossler\",\"7_deutschen_deutsche_deutsc...\",\"10_buch_paris_artikel\",\"11_herr_professor_schreiben\",\"12_danke_herzlichen_bitte\",\"17_prof_akademie_artikel\",\"6_paris_français_französisc...\",\"16_hofrat_herr_schreiben\",\"21_sagen_vinson_wissenschaft\",\"9_wort_bedeutung_form\",\"18_vossotros_tâ_zoo\",\"37_verbo_wort_form\",\"43_deos_christo_vossotros\",\"45_wünsche_neujahr_weihnach...\",\"20_correa_saint_vgl\",\"28_eile_acabar_tabak\",\"31_schuchardt_hugo_prof\",\"34_pesca_rete_barche\",\"47_original_entfernt_fehlt\",\"32_zeichnung_rete_spindel\",\"41_maglie_20_lisez\",\"33_yn_yr_zure\",\"38_paris_vgl_madrid\",\"40_15_12_lisez\",\"46_holl____________________...\",\"48_weimar_astor_datimi\",\"49_orlam__\"],\"y\":[\"0_buch_bücher_artikel\",\"25_schreiben_bitte_carta\",\"1_basque_baskischen_baskische\",\"14_sprache_madrid_juan\",\"24_graz_wochen_frau\",\"30_roma_lettera_paris\",\"2_sprache_français_créole\",\"8_wien_graz_paris\",\"15_graz_wetter_hoffentlich\",\"23_sprachen_sprache_portugu...\",\"29_azkue_sprache_sprachen\",\"36_gotha_frau_mutter\",\"42_spanien_sevilla_madrid\",\"3_bitte_lacombe_artikel\",\"22_karte_lettre_carta\",\"27_druckerei_karras_heft\",\"44_meyer_winkler_dante\",\"4_georgische_sprache_georgi...\",\"13_mussafia_wissenschaft_frau\",\"19_esperanto_sprache_arbeit\",\"26_gesundheit_bitte_wünsche\",\"35_romania_rumänischen_basque\",\"39_geburtstag_glückwünsche_...\",\"5_berlin_deutschen_vossler\",\"7_deutschen_deutsche_deutsc...\",\"10_buch_paris_artikel\",\"11_herr_professor_schreiben\",\"12_danke_herzlichen_bitte\",\"17_prof_akademie_artikel\",\"6_paris_français_französisc...\",\"16_hofrat_herr_schreiben\",\"21_sagen_vinson_wissenschaft\",\"9_wort_bedeutung_form\",\"18_vossotros_tâ_zoo\",\"37_verbo_wort_form\",\"43_deos_christo_vossotros\",\"45_wünsche_neujahr_weihnach...\",\"20_correa_saint_vgl\",\"28_eile_acabar_tabak\",\"31_schuchardt_hugo_prof\",\"34_pesca_rete_barche\",\"47_original_entfernt_fehlt\",\"32_zeichnung_rete_spindel\",\"41_maglie_20_lisez\",\"33_yn_yr_zure\",\"38_paris_vgl_madrid\",\"40_15_12_lisez\",\"46_holl____________________...\",\"48_weimar_astor_datimi\",\"49_orlam__\"],\"z\":[[1.0,0.999689,0.98083895,0.97482264,0.97753775,0.97952,0.95351654,0.96576995,0.9564735,0.96806085,0.9520032,0.96232146,0.9667959,0.99943125,0.99801415,0.99717623,0.99960953,0.9855316,0.99003875,0.9864364,0.98768675,0.99018395,0.98688084,0.9988308,0.9980886,0.9975881,0.99855214,0.99898475,0.99807316,0.99278706,0.99331087,0.99382806,0.92964524,0.9151025,0.93154126,0.9184926,0.9270956,0.8696929,0.8853132,0.86583906,0.88128287,0.8728607,0.8537535,0.84083235,0.8990132,0.90145093,0.8199779,0.7089936,0.6193975,-0.40397373],[0.999689,0.9999999,0.985392,0.9800798,0.9824893,0.98423624,0.96073437,0.971938,0.96345294,0.9740117,0.95933986,0.9688027,0.9728677,0.9982795,0.996133,0.99499345,0.99860185,0.98945165,0.9932417,0.99022275,0.99128073,0.99336135,0.99059993,0.99972564,0.99931926,0.9990087,0.999583,0.99979746,0.99930996,0.9954679,0.9958814,0.99628514,0.93854403,0.9248727,0.9403193,0.92806774,0.936154,0.88173085,0.8966332,0.878046,0.8927935,0.88475746,0.86647177,0.85406876,0.9096538,0.9119651,0.8339963,0.7263586,0.6387819,-0.381037],[0.98083895,0.985392,1.0,0.99958545,0.99986744,0.9999778,0.99395347,0.9978012,0.9949988,0.9983562,0.993394,0.9968568,0.99805737,0.9737113,0.96661943,0.9634388,0.9750119,0.9996682,0.9984983,0.9995138,0.99924016,0.99844104,0.999425,0.9891102,0.99100405,0.99199593,0.98989904,0.9886197,0.991037,0.99712145,0.99677414,0.996397,0.983615,0.9761239,0.98453563,0.97793275,0.982355,0.9491908,0.95894027,0.94672173,0.9564666,0.9512022,0.9388333,0.93017656,0.96710324,0.96851236,0.9157806,0.8327989,0.76047844,-0.21801703],[0.97482264,0.9800798,0.99958545,1.0000002,0.9999217,0.9997551,0.996703,0.99929595,0.99746245,0.99959266,0.9962864,0.9987247,0.9994375,0.96674883,0.9588412,0.95532477,0.96821105,0.9985121,0.996507,0.9982017,0.99770373,0.99642,0.9980343,0.9844623,0.9867397,0.9879489,0.9854064,0.9838782,0.98677975,0.9945249,0.99405,0.9935419,0.98839825,0.9819737,0.98917174,0.983543,0.98733294,0.9578588,0.96670896,0.9556024,0.9644734,0.9596928,0.94835997,0.9403616,0.97402704,0.97527957,0.9269669,0.84839326,0.7788609,-0.18982528],[0.97753775,0.9824893,0.99986744,0.9999217,0.9999999,0.99995375,0.99560905,0.99874777,0.9964928,0.9991569,0.9951303,0.9980143,0.99893916,0.9698745,0.96232074,0.9589499,0.97126657,0.9991164,0.99747425,0.99887383,0.99847335,0.9974002,0.99874055,0.9865834,0.98869425,0.9898091,0.9874601,0.98603994,0.9887312,0.99575514,0.99533564,0.9948845,0.98641914,0.9795303,0.9872567,0.98120385,0.9852691,0.9541875,0.96342963,0.9518385,0.9610903,0.95609885,0.9443144,0.93602896,0.9711158,0.9724365,0.9221976,0.84169936,0.7709477,-0.20210212],[0.97952,0.98423624,0.9999778,0.9997551,0.99995375,1.0,0.9946626,0.9982203,0.9956418,0.99871576,0.9941361,0.9973622,0.99845004,0.9721731,0.96489197,0.9616335,0.97351116,0.9994745,0.9981114,0.9992841,0.9989586,0.9980473,0.99917704,0.9881083,0.990091,0.9911332,0.9889331,0.98759615,0.9901256,0.99659455,0.9962177,0.9958103,0.9847936,0.9775486,0.9856802,0.97930217,0.98357856,0.9512651,0.9608074,0.94884515,0.9583886,0.9532357,0.9411055,0.9326003,0.9687756,0.9701486,0.9184348,0.8364663,0.7647853,-0.21151397],[0.95351654,0.96073437,0.99395347,0.996703,0.99560905,0.9946626,0.9999999,0.9990454,0.99995023,0.99861276,0.99998754,0.99952817,0.9988633,0.9428124,0.9326416,0.92819434,0.94472367,0.9907954,0.9864456,0.9900467,0.9889187,0.9862753,0.9896587,0.96696913,0.9703168,0.9721331,0.96834636,0.96612376,0.97037655,0.982767,0.98193455,0.98105985,0.9974628,0.9940723,0.9978182,0.9949594,0.9969509,0.97800624,0.9842827,0.9763593,0.98272806,0.97933203,0.9709693,0.9648618,0.9891875,0.9899931,0.9543483,0.888547,0.82718146,-0.1095382],[0.96576995,0.971938,0.9978012,0.99929595,0.99874777,0.9982203,0.9990454,0.9999999,0.9994312,0.99995965,0.9988153,0.9999156,0.99999195,0.9564731,0.94751245,0.9435627,0.95814425,0.9957629,0.9926719,0.99524957,0.9944598,0.9925463,0.99498,0.97718066,0.9799549,0.98144585,0.97832584,0.97647524,0.9800041,0.9899036,0.98926306,0.988585,0.9934009,0.9883741,0.9939816,0.9896292,0.9925906,0.9679614,0.9756286,0.96598506,0.9737061,0.96956193,0.95959324,0.9524627,0.98183674,0.98288363,0.94038934,0.8676575,0.80184466,-0.1528541],[0.9564735,0.96345294,0.9949988,0.99746245,0.9964928,0.9956418,0.99995023,0.9994312,0.99999994,0.99908805,0.9998881,0.9997847,0.99928886,0.9460888,0.93619245,0.93185794,0.94794554,0.99209577,0.9880326,0.99140066,0.9903497,0.9878724,0.99103963,0.9694624,0.97267973,0.9744221,0.97078687,0.9686488,0.9727371,0.9845611,0.9837723,0.9829423,0.99670345,0.99293894,0.9971103,0.9939102,0.9961234,0.9758781,0.9824731,0.9741558,0.9808342,0.97726685,0.9685362,0.96219414,0.98767614,0.9885369,0.9513229,0.8839287,0.8215378,-0.11944277],[0.96806085,0.9740117,0.9983562,0.99959266,0.9991569,0.99871576,0.99861276,0.99995965,0.99908805,1.0,0.99833804,0.9997588,0.9999874,0.9590556,0.95034593,0.94649935,0.96067697,0.9965487,0.9937173,0.99608386,0.9953639,0.9936009,0.99583876,0.97904915,0.9817047,0.98312837,0.9801463,0.9783727,0.9817517,0.99113685,0.9905358,0.9898984,0.99233073,0.98696864,0.99295765,0.98829913,0.9914593,0.96566707,0.9736185,0.96362346,0.97162086,0.96732366,0.9570272,0.94968796,0.9800932,0.98118937,0.93729675,0.86315715,0.7964455,-0.16172409],[0.9520032,0.95933986,0.993394,0.9962864,0.9951303,0.9941361,0.99998754,0.9988153,0.9998881,0.99833804,0.99999994,0.9993627,0.9986134,0.94113976,0.9308322,0.92632866,0.9430782,0.99010855,0.9856158,0.9893331,0.9881667,0.9854403,0.9889317,0.96568704,0.96909976,0.9709529,0.9670906,0.96482575,0.9691607,0.9818337,0.9809795,0.9800824,0.99780524,0.9946018,0.9981348,0.9954468,0.9973274,0.97903347,0.98515046,0.9774243,0.98363805,0.98032784,0.97214925,0.96615916,0.989906,0.990684,0.955825,0.89082205,0.8299713,-0.10458381],[0.96232146,0.9688027,0.9968568,0.9987247,0.9980143,0.9973622,0.99952817,0.9999156,0.9997847,0.9997588,0.9993627,0.9999999,0.99985594,0.9526046,0.94328254,0.9391841,0.9543474,0.9944853,0.99101967,0.99390197,0.99301153,0.9908808,0.9935972,0.97434115,0.97728634,0.97887427,0.97555554,0.97359407,0.9773387,0.98798037,0.98728263,0.98654604,0.99480593,0.99026436,0.9953198,0.9914103,0.9940842,0.97113913,0.9783947,0.9692603,0.9765811,0.9726584,0.96316487,0.9563369,0.98421675,0.9851921,0.9447247,0.8740377,0.80953324,-0.14001344],[0.9667959,0.9728677,0.99805737,0.9994375,0.99893916,0.99845004,0.9988633,0.99999195,0.99928886,0.9999874,0.9986134,0.99985594,0.9999999,0.9576284,0.948779,0.944875,0.9592775,0.9961214,0.9931456,0.9956296,0.99487084,0.99302405,0.99537086,0.97801936,0.980741,0.98220205,0.97914326,0.97732675,0.9807891,0.99046063,0.9898375,0.9891775,0.99293584,0.9877603,0.9935372,0.9890489,0.9920985,0.96695304,0.9747464,0.96494675,0.97279054,0.9685784,0.95846415,0.95124096,0.98107284,0.9821417,0.93902653,0.86566937,0.799457,-0.15679115],[0.99943125,0.9982795,0.9737113,0.96674883,0.9698745,0.9721731,0.9428124,0.9564731,0.9460888,0.9590556,0.94113976,0.9526046,0.9576284,1.0,0.9995707,0.9991415,0.9999834,0.9792555,0.98472774,0.9803401,0.9818494,0.98490745,0.98087513,0.9966325,0.99543685,0.99468,0.9961701,0.99689746,0.9954132,0.9881794,0.988852,0.9895219,0.91669136,0.90098447,0.9187489,0.9046352,0.9139284,0.85255325,0.86912906,0.8484747,0.864845,0.85590893,0.83570963,0.82210046,0.8837343,0.88634056,0.80020916,0.6848091,0.5925708,-0.43459192],[0.99801415,0.996133,0.96661943,0.9588412,0.96232074,0.96489197,0.9326416,0.94751245,0.93619245,0.95034593,0.9308322,0.94328254,0.948779,0.9995707,1.0,0.9999263,0.9993847,0.97289824,0.979204,0.9741381,0.97587097,0.97941345,0.97475135,0.99380225,0.9922137,0.9912348,0.99318063,0.99416333,0.9921828,0.98326355,0.9840648,0.98486686,0.90459,0.8878863,0.90678596,0.89176,0.9016443,0.83687437,0.8542651,0.83260435,0.8497644,0.84039015,0.8192606,0.8050664,0.8696432,0.8723936,0.7822944,0.6631642,0.56871545,-0.46079287],[0.99717623,0.99499345,0.9634388,0.95532477,0.9589499,0.9616335,0.92819434,0.9435627,0.93185794,0.94649935,0.92632866,0.9391841,0.944875,0.9991415,0.9999263,1.0,0.99888533,0.9700205,0.9766698,0.97132427,0.9731493,0.9768916,0.9719698,0.99238,0.99062926,0.9895585,0.99169266,0.9927808,0.9905953,0.9809802,0.9818345,0.982691,0.8993502,0.88223773,0.90160286,0.8862028,0.8963295,0.8301698,0.8478936,0.82582146,0.8433044,0.83375096,0.81224144,0.7978084,0.8635881,0.86639744,0.7746774,0.6540322,0.5586917,-0.47152936],[0.99960953,0.99860185,0.9750119,0.96821105,0.97126657,0.97351116,0.94472367,0.95814425,0.94794554,0.96067697,0.9430782,0.9543474,0.9592775,0.9999834,0.9993847,0.99888533,1.0000001,0.9804106,0.98571783,0.98146445,0.98292947,0.9858916,0.981984,0.99709,0.995972,0.995259,0.996659,0.99733585,0.9959496,0.9890492,0.9896964,0.9903401,0.9189862,0.9034776,0.9210162,0.907084,0.9162595,0.8555605,0.8719739,0.8515201,0.8677329,0.8588842,0.83887047,0.8253782,0.8864251,0.8890026,0.80366284,0.68901044,0.5972177,-0.42937806],[0.9855316,0.98945165,0.9996682,0.9985121,0.9991164,0.9994745,0.9907954,0.9957629,0.99209577,0.9965487,0.99010855,0.9944853,0.9961214,0.9792555,0.97289824,0.9700205,0.9804106,0.99999994,0.99957806,0.9999853,0.99991256,0.9995474,0.99996674,0.9925729,0.99412245,0.9949192,0.99322236,0.9921666,0.9941491,0.9987436,0.9985107,0.998251,0.97864485,0.97020495,0.9796965,0.97222686,0.9772116,0.9407697,0.95131683,0.93811214,0.94863194,0.9429384,0.92965144,0.9204118,0.9602299,0.9617781,0.90513027,0.8182635,0.74349976,-0.24308309],[0.99003875,0.9932417,0.9984983,0.996507,0.99747425,0.9981114,0.9864456,0.9926719,0.9880326,0.9937173,0.9856158,0.99101967,0.9931456,0.98472774,0.979204,0.9766698,0.98571783,0.99957806,1.0,0.99972093,0.9998748,0.99999946,0.9997817,0.99568754,0.9968475,0.9974236,0.9961792,0.99537635,0.996867,0.99977773,0.999674,0.9995469,0.9722616,0.9627585,0.9734601,0.96501905,0.9706341,0.93052524,0.94196343,0.92765725,0.9390425,0.9328696,0.91855794,0.9086684,0.9517151,0.9534189,0.8924004,0.801222,0.7237627,-0.27115425],[0.9864364,0.99022275,0.9995138,0.9982017,0.99887383,0.9992841,0.9900467,0.99524957,0.99140066,0.99608386,0.9893331,0.99390197,0.9956296,0.9803401,0.9741381,0.97132427,0.98146445,0.9999853,0.99972093,1.0,0.9999696,0.99969596,0.99999624,0.9932182,0.994695,0.9954506,0.9938382,0.99282956,0.9947204,0.99900067,0.99879193,0.998557,0.9775157,0.9688767,0.97859484,0.9709434,0.9760461,0.9389171,0.94963133,0.9362201,0.9469022,0.94111884,0.9276396,0.91827804,0.95870155,0.9602789,0.9028112,0.81513387,0.739862,-0.24834026],[0.98768675,0.99128073,0.99924016,0.99770373,0.99847335,0.9989586,0.9889187,0.9944598,0.9903497,0.9953639,0.9881667,0.99301153,0.99487084,0.9818494,0.97587097,0.9731493,0.98292947,0.99991256,0.9998748,0.9999696,1.0,0.9998579,0.9999871,0.99409485,0.9954672,0.99616355,0.99467254,0.9937318,0.9954906,0.99931896,0.99914485,0.9989455,0.97584116,0.9669163,0.97695976,0.96904707,0.9743193,0.9362041,0.94715804,0.9334504,0.9443654,0.938453,0.9246981,0.9151616,0.9564538,0.958073,0.8994294,0.8105905,0.7345917,-0.25588876],[0.99018395,0.99336135,0.99844104,0.99642,0.9974002,0.9980473,0.9862753,0.9925463,0.9878724,0.9936009,0.9854403,0.9908808,0.99302405,0.98490745,0.97941345,0.9768916,0.9858916,0.9995474,0.99999946,0.99969596,0.9998579,1.0,0.99975955,0.99578303,0.9969291,0.9974973,0.9962691,0.9954753,0.9969483,0.999799,0.99969995,0.9995776,0.972019,0.9624782,0.9732227,0.9647472,0.9703846,0.9301457,0.9416155,0.9272702,0.93868613,0.9324963,0.9181483,0.9082358,0.95139694,0.9531063,0.89193285,0.8006023,0.7230481,-0.27215037],[0.98688084,0.99059993,0.999425,0.9980343,0.99874055,0.99917704,0.9896587,0.99498,0.99103963,0.99583876,0.9889317,0.9935972,0.99537086,0.98087513,0.97475135,0.9719698,0.981984,0.99996674,0.9997817,0.99999624,0.9999871,0.99975955,1.0,0.9935318,0.99497217,0.99570704,0.9941371,0.9931522,0.9949968,0.999119,0.99892235,0.99869984,0.97693634,0.9681972,0.97802925,0.9702863,0.9754484,0.937974,0.9487722,0.93525714,0.9460208,0.9401922,0.92661643,0.9171936,0.9579214,0.9595134,0.9016338,0.8135493,0.73802245,-0.25098407],[0.9988308,0.99972564,0.9891102,0.9844623,0.9865834,0.9881083,0.96696913,0.97718066,0.9694624,0.97904915,0.96568704,0.97434115,0.97801936,0.9966325,0.99380225,0.99238,0.99709,0.9925729,0.99568754,0.9932182,0.99409485,0.99578303,0.9935318,0.99999994,0.9999092,0.9997772,0.99998516,0.9999946,0.9999057,0.9974221,0.9977316,0.9980287,0.94637024,0.933525,0.948031,0.93653506,0.94413143,0.89253736,0.90675694,0.88901335,0.90309846,0.8954296,0.87792593,0.86601657,0.9191321,0.92132336,0.84668994,0.7422562,0.6566256,-0.3592795],[0.9980886,0.99931926,0.99100405,0.9867397,0.98869425,0.990091,0.9703168,0.9799549,0.97267973,0.9817047,0.96909976,0.97728634,0.980741,0.99543685,0.9922137,0.99062926,0.995972,0.99412245,0.9968475,0.994695,0.9954672,0.9969291,0.99497217,0.9999092,1.0000001,0.9999709,0.99996793,0.9998594,0.99999994,0.9982987,0.9985484,0.998784,0.9506389,0.9382724,0.95223343,0.9411751,0.94848776,0.8985347,0.9123578,0.89510405,0.9088045,0.9013489,0.8842996,0.87267727,0.9243584,0.92648,0.8537847,0.7512208,0.66673154,-0.34666857],[0.9975881,0.9990087,0.99199593,0.9879489,0.9898091,0.9911332,0.9721331,0.98144585,0.9744221,0.98312837,0.9709529,0.97887427,0.98220205,0.99468,0.9912348,0.9895585,0.995259,0.9949192,0.9974236,0.9954506,0.99616355,0.9974973,0.99570704,0.9997772,0.9999709,0.9999999,0.9998776,0.9997023,0.99997264,0.99871427,0.99893004,0.9991309,0.95297796,0.94088334,0.95453477,0.9437251,0.9508765,0.9018562,0.91545373,0.8984786,0.91196024,0.9046259,0.8878351,0.8763763,0.9272415,0.9293235,0.85773075,0.7562334,0.6723967,-0.3395041],[0.99855214,0.999583,0.98989904,0.9854064,0.9874601,0.9889331,0.96834636,0.97832584,0.97078687,0.9801463,0.9670906,0.97555554,0.97914326,0.9961701,0.99318063,0.99169266,0.996659,0.99322236,0.9961792,0.9938382,0.99467254,0.9962691,0.9941371,0.99998516,0.99996793,0.9998776,1.0000001,0.9999618,0.99996585,0.9977991,0.99808437,0.9983566,0.94812,0.9354685,0.949754,0.9384351,0.94591665,0.8949862,0.9090455,0.89149994,0.9054295,0.8978469,0.88052684,0.8687335,0.92126924,0.9234323,0.84958225,0.7459036,0.6607334,-0.35417938],[0.99898475,0.99979746,0.9886197,0.9838782,0.98603994,0.98759615,0.96612376,0.97647524,0.9686488,0.9783727,0.96482575,0.97359407,0.97732675,0.99689746,0.99416333,0.9927808,0.99733585,0.9921666,0.99537635,0.99282956,0.9937318,0.9954753,0.9931522,0.9999946,0.9998594,0.9997023,0.9999618,1.0,0.99985504,0.99718016,0.99750435,0.9978165,0.94530016,0.9323383,0.9469771,0.9353744,0.94304,0.8910461,0.9053621,0.8874993,0.9016781,0.89395726,0.87634295,0.8643638,0.9178286,0.9200368,0.8449315,0.74004334,0.654136,-0.3623537],[0.99807316,0.99930996,0.991037,0.98677975,0.9887312,0.9901256,0.97037655,0.9800041,0.9727371,0.9817517,0.9691607,0.9773387,0.9807891,0.9954132,0.9921828,0.9905953,0.9959496,0.9941491,0.996867,0.9947204,0.9954906,0.9969483,0.9949968,0.9999057,0.99999994,0.99997264,0.99996585,0.99985504,0.9999998,0.998313,0.9985616,0.9987961,0.9507156,0.9383579,0.9523089,0.9412586,0.94856596,0.8986432,0.91245896,0.89521426,0.9089076,0.90145594,0.884415,0.87279797,0.9244527,0.92657304,0.85391337,0.7513841,0.66691583,-0.3464364],[0.99278706,0.9954679,0.99712145,0.9945249,0.99575514,0.99659455,0.982767,0.9899036,0.9845611,0.99113685,0.9818337,0.98798037,0.99046063,0.9881794,0.98326355,0.9809802,0.9890492,0.9987436,0.99977773,0.99900067,0.99931896,0.999799,0.999119,0.9974221,0.9982987,0.99871427,0.9977991,0.99718016,0.998313,1.0,0.99999017,0.99995935,0.9671144,0.9568446,0.96841884,0.95927715,0.96534675,0.9225974,0.93467635,0.9195781,0.9315856,0.9250681,0.9100201,0.8996641,0.94503164,0.94684756,0.88268864,0.7884288,0.7090538,-0.29138675],[0.99331087,0.9958814,0.99677414,0.99405,0.99533564,0.9962177,0.98193455,0.98926306,0.9837723,0.9905358,0.9809795,0.98728263,0.9898375,0.988852,0.9840648,0.9818345,0.9896964,0.9985107,0.999674,0.99879193,0.99914485,0.99969995,0.99892235,0.9977316,0.9985484,0.99893004,0.99808437,0.99750435,0.9985616,0.99999017,1.0000001,0.9999897,0.96597284,0.9555418,0.9672995,0.95801044,0.96417564,0.9208713,0.9330849,0.9178203,0.9299584,0.9233685,0.908166,0.897712,0.943567,0.94540644,0.88058823,0.7856832,0.70590824,-0.29564172],[0.99382806,0.99628514,0.996397,0.9935419,0.9948845,0.9958103,0.98105985,0.988585,0.9829423,0.9898984,0.9800824,0.98654604,0.9891775,0.9895219,0.98486686,0.982691,0.9903401,0.998251,0.9995469,0.998557,0.9989455,0.9995776,0.99869984,0.9980287,0.998784,0.9991309,0.9983566,0.9978165,0.9987961,0.99995935,0.9999897,1.0000001,0.96478105,0.95418465,0.9661307,0.9566905,0.9629537,0.9190805,0.931432,0.9159969,0.92826897,0.92160493,0.906244,0.8956898,0.9420441,0.9439077,0.87841403,0.7828487,0.7026649,-0.3000029],[0.92964524,0.93854403,0.983615,0.98839825,0.98641914,0.9847936,0.9974628,0.9934009,0.99670345,0.99233073,0.99780524,0.99480593,0.99293584,0.91669136,0.90459,0.8993502,0.9189862,0.97864485,0.9722616,0.9775157,0.97584116,0.972019,0.97693634,0.94637024,0.9506389,0.95297796,0.94812,0.94530016,0.9507156,0.9671144,0.96597284,0.96478105,1.0,0.99929,0.9999866,0.99957377,0.9999764,0.9903732,0.9943574,0.98927,0.9934087,0.991246,0.9855346,0.9811193,0.9971181,0.99752724,0.97319096,0.9189531,0.8650864,-0.03849957],[0.9151025,0.9248727,0.9761239,0.9819737,0.9795303,0.9775486,0.9940723,0.9883741,0.99293894,0.98696864,0.9946018,0.99026436,0.9877603,0.90098447,0.8878863,0.88223773,0.9034776,0.97020495,0.9627585,0.9688767,0.9669163,0.9624782,0.9681972,0.933525,0.9382724,0.94088334,0.9354685,0.9323383,0.9383579,0.9568446,0.9555418,0.95418465,0.99929,1.0000001,0.99908143,0.999964,0.9995249,0.99488556,0.9976483,0.99407226,0.9970222,0.9955167,0.9912203,0.98770976,0.99926853,0.99946696,0.9811659,0.93315965,0.8833723,-0.00082209695],[0.93154126,0.9403193,0.98453563,0.98917174,0.9872567,0.9856802,0.9978182,0.9939816,0.9971103,0.99295765,0.9981348,0.9953198,0.9935372,0.9187489,0.90678596,0.90160286,0.9210162,0.9796965,0.9734601,0.97859484,0.97695976,0.9732227,0.97802925,0.948031,0.95223343,0.95453477,0.949754,0.9469771,0.9523089,0.96841884,0.9672995,0.9661307,0.9999866,0.99908143,1.0,0.99940914,0.99992746,0.989643,0.9937946,0.98849994,0.99280167,0.99054885,0.9846436,0.9801044,0.9967118,0.9971498,0.97198653,0.91689813,0.8624765,-0.043674927],[0.9184926,0.92806774,0.97793275,0.983543,0.98120385,0.97930217,0.9949594,0.9896292,0.9939102,0.98829913,0.9954468,0.9914103,0.9890489,0.9046352,0.89176,0.8862028,0.907084,0.97222686,0.96501905,0.9709434,0.96904707,0.9647472,0.9702863,0.93653506,0.9411751,0.9437251,0.9384351,0.9353744,0.9412586,0.95927715,0.95801044,0.9566905,0.99957377,0.999964,0.99940914,0.99999994,0.9997505,0.9939921,0.99703044,0.9931134,0.9963316,0.9946778,0.990062,0.98634714,0.9989078,0.99915373,0.9794905,0.9300742,0.87936157,-0.009311713],[0.9270956,0.936154,0.982355,0.98733294,0.9852691,0.98357856,0.9969509,0.9925906,0.9961234,0.9914593,0.9973274,0.9940842,0.9920985,0.9139284,0.9016443,0.8963295,0.9162595,0.9772116,0.9706341,0.9760461,0.9743193,0.9703846,0.9754484,0.94413143,0.94848776,0.9508765,0.94591665,0.94304,0.94856596,0.96534675,0.96417564,0.9629537,0.9999764,0.9995249,0.99992746,0.9997505,0.99999994,0.9912995,0.99506176,0.9902489,0.9941717,0.9921284,0.986674,0.982423,0.99761504,0.9979859,0.9747459,0.921637,0.8685074,-0.031643376],[0.8696929,0.88173085,0.9491908,0.9578588,0.9541875,0.9512651,0.97800624,0.9679614,0.9758781,0.96566707,0.97903347,0.97113913,0.96695304,0.85255325,0.83687437,0.8301698,0.8555605,0.9407697,0.93052524,0.9389171,0.9362041,0.9301457,0.937974,0.89253736,0.8985347,0.9018562,0.8949862,0.8910461,0.8986432,0.9225974,0.9208713,0.9190805,0.9903732,0.99488556,0.989643,0.9939921,0.9912995,1.0000001,0.9994691,0.99996996,0.99971235,0.99997914,0.9995063,0.99844575,0.9980205,0.99765277,0.9956594,0.96469605,0.9261946,0.10019154],[0.8853132,0.8966332,0.95894027,0.96670896,0.96342963,0.9608074,0.9842827,0.9756286,0.9824731,0.9736185,0.98515046,0.9783947,0.9747464,0.86912906,0.8542651,0.8478936,0.8719739,0.95131683,0.94196343,0.94963133,0.94715804,0.9416155,0.9487722,0.90675694,0.9123578,0.91545373,0.9090455,0.9053621,0.91245896,0.93467635,0.9330849,0.931432,0.9943574,0.9976483,0.9937946,0.99703044,0.99506176,0.9994691,0.99999994,0.99918634,0.99996305,0.9996585,0.99795175,0.99609977,0.9995396,0.9993541,0.9920983,0.95560294,0.913418,0.067720614],[0.86583906,0.878046,0.94672173,0.9556024,0.9518385,0.94884515,0.9763593,0.96598506,0.9741558,0.96362346,0.9774243,0.9692603,0.96494675,0.8484747,0.83260435,0.82582146,0.8515201,0.93811214,0.92765725,0.9362201,0.9334504,0.9272702,0.93525714,0.88901335,0.89510405,0.8984786,0.89149994,0.8874993,0.89521426,0.9195781,0.9178203,0.9159969,0.98927,0.99407226,0.98849994,0.9931134,0.9902489,0.99996996,0.99918634,0.99999994,0.99949616,0.99989897,0.99971986,0.9988479,0.9975028,0.9970917,0.9963512,0.9667093,0.92909056,0.10790421],[0.88128287,0.8927935,0.9564666,0.9644734,0.9610903,0.9583886,0.98272806,0.9737061,0.9808342,0.97162086,0.98363805,0.9765811,0.97279054,0.864845,0.8497644,0.8433044,0.8677329,0.94863194,0.9390425,0.9469022,0.9443654,0.93868613,0.9460208,0.90309846,0.9088045,0.91196024,0.9054295,0.9016781,0.9089076,0.9315856,0.9299584,0.92826897,0.9934087,0.9970222,0.99280167,0.9963316,0.9941717,0.99971235,0.99996305,0.99949616,1.0,0.9998462,0.9984649,0.9968215,0.9992419,0.9990083,0.9931402,0.95810086,0.9168835,0.076295525],[0.8728607,0.88475746,0.9512022,0.9596928,0.95609885,0.9532357,0.97933203,0.96956193,0.97726685,0.96732366,0.98032784,0.9726584,0.9685784,0.85590893,0.84039015,0.83375096,0.8588842,0.9429384,0.9328696,0.94111884,0.938453,0.9324963,0.9401922,0.8954296,0.9013489,0.9046259,0.8978469,0.89395726,0.90145594,0.9250681,0.9233685,0.92160493,0.991246,0.9955167,0.99054885,0.9946778,0.9921284,0.99997914,0.9996585,0.99989897,0.9998462,0.9999999,0.99928254,0.9980652,0.9984056,0.99807394,0.99503785,0.9629759,0.9237415,0.09376729],[0.8537535,0.86647177,0.9388333,0.94835997,0.9443144,0.9411055,0.9709693,0.95959324,0.9685362,0.9570272,0.97214925,0.96316487,0.95846415,0.83570963,0.8192606,0.81224144,0.83887047,0.92965144,0.91855794,0.9276396,0.9246981,0.9181483,0.92661643,0.87792593,0.8842996,0.8878351,0.88052684,0.87634295,0.884415,0.9100201,0.908166,0.906244,0.9855346,0.9912203,0.9846436,0.990062,0.986674,0.9995063,0.99795175,0.99971986,0.9984649,0.99928254,1.0000001,0.99970394,0.9955515,0.99500847,0.9980923,0.9724953,0.937585,0.13140653],[0.84083235,0.85406876,0.93017656,0.9403616,0.93602896,0.9326003,0.9648618,0.9524627,0.96219414,0.94968796,0.96615916,0.9563369,0.95124096,0.82210046,0.8050664,0.7978084,0.8253782,0.9204118,0.9086684,0.91827804,0.9151616,0.9082358,0.9171936,0.86601657,0.87267727,0.8763763,0.8687335,0.8643638,0.87279797,0.8996641,0.897712,0.8956898,0.9811193,0.98770976,0.9801044,0.98634714,0.982423,0.99844575,0.99609977,0.9988479,0.9968215,0.9980652,0.99970394,0.9999999,0.9929643,0.9922858,0.99929893,0.97787446,0.9457684,0.15548709],[0.8990132,0.9096538,0.96710324,0.97402704,0.9711158,0.9687756,0.9891875,0.98183674,0.98767614,0.9800932,0.989906,0.98421675,0.98107284,0.8837343,0.8696432,0.8635881,0.8864251,0.9602299,0.9517151,0.95870155,0.9564538,0.95139694,0.9579214,0.9191321,0.9243584,0.9272415,0.92126924,0.9178286,0.9244527,0.94503164,0.943567,0.9420441,0.9971181,0.99926853,0.9967118,0.9989078,0.99761504,0.9980205,0.9995396,0.9975028,0.9992419,0.9984056,0.9955515,0.9929643,0.99999994,0.9999843,0.9878351,0.9462234,0.90064883,0.037419967],[0.90145093,0.9119651,0.96851236,0.97527957,0.9724365,0.9701486,0.9899931,0.98288363,0.9885369,0.98118937,0.990684,0.9851921,0.9821417,0.88634056,0.8723936,0.86639744,0.8890026,0.9617781,0.9534189,0.9602789,0.958073,0.9531063,0.9595134,0.92132336,0.92648,0.9293235,0.9234323,0.9200368,0.92657304,0.94684756,0.94540644,0.9439077,0.99752724,0.99946696,0.9971498,0.99915373,0.9979859,0.99765277,0.9993541,0.9970917,0.9990083,0.99807394,0.99500847,0.9922858,0.9999843,1.0,0.986949,0.9443973,0.8982018,0.03182455],[0.8199779,0.8339963,0.9157806,0.9269669,0.9221976,0.9184348,0.9543483,0.94038934,0.9513229,0.93729675,0.955825,0.9447247,0.93902653,0.80020916,0.7822944,0.7746774,0.80366284,0.90513027,0.8924004,0.9028112,0.8994294,0.89193285,0.9016338,0.84668994,0.8537847,0.85773075,0.84958225,0.8449315,0.85391337,0.88268864,0.88058823,0.87841403,0.97319096,0.9811659,0.97198653,0.9794905,0.9747459,0.9956594,0.9920983,0.9963512,0.9931402,0.99503785,0.9980923,0.99929893,0.9878351,0.986949,1.0000001,0.98502076,0.9572669,0.19236085],[0.7089936,0.7263586,0.8327989,0.84839326,0.84169936,0.8364663,0.888547,0.8676575,0.8839287,0.86315715,0.89082205,0.8740377,0.86566937,0.6848091,0.6631642,0.6540322,0.68901044,0.8182635,0.801222,0.81513387,0.8105905,0.8006023,0.8135493,0.7422562,0.7512208,0.7562334,0.7459036,0.74004334,0.7513841,0.7884288,0.7856832,0.7828487,0.9189531,0.93315965,0.91689813,0.9300742,0.921637,0.96469605,0.95560294,0.9667093,0.95810086,0.9629759,0.9724953,0.97787446,0.9462234,0.9443973,0.98502076,1.0,0.9927972,0.35869506],[0.6193975,0.6387819,0.76047844,0.7788609,0.7709477,0.7647853,0.82718146,0.80184466,0.8215378,0.7964455,0.8299713,0.80953324,0.799457,0.5925708,0.56871545,0.5586917,0.5972177,0.74349976,0.7237627,0.739862,0.7345917,0.7230481,0.73802245,0.6566256,0.66673154,0.6723967,0.6607334,0.654136,0.66691583,0.7090538,0.70590824,0.7026649,0.8650864,0.8833723,0.8624765,0.87936157,0.8685074,0.9261946,0.913418,0.92909056,0.9168835,0.9237415,0.937585,0.9457684,0.90064883,0.8982018,0.9572669,0.9927972,0.99999994,0.46794546],[-0.40397373,-0.381037,-0.21801703,-0.18982528,-0.20210212,-0.21151397,-0.1095382,-0.1528541,-0.11944277,-0.16172409,-0.10458381,-0.14001344,-0.15679115,-0.43459192,-0.46079287,-0.47152936,-0.42937806,-0.24308309,-0.27115425,-0.24834026,-0.25588876,-0.27215037,-0.25098407,-0.3592795,-0.34666857,-0.3395041,-0.35417938,-0.3623537,-0.3464364,-0.29138675,-0.29564172,-0.3000029,-0.03849957,-0.00082209695,-0.043674927,-0.009311713,-0.031643376,0.10019154,0.067720614,0.10790421,0.076295525,0.09376729,0.13140653,0.15548709,0.037419967,0.03182455,0.19236085,0.35869506,0.46794546,1.0]],\"type\":\"heatmap\",\"xaxis\":\"x\",\"yaxis\":\"y\",\"hovertemplate\":\"x: %{x}\\u003cbr\\u003ey: %{y}\\u003cbr\\u003eSimilarity Score: %{z}\\u003cextra\\u003e\\u003c\\u002fextra\\u003e\"}],                        {\"template\":{\"data\":{\"histogram2dcontour\":[{\"type\":\"histogram2dcontour\",\"colorbar\":{\"outlinewidth\":0,\"ticks\":\"\"},\"colorscale\":[[0.0,\"#0d0887\"],[0.1111111111111111,\"#46039f\"],[0.2222222222222222,\"#7201a8\"],[0.3333333333333333,\"#9c179e\"],[0.4444444444444444,\"#bd3786\"],[0.5555555555555556,\"#d8576b\"],[0.6666666666666666,\"#ed7953\"],[0.7777777777777778,\"#fb9f3a\"],[0.8888888888888888,\"#fdca26\"],[1.0,\"#f0f921\"]]}],\"choropleth\":[{\"type\":\"choropleth\",\"colorbar\":{\"outlinewidth\":0,\"ticks\":\"\"}}],\"histogram2d\":[{\"type\":\"histogram2d\",\"colorbar\":{\"outlinewidth\":0,\"ticks\":\"\"},\"colorscale\":[[0.0,\"#0d0887\"],[0.1111111111111111,\"#46039f\"],[0.2222222222222222,\"#7201a8\"],[0.3333333333333333,\"#9c179e\"],[0.4444444444444444,\"#bd3786\"],[0.5555555555555556,\"#d8576b\"],[0.6666666666666666,\"#ed7953\"],[0.7777777777777778,\"#fb9f3a\"],[0.8888888888888888,\"#fdca26\"],[1.0,\"#f0f921\"]]}],\"heatmap\":[{\"type\":\"heatmap\",\"colorbar\":{\"outlinewidth\":0,\"ticks\":\"\"},\"colorscale\":[[0.0,\"#0d0887\"],[0.1111111111111111,\"#46039f\"],[0.2222222222222222,\"#7201a8\"],[0.3333333333333333,\"#9c179e\"],[0.4444444444444444,\"#bd3786\"],[0.5555555555555556,\"#d8576b\"],[0.6666666666666666,\"#ed7953\"],[0.7777777777777778,\"#fb9f3a\"],[0.8888888888888888,\"#fdca26\"],[1.0,\"#f0f921\"]]}],\"heatmapgl\":[{\"type\":\"heatmapgl\",\"colorbar\":{\"outlinewidth\":0,\"ticks\":\"\"},\"colorscale\":[[0.0,\"#0d0887\"],[0.1111111111111111,\"#46039f\"],[0.2222222222222222,\"#7201a8\"],[0.3333333333333333,\"#9c179e\"],[0.4444444444444444,\"#bd3786\"],[0.5555555555555556,\"#d8576b\"],[0.6666666666666666,\"#ed7953\"],[0.7777777777777778,\"#fb9f3a\"],[0.8888888888888888,\"#fdca26\"],[1.0,\"#f0f921\"]]}],\"contourcarpet\":[{\"type\":\"contourcarpet\",\"colorbar\":{\"outlinewidth\":0,\"ticks\":\"\"}}],\"contour\":[{\"type\":\"contour\",\"colorbar\":{\"outlinewidth\":0,\"ticks\":\"\"},\"colorscale\":[[0.0,\"#0d0887\"],[0.1111111111111111,\"#46039f\"],[0.2222222222222222,\"#7201a8\"],[0.3333333333333333,\"#9c179e\"],[0.4444444444444444,\"#bd3786\"],[0.5555555555555556,\"#d8576b\"],[0.6666666666666666,\"#ed7953\"],[0.7777777777777778,\"#fb9f3a\"],[0.8888888888888888,\"#fdca26\"],[1.0,\"#f0f921\"]]}],\"surface\":[{\"type\":\"surface\",\"colorbar\":{\"outlinewidth\":0,\"ticks\":\"\"},\"colorscale\":[[0.0,\"#0d0887\"],[0.1111111111111111,\"#46039f\"],[0.2222222222222222,\"#7201a8\"],[0.3333333333333333,\"#9c179e\"],[0.4444444444444444,\"#bd3786\"],[0.5555555555555556,\"#d8576b\"],[0.6666666666666666,\"#ed7953\"],[0.7777777777777778,\"#fb9f3a\"],[0.8888888888888888,\"#fdca26\"],[1.0,\"#f0f921\"]]}],\"mesh3d\":[{\"type\":\"mesh3d\",\"colorbar\":{\"outlinewidth\":0,\"ticks\":\"\"}}],\"scatter\":[{\"fillpattern\":{\"fillmode\":\"overlay\",\"size\":10,\"solidity\":0.2},\"type\":\"scatter\"}],\"parcoords\":[{\"type\":\"parcoords\",\"line\":{\"colorbar\":{\"outlinewidth\":0,\"ticks\":\"\"}}}],\"scatterpolargl\":[{\"type\":\"scatterpolargl\",\"marker\":{\"colorbar\":{\"outlinewidth\":0,\"ticks\":\"\"}}}],\"bar\":[{\"error_x\":{\"color\":\"#2a3f5f\"},\"error_y\":{\"color\":\"#2a3f5f\"},\"marker\":{\"line\":{\"color\":\"#E5ECF6\",\"width\":0.5},\"pattern\":{\"fillmode\":\"overlay\",\"size\":10,\"solidity\":0.2}},\"type\":\"bar\"}],\"scattergeo\":[{\"type\":\"scattergeo\",\"marker\":{\"colorbar\":{\"outlinewidth\":0,\"ticks\":\"\"}}}],\"scatterpolar\":[{\"type\":\"scatterpolar\",\"marker\":{\"colorbar\":{\"outlinewidth\":0,\"ticks\":\"\"}}}],\"histogram\":[{\"marker\":{\"pattern\":{\"fillmode\":\"overlay\",\"size\":10,\"solidity\":0.2}},\"type\":\"histogram\"}],\"scattergl\":[{\"type\":\"scattergl\",\"marker\":{\"colorbar\":{\"outlinewidth\":0,\"ticks\":\"\"}}}],\"scatter3d\":[{\"type\":\"scatter3d\",\"line\":{\"colorbar\":{\"outlinewidth\":0,\"ticks\":\"\"}},\"marker\":{\"colorbar\":{\"outlinewidth\":0,\"ticks\":\"\"}}}],\"scattermapbox\":[{\"type\":\"scattermapbox\",\"marker\":{\"colorbar\":{\"outlinewidth\":0,\"ticks\":\"\"}}}],\"scatterternary\":[{\"type\":\"scatterternary\",\"marker\":{\"colorbar\":{\"outlinewidth\":0,\"ticks\":\"\"}}}],\"scattercarpet\":[{\"type\":\"scattercarpet\",\"marker\":{\"colorbar\":{\"outlinewidth\":0,\"ticks\":\"\"}}}],\"carpet\":[{\"aaxis\":{\"endlinecolor\":\"#2a3f5f\",\"gridcolor\":\"white\",\"linecolor\":\"white\",\"minorgridcolor\":\"white\",\"startlinecolor\":\"#2a3f5f\"},\"baxis\":{\"endlinecolor\":\"#2a3f5f\",\"gridcolor\":\"white\",\"linecolor\":\"white\",\"minorgridcolor\":\"white\",\"startlinecolor\":\"#2a3f5f\"},\"type\":\"carpet\"}],\"table\":[{\"cells\":{\"fill\":{\"color\":\"#EBF0F8\"},\"line\":{\"color\":\"white\"}},\"header\":{\"fill\":{\"color\":\"#C8D4E3\"},\"line\":{\"color\":\"white\"}},\"type\":\"table\"}],\"barpolar\":[{\"marker\":{\"line\":{\"color\":\"#E5ECF6\",\"width\":0.5},\"pattern\":{\"fillmode\":\"overlay\",\"size\":10,\"solidity\":0.2}},\"type\":\"barpolar\"}],\"pie\":[{\"automargin\":true,\"type\":\"pie\"}]},\"layout\":{\"autotypenumbers\":\"strict\",\"colorway\":[\"#636efa\",\"#EF553B\",\"#00cc96\",\"#ab63fa\",\"#FFA15A\",\"#19d3f3\",\"#FF6692\",\"#B6E880\",\"#FF97FF\",\"#FECB52\"],\"font\":{\"color\":\"#2a3f5f\"},\"hovermode\":\"closest\",\"hoverlabel\":{\"align\":\"left\"},\"paper_bgcolor\":\"white\",\"plot_bgcolor\":\"#E5ECF6\",\"polar\":{\"bgcolor\":\"#E5ECF6\",\"angularaxis\":{\"gridcolor\":\"white\",\"linecolor\":\"white\",\"ticks\":\"\"},\"radialaxis\":{\"gridcolor\":\"white\",\"linecolor\":\"white\",\"ticks\":\"\"}},\"ternary\":{\"bgcolor\":\"#E5ECF6\",\"aaxis\":{\"gridcolor\":\"white\",\"linecolor\":\"white\",\"ticks\":\"\"},\"baxis\":{\"gridcolor\":\"white\",\"linecolor\":\"white\",\"ticks\":\"\"},\"caxis\":{\"gridcolor\":\"white\",\"linecolor\":\"white\",\"ticks\":\"\"}},\"coloraxis\":{\"colorbar\":{\"outlinewidth\":0,\"ticks\":\"\"}},\"colorscale\":{\"sequential\":[[0.0,\"#0d0887\"],[0.1111111111111111,\"#46039f\"],[0.2222222222222222,\"#7201a8\"],[0.3333333333333333,\"#9c179e\"],[0.4444444444444444,\"#bd3786\"],[0.5555555555555556,\"#d8576b\"],[0.6666666666666666,\"#ed7953\"],[0.7777777777777778,\"#fb9f3a\"],[0.8888888888888888,\"#fdca26\"],[1.0,\"#f0f921\"]],\"sequentialminus\":[[0.0,\"#0d0887\"],[0.1111111111111111,\"#46039f\"],[0.2222222222222222,\"#7201a8\"],[0.3333333333333333,\"#9c179e\"],[0.4444444444444444,\"#bd3786\"],[0.5555555555555556,\"#d8576b\"],[0.6666666666666666,\"#ed7953\"],[0.7777777777777778,\"#fb9f3a\"],[0.8888888888888888,\"#fdca26\"],[1.0,\"#f0f921\"]],\"diverging\":[[0,\"#8e0152\"],[0.1,\"#c51b7d\"],[0.2,\"#de77ae\"],[0.3,\"#f1b6da\"],[0.4,\"#fde0ef\"],[0.5,\"#f7f7f7\"],[0.6,\"#e6f5d0\"],[0.7,\"#b8e186\"],[0.8,\"#7fbc41\"],[0.9,\"#4d9221\"],[1,\"#276419\"]]},\"xaxis\":{\"gridcolor\":\"white\",\"linecolor\":\"white\",\"ticks\":\"\",\"title\":{\"standoff\":15},\"zerolinecolor\":\"white\",\"automargin\":true,\"zerolinewidth\":2},\"yaxis\":{\"gridcolor\":\"white\",\"linecolor\":\"white\",\"ticks\":\"\",\"title\":{\"standoff\":15},\"zerolinecolor\":\"white\",\"automargin\":true,\"zerolinewidth\":2},\"scene\":{\"xaxis\":{\"backgroundcolor\":\"#E5ECF6\",\"gridcolor\":\"white\",\"linecolor\":\"white\",\"showbackground\":true,\"ticks\":\"\",\"zerolinecolor\":\"white\",\"gridwidth\":2},\"yaxis\":{\"backgroundcolor\":\"#E5ECF6\",\"gridcolor\":\"white\",\"linecolor\":\"white\",\"showbackground\":true,\"ticks\":\"\",\"zerolinecolor\":\"white\",\"gridwidth\":2},\"zaxis\":{\"backgroundcolor\":\"#E5ECF6\",\"gridcolor\":\"white\",\"linecolor\":\"white\",\"showbackground\":true,\"ticks\":\"\",\"zerolinecolor\":\"white\",\"gridwidth\":2}},\"shapedefaults\":{\"line\":{\"color\":\"#2a3f5f\"}},\"annotationdefaults\":{\"arrowcolor\":\"#2a3f5f\",\"arrowhead\":0,\"arrowwidth\":1},\"geo\":{\"bgcolor\":\"white\",\"landcolor\":\"#E5ECF6\",\"subunitcolor\":\"white\",\"showland\":true,\"showlakes\":true,\"lakecolor\":\"white\"},\"title\":{\"x\":0.05},\"mapbox\":{\"style\":\"light\"}}},\"xaxis\":{\"anchor\":\"y\",\"domain\":[0.0,1.0],\"scaleanchor\":\"y\",\"constrain\":\"domain\"},\"yaxis\":{\"anchor\":\"x\",\"domain\":[0.0,1.0],\"autorange\":\"reversed\",\"constrain\":\"domain\"},\"coloraxis\":{\"colorbar\":{\"title\":{\"text\":\"Similarity Score\"}},\"colorscale\":[[0.0,\"rgb(247,252,240)\"],[0.125,\"rgb(224,243,219)\"],[0.25,\"rgb(204,235,197)\"],[0.375,\"rgb(168,221,181)\"],[0.5,\"rgb(123,204,196)\"],[0.625,\"rgb(78,179,211)\"],[0.75,\"rgb(43,140,190)\"],[0.875,\"rgb(8,104,172)\"],[1.0,\"rgb(8,64,129)\"]]},\"margin\":{\"t\":60},\"title\":{\"font\":{\"size\":22,\"color\":\"Black\"},\"text\":\"\\u003cb\\u003eSimilarity Matrix\\u003c\\u002fb\\u003e\",\"y\":0.95,\"x\":0.55,\"xanchor\":\"center\",\"yanchor\":\"top\"},\"hoverlabel\":{\"font\":{\"size\":16,\"family\":\"Rockwell\"},\"bgcolor\":\"white\"},\"width\":800,\"height\":800,\"showlegend\":true,\"legend\":{\"title\":{\"text\":\"Trend\"}}},                        {\"responsive\": true}                    ).then(function(){\n",
       "                            \n",
       "var gd = document.getElementById('8867165f-8199-4239-8453-b1add7836d97');\n",
       "var x = new MutationObserver(function (mutations, observer) {{\n",
       "        var display = window.getComputedStyle(gd).display;\n",
       "        if (!display || display === 'none') {{\n",
       "            console.log([gd, 'removed!']);\n",
       "            Plotly.purge(gd);\n",
       "            observer.disconnect();\n",
       "        }}\n",
       "}});\n",
       "\n",
       "// Listen for the removal of the full notebook cells\n",
       "var notebookContainer = gd.closest('#notebook-container');\n",
       "if (notebookContainer) {{\n",
       "    x.observe(notebookContainer, {childList: true});\n",
       "}}\n",
       "\n",
       "// Listen for the clearing of the current output cell\n",
       "var outputEl = gd.closest('.output');\n",
       "if (outputEl) {{\n",
       "    x.observe(outputEl, {childList: true});\n",
       "}}\n",
       "\n",
       "                        })                };                            </script>        </div>\n",
       "</body>\n",
       "</html>"
      ]
     },
     "metadata": {},
     "output_type": "display_data"
    },
    {
     "data": {
      "text/html": [
       "<html>\n",
       "<head><meta charset=\"utf-8\" /></head>\n",
       "<body>\n",
       "    <div>            <script src=\"https://cdnjs.cloudflare.com/ajax/libs/mathjax/2.7.5/MathJax.js?config=TeX-AMS-MML_SVG\"></script><script type=\"text/javascript\">if (window.MathJax && window.MathJax.Hub && window.MathJax.Hub.Config) {window.MathJax.Hub.Config({SVG: {font: \"STIX-Web\"}});}</script>                <script type=\"text/javascript\">window.PlotlyConfig = {MathJaxConfig: 'local'};</script>\n",
       "        <script charset=\"utf-8\" src=\"https://cdn.plot.ly/plotly-2.35.2.min.js\"></script>                <div id=\"1100ee45-d1a6-4765-8478-140ea9d84268\" class=\"plotly-graph-div\" style=\"height:950px; width:1000px;\"></div>            <script type=\"text/javascript\">                                    window.PLOTLYENV=window.PLOTLYENV || {};                                    if (document.getElementById(\"1100ee45-d1a6-4765-8478-140ea9d84268\")) {                    Plotly.newPlot(                        \"1100ee45-d1a6-4765-8478-140ea9d84268\",                        [{\"hoverinfo\":\"text\",\"marker\":{\"color\":\"rgb(0,116,217)\"},\"mode\":\"lines\",\"x\":[0.0,1.0,1.0,0.0],\"xaxis\":\"x\",\"y\":[-15.0,-15.0,-25.0,-25.0],\"yaxis\":\"y\",\"type\":\"scatter\"},{\"hoverinfo\":\"text\",\"marker\":{\"color\":\"rgb(0,116,217)\"},\"mode\":\"lines\",\"x\":[1.0,1.0,1.0,0.0],\"xaxis\":\"x\",\"y\":[-20.0,-20.0,-35.0,-35.0],\"yaxis\":\"y\",\"type\":\"scatter\"},{\"hoverinfo\":\"text\",\"marker\":{\"color\":\"rgb(0,116,217)\"},\"mode\":\"lines\",\"x\":[0.0,1.0,1.0,1.0],\"xaxis\":\"x\",\"y\":[-5.0,-5.0,-27.5,-27.5],\"yaxis\":\"y\",\"type\":\"scatter\"},{\"hoverinfo\":\"text\",\"marker\":{\"color\":\"rgb(61,153,112)\"},\"mode\":\"lines\",\"x\":[0.0,0.853195034027975,0.853195034027975,0.0],\"xaxis\":\"x\",\"y\":[-45.0,-45.0,-55.0,-55.0],\"yaxis\":\"y\",\"type\":\"scatter\"},{\"hoverinfo\":\"text\",\"marker\":{\"color\":\"rgb(61,153,112)\"},\"mode\":\"lines\",\"x\":[0.0,0.7802255447224707,0.7802255447224707,0.0],\"xaxis\":\"x\",\"y\":[-65.0,-65.0,-75.0,-75.0],\"yaxis\":\"y\",\"type\":\"scatter\"},{\"hoverinfo\":\"text\",\"marker\":{\"color\":\"rgb(61,153,112)\"},\"mode\":\"lines\",\"x\":[0.7802255447224707,0.8821912055872306,0.8821912055872306,0.0],\"xaxis\":\"x\",\"y\":[-70.0,-70.0,-85.0,-85.0],\"yaxis\":\"y\",\"type\":\"scatter\"},{\"hoverinfo\":\"text\",\"marker\":{\"color\":\"rgb(61,153,112)\"},\"mode\":\"lines\",\"x\":[0.853195034027975,0.9887798744109059,0.9887798744109059,0.8821912055872306],\"xaxis\":\"x\",\"y\":[-50.0,-50.0,-77.5,-77.5],\"yaxis\":\"y\",\"type\":\"scatter\"},{\"hoverinfo\":\"text\",\"marker\":{\"color\":\"rgb(255,65,54)\"},\"mode\":\"lines\",\"x\":[0.0,0.7805198947482073,0.7805198947482073,0.0],\"xaxis\":\"x\",\"y\":[-95.0,-95.0,-105.0,-105.0],\"yaxis\":\"y\",\"type\":\"scatter\"},{\"hoverinfo\":\"text\",\"marker\":{\"color\":\"rgb(35,205,205)\"},\"mode\":\"lines\",\"x\":[0.0,0.815185136776012,0.815185136776012,0.0],\"xaxis\":\"x\",\"y\":[-115.0,-115.0,-125.0,-125.0],\"yaxis\":\"y\",\"type\":\"scatter\"},{\"hoverinfo\":\"text\",\"marker\":{\"color\":\"rgb(35,205,205)\"},\"mode\":\"lines\",\"x\":[0.815185136776012,0.8459758683825419,0.8459758683825419,0.0],\"xaxis\":\"x\",\"y\":[-120.0,-120.0,-135.0,-135.0],\"yaxis\":\"y\",\"type\":\"scatter\"},{\"hoverinfo\":\"text\",\"marker\":{\"color\":\"rgb(0,116,217)\"},\"mode\":\"lines\",\"x\":[0.7805198947482073,1.0248078375798997,1.0248078375798997,0.8459758683825419],\"xaxis\":\"x\",\"y\":[-100.0,-100.0,-127.5,-127.5],\"yaxis\":\"y\",\"type\":\"scatter\"},{\"hoverinfo\":\"text\",\"marker\":{\"color\":\"rgb(0,116,217)\"},\"mode\":\"lines\",\"x\":[0.9887798744109059,1.1102632855216985,1.1102632855216985,1.0248078375798997],\"xaxis\":\"x\",\"y\":[-63.75,-63.75,-113.75,-113.75],\"yaxis\":\"y\",\"type\":\"scatter\"},{\"hoverinfo\":\"text\",\"marker\":{\"color\":\"rgb(0,116,217)\"},\"mode\":\"lines\",\"x\":[1.0,1.1864048300214702,1.1864048300214702,1.1102632855216985],\"xaxis\":\"x\",\"y\":[-16.25,-16.25,-88.75,-88.75],\"yaxis\":\"y\",\"type\":\"scatter\"},{\"hoverinfo\":\"text\",\"marker\":{\"color\":\"rgb(133,20,75)\"},\"mode\":\"lines\",\"x\":[0.0,0.4837751955706473,0.4837751955706473,0.0],\"xaxis\":\"x\",\"y\":[-155.0,-155.0,-165.0,-165.0],\"yaxis\":\"y\",\"type\":\"scatter\"},{\"hoverinfo\":\"text\",\"marker\":{\"color\":\"rgb(133,20,75)\"},\"mode\":\"lines\",\"x\":[0.0,0.5091922774042068,0.5091922774042068,0.0],\"xaxis\":\"x\",\"y\":[-175.0,-175.0,-185.0,-185.0],\"yaxis\":\"y\",\"type\":\"scatter\"},{\"hoverinfo\":\"text\",\"marker\":{\"color\":\"rgb(133,20,75)\"},\"mode\":\"lines\",\"x\":[0.5091922774042068,0.690986227695334,0.690986227695334,0.0],\"xaxis\":\"x\",\"y\":[-180.0,-180.0,-195.0,-195.0],\"yaxis\":\"y\",\"type\":\"scatter\"},{\"hoverinfo\":\"text\",\"marker\":{\"color\":\"rgb(133,20,75)\"},\"mode\":\"lines\",\"x\":[0.4837751955706473,0.8042773209534242,0.8042773209534242,0.690986227695334],\"xaxis\":\"x\",\"y\":[-160.0,-160.0,-187.5,-187.5],\"yaxis\":\"y\",\"type\":\"scatter\"},{\"hoverinfo\":\"text\",\"marker\":{\"color\":\"rgb(133,20,75)\"},\"mode\":\"lines\",\"x\":[0.0,0.8212949820281589,0.8212949820281589,0.8042773209534242],\"xaxis\":\"x\",\"y\":[-145.0,-145.0,-173.75,-173.75],\"yaxis\":\"y\",\"type\":\"scatter\"},{\"hoverinfo\":\"text\",\"marker\":{\"color\":\"rgb(255,220,0)\"},\"mode\":\"lines\",\"x\":[0.0,0.3064531115459589,0.3064531115459589,0.0],\"xaxis\":\"x\",\"y\":[-225.0,-225.0,-235.0,-235.0],\"yaxis\":\"y\",\"type\":\"scatter\"},{\"hoverinfo\":\"text\",\"marker\":{\"color\":\"rgb(255,220,0)\"},\"mode\":\"lines\",\"x\":[0.0,0.38593366081190444,0.38593366081190444,0.3064531115459589],\"xaxis\":\"x\",\"y\":[-215.0,-215.0,-230.0,-230.0],\"yaxis\":\"y\",\"type\":\"scatter\"},{\"hoverinfo\":\"text\",\"marker\":{\"color\":\"rgb(255,220,0)\"},\"mode\":\"lines\",\"x\":[0.38593366081190444,0.4083917472748093,0.4083917472748093,0.0],\"xaxis\":\"x\",\"y\":[-222.5,-222.5,-245.0,-245.0],\"yaxis\":\"y\",\"type\":\"scatter\"},{\"hoverinfo\":\"text\",\"marker\":{\"color\":\"rgb(255,220,0)\"},\"mode\":\"lines\",\"x\":[0.0,0.45151353067341765,0.45151353067341765,0.4083917472748093],\"xaxis\":\"x\",\"y\":[-205.0,-205.0,-233.75,-233.75],\"yaxis\":\"y\",\"type\":\"scatter\"},{\"hoverinfo\":\"text\",\"marker\":{\"color\":\"rgb(255,220,0)\"},\"mode\":\"lines\",\"x\":[0.0,0.41535288116678615,0.41535288116678615,0.0],\"xaxis\":\"x\",\"y\":[-255.0,-255.0,-265.0,-265.0],\"yaxis\":\"y\",\"type\":\"scatter\"},{\"hoverinfo\":\"text\",\"marker\":{\"color\":\"rgb(255,220,0)\"},\"mode\":\"lines\",\"x\":[0.0,0.38268261165678663,0.38268261165678663,0.0],\"xaxis\":\"x\",\"y\":[-275.0,-275.0,-285.0,-285.0],\"yaxis\":\"y\",\"type\":\"scatter\"},{\"hoverinfo\":\"text\",\"marker\":{\"color\":\"rgb(255,220,0)\"},\"mode\":\"lines\",\"x\":[0.38268261165678663,0.41541505649313676,0.41541505649313676,0.0],\"xaxis\":\"x\",\"y\":[-280.0,-280.0,-295.0,-295.0],\"yaxis\":\"y\",\"type\":\"scatter\"},{\"hoverinfo\":\"text\",\"marker\":{\"color\":\"rgb(255,220,0)\"},\"mode\":\"lines\",\"x\":[0.41541505649313676,0.49136272532915454,0.49136272532915454,0.0],\"xaxis\":\"x\",\"y\":[-287.5,-287.5,-305.0,-305.0],\"yaxis\":\"y\",\"type\":\"scatter\"},{\"hoverinfo\":\"text\",\"marker\":{\"color\":\"rgb(255,220,0)\"},\"mode\":\"lines\",\"x\":[0.41535288116678615,0.6307118646376646,0.6307118646376646,0.49136272532915454],\"xaxis\":\"x\",\"y\":[-260.0,-260.0,-296.25,-296.25],\"yaxis\":\"y\",\"type\":\"scatter\"},{\"hoverinfo\":\"text\",\"marker\":{\"color\":\"rgb(255,220,0)\"},\"mode\":\"lines\",\"x\":[0.0,0.42244316043509755,0.42244316043509755,0.0],\"xaxis\":\"x\",\"y\":[-315.0,-315.0,-325.0,-325.0],\"yaxis\":\"y\",\"type\":\"scatter\"},{\"hoverinfo\":\"text\",\"marker\":{\"color\":\"rgb(255,220,0)\"},\"mode\":\"lines\",\"x\":[0.6307118646376646,0.7003926676694986,0.7003926676694986,0.42244316043509755],\"xaxis\":\"x\",\"y\":[-278.125,-278.125,-320.0,-320.0],\"yaxis\":\"y\",\"type\":\"scatter\"},{\"hoverinfo\":\"text\",\"marker\":{\"color\":\"rgb(255,220,0)\"},\"mode\":\"lines\",\"x\":[0.45151353067341765,0.7728523102011589,0.7728523102011589,0.7003926676694986],\"xaxis\":\"x\",\"y\":[-219.375,-219.375,-299.0625,-299.0625],\"yaxis\":\"y\",\"type\":\"scatter\"},{\"hoverinfo\":\"text\",\"marker\":{\"color\":\"rgb(255,220,0)\"},\"mode\":\"lines\",\"x\":[0.0,0.3168033799310689,0.3168033799310689,0.0],\"xaxis\":\"x\",\"y\":[-355.0,-355.0,-365.0,-365.0],\"yaxis\":\"y\",\"type\":\"scatter\"},{\"hoverinfo\":\"text\",\"marker\":{\"color\":\"rgb(255,220,0)\"},\"mode\":\"lines\",\"x\":[0.0,0.39502914755256774,0.39502914755256774,0.3168033799310689],\"xaxis\":\"x\",\"y\":[-345.0,-345.0,-360.0,-360.0],\"yaxis\":\"y\",\"type\":\"scatter\"},{\"hoverinfo\":\"text\",\"marker\":{\"color\":\"rgb(255,220,0)\"},\"mode\":\"lines\",\"x\":[0.0,0.4873690755506648,0.4873690755506648,0.39502914755256774],\"xaxis\":\"x\",\"y\":[-335.0,-335.0,-352.5,-352.5],\"yaxis\":\"y\",\"type\":\"scatter\"},{\"hoverinfo\":\"text\",\"marker\":{\"color\":\"rgb(255,220,0)\"},\"mode\":\"lines\",\"x\":[0.4873690755506648,0.687432690412078,0.687432690412078,0.0],\"xaxis\":\"x\",\"y\":[-343.75,-343.75,-375.0,-375.0],\"yaxis\":\"y\",\"type\":\"scatter\"},{\"hoverinfo\":\"text\",\"marker\":{\"color\":\"rgb(255,220,0)\"},\"mode\":\"lines\",\"x\":[0.7728523102011589,0.8188047119763197,0.8188047119763197,0.687432690412078],\"xaxis\":\"x\",\"y\":[-259.21875,-259.21875,-359.375,-359.375],\"yaxis\":\"y\",\"type\":\"scatter\"},{\"hoverinfo\":\"text\",\"marker\":{\"color\":\"rgb(0,116,217)\"},\"mode\":\"lines\",\"x\":[0.8212949820281589,1.1880012867449081,1.1880012867449081,0.8188047119763197],\"xaxis\":\"x\",\"y\":[-159.375,-159.375,-309.296875,-309.296875],\"yaxis\":\"y\",\"type\":\"scatter\"},{\"hoverinfo\":\"text\",\"marker\":{\"color\":\"rgb(40,35,35)\"},\"mode\":\"lines\",\"x\":[0.0,0.40000543627952945,0.40000543627952945,0.0],\"xaxis\":\"x\",\"y\":[-405.0,-405.0,-415.0,-415.0],\"yaxis\":\"y\",\"type\":\"scatter\"},{\"hoverinfo\":\"text\",\"marker\":{\"color\":\"rgb(40,35,35)\"},\"mode\":\"lines\",\"x\":[0.0,0.5185920471324587,0.5185920471324587,0.40000543627952945],\"xaxis\":\"x\",\"y\":[-395.0,-395.0,-410.0,-410.0],\"yaxis\":\"y\",\"type\":\"scatter\"},{\"hoverinfo\":\"text\",\"marker\":{\"color\":\"rgb(40,35,35)\"},\"mode\":\"lines\",\"x\":[0.0,0.6910000063944883,0.6910000063944883,0.5185920471324587],\"xaxis\":\"x\",\"y\":[-385.0,-385.0,-402.5,-402.5],\"yaxis\":\"y\",\"type\":\"scatter\"},{\"hoverinfo\":\"text\",\"marker\":{\"color\":\"rgb(40,35,35)\"},\"mode\":\"lines\",\"x\":[0.0,0.4723087632340197,0.4723087632340197,0.0],\"xaxis\":\"x\",\"y\":[-425.0,-425.0,-435.0,-435.0],\"yaxis\":\"y\",\"type\":\"scatter\"},{\"hoverinfo\":\"text\",\"marker\":{\"color\":\"rgb(40,35,35)\"},\"mode\":\"lines\",\"x\":[0.0,0.6290886628761376,0.6290886628761376,0.0],\"xaxis\":\"x\",\"y\":[-445.0,-445.0,-455.0,-455.0],\"yaxis\":\"y\",\"type\":\"scatter\"},{\"hoverinfo\":\"text\",\"marker\":{\"color\":\"rgb(40,35,35)\"},\"mode\":\"lines\",\"x\":[0.4723087632340197,0.7345165082524217,0.7345165082524217,0.6290886628761376],\"xaxis\":\"x\",\"y\":[-430.0,-430.0,-450.0,-450.0],\"yaxis\":\"y\",\"type\":\"scatter\"},{\"hoverinfo\":\"text\",\"marker\":{\"color\":\"rgb(40,35,35)\"},\"mode\":\"lines\",\"x\":[0.6910000063944883,0.8718345818981325,0.8718345818981325,0.7345165082524217],\"xaxis\":\"x\",\"y\":[-393.75,-393.75,-440.0,-440.0],\"yaxis\":\"y\",\"type\":\"scatter\"},{\"hoverinfo\":\"text\",\"marker\":{\"color\":\"rgb(40,35,35)\"},\"mode\":\"lines\",\"x\":[0.0,0.5767359151254925,0.5767359151254925,0.0],\"xaxis\":\"x\",\"y\":[-475.0,-475.0,-485.0,-485.0],\"yaxis\":\"y\",\"type\":\"scatter\"},{\"hoverinfo\":\"text\",\"marker\":{\"color\":\"rgb(40,35,35)\"},\"mode\":\"lines\",\"x\":[0.0,0.6088870736794454,0.6088870736794454,0.5767359151254925],\"xaxis\":\"x\",\"y\":[-465.0,-465.0,-480.0,-480.0],\"yaxis\":\"y\",\"type\":\"scatter\"},{\"hoverinfo\":\"text\",\"marker\":{\"color\":\"rgb(40,35,35)\"},\"mode\":\"lines\",\"x\":[0.6088870736794454,0.6580262746930956,0.6580262746930956,0.0],\"xaxis\":\"x\",\"y\":[-472.5,-472.5,-495.0,-495.0],\"yaxis\":\"y\",\"type\":\"scatter\"},{\"hoverinfo\":\"text\",\"marker\":{\"color\":\"rgb(40,35,35)\"},\"mode\":\"lines\",\"x\":[0.8718345818981325,0.9340495689961694,0.9340495689961694,0.6580262746930956],\"xaxis\":\"x\",\"y\":[-416.875,-416.875,-483.75,-483.75],\"yaxis\":\"y\",\"type\":\"scatter\"},{\"hoverinfo\":\"text\",\"marker\":{\"color\":\"rgb(0,116,217)\"},\"mode\":\"lines\",\"x\":[1.1880012867449081,1.4370954230542878,1.4370954230542878,0.9340495689961694],\"xaxis\":\"x\",\"y\":[-234.3359375,-234.3359375,-450.3125,-450.3125],\"yaxis\":\"y\",\"type\":\"scatter\"},{\"hoverinfo\":\"text\",\"marker\":{\"color\":\"rgb(0,116,217)\"},\"mode\":\"lines\",\"x\":[1.1864048300214702,2.047166131519996,2.047166131519996,1.4370954230542878],\"xaxis\":\"x\",\"y\":[-52.5,-52.5,-342.32421875,-342.32421875],\"yaxis\":\"y\",\"type\":\"scatter\"}],                        {\"autosize\":false,\"height\":950,\"hovermode\":\"closest\",\"showlegend\":false,\"width\":1000,\"xaxis\":{\"mirror\":\"allticks\",\"rangemode\":\"tozero\",\"showgrid\":false,\"showline\":true,\"showticklabels\":true,\"ticks\":\"outside\",\"type\":\"linear\",\"zeroline\":false},\"yaxis\":{\"mirror\":\"allticks\",\"rangemode\":\"tozero\",\"showgrid\":false,\"showline\":true,\"showticklabels\":true,\"tickmode\":\"array\",\"ticks\":\"outside\",\"ticktext\":[\"49_orlam__\",\"46_holl____________________...\",\"47_original_entfernt_fehlt\",\"48_weimar_astor_datimi\",\"33_yn_yr_zure\",\"20_correa_saint_vgl\",\"31_schuchardt_hugo_prof\",\"40_15_12_lisez\",\"41_maglie_20_lisez\",\"32_zeichnung_rete_spindel\",\"34_pesca_rete_barche\",\"43_deos_christo_vossotros\",\"18_vossotros_tâ_zoo\",\"28_eile_acabar_tabak\",\"38_paris_vgl_madrid\",\"2_sprache_français_créole\",\"23_sprachen_sprache_portugu...\",\"29_azkue_sprache_sprachen\",\"9_wort_bedeutung_form\",\"37_verbo_wort_form\",\"16_hofrat_herr_schreiben\",\"21_sagen_vinson_wissenschaft\",\"17_prof_akademie_artikel\",\"11_herr_professor_schreiben\",\"13_mussafia_wissenschaft_frau\",\"7_deutschen_deutsche_deutsc...\",\"5_berlin_deutschen_vossler\",\"4_georgische_sprache_georgi...\",\"6_paris_français_französisc...\",\"19_esperanto_sprache_arbeit\",\"14_sprache_madrid_juan\",\"35_romania_rumänischen_basque\",\"1_basque_baskischen_baskische\",\"27_druckerei_karras_heft\",\"3_bitte_lacombe_artikel\",\"0_buch_bücher_artikel\",\"10_buch_paris_artikel\",\"44_meyer_winkler_dante\",\"36_gotha_frau_mutter\",\"24_graz_wochen_frau\",\"15_graz_wetter_hoffentlich\",\"8_wien_graz_paris\",\"22_karte_lettre_carta\",\"25_schreiben_bitte_carta\",\"30_roma_lettera_paris\",\"42_spanien_sevilla_madrid\",\"26_gesundheit_bitte_wünsche\",\"12_danke_herzlichen_bitte\",\"39_geburtstag_glückwünsche_...\",\"45_wünsche_neujahr_weihnach...\"],\"tickvals\":[-5.0,-15.0,-25.0,-35.0,-45.0,-55.0,-65.0,-75.0,-85.0,-95.0,-105.0,-115.0,-125.0,-135.0,-145.0,-155.0,-165.0,-175.0,-185.0,-195.0,-205.0,-215.0,-225.0,-235.0,-245.0,-255.0,-265.0,-275.0,-285.0,-295.0,-305.0,-315.0,-325.0,-335.0,-345.0,-355.0,-365.0,-375.0,-385.0,-395.0,-405.0,-415.0,-425.0,-435.0,-445.0,-455.0,-465.0,-475.0,-485.0,-495.0],\"type\":\"linear\",\"zeroline\":false,\"range\":[-500.0,0.0]},\"template\":{\"data\":{\"barpolar\":[{\"marker\":{\"line\":{\"color\":\"white\",\"width\":0.5},\"pattern\":{\"fillmode\":\"overlay\",\"size\":10,\"solidity\":0.2}},\"type\":\"barpolar\"}],\"bar\":[{\"error_x\":{\"color\":\"#2a3f5f\"},\"error_y\":{\"color\":\"#2a3f5f\"},\"marker\":{\"line\":{\"color\":\"white\",\"width\":0.5},\"pattern\":{\"fillmode\":\"overlay\",\"size\":10,\"solidity\":0.2}},\"type\":\"bar\"}],\"carpet\":[{\"aaxis\":{\"endlinecolor\":\"#2a3f5f\",\"gridcolor\":\"#C8D4E3\",\"linecolor\":\"#C8D4E3\",\"minorgridcolor\":\"#C8D4E3\",\"startlinecolor\":\"#2a3f5f\"},\"baxis\":{\"endlinecolor\":\"#2a3f5f\",\"gridcolor\":\"#C8D4E3\",\"linecolor\":\"#C8D4E3\",\"minorgridcolor\":\"#C8D4E3\",\"startlinecolor\":\"#2a3f5f\"},\"type\":\"carpet\"}],\"choropleth\":[{\"colorbar\":{\"outlinewidth\":0,\"ticks\":\"\"},\"type\":\"choropleth\"}],\"contourcarpet\":[{\"colorbar\":{\"outlinewidth\":0,\"ticks\":\"\"},\"type\":\"contourcarpet\"}],\"contour\":[{\"colorbar\":{\"outlinewidth\":0,\"ticks\":\"\"},\"colorscale\":[[0.0,\"#0d0887\"],[0.1111111111111111,\"#46039f\"],[0.2222222222222222,\"#7201a8\"],[0.3333333333333333,\"#9c179e\"],[0.4444444444444444,\"#bd3786\"],[0.5555555555555556,\"#d8576b\"],[0.6666666666666666,\"#ed7953\"],[0.7777777777777778,\"#fb9f3a\"],[0.8888888888888888,\"#fdca26\"],[1.0,\"#f0f921\"]],\"type\":\"contour\"}],\"heatmapgl\":[{\"colorbar\":{\"outlinewidth\":0,\"ticks\":\"\"},\"colorscale\":[[0.0,\"#0d0887\"],[0.1111111111111111,\"#46039f\"],[0.2222222222222222,\"#7201a8\"],[0.3333333333333333,\"#9c179e\"],[0.4444444444444444,\"#bd3786\"],[0.5555555555555556,\"#d8576b\"],[0.6666666666666666,\"#ed7953\"],[0.7777777777777778,\"#fb9f3a\"],[0.8888888888888888,\"#fdca26\"],[1.0,\"#f0f921\"]],\"type\":\"heatmapgl\"}],\"heatmap\":[{\"colorbar\":{\"outlinewidth\":0,\"ticks\":\"\"},\"colorscale\":[[0.0,\"#0d0887\"],[0.1111111111111111,\"#46039f\"],[0.2222222222222222,\"#7201a8\"],[0.3333333333333333,\"#9c179e\"],[0.4444444444444444,\"#bd3786\"],[0.5555555555555556,\"#d8576b\"],[0.6666666666666666,\"#ed7953\"],[0.7777777777777778,\"#fb9f3a\"],[0.8888888888888888,\"#fdca26\"],[1.0,\"#f0f921\"]],\"type\":\"heatmap\"}],\"histogram2dcontour\":[{\"colorbar\":{\"outlinewidth\":0,\"ticks\":\"\"},\"colorscale\":[[0.0,\"#0d0887\"],[0.1111111111111111,\"#46039f\"],[0.2222222222222222,\"#7201a8\"],[0.3333333333333333,\"#9c179e\"],[0.4444444444444444,\"#bd3786\"],[0.5555555555555556,\"#d8576b\"],[0.6666666666666666,\"#ed7953\"],[0.7777777777777778,\"#fb9f3a\"],[0.8888888888888888,\"#fdca26\"],[1.0,\"#f0f921\"]],\"type\":\"histogram2dcontour\"}],\"histogram2d\":[{\"colorbar\":{\"outlinewidth\":0,\"ticks\":\"\"},\"colorscale\":[[0.0,\"#0d0887\"],[0.1111111111111111,\"#46039f\"],[0.2222222222222222,\"#7201a8\"],[0.3333333333333333,\"#9c179e\"],[0.4444444444444444,\"#bd3786\"],[0.5555555555555556,\"#d8576b\"],[0.6666666666666666,\"#ed7953\"],[0.7777777777777778,\"#fb9f3a\"],[0.8888888888888888,\"#fdca26\"],[1.0,\"#f0f921\"]],\"type\":\"histogram2d\"}],\"histogram\":[{\"marker\":{\"pattern\":{\"fillmode\":\"overlay\",\"size\":10,\"solidity\":0.2}},\"type\":\"histogram\"}],\"mesh3d\":[{\"colorbar\":{\"outlinewidth\":0,\"ticks\":\"\"},\"type\":\"mesh3d\"}],\"parcoords\":[{\"line\":{\"colorbar\":{\"outlinewidth\":0,\"ticks\":\"\"}},\"type\":\"parcoords\"}],\"pie\":[{\"automargin\":true,\"type\":\"pie\"}],\"scatter3d\":[{\"line\":{\"colorbar\":{\"outlinewidth\":0,\"ticks\":\"\"}},\"marker\":{\"colorbar\":{\"outlinewidth\":0,\"ticks\":\"\"}},\"type\":\"scatter3d\"}],\"scattercarpet\":[{\"marker\":{\"colorbar\":{\"outlinewidth\":0,\"ticks\":\"\"}},\"type\":\"scattercarpet\"}],\"scattergeo\":[{\"marker\":{\"colorbar\":{\"outlinewidth\":0,\"ticks\":\"\"}},\"type\":\"scattergeo\"}],\"scattergl\":[{\"marker\":{\"colorbar\":{\"outlinewidth\":0,\"ticks\":\"\"}},\"type\":\"scattergl\"}],\"scattermapbox\":[{\"marker\":{\"colorbar\":{\"outlinewidth\":0,\"ticks\":\"\"}},\"type\":\"scattermapbox\"}],\"scatterpolargl\":[{\"marker\":{\"colorbar\":{\"outlinewidth\":0,\"ticks\":\"\"}},\"type\":\"scatterpolargl\"}],\"scatterpolar\":[{\"marker\":{\"colorbar\":{\"outlinewidth\":0,\"ticks\":\"\"}},\"type\":\"scatterpolar\"}],\"scatter\":[{\"fillpattern\":{\"fillmode\":\"overlay\",\"size\":10,\"solidity\":0.2},\"type\":\"scatter\"}],\"scatterternary\":[{\"marker\":{\"colorbar\":{\"outlinewidth\":0,\"ticks\":\"\"}},\"type\":\"scatterternary\"}],\"surface\":[{\"colorbar\":{\"outlinewidth\":0,\"ticks\":\"\"},\"colorscale\":[[0.0,\"#0d0887\"],[0.1111111111111111,\"#46039f\"],[0.2222222222222222,\"#7201a8\"],[0.3333333333333333,\"#9c179e\"],[0.4444444444444444,\"#bd3786\"],[0.5555555555555556,\"#d8576b\"],[0.6666666666666666,\"#ed7953\"],[0.7777777777777778,\"#fb9f3a\"],[0.8888888888888888,\"#fdca26\"],[1.0,\"#f0f921\"]],\"type\":\"surface\"}],\"table\":[{\"cells\":{\"fill\":{\"color\":\"#EBF0F8\"},\"line\":{\"color\":\"white\"}},\"header\":{\"fill\":{\"color\":\"#C8D4E3\"},\"line\":{\"color\":\"white\"}},\"type\":\"table\"}]},\"layout\":{\"annotationdefaults\":{\"arrowcolor\":\"#2a3f5f\",\"arrowhead\":0,\"arrowwidth\":1},\"autotypenumbers\":\"strict\",\"coloraxis\":{\"colorbar\":{\"outlinewidth\":0,\"ticks\":\"\"}},\"colorscale\":{\"diverging\":[[0,\"#8e0152\"],[0.1,\"#c51b7d\"],[0.2,\"#de77ae\"],[0.3,\"#f1b6da\"],[0.4,\"#fde0ef\"],[0.5,\"#f7f7f7\"],[0.6,\"#e6f5d0\"],[0.7,\"#b8e186\"],[0.8,\"#7fbc41\"],[0.9,\"#4d9221\"],[1,\"#276419\"]],\"sequential\":[[0.0,\"#0d0887\"],[0.1111111111111111,\"#46039f\"],[0.2222222222222222,\"#7201a8\"],[0.3333333333333333,\"#9c179e\"],[0.4444444444444444,\"#bd3786\"],[0.5555555555555556,\"#d8576b\"],[0.6666666666666666,\"#ed7953\"],[0.7777777777777778,\"#fb9f3a\"],[0.8888888888888888,\"#fdca26\"],[1.0,\"#f0f921\"]],\"sequentialminus\":[[0.0,\"#0d0887\"],[0.1111111111111111,\"#46039f\"],[0.2222222222222222,\"#7201a8\"],[0.3333333333333333,\"#9c179e\"],[0.4444444444444444,\"#bd3786\"],[0.5555555555555556,\"#d8576b\"],[0.6666666666666666,\"#ed7953\"],[0.7777777777777778,\"#fb9f3a\"],[0.8888888888888888,\"#fdca26\"],[1.0,\"#f0f921\"]]},\"colorway\":[\"#636efa\",\"#EF553B\",\"#00cc96\",\"#ab63fa\",\"#FFA15A\",\"#19d3f3\",\"#FF6692\",\"#B6E880\",\"#FF97FF\",\"#FECB52\"],\"font\":{\"color\":\"#2a3f5f\"},\"geo\":{\"bgcolor\":\"white\",\"lakecolor\":\"white\",\"landcolor\":\"white\",\"showlakes\":true,\"showland\":true,\"subunitcolor\":\"#C8D4E3\"},\"hoverlabel\":{\"align\":\"left\"},\"hovermode\":\"closest\",\"mapbox\":{\"style\":\"light\"},\"paper_bgcolor\":\"white\",\"plot_bgcolor\":\"white\",\"polar\":{\"angularaxis\":{\"gridcolor\":\"#EBF0F8\",\"linecolor\":\"#EBF0F8\",\"ticks\":\"\"},\"bgcolor\":\"white\",\"radialaxis\":{\"gridcolor\":\"#EBF0F8\",\"linecolor\":\"#EBF0F8\",\"ticks\":\"\"}},\"scene\":{\"xaxis\":{\"backgroundcolor\":\"white\",\"gridcolor\":\"#DFE8F3\",\"gridwidth\":2,\"linecolor\":\"#EBF0F8\",\"showbackground\":true,\"ticks\":\"\",\"zerolinecolor\":\"#EBF0F8\"},\"yaxis\":{\"backgroundcolor\":\"white\",\"gridcolor\":\"#DFE8F3\",\"gridwidth\":2,\"linecolor\":\"#EBF0F8\",\"showbackground\":true,\"ticks\":\"\",\"zerolinecolor\":\"#EBF0F8\"},\"zaxis\":{\"backgroundcolor\":\"white\",\"gridcolor\":\"#DFE8F3\",\"gridwidth\":2,\"linecolor\":\"#EBF0F8\",\"showbackground\":true,\"ticks\":\"\",\"zerolinecolor\":\"#EBF0F8\"}},\"shapedefaults\":{\"line\":{\"color\":\"#2a3f5f\"}},\"ternary\":{\"aaxis\":{\"gridcolor\":\"#DFE8F3\",\"linecolor\":\"#A2B1C6\",\"ticks\":\"\"},\"baxis\":{\"gridcolor\":\"#DFE8F3\",\"linecolor\":\"#A2B1C6\",\"ticks\":\"\"},\"bgcolor\":\"white\",\"caxis\":{\"gridcolor\":\"#DFE8F3\",\"linecolor\":\"#A2B1C6\",\"ticks\":\"\"}},\"title\":{\"x\":0.05},\"xaxis\":{\"automargin\":true,\"gridcolor\":\"#EBF0F8\",\"linecolor\":\"#EBF0F8\",\"ticks\":\"\",\"title\":{\"standoff\":15},\"zerolinecolor\":\"#EBF0F8\",\"zerolinewidth\":2},\"yaxis\":{\"automargin\":true,\"gridcolor\":\"#EBF0F8\",\"linecolor\":\"#EBF0F8\",\"ticks\":\"\",\"title\":{\"standoff\":15},\"zerolinecolor\":\"#EBF0F8\",\"zerolinewidth\":2}}},\"title\":{\"font\":{\"size\":22,\"color\":\"Black\"},\"text\":\"\\u003cb\\u003eHierarchical Clustering\\u003c\\u002fb\\u003e\",\"x\":0.5,\"xanchor\":\"center\",\"yanchor\":\"top\"},\"hoverlabel\":{\"font\":{\"size\":16,\"family\":\"Rockwell\"},\"bgcolor\":\"white\"},\"plot_bgcolor\":\"#ECEFF1\"},                        {\"responsive\": true}                    ).then(function(){\n",
       "                            \n",
       "var gd = document.getElementById('1100ee45-d1a6-4765-8478-140ea9d84268');\n",
       "var x = new MutationObserver(function (mutations, observer) {{\n",
       "        var display = window.getComputedStyle(gd).display;\n",
       "        if (!display || display === 'none') {{\n",
       "            console.log([gd, 'removed!']);\n",
       "            Plotly.purge(gd);\n",
       "            observer.disconnect();\n",
       "        }}\n",
       "}});\n",
       "\n",
       "// Listen for the removal of the full notebook cells\n",
       "var notebookContainer = gd.closest('#notebook-container');\n",
       "if (notebookContainer) {{\n",
       "    x.observe(notebookContainer, {childList: true});\n",
       "}}\n",
       "\n",
       "// Listen for the clearing of the current output cell\n",
       "var outputEl = gd.closest('.output');\n",
       "if (outputEl) {{\n",
       "    x.observe(outputEl, {childList: true});\n",
       "}}\n",
       "\n",
       "                        })                };                            </script>        </div>\n",
       "</body>\n",
       "</html>"
      ]
     },
     "metadata": {},
     "output_type": "display_data"
    }
   ],
   "source": [
    "visualize_topics(topic_model, texts, reduced_embeddings)\n",
    "#visualize_topics(topic_model_keybert, texts, reduced_embeddings)\n",
    "#visualize_topics(topic_model_mmr, texts, reduced_embeddings)"
   ]
  },
  {
   "cell_type": "code",
   "execution_count": 48,
   "metadata": {
    "colab": {
     "base_uri": "https://localhost:8080/",
     "height": 608
    },
    "executionInfo": {
     "elapsed": 372,
     "status": "ok",
     "timestamp": 1757495353953,
     "user": {
      "displayName": "m. otto",
      "userId": "07165694256129537082"
     },
     "user_tz": -120
    },
    "id": "T02PPFqyG5QI",
    "outputId": "23159a15-b3d6-4219-83e7-3eda1fb4cb1c"
   },
   "outputs": [
    {
     "data": {
      "application/vnd.google.colaboratory.intrinsic+json": {
       "summary": "{\n  \"name\": \"base_df\",\n  \"rows\": 44252,\n  \"fields\": [\n    {\n      \"column\": \"source_file\",\n      \"properties\": {\n        \"dtype\": \"category\",\n        \"num_unique_values\": 11560,\n        \"samples\": [\n          \"hsa.letter.6124.xml\",\n          \"hsa.letter.4105.xml\",\n          \"hsa.letter.12254.xml\"\n        ],\n        \"semantic_type\": \"\",\n        \"description\": \"\"\n      }\n    },\n    {\n      \"column\": \"pid\",\n      \"properties\": {\n        \"dtype\": \"string\",\n        \"num_unique_values\": 44252,\n        \"samples\": [\n          \"L.10448-1\",\n          \"L.1614-2\",\n          \"L.6093-1\"\n        ],\n        \"semantic_type\": \"\",\n        \"description\": \"\"\n      }\n    },\n    {\n      \"column\": \"sender_id\",\n      \"properties\": {\n        \"dtype\": \"category\",\n        \"num_unique_values\": 1025,\n        \"samples\": [\n          \"https://gams.uni-graz.at/o:hsa.persons#P.1262\",\n          \"https://gams.uni-graz.at/o:hsa.persons#P.1944\",\n          \"https://gams.uni-graz.at/o:hsa.persons#P.1165\"\n        ],\n        \"semantic_type\": \"\",\n        \"description\": \"\"\n      }\n    },\n    {\n      \"column\": \"sender\",\n      \"properties\": {\n        \"dtype\": \"category\",\n        \"num_unique_values\": 951,\n        \"samples\": [\n          \"Nardo-Cibele\",\n          \"Benedetti\",\n          \"Jung\"\n        ],\n        \"semantic_type\": \"\",\n        \"description\": \"\"\n      }\n    },\n    {\n      \"column\": \"receiver_id\",\n      \"properties\": {\n        \"dtype\": \"category\",\n        \"num_unique_values\": 113,\n        \"samples\": [\n          \"https://gams.uni-graz.at/o:hsa.persons#P.2156\",\n          \"https://gams.uni-graz.at/o:hsa.persons#P.2467\",\n          \"https://gams.uni-graz.at/o:hsa.persons#P.1352\"\n        ],\n        \"semantic_type\": \"\",\n        \"description\": \"\"\n      }\n    },\n    {\n      \"column\": \"receiver\",\n      \"properties\": {\n        \"dtype\": \"category\",\n        \"num_unique_values\": 108,\n        \"samples\": [\n          \"Meillet\",\n          \"Paul\",\n          \"Rajna\"\n        ],\n        \"semantic_type\": \"\",\n        \"description\": \"\"\n      }\n    },\n    {\n      \"column\": \"date\",\n      \"properties\": {\n        \"dtype\": \"category\",\n        \"num_unique_values\": 7936,\n        \"samples\": [\n          \"1889\",\n          \"1908-12-19\",\n          \"1912-08-11\"\n        ],\n        \"semantic_type\": \"\",\n        \"description\": \"\"\n      }\n    },\n    {\n      \"column\": \"text\",\n      \"properties\": {\n        \"dtype\": \"string\",\n        \"num_unique_values\": 43919,\n        \"samples\": [\n          \"Vielleicht kann ich das Separatum von hier an Wartburg schicken, oder durch Freunde, die Anfang J\\u00e4nner hinreisen \\u2013 falls Ihnen das bequemer ist.\",\n          \"M. Clark a eu l\\u2019occasion de collationer mon texte imprim\\u00e9 de la grammaire d\\u2019Urte avec le M.S. Il est rempli d\\u2019erreurs. Je me suis fi\\u00e9 \\u00e0 une copie tr\\u00e8s fautive. Presque toutes les fautes que j\\u2019ai signal\\u00e9es \\u00e0 la page 5 de la Pr\\u00e9face sont des fautes de la copie, et point du M.S. original. C\\u2019est aga\\u00e7ant tout cela. Il reste pourtant av\\u00e9r\\u00e9 que Pierre d\\u2019Urte n\\u2019emploie jamais ni l\\u2019accent grave ni l\\u2019accent circonflex pour les mots Basques. Si vous y trouvez, ils sont des fautes d\\u2019impression. Au lieu de faire l\\u2019 impression exactement apr\\u00e8s la copie, j\\u2019aurais bien mieux faire de corriger toutes les fautes dont j\\u2019\\u00e9tais certain.\",\n          \"Mon bien cher ami, je n\\u2019ai qu\\u2019une minute (et pas de papier) pour vous annoncer qu\\u2019apr\\u00e8s avoir \\u00e9t\\u00e9 bien malheureux une nouvelle esp\\u00e9rance, une certitude de bonheur se pr\\u00e9sente pour moi. Je vais \\u00e9pouser tr\\u00e8s prochainement Madame Savary , femme aussi charmante que parfaite, qui a \\u00e9t\\u00e9, comme moi, bien qu\\u2019autrement, tr\\u00e8s malheureuse, et qui veut bien consentir \\u00e0 essayer avec moi de se refaire et de me refaire cette vie d\\u2019affection intime qui suivant moi est la seule qui ait une v\\u00e9ritable douceur. Je sais que vous prendrez cordialement part \\u00e0 cet heureux \\u00e9v\\u00e9nement et je vous envoie mes meilleures amiti\\u00e9s\"\n        ],\n        \"semantic_type\": \"\",\n        \"description\": \"\"\n      }\n    },\n    {\n      \"column\": \"language\",\n      \"properties\": {\n        \"dtype\": \"category\",\n        \"num_unique_values\": 22,\n        \"samples\": [\n          \"fr\",\n          \"idb\",\n          \"ft\"\n        ],\n        \"semantic_type\": \"\",\n        \"description\": \"\"\n      }\n    },\n    {\n      \"column\": \"keywords\",\n      \"properties\": {\n        \"dtype\": \"category\",\n        \"num_unique_values\": 785,\n        \"samples\": [\n          \"Sprachen in Indonesien\",\n          \"Phonographie\",\n          \"Konsulatswesen\"\n        ],\n        \"semantic_type\": \"\",\n        \"description\": \"\"\n      }\n    },\n    {\n      \"column\": \"word_count\",\n      \"properties\": {\n        \"dtype\": \"number\",\n        \"std\": 68,\n        \"min\": 1,\n        \"max\": 511,\n        \"num_unique_values\": 474,\n        \"samples\": [\n          303,\n          429,\n          334\n        ],\n        \"semantic_type\": \"\",\n        \"description\": \"\"\n      }\n    },\n    {\n      \"column\": \"pred_topic\",\n      \"properties\": {\n        \"dtype\": \"category\",\n        \"num_unique_values\": 176,\n        \"samples\": [\n          27,\n          45,\n          \"8, 4\"\n        ],\n        \"semantic_type\": \"\",\n        \"description\": \"\"\n      }\n    },\n    {\n      \"column\": \"pred_prob\",\n      \"properties\": {\n        \"dtype\": \"category\",\n        \"num_unique_values\": 21582,\n        \"samples\": [\n          0.036564501289376085,\n          0.09456382388605404,\n          0.047059602985154214\n        ],\n        \"semantic_type\": \"\",\n        \"description\": \"\"\n      }\n    },\n    {\n      \"column\": \"topic_top_words\",\n      \"properties\": {\n        \"dtype\": \"category\",\n        \"num_unique_values\": 50,\n        \"samples\": [\n          \"sprachen, sprache, portuguese, spanischen, espa\\u00f1ol\",\n          \"graz, wochen, frau, leben, influenza\",\n          \"paris, fran\\u00e7ais, franz\\u00f6sischen, revue, buch\"\n        ],\n        \"semantic_type\": \"\",\n        \"description\": \"\"\n      }\n    },\n    {\n      \"column\": \"_parent_id\",\n      \"properties\": {\n        \"dtype\": \"category\",\n        \"num_unique_values\": 139,\n        \"samples\": [\n          \".9437-1\",\n          \".3500-1\",\n          \".2015-1\"\n        ],\n        \"semantic_type\": \"\",\n        \"description\": \"\"\n      }\n    },\n    {\n      \"column\": \"_section_idx\",\n      \"properties\": {\n        \"dtype\": \"number\",\n        \"std\": 0.0,\n        \"min\": 1.0,\n        \"max\": 1.0,\n        \"num_unique_values\": 1,\n        \"samples\": [\n          1.0\n        ],\n        \"semantic_type\": \"\",\n        \"description\": \"\"\n      }\n    }\n  ]\n}",
       "type": "dataframe",
       "variable_name": "base_df"
      },
      "text/html": [
       "\n",
       "  <div id=\"df-968182bc-d314-49c1-b20d-979bb33b4be7\" class=\"colab-df-container\">\n",
       "    <div>\n",
       "<style scoped>\n",
       "    .dataframe tbody tr th:only-of-type {\n",
       "        vertical-align: middle;\n",
       "    }\n",
       "\n",
       "    .dataframe tbody tr th {\n",
       "        vertical-align: top;\n",
       "    }\n",
       "\n",
       "    .dataframe thead th {\n",
       "        text-align: right;\n",
       "    }\n",
       "</style>\n",
       "<table border=\"1\" class=\"dataframe\">\n",
       "  <thead>\n",
       "    <tr style=\"text-align: right;\">\n",
       "      <th></th>\n",
       "      <th>source_file</th>\n",
       "      <th>pid</th>\n",
       "      <th>sender_id</th>\n",
       "      <th>sender</th>\n",
       "      <th>receiver_id</th>\n",
       "      <th>receiver</th>\n",
       "      <th>date</th>\n",
       "      <th>text</th>\n",
       "      <th>language</th>\n",
       "      <th>keywords</th>\n",
       "      <th>word_count</th>\n",
       "      <th>pred_topic</th>\n",
       "      <th>pred_prob</th>\n",
       "      <th>topic_top_words</th>\n",
       "      <th>_parent_id</th>\n",
       "      <th>_section_idx</th>\n",
       "    </tr>\n",
       "  </thead>\n",
       "  <tbody>\n",
       "    <tr>\n",
       "      <th>0</th>\n",
       "      <td>hsa.letter.1.xml</td>\n",
       "      <td>L.1-1</td>\n",
       "      <td>https://gams.uni-graz.at/o:hsa.persons#P.1069</td>\n",
       "      <td>Baissac</td>\n",
       "      <td>https://gams.uni-graz.at/o:hsa.persons#P.109</td>\n",
       "      <td>Schuchardt</td>\n",
       "      <td>1885-01-20</td>\n",
       "      <td>Ma Doudou vous envoie une petite brochure jaun...</td>\n",
       "      <td>fr</td>\n",
       "      <td>NaN</td>\n",
       "      <td>17</td>\n",
       "      <td>12</td>\n",
       "      <td>0.0</td>\n",
       "      <td>danke, herzlichen, bitte, herzlichsten, geschenk</td>\n",
       "      <td>NaN</td>\n",
       "      <td>NaN</td>\n",
       "    </tr>\n",
       "    <tr>\n",
       "      <th>1</th>\n",
       "      <td>hsa.letter.1.xml</td>\n",
       "      <td>L.1-2</td>\n",
       "      <td>https://gams.uni-graz.at/o:hsa.persons#P.1069</td>\n",
       "      <td>Baissac</td>\n",
       "      <td>https://gams.uni-graz.at/o:hsa.persons#P.109</td>\n",
       "      <td>Schuchardt</td>\n",
       "      <td>1885-01-20</td>\n",
       "      <td>Nous sommes anxieux l’un et l’autre d’avoir de...</td>\n",
       "      <td>fr</td>\n",
       "      <td>NaN</td>\n",
       "      <td>31</td>\n",
       "      <td>26</td>\n",
       "      <td>0.0</td>\n",
       "      <td>gesundheit, bitte, wünsche, santé, hoffentlich</td>\n",
       "      <td>NaN</td>\n",
       "      <td>NaN</td>\n",
       "    </tr>\n",
       "    <tr>\n",
       "      <th>2</th>\n",
       "      <td>hsa.letter.3.xml</td>\n",
       "      <td>L.3-1</td>\n",
       "      <td>https://gams.uni-graz.at/o:hsa.persons#P.1068</td>\n",
       "      <td>Bähr</td>\n",
       "      <td>https://gams.uni-graz.at/o:hsa.persons#P.109</td>\n",
       "      <td>Schuchardt</td>\n",
       "      <td>1924-04-22</td>\n",
       "      <td>Bereits 5 Tage nach Abgang meines letzten Brie...</td>\n",
       "      <td>de</td>\n",
       "      <td>Revue de Linguistique Romane</td>\n",
       "      <td>124</td>\n",
       "      <td>3</td>\n",
       "      <td>0.053287</td>\n",
       "      <td>bitte, lacombe, artikel, erhalten, korrektur</td>\n",
       "      <td>NaN</td>\n",
       "      <td>NaN</td>\n",
       "    </tr>\n",
       "    <tr>\n",
       "      <th>3</th>\n",
       "      <td>hsa.letter.3.xml</td>\n",
       "      <td>L.3-3</td>\n",
       "      <td>https://gams.uni-graz.at/o:hsa.persons#P.1068</td>\n",
       "      <td>Bähr</td>\n",
       "      <td>https://gams.uni-graz.at/o:hsa.persons#P.109</td>\n",
       "      <td>Schuchardt</td>\n",
       "      <td>1924-04-22</td>\n",
       "      <td>Die Hauptschuld an diesen Zuständen tragen die...</td>\n",
       "      <td>de</td>\n",
       "      <td>Revue de Linguistique Romane</td>\n",
       "      <td>246</td>\n",
       "      <td>1</td>\n",
       "      <td>0.024598</td>\n",
       "      <td>basque, baskischen, baskische, basques, basken</td>\n",
       "      <td>NaN</td>\n",
       "      <td>NaN</td>\n",
       "    </tr>\n",
       "    <tr>\n",
       "      <th>4</th>\n",
       "      <td>hsa.letter.3.xml</td>\n",
       "      <td>L.3-5</td>\n",
       "      <td>https://gams.uni-graz.at/o:hsa.persons#P.1068</td>\n",
       "      <td>Bähr</td>\n",
       "      <td>https://gams.uni-graz.at/o:hsa.persons#P.109</td>\n",
       "      <td>Schuchardt</td>\n",
       "      <td>1924-04-22</td>\n",
       "      <td>Azkue klagte darüber dass der Arbeitseifer der...</td>\n",
       "      <td>de</td>\n",
       "      <td>Revue de Linguistique Romane</td>\n",
       "      <td>226</td>\n",
       "      <td>29</td>\n",
       "      <td>0.041504</td>\n",
       "      <td>azkue, sprache, sprachen, wort, scheint</td>\n",
       "      <td>NaN</td>\n",
       "      <td>NaN</td>\n",
       "    </tr>\n",
       "  </tbody>\n",
       "</table>\n",
       "</div>\n",
       "    <div class=\"colab-df-buttons\">\n",
       "\n",
       "  <div class=\"colab-df-container\">\n",
       "    <button class=\"colab-df-convert\" onclick=\"convertToInteractive('df-968182bc-d314-49c1-b20d-979bb33b4be7')\"\n",
       "            title=\"Convert this dataframe to an interactive table.\"\n",
       "            style=\"display:none;\">\n",
       "\n",
       "  <svg xmlns=\"http://www.w3.org/2000/svg\" height=\"24px\" viewBox=\"0 -960 960 960\">\n",
       "    <path d=\"M120-120v-720h720v720H120Zm60-500h600v-160H180v160Zm220 220h160v-160H400v160Zm0 220h160v-160H400v160ZM180-400h160v-160H180v160Zm440 0h160v-160H620v160ZM180-180h160v-160H180v160Zm440 0h160v-160H620v160Z\"/>\n",
       "  </svg>\n",
       "    </button>\n",
       "\n",
       "  <style>\n",
       "    .colab-df-container {\n",
       "      display:flex;\n",
       "      gap: 12px;\n",
       "    }\n",
       "\n",
       "    .colab-df-convert {\n",
       "      background-color: #E8F0FE;\n",
       "      border: none;\n",
       "      border-radius: 50%;\n",
       "      cursor: pointer;\n",
       "      display: none;\n",
       "      fill: #1967D2;\n",
       "      height: 32px;\n",
       "      padding: 0 0 0 0;\n",
       "      width: 32px;\n",
       "    }\n",
       "\n",
       "    .colab-df-convert:hover {\n",
       "      background-color: #E2EBFA;\n",
       "      box-shadow: 0px 1px 2px rgba(60, 64, 67, 0.3), 0px 1px 3px 1px rgba(60, 64, 67, 0.15);\n",
       "      fill: #174EA6;\n",
       "    }\n",
       "\n",
       "    .colab-df-buttons div {\n",
       "      margin-bottom: 4px;\n",
       "    }\n",
       "\n",
       "    [theme=dark] .colab-df-convert {\n",
       "      background-color: #3B4455;\n",
       "      fill: #D2E3FC;\n",
       "    }\n",
       "\n",
       "    [theme=dark] .colab-df-convert:hover {\n",
       "      background-color: #434B5C;\n",
       "      box-shadow: 0px 1px 3px 1px rgba(0, 0, 0, 0.15);\n",
       "      filter: drop-shadow(0px 1px 2px rgba(0, 0, 0, 0.3));\n",
       "      fill: #FFFFFF;\n",
       "    }\n",
       "  </style>\n",
       "\n",
       "    <script>\n",
       "      const buttonEl =\n",
       "        document.querySelector('#df-968182bc-d314-49c1-b20d-979bb33b4be7 button.colab-df-convert');\n",
       "      buttonEl.style.display =\n",
       "        google.colab.kernel.accessAllowed ? 'block' : 'none';\n",
       "\n",
       "      async function convertToInteractive(key) {\n",
       "        const element = document.querySelector('#df-968182bc-d314-49c1-b20d-979bb33b4be7');\n",
       "        const dataTable =\n",
       "          await google.colab.kernel.invokeFunction('convertToInteractive',\n",
       "                                                    [key], {});\n",
       "        if (!dataTable) return;\n",
       "\n",
       "        const docLinkHtml = 'Like what you see? Visit the ' +\n",
       "          '<a target=\"_blank\" href=https://colab.research.google.com/notebooks/data_table.ipynb>data table notebook</a>'\n",
       "          + ' to learn more about interactive tables.';\n",
       "        element.innerHTML = '';\n",
       "        dataTable['output_type'] = 'display_data';\n",
       "        await google.colab.output.renderOutput(dataTable, element);\n",
       "        const docLink = document.createElement('div');\n",
       "        docLink.innerHTML = docLinkHtml;\n",
       "        element.appendChild(docLink);\n",
       "      }\n",
       "    </script>\n",
       "  </div>\n",
       "\n",
       "\n",
       "    <div id=\"df-a61a88da-76b8-4cbd-b628-59d47782d3fc\">\n",
       "      <button class=\"colab-df-quickchart\" onclick=\"quickchart('df-a61a88da-76b8-4cbd-b628-59d47782d3fc')\"\n",
       "                title=\"Suggest charts\"\n",
       "                style=\"display:none;\">\n",
       "\n",
       "<svg xmlns=\"http://www.w3.org/2000/svg\" height=\"24px\"viewBox=\"0 0 24 24\"\n",
       "     width=\"24px\">\n",
       "    <g>\n",
       "        <path d=\"M19 3H5c-1.1 0-2 .9-2 2v14c0 1.1.9 2 2 2h14c1.1 0 2-.9 2-2V5c0-1.1-.9-2-2-2zM9 17H7v-7h2v7zm4 0h-2V7h2v10zm4 0h-2v-4h2v4z\"/>\n",
       "    </g>\n",
       "</svg>\n",
       "      </button>\n",
       "\n",
       "<style>\n",
       "  .colab-df-quickchart {\n",
       "      --bg-color: #E8F0FE;\n",
       "      --fill-color: #1967D2;\n",
       "      --hover-bg-color: #E2EBFA;\n",
       "      --hover-fill-color: #174EA6;\n",
       "      --disabled-fill-color: #AAA;\n",
       "      --disabled-bg-color: #DDD;\n",
       "  }\n",
       "\n",
       "  [theme=dark] .colab-df-quickchart {\n",
       "      --bg-color: #3B4455;\n",
       "      --fill-color: #D2E3FC;\n",
       "      --hover-bg-color: #434B5C;\n",
       "      --hover-fill-color: #FFFFFF;\n",
       "      --disabled-bg-color: #3B4455;\n",
       "      --disabled-fill-color: #666;\n",
       "  }\n",
       "\n",
       "  .colab-df-quickchart {\n",
       "    background-color: var(--bg-color);\n",
       "    border: none;\n",
       "    border-radius: 50%;\n",
       "    cursor: pointer;\n",
       "    display: none;\n",
       "    fill: var(--fill-color);\n",
       "    height: 32px;\n",
       "    padding: 0;\n",
       "    width: 32px;\n",
       "  }\n",
       "\n",
       "  .colab-df-quickchart:hover {\n",
       "    background-color: var(--hover-bg-color);\n",
       "    box-shadow: 0 1px 2px rgba(60, 64, 67, 0.3), 0 1px 3px 1px rgba(60, 64, 67, 0.15);\n",
       "    fill: var(--button-hover-fill-color);\n",
       "  }\n",
       "\n",
       "  .colab-df-quickchart-complete:disabled,\n",
       "  .colab-df-quickchart-complete:disabled:hover {\n",
       "    background-color: var(--disabled-bg-color);\n",
       "    fill: var(--disabled-fill-color);\n",
       "    box-shadow: none;\n",
       "  }\n",
       "\n",
       "  .colab-df-spinner {\n",
       "    border: 2px solid var(--fill-color);\n",
       "    border-color: transparent;\n",
       "    border-bottom-color: var(--fill-color);\n",
       "    animation:\n",
       "      spin 1s steps(1) infinite;\n",
       "  }\n",
       "\n",
       "  @keyframes spin {\n",
       "    0% {\n",
       "      border-color: transparent;\n",
       "      border-bottom-color: var(--fill-color);\n",
       "      border-left-color: var(--fill-color);\n",
       "    }\n",
       "    20% {\n",
       "      border-color: transparent;\n",
       "      border-left-color: var(--fill-color);\n",
       "      border-top-color: var(--fill-color);\n",
       "    }\n",
       "    30% {\n",
       "      border-color: transparent;\n",
       "      border-left-color: var(--fill-color);\n",
       "      border-top-color: var(--fill-color);\n",
       "      border-right-color: var(--fill-color);\n",
       "    }\n",
       "    40% {\n",
       "      border-color: transparent;\n",
       "      border-right-color: var(--fill-color);\n",
       "      border-top-color: var(--fill-color);\n",
       "    }\n",
       "    60% {\n",
       "      border-color: transparent;\n",
       "      border-right-color: var(--fill-color);\n",
       "    }\n",
       "    80% {\n",
       "      border-color: transparent;\n",
       "      border-right-color: var(--fill-color);\n",
       "      border-bottom-color: var(--fill-color);\n",
       "    }\n",
       "    90% {\n",
       "      border-color: transparent;\n",
       "      border-bottom-color: var(--fill-color);\n",
       "    }\n",
       "  }\n",
       "</style>\n",
       "\n",
       "      <script>\n",
       "        async function quickchart(key) {\n",
       "          const quickchartButtonEl =\n",
       "            document.querySelector('#' + key + ' button');\n",
       "          quickchartButtonEl.disabled = true;  // To prevent multiple clicks.\n",
       "          quickchartButtonEl.classList.add('colab-df-spinner');\n",
       "          try {\n",
       "            const charts = await google.colab.kernel.invokeFunction(\n",
       "                'suggestCharts', [key], {});\n",
       "          } catch (error) {\n",
       "            console.error('Error during call to suggestCharts:', error);\n",
       "          }\n",
       "          quickchartButtonEl.classList.remove('colab-df-spinner');\n",
       "          quickchartButtonEl.classList.add('colab-df-quickchart-complete');\n",
       "        }\n",
       "        (() => {\n",
       "          let quickchartButtonEl =\n",
       "            document.querySelector('#df-a61a88da-76b8-4cbd-b628-59d47782d3fc button');\n",
       "          quickchartButtonEl.style.display =\n",
       "            google.colab.kernel.accessAllowed ? 'block' : 'none';\n",
       "        })();\n",
       "      </script>\n",
       "    </div>\n",
       "\n",
       "    </div>\n",
       "  </div>\n"
      ],
      "text/plain": [
       "        source_file    pid                                      sender_id  \\\n",
       "0  hsa.letter.1.xml  L.1-1  https://gams.uni-graz.at/o:hsa.persons#P.1069   \n",
       "1  hsa.letter.1.xml  L.1-2  https://gams.uni-graz.at/o:hsa.persons#P.1069   \n",
       "2  hsa.letter.3.xml  L.3-1  https://gams.uni-graz.at/o:hsa.persons#P.1068   \n",
       "3  hsa.letter.3.xml  L.3-3  https://gams.uni-graz.at/o:hsa.persons#P.1068   \n",
       "4  hsa.letter.3.xml  L.3-5  https://gams.uni-graz.at/o:hsa.persons#P.1068   \n",
       "\n",
       "    sender                                   receiver_id    receiver  \\\n",
       "0  Baissac  https://gams.uni-graz.at/o:hsa.persons#P.109  Schuchardt   \n",
       "1  Baissac  https://gams.uni-graz.at/o:hsa.persons#P.109  Schuchardt   \n",
       "2     Bähr  https://gams.uni-graz.at/o:hsa.persons#P.109  Schuchardt   \n",
       "3     Bähr  https://gams.uni-graz.at/o:hsa.persons#P.109  Schuchardt   \n",
       "4     Bähr  https://gams.uni-graz.at/o:hsa.persons#P.109  Schuchardt   \n",
       "\n",
       "         date                                               text language  \\\n",
       "0  1885-01-20  Ma Doudou vous envoie une petite brochure jaun...       fr   \n",
       "1  1885-01-20  Nous sommes anxieux l’un et l’autre d’avoir de...       fr   \n",
       "2  1924-04-22  Bereits 5 Tage nach Abgang meines letzten Brie...       de   \n",
       "3  1924-04-22  Die Hauptschuld an diesen Zuständen tragen die...       de   \n",
       "4  1924-04-22  Azkue klagte darüber dass der Arbeitseifer der...       de   \n",
       "\n",
       "                       keywords  word_count pred_topic pred_prob  \\\n",
       "0                           NaN          17         12       0.0   \n",
       "1                           NaN          31         26       0.0   \n",
       "2  Revue de Linguistique Romane         124          3  0.053287   \n",
       "3  Revue de Linguistique Romane         246          1  0.024598   \n",
       "4  Revue de Linguistique Romane         226         29  0.041504   \n",
       "\n",
       "                                    topic_top_words _parent_id  _section_idx  \n",
       "0  danke, herzlichen, bitte, herzlichsten, geschenk        NaN           NaN  \n",
       "1    gesundheit, bitte, wünsche, santé, hoffentlich        NaN           NaN  \n",
       "2      bitte, lacombe, artikel, erhalten, korrektur        NaN           NaN  \n",
       "3    basque, baskischen, baskische, basques, basken        NaN           NaN  \n",
       "4           azkue, sprache, sprachen, wort, scheint        NaN           NaN  "
      ]
     },
     "execution_count": 48,
     "metadata": {},
     "output_type": "execute_result"
    }
   ],
   "source": [
    "base_df.head()\n"
   ]
  },
  {
   "cell_type": "code",
   "execution_count": 49,
   "metadata": {
    "colab": {
     "base_uri": "https://localhost:8080/",
     "height": 141
    },
    "executionInfo": {
     "elapsed": 3,
     "status": "error",
     "timestamp": 1757495356817,
     "user": {
      "displayName": "m. otto",
      "userId": "07165694256129537082"
     },
     "user_tz": -120
    },
    "id": "5mPH58-iHGeE",
    "outputId": "266a273b-9488-4e17-accc-6f31ae72d539"
   },
   "outputs": [
    {
     "ename": "NameError",
     "evalue": "name 'df_keybert' is not defined",
     "output_type": "error",
     "traceback": [
      "\u001b[0;31m---------------------------------------------------------------------------\u001b[0m",
      "\u001b[0;31mNameError\u001b[0m                                 Traceback (most recent call last)",
      "\u001b[0;32m/tmp/ipython-input-40730356.py\u001b[0m in \u001b[0;36m<cell line: 0>\u001b[0;34m()\u001b[0m\n\u001b[0;32m----> 1\u001b[0;31m \u001b[0mdf_keybert\u001b[0m\u001b[0;34m.\u001b[0m\u001b[0mhead\u001b[0m\u001b[0;34m(\u001b[0m\u001b[0;34m)\u001b[0m\u001b[0;34m\u001b[0m\u001b[0;34m\u001b[0m\u001b[0m\n\u001b[0m",
      "\u001b[0;31mNameError\u001b[0m: name 'df_keybert' is not defined"
     ]
    }
   ],
   "source": [
    "#df_keybert.head()"
   ]
  },
  {
   "cell_type": "code",
   "execution_count": 50,
   "metadata": {
    "colab": {
     "base_uri": "https://localhost:8080/",
     "height": 141
    },
    "executionInfo": {
     "elapsed": 6,
     "status": "error",
     "timestamp": 1757495358856,
     "user": {
      "displayName": "m. otto",
      "userId": "07165694256129537082"
     },
     "user_tz": -120
    },
    "id": "VAJKW02AHHOh",
    "outputId": "8cc4891e-25ce-446d-cb11-12897c6d8e5f"
   },
   "outputs": [
    {
     "ename": "NameError",
     "evalue": "name 'df_mmr' is not defined",
     "output_type": "error",
     "traceback": [
      "\u001b[0;31m---------------------------------------------------------------------------\u001b[0m",
      "\u001b[0;31mNameError\u001b[0m                                 Traceback (most recent call last)",
      "\u001b[0;32m/tmp/ipython-input-2659450009.py\u001b[0m in \u001b[0;36m<cell line: 0>\u001b[0;34m()\u001b[0m\n\u001b[0;32m----> 1\u001b[0;31m \u001b[0mdf_mmr\u001b[0m\u001b[0;34m.\u001b[0m\u001b[0mhead\u001b[0m\u001b[0;34m(\u001b[0m\u001b[0;34m)\u001b[0m\u001b[0;34m\u001b[0m\u001b[0;34m\u001b[0m\u001b[0m\n\u001b[0m",
      "\u001b[0;31mNameError\u001b[0m: name 'df_mmr' is not defined"
     ]
    }
   ],
   "source": [
    "#df_mmr.head()"
   ]
  },
  {
   "cell_type": "markdown",
   "metadata": {
    "id": "A3xb6T-dHwNQ"
   },
   "source": [
    "**Representation**"
   ]
  },
  {
   "cell_type": "code",
   "execution_count": null,
   "metadata": {
    "colab": {
     "base_uri": "https://localhost:8080/",
     "height": 625
    },
    "executionInfo": {
     "elapsed": 51827,
     "status": "ok",
     "timestamp": 1757495414943,
     "user": {
      "displayName": "m. otto",
      "userId": "07165694256129537082"
     },
     "user_tz": -120
    },
    "id": "DA8LXoePHxAh",
    "outputId": "b94d355f-5e3a-491f-df7f-5a4269626523"
   },
   "outputs": [
    {
     "name": "stderr",
     "output_type": "stream",
     "text": [
      "100%|██████████| 50/50 [00:47<00:00,  1.06it/s]\n"
     ]
    },
    {
     "data": {
      "application/vnd.google.colaboratory.intrinsic+json": {
       "summary": "{\n  \"name\": \"df_llm\",\n  \"rows\": 44252,\n  \"fields\": [\n    {\n      \"column\": \"source_file\",\n      \"properties\": {\n        \"dtype\": \"category\",\n        \"num_unique_values\": 11560,\n        \"samples\": [\n          \"hsa.letter.6124.xml\",\n          \"hsa.letter.4105.xml\",\n          \"hsa.letter.12254.xml\"\n        ],\n        \"semantic_type\": \"\",\n        \"description\": \"\"\n      }\n    },\n    {\n      \"column\": \"pid\",\n      \"properties\": {\n        \"dtype\": \"string\",\n        \"num_unique_values\": 44252,\n        \"samples\": [\n          \"L.10448-1\",\n          \"L.1614-2\",\n          \"L.6093-1\"\n        ],\n        \"semantic_type\": \"\",\n        \"description\": \"\"\n      }\n    },\n    {\n      \"column\": \"sender_id\",\n      \"properties\": {\n        \"dtype\": \"category\",\n        \"num_unique_values\": 1025,\n        \"samples\": [\n          \"https://gams.uni-graz.at/o:hsa.persons#P.1262\",\n          \"https://gams.uni-graz.at/o:hsa.persons#P.1944\",\n          \"https://gams.uni-graz.at/o:hsa.persons#P.1165\"\n        ],\n        \"semantic_type\": \"\",\n        \"description\": \"\"\n      }\n    },\n    {\n      \"column\": \"sender\",\n      \"properties\": {\n        \"dtype\": \"category\",\n        \"num_unique_values\": 951,\n        \"samples\": [\n          \"Nardo-Cibele\",\n          \"Benedetti\",\n          \"Jung\"\n        ],\n        \"semantic_type\": \"\",\n        \"description\": \"\"\n      }\n    },\n    {\n      \"column\": \"receiver_id\",\n      \"properties\": {\n        \"dtype\": \"category\",\n        \"num_unique_values\": 113,\n        \"samples\": [\n          \"https://gams.uni-graz.at/o:hsa.persons#P.2156\",\n          \"https://gams.uni-graz.at/o:hsa.persons#P.2467\",\n          \"https://gams.uni-graz.at/o:hsa.persons#P.1352\"\n        ],\n        \"semantic_type\": \"\",\n        \"description\": \"\"\n      }\n    },\n    {\n      \"column\": \"receiver\",\n      \"properties\": {\n        \"dtype\": \"category\",\n        \"num_unique_values\": 108,\n        \"samples\": [\n          \"Meillet\",\n          \"Paul\",\n          \"Rajna\"\n        ],\n        \"semantic_type\": \"\",\n        \"description\": \"\"\n      }\n    },\n    {\n      \"column\": \"date\",\n      \"properties\": {\n        \"dtype\": \"category\",\n        \"num_unique_values\": 7936,\n        \"samples\": [\n          \"1889\",\n          \"1908-12-19\",\n          \"1912-08-11\"\n        ],\n        \"semantic_type\": \"\",\n        \"description\": \"\"\n      }\n    },\n    {\n      \"column\": \"text\",\n      \"properties\": {\n        \"dtype\": \"string\",\n        \"num_unique_values\": 43919,\n        \"samples\": [\n          \"Vielleicht kann ich das Separatum von hier an Wartburg schicken, oder durch Freunde, die Anfang J\\u00e4nner hinreisen \\u2013 falls Ihnen das bequemer ist.\",\n          \"M. Clark a eu l\\u2019occasion de collationer mon texte imprim\\u00e9 de la grammaire d\\u2019Urte avec le M.S. Il est rempli d\\u2019erreurs. Je me suis fi\\u00e9 \\u00e0 une copie tr\\u00e8s fautive. Presque toutes les fautes que j\\u2019ai signal\\u00e9es \\u00e0 la page 5 de la Pr\\u00e9face sont des fautes de la copie, et point du M.S. original. C\\u2019est aga\\u00e7ant tout cela. Il reste pourtant av\\u00e9r\\u00e9 que Pierre d\\u2019Urte n\\u2019emploie jamais ni l\\u2019accent grave ni l\\u2019accent circonflex pour les mots Basques. Si vous y trouvez, ils sont des fautes d\\u2019impression. Au lieu de faire l\\u2019 impression exactement apr\\u00e8s la copie, j\\u2019aurais bien mieux faire de corriger toutes les fautes dont j\\u2019\\u00e9tais certain.\",\n          \"Mon bien cher ami, je n\\u2019ai qu\\u2019une minute (et pas de papier) pour vous annoncer qu\\u2019apr\\u00e8s avoir \\u00e9t\\u00e9 bien malheureux une nouvelle esp\\u00e9rance, une certitude de bonheur se pr\\u00e9sente pour moi. Je vais \\u00e9pouser tr\\u00e8s prochainement Madame Savary , femme aussi charmante que parfaite, qui a \\u00e9t\\u00e9, comme moi, bien qu\\u2019autrement, tr\\u00e8s malheureuse, et qui veut bien consentir \\u00e0 essayer avec moi de se refaire et de me refaire cette vie d\\u2019affection intime qui suivant moi est la seule qui ait une v\\u00e9ritable douceur. Je sais que vous prendrez cordialement part \\u00e0 cet heureux \\u00e9v\\u00e9nement et je vous envoie mes meilleures amiti\\u00e9s\"\n        ],\n        \"semantic_type\": \"\",\n        \"description\": \"\"\n      }\n    },\n    {\n      \"column\": \"language\",\n      \"properties\": {\n        \"dtype\": \"category\",\n        \"num_unique_values\": 22,\n        \"samples\": [\n          \"fr\",\n          \"idb\",\n          \"ft\"\n        ],\n        \"semantic_type\": \"\",\n        \"description\": \"\"\n      }\n    },\n    {\n      \"column\": \"keywords\",\n      \"properties\": {\n        \"dtype\": \"category\",\n        \"num_unique_values\": 785,\n        \"samples\": [\n          \"Sprachen in Indonesien\",\n          \"Phonographie\",\n          \"Konsulatswesen\"\n        ],\n        \"semantic_type\": \"\",\n        \"description\": \"\"\n      }\n    },\n    {\n      \"column\": \"word_count\",\n      \"properties\": {\n        \"dtype\": \"number\",\n        \"std\": 68,\n        \"min\": 1,\n        \"max\": 511,\n        \"num_unique_values\": 474,\n        \"samples\": [\n          303,\n          429,\n          334\n        ],\n        \"semantic_type\": \"\",\n        \"description\": \"\"\n      }\n    },\n    {\n      \"column\": \"pred_topic\",\n      \"properties\": {\n        \"dtype\": \"category\",\n        \"num_unique_values\": 176,\n        \"samples\": [\n          27,\n          45,\n          \"8, 4\"\n        ],\n        \"semantic_type\": \"\",\n        \"description\": \"\"\n      }\n    },\n    {\n      \"column\": \"pred_prob\",\n      \"properties\": {\n        \"dtype\": \"category\",\n        \"num_unique_values\": 21582,\n        \"samples\": [\n          0.036564501289376085,\n          0.09456382388605404,\n          0.047059602985154214\n        ],\n        \"semantic_type\": \"\",\n        \"description\": \"\"\n      }\n    },\n    {\n      \"column\": \"topic_top_words\",\n      \"properties\": {\n        \"dtype\": \"category\",\n        \"num_unique_values\": 50,\n        \"samples\": [\n          \"Linguistic diversity analysis\",\n          \"Personal reflections on health\",\n          \"Political reflections on nationalism\"\n        ],\n        \"semantic_type\": \"\",\n        \"description\": \"\"\n      }\n    },\n    {\n      \"column\": \"_parent_id\",\n      \"properties\": {\n        \"dtype\": \"category\",\n        \"num_unique_values\": 139,\n        \"samples\": [\n          \".9437-1\",\n          \".3500-1\",\n          \".2015-1\"\n        ],\n        \"semantic_type\": \"\",\n        \"description\": \"\"\n      }\n    },\n    {\n      \"column\": \"_section_idx\",\n      \"properties\": {\n        \"dtype\": \"number\",\n        \"std\": 0.0,\n        \"min\": 1.0,\n        \"max\": 1.0,\n        \"num_unique_values\": 1,\n        \"samples\": [\n          1.0\n        ],\n        \"semantic_type\": \"\",\n        \"description\": \"\"\n      }\n    },\n    {\n      \"column\": \"topic_label\",\n      \"properties\": {\n        \"dtype\": \"category\",\n        \"num_unique_values\": 50,\n        \"samples\": [\n          \"23_Linguistic diversity analysis\"\n        ],\n        \"semantic_type\": \"\",\n        \"description\": \"\"\n      }\n    }\n  ]\n}",
       "type": "dataframe",
       "variable_name": "df_llm"
      },
      "text/html": [
       "\n",
       "  <div id=\"df-e7511add-14c8-401e-97c3-b1e3766ce234\" class=\"colab-df-container\">\n",
       "    <div>\n",
       "<style scoped>\n",
       "    .dataframe tbody tr th:only-of-type {\n",
       "        vertical-align: middle;\n",
       "    }\n",
       "\n",
       "    .dataframe tbody tr th {\n",
       "        vertical-align: top;\n",
       "    }\n",
       "\n",
       "    .dataframe thead th {\n",
       "        text-align: right;\n",
       "    }\n",
       "</style>\n",
       "<table border=\"1\" class=\"dataframe\">\n",
       "  <thead>\n",
       "    <tr style=\"text-align: right;\">\n",
       "      <th></th>\n",
       "      <th>source_file</th>\n",
       "      <th>pid</th>\n",
       "      <th>sender_id</th>\n",
       "      <th>sender</th>\n",
       "      <th>receiver_id</th>\n",
       "      <th>receiver</th>\n",
       "      <th>date</th>\n",
       "      <th>text</th>\n",
       "      <th>language</th>\n",
       "      <th>keywords</th>\n",
       "      <th>word_count</th>\n",
       "      <th>pred_topic</th>\n",
       "      <th>pred_prob</th>\n",
       "      <th>topic_top_words</th>\n",
       "      <th>_parent_id</th>\n",
       "      <th>_section_idx</th>\n",
       "      <th>topic_label</th>\n",
       "    </tr>\n",
       "  </thead>\n",
       "  <tbody>\n",
       "    <tr>\n",
       "      <th>0</th>\n",
       "      <td>hsa.letter.1.xml</td>\n",
       "      <td>L.1-1</td>\n",
       "      <td>https://gams.uni-graz.at/o:hsa.persons#P.1069</td>\n",
       "      <td>Baissac</td>\n",
       "      <td>https://gams.uni-graz.at/o:hsa.persons#P.109</td>\n",
       "      <td>Schuchardt</td>\n",
       "      <td>1885-01-20</td>\n",
       "      <td>Ma Doudou vous envoie une petite brochure jaun...</td>\n",
       "      <td>fr</td>\n",
       "      <td>NaN</td>\n",
       "      <td>17</td>\n",
       "      <td>12</td>\n",
       "      <td>0.0</td>\n",
       "      <td>Expression of gratitude</td>\n",
       "      <td>NaN</td>\n",
       "      <td>NaN</td>\n",
       "      <td>12_Expression of gratitude</td>\n",
       "    </tr>\n",
       "    <tr>\n",
       "      <th>1</th>\n",
       "      <td>hsa.letter.1.xml</td>\n",
       "      <td>L.1-2</td>\n",
       "      <td>https://gams.uni-graz.at/o:hsa.persons#P.1069</td>\n",
       "      <td>Baissac</td>\n",
       "      <td>https://gams.uni-graz.at/o:hsa.persons#P.109</td>\n",
       "      <td>Schuchardt</td>\n",
       "      <td>1885-01-20</td>\n",
       "      <td>Nous sommes anxieux l’un et l’autre d’avoir de...</td>\n",
       "      <td>fr</td>\n",
       "      <td>NaN</td>\n",
       "      <td>31</td>\n",
       "      <td>26</td>\n",
       "      <td>0.0</td>\n",
       "      <td>Personal reflections and concerns</td>\n",
       "      <td>NaN</td>\n",
       "      <td>NaN</td>\n",
       "      <td>26_Personal reflections and concerns</td>\n",
       "    </tr>\n",
       "    <tr>\n",
       "      <th>2</th>\n",
       "      <td>hsa.letter.3.xml</td>\n",
       "      <td>L.3-1</td>\n",
       "      <td>https://gams.uni-graz.at/o:hsa.persons#P.1068</td>\n",
       "      <td>Bähr</td>\n",
       "      <td>https://gams.uni-graz.at/o:hsa.persons#P.109</td>\n",
       "      <td>Schuchardt</td>\n",
       "      <td>1924-04-22</td>\n",
       "      <td>Bereits 5 Tage nach Abgang meines letzten Brie...</td>\n",
       "      <td>de</td>\n",
       "      <td>Revue de Linguistique Romane</td>\n",
       "      <td>124</td>\n",
       "      <td>3</td>\n",
       "      <td>0.053287</td>\n",
       "      <td>Academic correspondence and research</td>\n",
       "      <td>NaN</td>\n",
       "      <td>NaN</td>\n",
       "      <td>3_Academic correspondence and research</td>\n",
       "    </tr>\n",
       "    <tr>\n",
       "      <th>3</th>\n",
       "      <td>hsa.letter.3.xml</td>\n",
       "      <td>L.3-3</td>\n",
       "      <td>https://gams.uni-graz.at/o:hsa.persons#P.1068</td>\n",
       "      <td>Bähr</td>\n",
       "      <td>https://gams.uni-graz.at/o:hsa.persons#P.109</td>\n",
       "      <td>Schuchardt</td>\n",
       "      <td>1924-04-22</td>\n",
       "      <td>Die Hauptschuld an diesen Zuständen tragen die...</td>\n",
       "      <td>de</td>\n",
       "      <td>Revue de Linguistique Romane</td>\n",
       "      <td>246</td>\n",
       "      <td>1</td>\n",
       "      <td>0.024598</td>\n",
       "      <td>Basque language studies</td>\n",
       "      <td>NaN</td>\n",
       "      <td>NaN</td>\n",
       "      <td>1_Basque language studies</td>\n",
       "    </tr>\n",
       "    <tr>\n",
       "      <th>4</th>\n",
       "      <td>hsa.letter.3.xml</td>\n",
       "      <td>L.3-5</td>\n",
       "      <td>https://gams.uni-graz.at/o:hsa.persons#P.1068</td>\n",
       "      <td>Bähr</td>\n",
       "      <td>https://gams.uni-graz.at/o:hsa.persons#P.109</td>\n",
       "      <td>Schuchardt</td>\n",
       "      <td>1924-04-22</td>\n",
       "      <td>Azkue klagte darüber dass der Arbeitseifer der...</td>\n",
       "      <td>de</td>\n",
       "      <td>Revue de Linguistique Romane</td>\n",
       "      <td>226</td>\n",
       "      <td>29</td>\n",
       "      <td>0.041504</td>\n",
       "      <td>Linguistic investigations and theories</td>\n",
       "      <td>NaN</td>\n",
       "      <td>NaN</td>\n",
       "      <td>29_Linguistic investigations and theories</td>\n",
       "    </tr>\n",
       "  </tbody>\n",
       "</table>\n",
       "</div>\n",
       "    <div class=\"colab-df-buttons\">\n",
       "\n",
       "  <div class=\"colab-df-container\">\n",
       "    <button class=\"colab-df-convert\" onclick=\"convertToInteractive('df-e7511add-14c8-401e-97c3-b1e3766ce234')\"\n",
       "            title=\"Convert this dataframe to an interactive table.\"\n",
       "            style=\"display:none;\">\n",
       "\n",
       "  <svg xmlns=\"http://www.w3.org/2000/svg\" height=\"24px\" viewBox=\"0 -960 960 960\">\n",
       "    <path d=\"M120-120v-720h720v720H120Zm60-500h600v-160H180v160Zm220 220h160v-160H400v160Zm0 220h160v-160H400v160ZM180-400h160v-160H180v160Zm440 0h160v-160H620v160ZM180-180h160v-160H180v160Zm440 0h160v-160H620v160Z\"/>\n",
       "  </svg>\n",
       "    </button>\n",
       "\n",
       "  <style>\n",
       "    .colab-df-container {\n",
       "      display:flex;\n",
       "      gap: 12px;\n",
       "    }\n",
       "\n",
       "    .colab-df-convert {\n",
       "      background-color: #E8F0FE;\n",
       "      border: none;\n",
       "      border-radius: 50%;\n",
       "      cursor: pointer;\n",
       "      display: none;\n",
       "      fill: #1967D2;\n",
       "      height: 32px;\n",
       "      padding: 0 0 0 0;\n",
       "      width: 32px;\n",
       "    }\n",
       "\n",
       "    .colab-df-convert:hover {\n",
       "      background-color: #E2EBFA;\n",
       "      box-shadow: 0px 1px 2px rgba(60, 64, 67, 0.3), 0px 1px 3px 1px rgba(60, 64, 67, 0.15);\n",
       "      fill: #174EA6;\n",
       "    }\n",
       "\n",
       "    .colab-df-buttons div {\n",
       "      margin-bottom: 4px;\n",
       "    }\n",
       "\n",
       "    [theme=dark] .colab-df-convert {\n",
       "      background-color: #3B4455;\n",
       "      fill: #D2E3FC;\n",
       "    }\n",
       "\n",
       "    [theme=dark] .colab-df-convert:hover {\n",
       "      background-color: #434B5C;\n",
       "      box-shadow: 0px 1px 3px 1px rgba(0, 0, 0, 0.15);\n",
       "      filter: drop-shadow(0px 1px 2px rgba(0, 0, 0, 0.3));\n",
       "      fill: #FFFFFF;\n",
       "    }\n",
       "  </style>\n",
       "\n",
       "    <script>\n",
       "      const buttonEl =\n",
       "        document.querySelector('#df-e7511add-14c8-401e-97c3-b1e3766ce234 button.colab-df-convert');\n",
       "      buttonEl.style.display =\n",
       "        google.colab.kernel.accessAllowed ? 'block' : 'none';\n",
       "\n",
       "      async function convertToInteractive(key) {\n",
       "        const element = document.querySelector('#df-e7511add-14c8-401e-97c3-b1e3766ce234');\n",
       "        const dataTable =\n",
       "          await google.colab.kernel.invokeFunction('convertToInteractive',\n",
       "                                                    [key], {});\n",
       "        if (!dataTable) return;\n",
       "\n",
       "        const docLinkHtml = 'Like what you see? Visit the ' +\n",
       "          '<a target=\"_blank\" href=https://colab.research.google.com/notebooks/data_table.ipynb>data table notebook</a>'\n",
       "          + ' to learn more about interactive tables.';\n",
       "        element.innerHTML = '';\n",
       "        dataTable['output_type'] = 'display_data';\n",
       "        await google.colab.output.renderOutput(dataTable, element);\n",
       "        const docLink = document.createElement('div');\n",
       "        docLink.innerHTML = docLinkHtml;\n",
       "        element.appendChild(docLink);\n",
       "      }\n",
       "    </script>\n",
       "  </div>\n",
       "\n",
       "\n",
       "    <div id=\"df-89bc7cab-3141-4b31-ac24-88f01a2b1e96\">\n",
       "      <button class=\"colab-df-quickchart\" onclick=\"quickchart('df-89bc7cab-3141-4b31-ac24-88f01a2b1e96')\"\n",
       "                title=\"Suggest charts\"\n",
       "                style=\"display:none;\">\n",
       "\n",
       "<svg xmlns=\"http://www.w3.org/2000/svg\" height=\"24px\"viewBox=\"0 0 24 24\"\n",
       "     width=\"24px\">\n",
       "    <g>\n",
       "        <path d=\"M19 3H5c-1.1 0-2 .9-2 2v14c0 1.1.9 2 2 2h14c1.1 0 2-.9 2-2V5c0-1.1-.9-2-2-2zM9 17H7v-7h2v7zm4 0h-2V7h2v10zm4 0h-2v-4h2v4z\"/>\n",
       "    </g>\n",
       "</svg>\n",
       "      </button>\n",
       "\n",
       "<style>\n",
       "  .colab-df-quickchart {\n",
       "      --bg-color: #E8F0FE;\n",
       "      --fill-color: #1967D2;\n",
       "      --hover-bg-color: #E2EBFA;\n",
       "      --hover-fill-color: #174EA6;\n",
       "      --disabled-fill-color: #AAA;\n",
       "      --disabled-bg-color: #DDD;\n",
       "  }\n",
       "\n",
       "  [theme=dark] .colab-df-quickchart {\n",
       "      --bg-color: #3B4455;\n",
       "      --fill-color: #D2E3FC;\n",
       "      --hover-bg-color: #434B5C;\n",
       "      --hover-fill-color: #FFFFFF;\n",
       "      --disabled-bg-color: #3B4455;\n",
       "      --disabled-fill-color: #666;\n",
       "  }\n",
       "\n",
       "  .colab-df-quickchart {\n",
       "    background-color: var(--bg-color);\n",
       "    border: none;\n",
       "    border-radius: 50%;\n",
       "    cursor: pointer;\n",
       "    display: none;\n",
       "    fill: var(--fill-color);\n",
       "    height: 32px;\n",
       "    padding: 0;\n",
       "    width: 32px;\n",
       "  }\n",
       "\n",
       "  .colab-df-quickchart:hover {\n",
       "    background-color: var(--hover-bg-color);\n",
       "    box-shadow: 0 1px 2px rgba(60, 64, 67, 0.3), 0 1px 3px 1px rgba(60, 64, 67, 0.15);\n",
       "    fill: var(--button-hover-fill-color);\n",
       "  }\n",
       "\n",
       "  .colab-df-quickchart-complete:disabled,\n",
       "  .colab-df-quickchart-complete:disabled:hover {\n",
       "    background-color: var(--disabled-bg-color);\n",
       "    fill: var(--disabled-fill-color);\n",
       "    box-shadow: none;\n",
       "  }\n",
       "\n",
       "  .colab-df-spinner {\n",
       "    border: 2px solid var(--fill-color);\n",
       "    border-color: transparent;\n",
       "    border-bottom-color: var(--fill-color);\n",
       "    animation:\n",
       "      spin 1s steps(1) infinite;\n",
       "  }\n",
       "\n",
       "  @keyframes spin {\n",
       "    0% {\n",
       "      border-color: transparent;\n",
       "      border-bottom-color: var(--fill-color);\n",
       "      border-left-color: var(--fill-color);\n",
       "    }\n",
       "    20% {\n",
       "      border-color: transparent;\n",
       "      border-left-color: var(--fill-color);\n",
       "      border-top-color: var(--fill-color);\n",
       "    }\n",
       "    30% {\n",
       "      border-color: transparent;\n",
       "      border-left-color: var(--fill-color);\n",
       "      border-top-color: var(--fill-color);\n",
       "      border-right-color: var(--fill-color);\n",
       "    }\n",
       "    40% {\n",
       "      border-color: transparent;\n",
       "      border-right-color: var(--fill-color);\n",
       "      border-top-color: var(--fill-color);\n",
       "    }\n",
       "    60% {\n",
       "      border-color: transparent;\n",
       "      border-right-color: var(--fill-color);\n",
       "    }\n",
       "    80% {\n",
       "      border-color: transparent;\n",
       "      border-right-color: var(--fill-color);\n",
       "      border-bottom-color: var(--fill-color);\n",
       "    }\n",
       "    90% {\n",
       "      border-color: transparent;\n",
       "      border-bottom-color: var(--fill-color);\n",
       "    }\n",
       "  }\n",
       "</style>\n",
       "\n",
       "      <script>\n",
       "        async function quickchart(key) {\n",
       "          const quickchartButtonEl =\n",
       "            document.querySelector('#' + key + ' button');\n",
       "          quickchartButtonEl.disabled = true;  // To prevent multiple clicks.\n",
       "          quickchartButtonEl.classList.add('colab-df-spinner');\n",
       "          try {\n",
       "            const charts = await google.colab.kernel.invokeFunction(\n",
       "                'suggestCharts', [key], {});\n",
       "          } catch (error) {\n",
       "            console.error('Error during call to suggestCharts:', error);\n",
       "          }\n",
       "          quickchartButtonEl.classList.remove('colab-df-spinner');\n",
       "          quickchartButtonEl.classList.add('colab-df-quickchart-complete');\n",
       "        }\n",
       "        (() => {\n",
       "          let quickchartButtonEl =\n",
       "            document.querySelector('#df-89bc7cab-3141-4b31-ac24-88f01a2b1e96 button');\n",
       "          quickchartButtonEl.style.display =\n",
       "            google.colab.kernel.accessAllowed ? 'block' : 'none';\n",
       "        })();\n",
       "      </script>\n",
       "    </div>\n",
       "\n",
       "    </div>\n",
       "  </div>\n"
      ],
      "text/plain": [
       "        source_file    pid                                      sender_id  \\\n",
       "0  hsa.letter.1.xml  L.1-1  https://gams.uni-graz.at/o:hsa.persons#P.1069   \n",
       "1  hsa.letter.1.xml  L.1-2  https://gams.uni-graz.at/o:hsa.persons#P.1069   \n",
       "2  hsa.letter.3.xml  L.3-1  https://gams.uni-graz.at/o:hsa.persons#P.1068   \n",
       "3  hsa.letter.3.xml  L.3-3  https://gams.uni-graz.at/o:hsa.persons#P.1068   \n",
       "4  hsa.letter.3.xml  L.3-5  https://gams.uni-graz.at/o:hsa.persons#P.1068   \n",
       "\n",
       "    sender                                   receiver_id    receiver  \\\n",
       "0  Baissac  https://gams.uni-graz.at/o:hsa.persons#P.109  Schuchardt   \n",
       "1  Baissac  https://gams.uni-graz.at/o:hsa.persons#P.109  Schuchardt   \n",
       "2     Bähr  https://gams.uni-graz.at/o:hsa.persons#P.109  Schuchardt   \n",
       "3     Bähr  https://gams.uni-graz.at/o:hsa.persons#P.109  Schuchardt   \n",
       "4     Bähr  https://gams.uni-graz.at/o:hsa.persons#P.109  Schuchardt   \n",
       "\n",
       "         date                                               text language  \\\n",
       "0  1885-01-20  Ma Doudou vous envoie une petite brochure jaun...       fr   \n",
       "1  1885-01-20  Nous sommes anxieux l’un et l’autre d’avoir de...       fr   \n",
       "2  1924-04-22  Bereits 5 Tage nach Abgang meines letzten Brie...       de   \n",
       "3  1924-04-22  Die Hauptschuld an diesen Zuständen tragen die...       de   \n",
       "4  1924-04-22  Azkue klagte darüber dass der Arbeitseifer der...       de   \n",
       "\n",
       "                       keywords  word_count pred_topic pred_prob  \\\n",
       "0                           NaN          17         12       0.0   \n",
       "1                           NaN          31         26       0.0   \n",
       "2  Revue de Linguistique Romane         124          3  0.053287   \n",
       "3  Revue de Linguistique Romane         246          1  0.024598   \n",
       "4  Revue de Linguistique Romane         226         29  0.041504   \n",
       "\n",
       "                          topic_top_words _parent_id  _section_idx  \\\n",
       "0                 Expression of gratitude        NaN           NaN   \n",
       "1       Personal reflections and concerns        NaN           NaN   \n",
       "2    Academic correspondence and research        NaN           NaN   \n",
       "3                 Basque language studies        NaN           NaN   \n",
       "4  Linguistic investigations and theories        NaN           NaN   \n",
       "\n",
       "                                 topic_label  \n",
       "0                 12_Expression of gratitude  \n",
       "1       26_Personal reflections and concerns  \n",
       "2     3_Academic correspondence and research  \n",
       "3                  1_Basque language studies  \n",
       "4  29_Linguistic investigations and theories  "
      ]
     },
     "execution_count": 51,
     "metadata": {},
     "output_type": "execute_result"
    }
   ],
   "source": [
    "client = OpenAI(api_key=\"\") # insert openai api key here\n",
    "rep = OpenAIRep(client, model=\"gpt-4o-mini\", chat=True)\n",
    "topic_model.update_topics(texts, representation_model=rep) # allows for creating labels that encompass the topic\n",
    "df_llm = snapshot_topics_df(df_par, texts, topics, probs, topic_model, n_words=5,\n",
    "                            combine_sections=True)\n",
    "\n",
    "label_map = topic_model.topic_labels_\n",
    "df_llm[\"topic_label\"] = df_llm[\"pred_topic\"].map(label_map)\n",
    "df_llm.head()"
   ]
  },
  {
   "cell_type": "code",
   "execution_count": 52,
   "metadata": {
    "colab": {
     "base_uri": "https://localhost:8080/"
    },
    "executionInfo": {
     "elapsed": 41,
     "status": "ok",
     "timestamp": 1757496525788,
     "user": {
      "displayName": "m. otto",
      "userId": "07165694256129537082"
     },
     "user_tz": -120
    },
    "id": "oF4Y6_oIMip2",
    "outputId": "2197eb51-7fa9-4705-dc9a-771ea8f950ba"
   },
   "outputs": [
    {
     "name": "stdout",
     "output_type": "stream",
     "text": [
      "Academic Correspondence Insights\n",
      "Academic correspondence and publishing\n",
      "Academic correspondence and research\n",
      "Academic correspondence challenges\n",
      "Academic networking and support\n",
      "Basque language studies\n",
      "Birthday congratulations and reflections\n",
      "Communication and abbreviations\n",
      "Correspondence and translations\n",
      "Correspondence difficulties\n",
      "Cultural observations and experiences\n",
      "Dates and Numbers\n",
      "Document editing issues\n",
      "Expression of gratitude\n",
      "Fishing net construction\n",
      "Fishing net specifications\n",
      "Language and National Identity\n",
      "Language and pronunciation studies\n",
      "Language structure analysis\n",
      "Linguistic Analysis\n",
      "Linguistic Exploration and Discussion\n",
      "Linguistic Studies Discussion\n",
      "Linguistic Studies and Publications\n",
      "Linguistic correspondence and critiques\n",
      "Linguistic diversity analysis\n",
      "Linguistic investigations and theories\n",
      "Linguistic observations and expressions\n",
      "Linguistic research analysis\n",
      "Linguistic research correspondence\n",
      "Linguistic research interactions\n",
      "Linguistic research updates\n",
      "Linguistic studies and correspondence\n",
      "New Year Wishes\n",
      "Orlam references\n",
      "Personal correspondence and travel\n",
      "Personal correspondence challenges\n",
      "Personal correspondence reflections\n",
      "Personal correspondence struggles\n",
      "Personal letters and reflections\n",
      "Personal reflections and concerns\n",
      "Personal reflections on health\n",
      "Political reflections on nationalism\n",
      "Professor Hugo Schuchardt\n",
      "Publishing and manuscript issues\n",
      "Reflections on Life\n",
      "Scientific Correspondence\n",
      "Scientific Correspondence Issues\n",
      "Spiritual teachings and beliefs\n",
      "Weimar historical context\n",
      "Welsh Linguistic Research\n"
     ]
    }
   ],
   "source": [
    "unique_topics = sorted(df_llm[\"topic_top_words\"].drop_duplicates())\n",
    "print(\"\\n\".join(unique_topics))"
   ]
  },
  {
   "cell_type": "markdown",
   "metadata": {
    "id": "3Z8WsUEXOczn"
   },
   "source": [
    "**Timeline**"
   ]
  },
  {
   "cell_type": "code",
   "execution_count": 53,
   "metadata": {
    "executionInfo": {
     "elapsed": 3,
     "status": "ok",
     "timestamp": 1757496531575,
     "user": {
      "displayName": "m. otto",
      "userId": "07165694256129537082"
     },
     "user_tz": -120
    },
    "id": "xHdttPJKOgsv"
   },
   "outputs": [],
   "source": [
    "def add_date_cols(df, date_col=\"date\"):\n",
    "    d = df.copy()\n",
    "    year_only = d[date_col].astype(str).str.fullmatch(r\"\\d{4}\")\n",
    "    d[\"date_dt\"] = pd.to_datetime(d[date_col], errors=\"coerce\")\n",
    "    d.loc[year_only, \"date_dt\"] = pd.to_datetime(d.loc[year_only, date_col] + \"-01-01\", errors=\"coerce\")\n",
    "    d[\"year\"] = d[\"date_dt\"].dt.year\n",
    "    return d"
   ]
  },
  {
   "cell_type": "code",
   "execution_count": 54,
   "metadata": {
    "executionInfo": {
     "elapsed": 13,
     "status": "ok",
     "timestamp": 1757496532853,
     "user": {
      "displayName": "m. otto",
      "userId": "07165694256129537082"
     },
     "user_tz": -120
    },
    "id": "1yHL4KQJOhiw"
   },
   "outputs": [],
   "source": [
    "\n",
    "def build_timeline(df, topic_col=\"topic_top_words\", top_n=8, freq=\"Y\"):\n",
    "    \"\"\"freq='Y' yearly, 'M' monthly (only rows with full dates contribute).\"\"\"\n",
    "    d = df.dropna(subset=[\"date_dt\", topic_col]).copy()\n",
    "    top_topics = d[topic_col].value_counts().head(top_n).index\n",
    "    top_topics = top_topics[3:] #enable this to leave out the most dominant topics\n",
    "    d = d[d[topic_col].isin(top_topics)]\n",
    "    ts = (d.set_index(\"date_dt\")\n",
    "            .groupby([pd.Grouper(freq=freq), topic_col]).size()\n",
    "            .rename(\"count\").reset_index())\n",
    "    wide = ts.pivot(index=\"date_dt\", columns=topic_col, values=\"count\").fillna(0).sort_index()\n",
    "    return wide"
   ]
  },
  {
   "cell_type": "code",
   "execution_count": 55,
   "metadata": {
    "executionInfo": {
     "elapsed": 13,
     "status": "ok",
     "timestamp": 1757496533719,
     "user": {
      "displayName": "m. otto",
      "userId": "07165694256129537082"
     },
     "user_tz": -120
    },
    "id": "z5l4WgwNOqY-"
   },
   "outputs": [],
   "source": [
    "def plot_timeline(wide, title=\"Topics over Time\"):\n",
    "    if wide.empty:\n",
    "        print(\"No data to plot.\")\n",
    "        return\n",
    "    ax = wide.plot.area(figsize=(12, 6))\n",
    "    ax.set_title(title)\n",
    "    ax.set_xlabel(\"Time\")\n",
    "    ax.set_ylabel(\"# Documents\")\n",
    "    ax.legend(title=\"Topic\", bbox_to_anchor=(1.02, 1), loc=\"upper left\")\n",
    "    plt.tight_layout()\n",
    "    plt.show()"
   ]
  },
  {
   "cell_type": "code",
   "execution_count": 56,
   "metadata": {
    "executionInfo": {
     "elapsed": 2,
     "status": "ok",
     "timestamp": 1757496535052,
     "user": {
      "displayName": "m. otto",
      "userId": "07165694256129537082"
     },
     "user_tz": -120
    },
    "id": "27hnnENEPip-"
   },
   "outputs": [],
   "source": [
    "def to_percent(wide):\n",
    "    share = wide.div(wide.sum(axis=1), axis=0).fillna(0) * 100\n",
    "    return share"
   ]
  },
  {
   "cell_type": "code",
   "execution_count": 57,
   "metadata": {
    "colab": {
     "base_uri": "https://localhost:8080/",
     "height": 1000
    },
    "executionInfo": {
     "elapsed": 1091,
     "status": "ok",
     "timestamp": 1757496537172,
     "user": {
      "displayName": "m. otto",
      "userId": "07165694256129537082"
     },
     "user_tz": -120
    },
    "id": "ehqRcDllOtS1",
    "outputId": "7ee35a0d-1267-48a8-b99d-8872fd2ecab0"
   },
   "outputs": [
    {
     "data": {
      "image/png": "[encoded data removed]",
      "text/plain": [
       "<Figure size 1200x600 with 1 Axes>"
      ]
     },
     "metadata": {},
     "output_type": "display_data"
    },
    {
     "data": {
      "image/png": "[encoded data removed]",
      "text/plain": [
       "<Figure size 1200x600 with 1 Axes>"
      ]
     },
     "metadata": {},
     "output_type": "display_data"
    }
   ],
   "source": [
    "df_llm = add_date_cols(df_llm, date_col=\"date\")\n",
    "yearly = build_timeline(df_llm, topic_col=\"topic_top_words\", top_n=8, freq=\"Y\")\n",
    "plot_timeline(yearly, title=\"Topics over Time in Documents (Yearly)\")\n",
    "yearly_percent = to_percent(yearly)\n",
    "plot_timeline(yearly_percent, title=\"Topics over Time in percent (Yearly)\")"
   ]
  },
  {
   "cell_type": "code",
   "execution_count": null,
   "metadata": {
    "executionInfo": {
     "elapsed": 248124,
     "status": "aborted",
     "timestamp": 1757493124397,
     "user": {
      "displayName": "m. otto",
      "userId": "07165694256129537082"
     },
     "user_tz": -120
    },
    "id": "jlmCatkkOgba"
   },
   "outputs": [],
   "source": [
    "safe_path = '/content/drive/MyDrive/DDH25/finalHSA.csv' # <- adjust if needed\n",
    "df_llm.to_csv(safe_path)"
   ]
  }
 ],
 "metadata": {
  "accelerator": "GPU",
  "colab": {
   "gpuType": "T4",
   "provenance": [
    {
     "file_id": "1cKffTtnkOqeMttS39CXTXmpHWDHR5tMg",
     "timestamp": 1757497731705
    }
   ]
  },
  "kernelspec": {
   "display_name": "ddh25",
   "language": "python",
   "name": "python3"
  },
  "language_info": {
   "name": "python",
   "version": "3.13.5"
  },
  "widgets": {
   "application/vnd.jupyter.widget-state+json": {
    "255bc4e730d54f77b7d868829cae0101": {
     "model_module": "@jupyter-widgets/controls",
     "model_module_version": "1.5.0",
     "model_name": "HTMLModel",
     "state": {
      "_dom_classes": [],
      "_model_module": "@jupyter-widgets/controls",
      "_model_module_version": "1.5.0",
      "_model_name": "HTMLModel",
      "_view_count": null,
      "_view_module": "@jupyter-widgets/controls",
      "_view_module_version": "1.5.0",
      "_view_name": "HTMLView",
      "description": "",
      "description_tooltip": null,
      "layout": "IPY_MODEL_c032d407c6914d2a972bbe448b0c12e3",
      "placeholder": "​",
      "style": "IPY_MODEL_34f18d7613854929a68909a4bf124f98",
      "value": " 1388/1388 [01:19&lt;00:00, 56.02it/s]"
     }
    },
    "34341399ebdc4b6c8a4a9f12bab0d588": {
     "model_module": "@jupyter-widgets/controls",
     "model_module_version": "1.5.0",
     "model_name": "ProgressStyleModel",
     "state": {
      "_model_module": "@jupyter-widgets/controls",
      "_model_module_version": "1.5.0",
      "_model_name": "ProgressStyleModel",
      "_view_count": null,
      "_view_module": "@jupyter-widgets/base",
      "_view_module_version": "1.2.0",
      "_view_name": "StyleView",
      "bar_color": null,
      "description_width": ""
     }
    },
    "34f18d7613854929a68909a4bf124f98": {
     "model_module": "@jupyter-widgets/controls",
     "model_module_version": "1.5.0",
     "model_name": "DescriptionStyleModel",
     "state": {
      "_model_module": "@jupyter-widgets/controls",
      "_model_module_version": "1.5.0",
      "_model_name": "DescriptionStyleModel",
      "_view_count": null,
      "_view_module": "@jupyter-widgets/base",
      "_view_module_version": "1.2.0",
      "_view_name": "StyleView",
      "description_width": ""
     }
    },
    "3bce905fb11b4a56a0768d663ecb6603": {
     "model_module": "@jupyter-widgets/base",
     "model_module_version": "1.2.0",
     "model_name": "LayoutModel",
     "state": {
      "_model_module": "@jupyter-widgets/base",
      "_model_module_version": "1.2.0",
      "_model_name": "LayoutModel",
      "_view_count": null,
      "_view_module": "@jupyter-widgets/base",
      "_view_module_version": "1.2.0",
      "_view_name": "LayoutView",
      "align_content": null,
      "align_items": null,
      "align_self": null,
      "border": null,
      "bottom": null,
      "display": null,
      "flex": null,
      "flex_flow": null,
      "grid_area": null,
      "grid_auto_columns": null,
      "grid_auto_flow": null,
      "grid_auto_rows": null,
      "grid_column": null,
      "grid_gap": null,
      "grid_row": null,
      "grid_template_areas": null,
      "grid_template_columns": null,
      "grid_template_rows": null,
      "height": null,
      "justify_content": null,
      "justify_items": null,
      "left": null,
      "margin": null,
      "max_height": null,
      "max_width": null,
      "min_height": null,
      "min_width": null,
      "object_fit": null,
      "object_position": null,
      "order": null,
      "overflow": null,
      "overflow_x": null,
      "overflow_y": null,
      "padding": null,
      "right": null,
      "top": null,
      "visibility": null,
      "width": null
     }
    },
    "4a7e7cdea4954bdba17381c68dace57e": {
     "model_module": "@jupyter-widgets/controls",
     "model_module_version": "1.5.0",
     "model_name": "HBoxModel",
     "state": {
      "_dom_classes": [],
      "_model_module": "@jupyter-widgets/controls",
      "_model_module_version": "1.5.0",
      "_model_name": "HBoxModel",
      "_view_count": null,
      "_view_module": "@jupyter-widgets/controls",
      "_view_module_version": "1.5.0",
      "_view_name": "HBoxView",
      "box_style": "",
      "children": [
       "IPY_MODEL_fe2d49f032ab4a0f8b56222c3af0c3b3",
       "IPY_MODEL_ae9ef971250445c494d29dcea04a1cb3",
       "IPY_MODEL_255bc4e730d54f77b7d868829cae0101"
      ],
      "layout": "IPY_MODEL_3bce905fb11b4a56a0768d663ecb6603"
     }
    },
    "6354bd1de3874b7fa202ca3f79a38492": {
     "model_module": "@jupyter-widgets/controls",
     "model_module_version": "1.5.0",
     "model_name": "DescriptionStyleModel",
     "state": {
      "_model_module": "@jupyter-widgets/controls",
      "_model_module_version": "1.5.0",
      "_model_name": "DescriptionStyleModel",
      "_view_count": null,
      "_view_module": "@jupyter-widgets/base",
      "_view_module_version": "1.2.0",
      "_view_name": "StyleView",
      "description_width": ""
     }
    },
    "6cd3fb3fdb7d4dbab9b0ed9450542993": {
     "model_module": "@jupyter-widgets/base",
     "model_module_version": "1.2.0",
     "model_name": "LayoutModel",
     "state": {
      "_model_module": "@jupyter-widgets/base",
      "_model_module_version": "1.2.0",
      "_model_name": "LayoutModel",
      "_view_count": null,
      "_view_module": "@jupyter-widgets/base",
      "_view_module_version": "1.2.0",
      "_view_name": "LayoutView",
      "align_content": null,
      "align_items": null,
      "align_self": null,
      "border": null,
      "bottom": null,
      "display": null,
      "flex": null,
      "flex_flow": null,
      "grid_area": null,
      "grid_auto_columns": null,
      "grid_auto_flow": null,
      "grid_auto_rows": null,
      "grid_column": null,
      "grid_gap": null,
      "grid_row": null,
      "grid_template_areas": null,
      "grid_template_columns": null,
      "grid_template_rows": null,
      "height": null,
      "justify_content": null,
      "justify_items": null,
      "left": null,
      "margin": null,
      "max_height": null,
      "max_width": null,
      "min_height": null,
      "min_width": null,
      "object_fit": null,
      "object_position": null,
      "order": null,
      "overflow": null,
      "overflow_x": null,
      "overflow_y": null,
      "padding": null,
      "right": null,
      "top": null,
      "visibility": null,
      "width": null
     }
    },
    "8f00b940a436484481bf24723caa0f86": {
     "model_module": "@jupyter-widgets/base",
     "model_module_version": "1.2.0",
     "model_name": "LayoutModel",
     "state": {
      "_model_module": "@jupyter-widgets/base",
      "_model_module_version": "1.2.0",
      "_model_name": "LayoutModel",
      "_view_count": null,
      "_view_module": "@jupyter-widgets/base",
      "_view_module_version": "1.2.0",
      "_view_name": "LayoutView",
      "align_content": null,
      "align_items": null,
      "align_self": null,
      "border": null,
      "bottom": null,
      "display": null,
      "flex": null,
      "flex_flow": null,
      "grid_area": null,
      "grid_auto_columns": null,
      "grid_auto_flow": null,
      "grid_auto_rows": null,
      "grid_column": null,
      "grid_gap": null,
      "grid_row": null,
      "grid_template_areas": null,
      "grid_template_columns": null,
      "grid_template_rows": null,
      "height": null,
      "justify_content": null,
      "justify_items": null,
      "left": null,
      "margin": null,
      "max_height": null,
      "max_width": null,
      "min_height": null,
      "min_width": null,
      "object_fit": null,
      "object_position": null,
      "order": null,
      "overflow": null,
      "overflow_x": null,
      "overflow_y": null,
      "padding": null,
      "right": null,
      "top": null,
      "visibility": null,
      "width": null
     }
    },
    "ae9ef971250445c494d29dcea04a1cb3": {
     "model_module": "@jupyter-widgets/controls",
     "model_module_version": "1.5.0",
     "model_name": "FloatProgressModel",
     "state": {
      "_dom_classes": [],
      "_model_module": "@jupyter-widgets/controls",
      "_model_module_version": "1.5.0",
      "_model_name": "FloatProgressModel",
      "_view_count": null,
      "_view_module": "@jupyter-widgets/controls",
      "_view_module_version": "1.5.0",
      "_view_name": "ProgressView",
      "bar_style": "success",
      "description": "",
      "description_tooltip": null,
      "layout": "IPY_MODEL_6cd3fb3fdb7d4dbab9b0ed9450542993",
      "max": 1388,
      "min": 0,
      "orientation": "horizontal",
      "style": "IPY_MODEL_34341399ebdc4b6c8a4a9f12bab0d588",
      "value": 1388
     }
    },
    "c032d407c6914d2a972bbe448b0c12e3": {
     "model_module": "@jupyter-widgets/base",
     "model_module_version": "1.2.0",
     "model_name": "LayoutModel",
     "state": {
      "_model_module": "@jupyter-widgets/base",
      "_model_module_version": "1.2.0",
      "_model_name": "LayoutModel",
      "_view_count": null,
      "_view_module": "@jupyter-widgets/base",
      "_view_module_version": "1.2.0",
      "_view_name": "LayoutView",
      "align_content": null,
      "align_items": null,
      "align_self": null,
      "border": null,
      "bottom": null,
      "display": null,
      "flex": null,
      "flex_flow": null,
      "grid_area": null,
      "grid_auto_columns": null,
      "grid_auto_flow": null,
      "grid_auto_rows": null,
      "grid_column": null,
      "grid_gap": null,
      "grid_row": null,
      "grid_template_areas": null,
      "grid_template_columns": null,
      "grid_template_rows": null,
      "height": null,
      "justify_content": null,
      "justify_items": null,
      "left": null,
      "margin": null,
      "max_height": null,
      "max_width": null,
      "min_height": null,
      "min_width": null,
      "object_fit": null,
      "object_position": null,
      "order": null,
      "overflow": null,
      "overflow_x": null,
      "overflow_y": null,
      "padding": null,
      "right": null,
      "top": null,
      "visibility": null,
      "width": null
     }
    },
    "fe2d49f032ab4a0f8b56222c3af0c3b3": {
     "model_module": "@jupyter-widgets/controls",
     "model_module_version": "1.5.0",
     "model_name": "HTMLModel",
     "state": {
      "_dom_classes": [],
      "_model_module": "@jupyter-widgets/controls",
      "_model_module_version": "1.5.0",
      "_model_name": "HTMLModel",
      "_view_count": null,
      "_view_module": "@jupyter-widgets/controls",
      "_view_module_version": "1.5.0",
      "_view_name": "HTMLView",
      "description": "",
      "description_tooltip": null,
      "layout": "IPY_MODEL_8f00b940a436484481bf24723caa0f86",
      "placeholder": "​",
      "style": "IPY_MODEL_6354bd1de3874b7fa202ca3f79a38492",
      "value": "Batches: 100%"
     }
    }
   }
  }
 },
 "nbformat": 4,
 "nbformat_minor": 0
}
